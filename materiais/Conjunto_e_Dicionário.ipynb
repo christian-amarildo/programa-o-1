{
  "cells": [
    {
      "cell_type": "markdown",
      "metadata": {
        "id": "tfcAlO_WoG6x"
      },
      "source": [
        "# Introdução à programação em Python\n",
        "## Renato Hidaka Torres"
      ]
    },
    {
      "cell_type": "markdown",
      "metadata": {
        "id": "KidUHbYdoG64"
      },
      "source": [
        "## Conjunto e Dicionário"
      ]
    },
    {
      "cell_type": "markdown",
      "metadata": {
        "id": "W9awRnLcoG64"
      },
      "source": [
        "## Objetivo"
      ]
    },
    {
      "cell_type": "markdown",
      "metadata": {
        "id": "Az1WmG6VoG64"
      },
      "source": [
        "<p style='text-align: justify; font-size: 16px; line-height: 1.5;'>Neste capítulo você irá aprender a criar programas de computador que necessitem da utilização e manipulação de conjuntos e dicionários. Iremos lhe apresentar diferentes formas de manipulação dessas estruturas. Ao final deste capítulo, você terá várias questões para exercitar o conteúdo.</p>"
      ]
    },
    {
      "cell_type": "markdown",
      "metadata": {
        "id": "CvfAC4-koG64"
      },
      "source": [
        "## O que é um conjunto?"
      ]
    },
    {
      "cell_type": "markdown",
      "metadata": {
        "id": "KskeSB4PoG64"
      },
      "source": [
        "<p style='text-align: justify; font-size: 16px; line-height: 1.5;'>Um conjunto compreende uma coleção não ordenada de elementos distintos. Na linguagem Python, um conjunto pode ser definido utilizando a função <span style=\"font-weight: bold;\">set</span> ou utilizando as chaves. Para criar um conjunto utilizando a função <span style=\"font-weight: bold;\">set</span>, você deve passar como argumento uma coleção como, por exemplo, uma lista ou uma string. De acordo com a definição de conjuntos, se a coleção passada como argumento da função possuir elementos repetidos, as duplicidades são eliminadas. Vejamos alguns exemplos:</p>"
      ]
    },
    {
      "cell_type": "code",
      "execution_count": null,
      "metadata": {
        "id": "loj_eNIsoG64",
        "outputId": "cbc1886a-854c-4a31-b2b9-b1e69d3ed7fa"
      },
      "outputs": [
        {
          "data": {
            "text/plain": [
              "{3, 4, 5, 'Renato'}"
            ]
          },
          "execution_count": 2,
          "metadata": {},
          "output_type": "execute_result"
        }
      ],
      "source": [
        "set([3, 4.5, 5, 'Renato', 5])"
      ]
    },
    {
      "cell_type": "markdown",
      "metadata": {
        "id": "m05E4VccoG65"
      },
      "source": [
        "<p style='text-align: justify; font-size: 16px; line-height: 1.5;'>Nesse exemplo, você pode notar que estamos passando uma lista como argumento para a função <span style=\"font-weight: bold;\">set</span>. Observe que a lista possui duas vezes o elemento 5, e que a duplicidade foi eliminada. Outro ponto importante que você deve observar é que a lista passada como argumento pode ser heterogênea, ou seja, pode possuir elementos de tipos diferentes. Nesse exemplo, a lista possui elementos do tipo int, float e string.</p>"
      ]
    },
    {
      "cell_type": "markdown",
      "metadata": {
        "id": "gb2F-96BoG65"
      },
      "source": [
        "<p style='text-align: justify; font-size: 16px; line-height: 1.5;'>Agora vejamos como criar um conjunto a partir de uma string.</p>"
      ]
    },
    {
      "cell_type": "code",
      "execution_count": null,
      "metadata": {
        "id": "FEJG7zK6oG65",
        "outputId": "e4502213-f072-4f3c-d911-1a760dfc3cab"
      },
      "outputs": [
        {
          "data": {
            "text/plain": [
              "{' ', 'H', 'R', 'T', 'a', 'd', 'e', 'i', 'k', 'n', 'o', 'r', 's', 't'}"
            ]
          },
          "execution_count": 3,
          "metadata": {},
          "output_type": "execute_result"
        }
      ],
      "source": [
        "set('Renato Hidaka Torres')"
      ]
    },
    {
      "cell_type": "markdown",
      "metadata": {
        "id": "6nvaAhmRoG66"
      },
      "source": [
        "<p style='text-align: justify; font-size: 16px; line-height: 1.5;'>Uma string é uma coleção iterável e por esse motivo pode ser passada como argumento da função <span style=\"font-weight: bold;\">set</span>. Ao passar uma string como argumento, o conjunto resultante será formado pelos elementos distintos da string. Como você pode perceber, o conjunto distingue letras maiúsculas e minúsculas e os caracteres especiais também são considerados elementos. Construir o conjunto de uma string é importante quando você precisa encontrar o alfabeto de uma string. Um alfabeto compreende os caracteres distintos que formam a string. A partir do conjunto que resulta no alfabeto, você também pode resolver problemas que necessitem computar a frequência de cada elemento do conjunto. Nesse caso, você poderia utilizar um dicionário.</p>"
      ]
    },
    {
      "cell_type": "markdown",
      "metadata": {
        "id": "Dyf-DVWCoG66"
      },
      "source": [
        "<p style='text-align: justify; font-size: 16px; line-height: 1.5;'>Um conjunto também pode ser definido com chaves, da seguinte forma:</p>"
      ]
    },
    {
      "cell_type": "code",
      "execution_count": null,
      "metadata": {
        "id": "_HdV5q50oG66",
        "outputId": "2d8261d1-efb8-4085-cfea-00cc9db6f26b"
      },
      "outputs": [
        {
          "data": {
            "text/plain": [
              "{'', 1, 2, 5.5, 'Renato'}"
            ]
          },
          "execution_count": 17,
          "metadata": {},
          "output_type": "execute_result"
        }
      ],
      "source": [
        "{1,2,5.5, 'Renato', 2, 1, 'Renato', ''}"
      ]
    },
    {
      "cell_type": "markdown",
      "metadata": {
        "id": "zVKZZscjoG66"
      },
      "source": [
        "## Definindo um conjunto vazio"
      ]
    },
    {
      "cell_type": "markdown",
      "metadata": {
        "id": "iybQplLAoG66"
      },
      "source": [
        "<p style='text-align: justify; font-size: 16px; line-height: 1.5;'>Para criar um conjunto vazio, você deve utilizar a função <span style=\"font-weight: bold;\">set</span>. Você não pode criar um conjunto vazio utilizando as chaves. Ao utilizar as chaves sem elementos, você estará criando uma estrutura do tipo dicionário. Podemos verificar essa diferença, a partir da função <span style=\"font-weight: bold;\">type</span>.</p>"
      ]
    },
    {
      "cell_type": "code",
      "execution_count": null,
      "metadata": {
        "id": "NdqpWDGeoG66",
        "outputId": "1111d064-6b8a-4348-da08-2139383cae8f"
      },
      "outputs": [
        {
          "name": "stdout",
          "output_type": "stream",
          "text": [
            "<class 'set'> <class 'dict'>\n"
          ]
        }
      ],
      "source": [
        "A = set()\n",
        "B = {}\n",
        "print(type(A), type(B))"
      ]
    },
    {
      "cell_type": "markdown",
      "metadata": {
        "id": "atHv40gyoG67"
      },
      "source": [
        "## Adicionando elementos no conjunto"
      ]
    },
    {
      "cell_type": "markdown",
      "metadata": {
        "id": "hxFH6DAloG67"
      },
      "source": [
        "<p style='text-align: justify; font-size: 16px; line-height: 1.5;'>Para adicionar um elemento em um conjunto, você deve utilizar a função <span style=\"font-weight: bold;\">add</span>. Veja:</p>"
      ]
    },
    {
      "cell_type": "code",
      "execution_count": null,
      "metadata": {
        "id": "5U5Z50xxoG67",
        "outputId": "14ea15d9-adfc-4684-c9aa-a3865d50d5d4"
      },
      "outputs": [
        {
          "name": "stdout",
          "output_type": "stream",
          "text": [
            "{1, 3, 4, 'Renato'}\n"
          ]
        }
      ],
      "source": [
        "A = set([3,4])\n",
        "A.add(1)\n",
        "A.add('Renato')\n",
        "print(A)"
      ]
    },
    {
      "cell_type": "markdown",
      "metadata": {
        "id": "bd2CcL25oG67"
      },
      "source": [
        "## Removendo elementos do conjunto"
      ]
    },
    {
      "cell_type": "markdown",
      "metadata": {
        "id": "_4ME639aoG67"
      },
      "source": [
        "<p style='text-align: justify; font-size: 16px; line-height: 1.5;'>Para remover um elemento em um conjunto, você pode utilizar a função <span style=\"font-weight: bold;\">remove</span>. Veja:</p>"
      ]
    },
    {
      "cell_type": "code",
      "execution_count": null,
      "metadata": {
        "id": "qNpVZcqioG67",
        "outputId": "1e28ef51-0a48-41e6-bb33-a695c7a144d2"
      },
      "outputs": [
        {
          "name": "stdout",
          "output_type": "stream",
          "text": [
            "{1, 4, 13}\n"
          ]
        }
      ],
      "source": [
        "A = set([1,13,4, 'Hidaka'])\n",
        "A.remove('Hidaka')\n",
        "print(A)"
      ]
    },
    {
      "cell_type": "markdown",
      "metadata": {
        "id": "3XwLahhJoG67"
      },
      "source": [
        "<p style='text-align: justify; font-size: 16px; line-height: 1.5;'>Ao utilizar a função <span style=\"font-weight: bold;\">remove</span>, caso o valor passado como argumento não pertença ao conjunto, você receberá um erro em tempo de execução do tipo <span style=\"font-weight: bold;\">KeyError</span>. Veja:</p>"
      ]
    },
    {
      "cell_type": "code",
      "execution_count": null,
      "metadata": {
        "id": "Hm9GuJxnoG67",
        "outputId": "12f05c62-219f-42c4-f0fe-f32f735896f8"
      },
      "outputs": [
        {
          "ename": "KeyError",
          "evalue": "2",
          "output_type": "error",
          "traceback": [
            "\u001b[0;31m---------------------------------------------------------------------------\u001b[0m",
            "\u001b[0;31mKeyError\u001b[0m                                  Traceback (most recent call last)",
            "\u001b[0;32m<ipython-input-22-2fa55d7793fc>\u001b[0m in \u001b[0;36m<module>\u001b[0;34m\u001b[0m\n\u001b[1;32m      1\u001b[0m \u001b[0mA\u001b[0m \u001b[0;34m=\u001b[0m \u001b[0mset\u001b[0m\u001b[0;34m(\u001b[0m\u001b[0;34m[\u001b[0m\u001b[0;36m1\u001b[0m\u001b[0;34m,\u001b[0m\u001b[0;36m13\u001b[0m\u001b[0;34m,\u001b[0m\u001b[0;36m4\u001b[0m\u001b[0;34m,\u001b[0m \u001b[0;34m'Hidaka'\u001b[0m\u001b[0;34m]\u001b[0m\u001b[0;34m)\u001b[0m\u001b[0;34m\u001b[0m\u001b[0;34m\u001b[0m\u001b[0m\n\u001b[0;32m----> 2\u001b[0;31m \u001b[0mA\u001b[0m\u001b[0;34m.\u001b[0m\u001b[0mremove\u001b[0m\u001b[0;34m(\u001b[0m\u001b[0;36m2\u001b[0m\u001b[0;34m)\u001b[0m\u001b[0;34m\u001b[0m\u001b[0;34m\u001b[0m\u001b[0m\n\u001b[0m\u001b[1;32m      3\u001b[0m \u001b[0mprint\u001b[0m\u001b[0;34m(\u001b[0m\u001b[0mA\u001b[0m\u001b[0;34m)\u001b[0m\u001b[0;34m\u001b[0m\u001b[0;34m\u001b[0m\u001b[0m\n",
            "\u001b[0;31mKeyError\u001b[0m: 2"
          ]
        }
      ],
      "source": [
        "A = set([1,13,4, 'Hidaka'])\n",
        "A.remove(2)\n",
        "print(A)"
      ]
    },
    {
      "cell_type": "markdown",
      "metadata": {
        "id": "zT2InBijoG67"
      },
      "source": [
        "<p style='text-align: justify; font-size: 16px; line-height: 1.5;'>Você pode evitar esse erro realizando o tratamento de exceção ou criando uma condição para verificar se o elemento a ser removido pertence ao conjunto. Uma outra possibilidade é a utilização da função <span style=\"font-weight: bold;\">discard</span>. Essa função já faz o trabalho de verificação e, caso o elemento não pertença ao conjunto, não produz erro em tempo de execução. Veja:</p>"
      ]
    },
    {
      "cell_type": "code",
      "execution_count": null,
      "metadata": {
        "id": "dOSuIotKoG67",
        "outputId": "fc416659-7eb3-4d46-c5ec-789143ff97a4"
      },
      "outputs": [
        {
          "name": "stdout",
          "output_type": "stream",
          "text": [
            "{4, 13, 'Hidaka'}\n",
            "{4, 13, 'Hidaka'}\n"
          ]
        }
      ],
      "source": [
        "A = set([1,13,4, 'Hidaka'])\n",
        "A.discard(1)\n",
        "print(A)\n",
        "A.discard(2)\n",
        "print(A)"
      ]
    },
    {
      "cell_type": "markdown",
      "metadata": {
        "id": "hGQ8PUEkoG67"
      },
      "source": [
        "<p style='text-align: justify; font-size: 16px; line-height: 1.5;'>Caso necessite remover todos os elementos do conjunto, você pode fazer isso utilizando a função <span style=\"font-weight: bold;\">clear</span>. Veja:</p>"
      ]
    },
    {
      "cell_type": "code",
      "execution_count": null,
      "metadata": {
        "id": "2abKY37boG67",
        "outputId": "8c966790-340c-4273-ff3f-2276fe1c79b8"
      },
      "outputs": [
        {
          "name": "stdout",
          "output_type": "stream",
          "text": [
            "set()\n"
          ]
        }
      ],
      "source": [
        "A = set([1,13,4, 'Hidaka'])\n",
        "A.clear()\n",
        "print(A)"
      ]
    },
    {
      "cell_type": "markdown",
      "metadata": {
        "id": "8MklrW35oG68"
      },
      "source": [
        "## Verificando se um elemento pertence ao conjunto"
      ]
    },
    {
      "cell_type": "markdown",
      "metadata": {
        "id": "afOZppSdoG68"
      },
      "source": [
        "<p style='text-align: justify; font-size: 16px; line-height: 1.5;'>Para verificar se um elemento pertence ao conjunto, você deve utilizar o comando <span style=\"font-weight: bold;\">in</span>. De forma similar, para verificar se um elemento não pertence ao conjunto, você deve utilizar o comando <span style=\"font-weight: bold;\">not in</span>. Veja:</p>"
      ]
    },
    {
      "cell_type": "code",
      "execution_count": null,
      "metadata": {
        "id": "jIc6PWnzoG68",
        "outputId": "525b82f9-663b-4297-c7cd-043ba5e53bd9"
      },
      "outputs": [
        {
          "name": "stdout",
          "output_type": "stream",
          "text": [
            "True\n",
            "False\n",
            "False\n",
            "True\n"
          ]
        }
      ],
      "source": [
        "A = {1, 2, 3, 4}\n",
        "\n",
        "print(1 in A)\n",
        "print(5 in A)\n",
        "print(1 not in A)\n",
        "print(5 not in A)"
      ]
    },
    {
      "cell_type": "markdown",
      "metadata": {
        "id": "MPZtOL-coG68"
      },
      "source": [
        "## Relação entre conjuntos"
      ]
    },
    {
      "cell_type": "markdown",
      "metadata": {
        "id": "7AnRgYKLoG68"
      },
      "source": [
        "<p style='text-align: justify; font-size: 16px; line-height: 1.5;'>Dado dois conjuntos, vamos verificar se:</p>"
      ]
    },
    {
      "cell_type": "markdown",
      "metadata": {
        "id": "XhSjdUsKoG68"
      },
      "source": [
        "<ul>\n",
        "       <li style='text-align: justify; font-size: 16px; line-height: 1.5;'>B está contido em A</li>\n",
        "       <li style='text-align: justify; font-size: 16px; line-height: 1.5;'>B é subconjunto próprio de A</li>\n",
        "       <li style='text-align: justify; font-size: 16px; line-height: 1.5;'>A contém B</li>\n",
        "       <li style='text-align: justify; font-size: 16px; line-height: 1.5;'>A é superconjunto próprio de B</li>\n",
        "       <li style='text-align: justify; font-size: 16px; line-height: 1.5;'>A e B são disjuntos</li>    \n",
        "    </ul>"
      ]
    },
    {
      "cell_type": "markdown",
      "metadata": {
        "id": "ruLTcbFloG68"
      },
      "source": [
        "### B está contido em A?"
      ]
    },
    {
      "cell_type": "markdown",
      "metadata": {
        "id": "fdiG3enOoG68"
      },
      "source": [
        "<p style='text-align: justify; font-size: 16px; line-height: 1.5;'>Dado dois conjuntos A e B, B está contido em A, se todo elemento de B também está em A. Na linguagem Python, você pode verificar essa relação utilizando a função <span style=\"font-weight: bold;\">issubset</span> ou o operador relacional  <span style=\"font-weight: bold;\"><=</span>. Veja:</p>"
      ]
    },
    {
      "cell_type": "code",
      "execution_count": null,
      "metadata": {
        "id": "wjjREjuYoG68",
        "outputId": "cea515dd-308b-4533-e844-3e9621d08565"
      },
      "outputs": [
        {
          "name": "stdout",
          "output_type": "stream",
          "text": [
            "True\n",
            "True\n",
            "False\n",
            "True\n"
          ]
        }
      ],
      "source": [
        "A = {1, 2, 4, 5, 6, 7}\n",
        "B = {2,6,5}\n",
        "C = {1,3,9}\n",
        "\n",
        "print(B.issubset(A))\n",
        "print(B <= A)\n",
        "print(C <= A)\n",
        "print(A.issubset(A))"
      ]
    },
    {
      "cell_type": "markdown",
      "metadata": {
        "id": "UTvniuWLoG68"
      },
      "source": [
        "<p style='text-align: justify; font-size: 16px; line-height: 1.5;'><span style=\"font-weight: bold;\">Exemplo 1:</span> Considerando duas listas A e B de número inteiros, crie uma função que retorne uma mensagem informando se todos os elementos da lista A estão na lista B ou não.</p>"
      ]
    },
    {
      "cell_type": "code",
      "execution_count": null,
      "metadata": {
        "id": "lbqyCRQaoG68"
      },
      "outputs": [],
      "source": [
        "def A_em_B(A, B):\n",
        "    \"\"\"Função que verifica se todos os elementos da lista A estão na lista B\"\"\"    \n",
        "    if set(A) <= set(B):\n",
        "        return 'Os elementos de A estão em B' \n",
        "    else:\n",
        "        return 'Nem todos os elementos de A estão em B'"
      ]
    },
    {
      "cell_type": "code",
      "execution_count": null,
      "metadata": {
        "id": "lEGk8NrWoG69",
        "outputId": "df9ce231-4232-4b32-a1e1-c7a6ba86f53b"
      },
      "outputs": [
        {
          "name": "stdout",
          "output_type": "stream",
          "text": [
            "Os elementos de A estão em B\n"
          ]
        }
      ],
      "source": [
        "A = [1,2,3,4,5]\n",
        "B = [7,1,2,3,6,7,5,4,3,7,8,1]\n",
        "print(A_em_B(A, B))"
      ]
    },
    {
      "cell_type": "markdown",
      "metadata": {
        "id": "ECJpVKqGoG69"
      },
      "source": [
        "<p style='text-align: justify; font-size: 16px; line-height: 1.5;'>Para resolver esse problema, nós construímos os conjuntos das duas listas e verificamos se o conjunto da lista A está contido no conjunto da lista B. A depender do resultado dessa verificação, a função retorna a mensagem apropriada.</p>"
      ]
    },
    {
      "cell_type": "markdown",
      "metadata": {
        "id": "WQpS96kpoG69"
      },
      "source": [
        "### B é subconjunto próprio de A?"
      ]
    },
    {
      "cell_type": "markdown",
      "metadata": {
        "id": "HahW03GIoG69"
      },
      "source": [
        "<p style='text-align: justify; font-size: 16px; line-height: 1.5;'>Dado dois conjuntos A e B, B é subconjunto próprio de A, se todo elemento de B estiver em A, mas A possuir ao menos um elemento que não esteja em B. Na linguagem Python, essa relação é verificada pelo operador relacional <span style=\"font-weight: bold;\"><</span>. Veja:</p>"
      ]
    },
    {
      "cell_type": "code",
      "execution_count": null,
      "metadata": {
        "id": "hGGivgw1oG69",
        "outputId": "a172556a-4984-4640-d959-1b0bdc0dae8f"
      },
      "outputs": [
        {
          "name": "stdout",
          "output_type": "stream",
          "text": [
            "True\n",
            "False\n",
            "False\n"
          ]
        }
      ],
      "source": [
        "A = {1, 2, 4, 5, 6, 7}\n",
        "B = {2,6,5}\n",
        "C = {1,3,9}\n",
        "\n",
        "print(B < A)\n",
        "print(C < A)\n",
        "print(A < A)"
      ]
    },
    {
      "cell_type": "markdown",
      "metadata": {
        "id": "GY1YBf9CoG69"
      },
      "source": [
        "### A contém B?"
      ]
    },
    {
      "cell_type": "markdown",
      "metadata": {
        "id": "dXekAqugoG69"
      },
      "source": [
        "<p style='text-align: justify; font-size: 16px; line-height: 1.5;'>Dado dois conjuntos A e B, A contém B, se todo elemento de A também está em B. Na linguagem Python, você pode verificar essa relação utilizando a função <span style=\"font-weight: bold;\">issuperset</span> ou o operador relacional  <span style=\"font-weight: bold;\">>=</span>. Veja:</p>"
      ]
    },
    {
      "cell_type": "code",
      "execution_count": null,
      "metadata": {
        "id": "cPX5JTiBoG69",
        "outputId": "40bc6e42-9681-45df-f42d-535a799751d3"
      },
      "outputs": [
        {
          "name": "stdout",
          "output_type": "stream",
          "text": [
            "True\n",
            "False\n",
            "True\n",
            "True\n"
          ]
        }
      ],
      "source": [
        "A = {1, 2, 4, 5, 6, 7}\n",
        "B = {2,6,5}\n",
        "C = {1,3,9}\n",
        "\n",
        "print(A.issuperset(B))\n",
        "print(A >= C)\n",
        "print(A >= A)\n",
        "print(A.issuperset(set()))"
      ]
    },
    {
      "cell_type": "markdown",
      "metadata": {
        "id": "nzCUUVzKoG69"
      },
      "source": [
        "### A é superconjunto próprio de B?"
      ]
    },
    {
      "cell_type": "markdown",
      "metadata": {
        "id": "Nj5CnfhQoG69"
      },
      "source": [
        "<p style='text-align: justify; font-size: 16px; line-height: 1.5;'>Dado dois conjuntos A e B, A é superconjunto próprio de B, se todo elemento de A estiver em B, mas A possuir ao menos um elemento que não esteja em B. Na linguagem Python, essa relação é verificada pelo operador relacional <span style=\"font-weight: bold;\">></span>. Veja:</p>"
      ]
    },
    {
      "cell_type": "code",
      "execution_count": null,
      "metadata": {
        "id": "AjD18qp-oG69",
        "outputId": "2f093aff-0c36-468d-ca9d-394525d6d84e"
      },
      "outputs": [
        {
          "name": "stdout",
          "output_type": "stream",
          "text": [
            "True\n",
            "False\n",
            "False\n"
          ]
        }
      ],
      "source": [
        "A = {1, 2, 4, 5, 6, 7}\n",
        "B = {2,6,5}\n",
        "C = {1,3,9}\n",
        "\n",
        "print(A > B)\n",
        "print(A > C)\n",
        "print(A > A)"
      ]
    },
    {
      "cell_type": "markdown",
      "metadata": {
        "id": "suOQ50rGoG6-"
      },
      "source": [
        "### A e B são disjuntos?"
      ]
    },
    {
      "cell_type": "markdown",
      "metadata": {
        "id": "WtaZClwDoG6-"
      },
      "source": [
        "<p style='text-align: justify; font-size: 16px; line-height: 1.5;'>Dado dois conjuntos A e B, A é disjuntoo de B, se todo elemento de A não estiver em B. Ou seja, se a interseção entre A e B resultar em um conjunto vazio. Na linguagem Python, essa relação pode ser verificada utilizando a função <span style=\"font-weight: bold;\">isdisjoint</span>. Veja:</p>"
      ]
    },
    {
      "cell_type": "code",
      "execution_count": null,
      "metadata": {
        "id": "DCSHA0LFoG6-",
        "outputId": "5f0f8ee9-70e8-4e11-e544-8a0eff12202b"
      },
      "outputs": [
        {
          "name": "stdout",
          "output_type": "stream",
          "text": [
            "False\n",
            "False\n",
            "True\n"
          ]
        }
      ],
      "source": [
        "A = {1, 2, 4, 5, 6, 7}\n",
        "B = {2,6,5}\n",
        "C = {1,3,9}\n",
        "\n",
        "print(A.isdisjoint(B))\n",
        "print(A.isdisjoint(C))\n",
        "print(B.isdisjoint(C))"
      ]
    },
    {
      "cell_type": "markdown",
      "metadata": {
        "id": "Fjw0uZtVoG6-"
      },
      "source": [
        "<p style='text-align: justify; font-size: 16px; line-height: 1.5;'><span style=\"font-weight: bold;\">Exemplo 2:</span> Considerando duas listas A e B de strings, crie uma função que retorne uma mensagem informando se as listas possuem elementos em comum ou não.</p>"
      ]
    },
    {
      "cell_type": "code",
      "execution_count": null,
      "metadata": {
        "id": "ia6u66g0oG6-"
      },
      "outputs": [],
      "source": [
        "def tem_elementos_comum(A, B):\n",
        "    \"\"\"Função que verifica se todos os elementos das listas A e B são distntos\"\"\"\n",
        "    if set(A).isdisjoint(set(B)):\n",
        "        return 'As listas A e B não possuem elementos em comum'\n",
        "    else:\n",
        "        return 'As listas A e B possuem elementos em comum'\n",
        "        "
      ]
    },
    {
      "cell_type": "code",
      "execution_count": null,
      "metadata": {
        "id": "lWrjjlBAoG6-",
        "outputId": "edd1576c-344d-4309-df38-c74152cd9cd5"
      },
      "outputs": [
        {
          "name": "stdout",
          "output_type": "stream",
          "text": [
            "As listas A e B não possuem elementos em comum\n"
          ]
        }
      ],
      "source": [
        "A = ['Renato', 'Hidaka', 'Torres']\n",
        "B = ['renato', 'HidakA', 'TORRES']\n",
        "print(tem_elementos_comum(A, B))"
      ]
    },
    {
      "cell_type": "markdown",
      "metadata": {
        "id": "u5mjZf1zoG6-"
      },
      "source": [
        "<p style='text-align: justify; font-size: 16px; line-height: 1.5;'>A função informou que as listas não possuem elementos em comum, uma vez que, por se tratar de string, há diferença entre palavras com letras maiúsculas e minúsculas.</p>"
      ]
    },
    {
      "cell_type": "markdown",
      "metadata": {
        "id": "6F8Hy9QgoG6-"
      },
      "source": [
        "## União de conjuntos"
      ]
    },
    {
      "cell_type": "markdown",
      "metadata": {
        "id": "gLC_GHQsoG6-"
      },
      "source": [
        "<p style='text-align: justify; font-size: 16px; line-height: 1.5;'>Dado dois conjuntos A e B, A união B resulta em um conjunto em que todos os elementos pertencem ao conjunto A ou ao conjunto B. Na linguagem Python, a união de dois conjuntos pode ser realizada utilizando a função <span style=\"font-weight: bold;\">union</span> ou o operador |. Veja:</p>"
      ]
    },
    {
      "cell_type": "code",
      "execution_count": null,
      "metadata": {
        "id": "TSmgoPzMoG6-",
        "outputId": "97fb0bbf-d86e-48be-898e-1320087f4ff4"
      },
      "outputs": [
        {
          "name": "stdout",
          "output_type": "stream",
          "text": [
            "{1, 2, 4, 5, 6, 7}\n",
            "{1, 2, 3, 4, 5, 6, 7, 9}\n",
            "{1, 2, 3, 4, 5, 6, 7, 9}\n"
          ]
        }
      ],
      "source": [
        "A = {1, 2, 4, 5, 6, 7}\n",
        "B = {2,6,5}\n",
        "C = {1,3,9}\n",
        "\n",
        "print(A.union(B))\n",
        "print(A | C)\n",
        "print(A | B | C)"
      ]
    },
    {
      "cell_type": "markdown",
      "metadata": {
        "id": "NBv9M04DoG6-"
      },
      "source": [
        "<p style='text-align: justify; font-size: 16px; line-height: 1.5;'>A operação de união realizada utilizando a função <span style=\"font-weight: bold;\">union</span> ou o operador | resulta em um novo conjunto. Portanto, para utilizar o conjunto resultante, é necessário atribuir o resultado da operação a alguma variável, Veja:</p>"
      ]
    },
    {
      "cell_type": "code",
      "execution_count": null,
      "metadata": {
        "id": "wSTpm-cPoG6-",
        "outputId": "e0d21282-0f69-48b0-e241-bab74111351d"
      },
      "outputs": [
        {
          "name": "stdout",
          "output_type": "stream",
          "text": [
            "{1, 2, 4, 5, 6, 7, 9}\n",
            "{1, 2, 4, 5, 6, 7, 5.5, 9, 10}\n"
          ]
        }
      ],
      "source": [
        "A = {1, 2, 4, 5, 6, 7}\n",
        "B = {2,6,9}\n",
        "\n",
        "C = A.union(B)\n",
        "print(C)\n",
        "\n",
        "C = C | {10, 5.5}\n",
        "print(C)\n"
      ]
    },
    {
      "cell_type": "markdown",
      "metadata": {
        "id": "Qmgpy2p3oG6-"
      },
      "source": [
        "<p style='text-align: justify; font-size: 16px; line-height: 1.5;'>Nesse exemplo, a união do conjunto A e B foi armazenada na variável C, em seguida, o conjunto armazenado na variável C foi unindo com o conjunto {10, 5.5}. O resultado dessa segunda união foi armazenada na própria variável C, caracterizando uma atualização dessa variável. Toda vez que você quiser realizar uma união cujo resultado seja armazenado em uma variável envolvida na união, você pode utilizar a função <span style=\"font-weight: bold;\">update</span> ou a união acumulada com a operação |=. Veja:</p>"
      ]
    },
    {
      "cell_type": "code",
      "execution_count": null,
      "metadata": {
        "id": "1mKGZslkoG6_",
        "outputId": "cfa6e8ae-3b51-49e7-b580-81e51d8883d3"
      },
      "outputs": [
        {
          "name": "stdout",
          "output_type": "stream",
          "text": [
            "{1, 2, 4, 5, 6, 7, 9}\n",
            "{1, 2, 4, 5, 6, 7, 5.5, 9, 10}\n"
          ]
        }
      ],
      "source": [
        "A = {1, 2, 4, 5, 6, 7}\n",
        "B = {2,6,9}\n",
        "\n",
        "A.update(B)\n",
        "print(A)\n",
        "\n",
        "A |= {10, 5.5}\n",
        "print(A)"
      ]
    },
    {
      "cell_type": "markdown",
      "metadata": {
        "id": "5mpAZLR-oG6_"
      },
      "source": [
        "<p style='text-align: justify; font-size: 16px; line-height: 1.5;'>Observe que ao utilizar a função <span style=\"font-weight: bold;\">update</span> não é necessário atribuir o resultado dessa operação a nenhuma variável. Ao utilizar o <span style=\"font-weight: bold;\">update</span> o resultado da operação é armazenado no conjunto que precede a função.</p>"
      ]
    },
    {
      "cell_type": "markdown",
      "metadata": {
        "id": "eQCc5ZS7oG6_"
      },
      "source": [
        "## Interseção de conjuntos"
      ]
    },
    {
      "cell_type": "markdown",
      "metadata": {
        "id": "D_HcJO9joG6_"
      },
      "source": [
        "<p style='text-align: justify; font-size: 16px; line-height: 1.5;'>Dado dois conjuntos A e B, A interseção B resulta em um conjunto em que todos os elementos pertencem ao conjunto A e ao conjunto B. Na linguagem Python, a interseção de dois conjuntos pode ser realizada utilizando a função <span style=\"font-weight: bold;\">intersection</span> ou o operador &. Veja:</p>"
      ]
    },
    {
      "cell_type": "code",
      "execution_count": null,
      "metadata": {
        "id": "XoGEd4A4oG6_",
        "outputId": "bcafef4a-4a5d-4a28-d3d8-8b878bacb4ff"
      },
      "outputs": [
        {
          "name": "stdout",
          "output_type": "stream",
          "text": [
            "{2, 6}\n",
            "{1}\n",
            "set()\n"
          ]
        }
      ],
      "source": [
        "A = {1, 2, 4, 5, 6, 7}\n",
        "B = {2,6,9}\n",
        "C = {1,3,9}\n",
        "\n",
        "print(A.intersection(B))\n",
        "print(A & C)\n",
        "print(A & B & C)"
      ]
    },
    {
      "cell_type": "markdown",
      "metadata": {
        "id": "scLc7bC8oG6_"
      },
      "source": [
        "<p style='text-align: justify; font-size: 16px; line-height: 1.5;'>Assim como acontece na união, a operação de interseção realizada utilizando a função <span style=\"font-weight: bold;\">intersection</span> ou o operador & resulta em um novo conjunto. Portanto, para utilizar o conjunto resultante, é necessário atribuir o resultado da operação a alguma variável. Se você quiser armazenar a interseção em uma das variáveis envolvidas, você pode utilizar a função <span style=\"font-weight: bold;\">intersection_update</span> ou o operador &=. Veja:</p>"
      ]
    },
    {
      "cell_type": "code",
      "execution_count": null,
      "metadata": {
        "id": "ohrYN11foG6_",
        "outputId": "e3f348a0-ce96-44fe-b86a-11ba4db58a92"
      },
      "outputs": [
        {
          "name": "stdout",
          "output_type": "stream",
          "text": [
            "{2, 6}\n",
            "{6}\n"
          ]
        }
      ],
      "source": [
        "A = {1, 2, 4, 5, 6, 7}\n",
        "B = {2,6,9}\n",
        "\n",
        "A.intersection_update(B)\n",
        "print(A)\n",
        "\n",
        "A &= {6, 5.5}\n",
        "print(A)"
      ]
    },
    {
      "cell_type": "markdown",
      "metadata": {
        "id": "qnPOHU18oG6_"
      },
      "source": [
        "## Diferença entre conjuntos"
      ]
    },
    {
      "cell_type": "markdown",
      "metadata": {
        "id": "vyNTMbTmoG6_"
      },
      "source": [
        "<p style='text-align: justify; font-size: 16px; line-height: 1.5;'>Dado dois conjuntos A e B, a diferença entre A e B resulta em um conjunto com todos os elementos que pertecem ao conjunto A e que não pertencem ao conjunto B. Na linguagem Python, a diferença de dois conjuntos pode ser realizada utilizando a função <span style=\"font-weight: bold;\">difference</span> ou o operador -. Veja:</p>"
      ]
    },
    {
      "cell_type": "code",
      "execution_count": null,
      "metadata": {
        "id": "me25AAnJoG6_",
        "outputId": "1361ce54-9550-4bca-c8f2-15584ef5198c"
      },
      "outputs": [
        {
          "name": "stdout",
          "output_type": "stream",
          "text": [
            "{1, 4, 5, 7}\n",
            "{2, 4, 5, 6, 7}\n",
            "{4, 5, 7}\n",
            "{9}\n"
          ]
        }
      ],
      "source": [
        "A = {1, 2, 4, 5, 6, 7}\n",
        "B = {2,6,9}\n",
        "C = {1,3,9}\n",
        "\n",
        "print(A.difference(B))\n",
        "print(A - C)\n",
        "print(A - B - C)\n",
        "print(B - A)"
      ]
    },
    {
      "cell_type": "markdown",
      "metadata": {
        "id": "thJP5CS0oG6_"
      },
      "source": [
        "<p style='text-align: justify; font-size: 16px; line-height: 1.5;'>Assim como acontece nas demais oerações de conjuntos, a operação de diferença realizada utilizando a função <span style=\"font-weight: bold;\">difference</span> ou o operador - resulta em um novo conjunto. Portanto, para utilizar o conjunto resultante, é necessário atribuir o resultado da operação a alguma variável. Se você quiser armazenar a diferença em uma das variáveis envolvidas, você pode utilizar a função <span style=\"font-weight: bold;\">difference_update</span> ou o operador -=. Veja:</p>"
      ]
    },
    {
      "cell_type": "code",
      "execution_count": null,
      "metadata": {
        "id": "S5kG9sq2oG6_",
        "outputId": "1a4801cc-a226-499e-fef6-64df67096280"
      },
      "outputs": [
        {
          "name": "stdout",
          "output_type": "stream",
          "text": [
            "{1, 4, 5, 7}\n",
            "{1, 4, 7}\n"
          ]
        }
      ],
      "source": [
        "A = {1, 2, 4, 5, 6, 7}\n",
        "B = {2,6,9}\n",
        "\n",
        "A.difference_update(B)\n",
        "print(A)\n",
        "\n",
        "A -= {6, 5}\n",
        "print(A)"
      ]
    },
    {
      "cell_type": "markdown",
      "metadata": {
        "id": "tpf7rukJoG6_"
      },
      "source": [
        "## Diferença simétrica entre conjuntos"
      ]
    },
    {
      "cell_type": "markdown",
      "metadata": {
        "id": "9RqeMxo7oG6_"
      },
      "source": [
        "<p style='text-align: justify; font-size: 16px; line-height: 1.5;'>Dado dois conjuntos A e B, a diferença simétrica entre A e B resulta em um conjunto em que todos os elementos pertencem ao conjunto A ou ao conjunto B, mas não a ambos. Na linguagem Python, a diferença simétrica de dois conjuntos pode ser realizada utilizando a função <span style=\"font-weight: bold;\">symmetric_difference</span> ou o operador ^. Veja:</p>"
      ]
    },
    {
      "cell_type": "code",
      "execution_count": null,
      "metadata": {
        "id": "R2rnPAWcoG7A",
        "outputId": "1883ba1f-55b8-4b94-a975-d4656f2ab6cf"
      },
      "outputs": [
        {
          "name": "stdout",
          "output_type": "stream",
          "text": [
            "{1, 4, 5, 7, 9}\n",
            "{1, 2, 3, 6}\n",
            "{3, 4, 5, 7}\n"
          ]
        }
      ],
      "source": [
        "A = {1, 2, 4, 5, 6, 7}\n",
        "B = {2,6,9}\n",
        "C = {1,3,9}\n",
        "\n",
        "print(A.symmetric_difference(B))\n",
        "print(B ^ C)\n",
        "print(A ^ B ^ C)"
      ]
    },
    {
      "cell_type": "markdown",
      "metadata": {
        "id": "tml_-5YgoG7A"
      },
      "source": [
        "<p style='text-align: justify; font-size: 16px; line-height: 1.5;'>Assim como acontece nas demais operações de conjuntos, a operação de diferença simétrica realizada utilizando a função <span style=\"font-weight: bold;\">symmetric_difference</span> ou o operador ^ resulta em um novo conjunto. Portanto, para utilizar o conjunto resultante, é necessário atribuir o resultado da operação a alguma variável. Se você quiser armazenar a diferença simétrica em uma das variáveis envolvidas, você pode utilizar a função <span style=\"font-weight: bold;\">symmetric_difference_update</span> ou o operador ^=. Veja:</p>"
      ]
    },
    {
      "cell_type": "code",
      "execution_count": null,
      "metadata": {
        "id": "_ni0u_QloG7A",
        "outputId": "d0355bd8-a4b1-43b0-e14a-8063693a60f2"
      },
      "outputs": [
        {
          "name": "stdout",
          "output_type": "stream",
          "text": [
            "{1, 4, 5, 7, 9}\n",
            "{3, 5, 7, 9}\n"
          ]
        }
      ],
      "source": [
        "A = {1, 2, 4, 5, 6, 7}\n",
        "B = {2,6,9}\n",
        "\n",
        "A.symmetric_difference_update(B)\n",
        "print(A)\n",
        "\n",
        "A^= {1, 4, 3}\n",
        "print(A)"
      ]
    },
    {
      "cell_type": "markdown",
      "metadata": {
        "id": "ZTpiKtuuoG7A"
      },
      "source": [
        "<p style='text-align: justify; font-size: 16px; line-height: 1.5;'><span style=\"font-weight: bold;\">Exemplo 3:</span> Considerando uma lista chamada produção e um conjunto chamado backup, crie uma função para verificar se o backup está atualizado ou não. Caso esteja, informe que o backup está sincronizado, caso contrário, retorne o backup sincronizado. Por mais que a produção possua itens repetidos, no backup basta uma cópia de cada item.</p>"
      ]
    },
    {
      "cell_type": "code",
      "execution_count": null,
      "metadata": {
        "id": "2Uz7CNhZoG7A"
      },
      "outputs": [],
      "source": [
        "def sincronizar_backup(producao, backup):\n",
        "    \"\"\"Função que realiza a sincronização do backup ou informa uma mensagem caso já esteja sincronizado\"\"\"\n",
        "    diferenca = set(producao) ^ backup\n",
        "    if len(diferenca) > 0:\n",
        "        return 'Sincronizando', set(producao)\n",
        "    else:\n",
        "        return 'Backup já está sincronizado', backup"
      ]
    },
    {
      "cell_type": "code",
      "execution_count": null,
      "metadata": {
        "id": "qX1xOaKzoG7A",
        "outputId": "b7fa5909-b01b-4146-d46f-08674c232752"
      },
      "outputs": [
        {
          "name": "stdout",
          "output_type": "stream",
          "text": [
            "Sincronizando {1, 2, 3, 5, 6.6, 'Hidaka', 'Renato'}\n",
            "Backup já está sincronizado {1, 2, 3, 5, 6.6, 'Hidaka', 'Renato'}\n",
            "Sincronizando {'Torres', 1, 2, 3, 5, 6.6, 'Hidaka', 'Renato'}\n",
            "Sincronizando {'Torres', 1, 2, 3, 5, 'Hidaka'}\n"
          ]
        }
      ],
      "source": [
        "producao = [1, 2, 'Renato', 6.6, 'Hidaka', 2, 3, 5, 1]\n",
        "backup = set()\n",
        "\n",
        "msg, backup = sincronizar_backup(producao, backup)\n",
        "print(msg, backup)\n",
        "\n",
        "msg, backup = sincronizar_backup(producao, backup)\n",
        "print(msg, backup)\n",
        "\n",
        "producao.append('Torres')\n",
        "msg, backup = sincronizar_backup(producao, backup)\n",
        "print(msg, backup)\n",
        "\n",
        "del producao[:4]\n",
        "msg, backup = sincronizar_backup(producao, backup)\n",
        "print(msg, backup)"
      ]
    },
    {
      "cell_type": "markdown",
      "metadata": {
        "id": "8DyPejfmoG7A"
      },
      "source": [
        "<p style='text-align: justify; font-size: 16px; line-height: 1.5;'>Na função construída, utilizamos a diferença simétrica para verificar se o backup está sincronizado, caso o tamanho do conjunto resultante seja maior que zero, é porque os conjuntos possuem elementos diferentes e, por esse motivo, o backup precisa ser sincronizado. Caso contrário, todos os elementos dos dois conjuntos são iguais, indicando que o backup já está sincronizado. Para sincronizar o backup, basta retornar o novo conjunto da produção.</p>"
      ]
    },
    {
      "cell_type": "markdown",
      "metadata": {
        "id": "7WaqacbkoG7A"
      },
      "source": [
        "<p style='text-align: justify; font-size: 16px; line-height: 1.5;'>No exemplo, realizamos quatro chamadas da função de sincronização. Na primeira chamada, como o backup era um conjunto vazio, houve a necessidade de sincronização. Na segunda chamada, como não houve alteração da lista de produção, o retorno da função informou que o backup já estava sincronizado. Na terceira chamada, como a lista foi alterada inserindo um novo elemento não repetido, a função realizou a sincronização. Por fim, na quarta chamada, como a lista de produção sofreu a remoção dos quatro primeiros elementos, houve a necessidade de sincronização.</p>"
      ]
    },
    {
      "cell_type": "markdown",
      "metadata": {
        "id": "m2Auh1J_oG7A"
      },
      "source": [
        "## O que é um dicionário?"
      ]
    },
    {
      "cell_type": "markdown",
      "metadata": {
        "id": "FynEqLxBoG7A"
      },
      "source": [
        "<p style='text-align: justify; font-size: 16px; line-height: 1.5;'>Um dicionário é uma estrutura de dados em que cada item é formado por chave e valor. As chaves de um dicionário são utilizadas para aumentar a eficiência de acesso aos itens armazenados na estrutura. Para fazer isso, as chaves precisam ser hashable, ou seja, a partir do valor da chave, deve ser possível calcular um identificador único com uma função hash. Valores do tipo int e string são os mais comuns para a definição de chaves de um dicionário. Devido as chaves possuírem a propriedade de identificação única, um dicionário não permite duplicidade de chaves. Sobre os valores associados a cada chave do dicionário, não há o que se falar de restrições, você pode armazenar qualquer conteúdo.</p>"
      ]
    },
    {
      "cell_type": "markdown",
      "metadata": {
        "id": "FqduZ318oG7A"
      },
      "source": [
        "<p style='text-align: justify; font-size: 16px; line-height: 1.5;'>Na linguagem Python, existem diferentes formas de criar dicionários e nós iremos estudar algumas delas. A primeira formar que iremos estudar, diz respeito a criação de dicionários a partir da utilização das chaves. Vejamos:</p>"
      ]
    },
    {
      "cell_type": "code",
      "execution_count": null,
      "metadata": {
        "id": "YJQcZiouoG7A",
        "outputId": "03692619-3f6a-41b2-f005-33c316375c58"
      },
      "outputs": [
        {
          "name": "stdout",
          "output_type": "stream",
          "text": [
            "{'nome': 'Renato Hidaka Torres', 'telefone': '(91) 99269-9696', 'email': 'renatohidaka@gmail.com'}\n"
          ]
        }
      ],
      "source": [
        "cadastro = {'nome': 'Renato Hidaka Torres', 'telefone' : '(91) 99269-9696', 'email': 'renatohidaka@gmail.com'}\n",
        "print(cadastro)"
      ]
    },
    {
      "cell_type": "markdown",
      "metadata": {
        "id": "_pbqxx_BoG7A"
      },
      "source": [
        "<p style='text-align: justify; font-size: 16px; line-height: 1.5;'>Nesse exemplo nós criamos um dicionário com três itens. Cada item é formado por chave e valor. Para cada item, antes dos dois pontos, devemos definir a chave, após os dois pontos, o valor. Dentro das chaves, cada item do dicionário deve ser separado por vírgula. Nesse exemplo, as chaves e valores de cada item são do tipo string. Para facilitar a leitura do código, podemos criar esse mesmo dicionário da seguinte forma:</p>"
      ]
    },
    {
      "cell_type": "code",
      "execution_count": null,
      "metadata": {
        "id": "2Sm_xLMYoG7A",
        "outputId": "dd2c6f7f-cb9a-4445-90a8-46e0bca05fee"
      },
      "outputs": [
        {
          "name": "stdout",
          "output_type": "stream",
          "text": [
            "{'nome': 'Renato Hidaka Torres', 'telefone': '(91) 99269-9696', 'email': 'renatohidaka@gmail.com'}\n"
          ]
        }
      ],
      "source": [
        "cadastro = {\n",
        "    'nome': 'Renato Hidaka Torres', \n",
        "    'telefone' : '(91) 99269-9696', \n",
        "    'email': 'renatohidaka@gmail.com'\n",
        "}\n",
        "\n",
        "print(cadastro)"
      ]
    },
    {
      "cell_type": "markdown",
      "metadata": {
        "id": "EUydfMWLoG7B"
      },
      "source": [
        "<p style='text-align: justify; font-size: 16px; line-height: 1.5;'>Uma outra forma de criar um dicionário é a partir da utilização da função <span style=\"font-weight: bold;\">dict</span> combinada com a função <span style=\"font-weight: bold;\">zip</span>. Vamos criar o mesmo dicionário do exemplo anterior com essa nova abordagem:</p>"
      ]
    },
    {
      "cell_type": "code",
      "execution_count": null,
      "metadata": {
        "id": "kofaC1euoG7B",
        "outputId": "4965bf1f-30bf-4413-f581-827036a33ae7"
      },
      "outputs": [
        {
          "name": "stdout",
          "output_type": "stream",
          "text": [
            "{'nome': 'Renato Hidaka Torres', 'telefone': '(91) 99269-9696', 'email': 'renatohidaka@gmail.com'}\n"
          ]
        }
      ],
      "source": [
        "chaves = ['nome', 'telefone', 'email']\n",
        "valores = ['Renato Hidaka Torres', '(91) 99269-9696', 'renatohidaka@gmail.com']\n",
        "cadastro = dict(zip(chaves, valores))\n",
        "print(cadastro)"
      ]
    },
    {
      "cell_type": "markdown",
      "metadata": {
        "id": "PjlW0Q48oG7B"
      },
      "source": [
        "<p style='text-align: justify; font-size: 16px; line-height: 1.5;'>A terceira e última forma que veremos para criar um dicionário é a partir da utilização da função <span style=\"font-weight: bold;\">dict</span>, definindo a chave e valor com argumentos nomeados. Nesse caso, o nome dos argumentos são as chaves e devem ser nomes válidos, seguindo a regra de declaração de variável da linguagem Python. Veja:</p>"
      ]
    },
    {
      "cell_type": "code",
      "execution_count": null,
      "metadata": {
        "id": "u3yTtZYKoG7B",
        "outputId": "682719e9-387a-4801-ee2e-2c9cb9d9edf9"
      },
      "outputs": [
        {
          "name": "stdout",
          "output_type": "stream",
          "text": [
            "{'feijão': 10, 'arroz': 5, 'macarrão': 5, 'café': 7, 'açúcar': 0}\n"
          ]
        }
      ],
      "source": [
        "estoque = dict(feijão=10, arroz=5, macarrão=5, café=7, açúcar=0)\n",
        "print(estoque)"
      ]
    },
    {
      "cell_type": "markdown",
      "metadata": {
        "id": "ukwMiCWRoG7B"
      },
      "source": [
        "<p style='text-align: justify; font-size: 16px; line-height: 1.5;'>Note que os argumentos nomeados permitem que você defina chaves com caracteres especiais acentuados. Entretanto, essa não é uma prática recomendada, pois nem todos os caracteres são aceitos. Por exemplo, ao tentar definir uma chave com hífen, você receberá um erro em tempo de execução do tipo <span style=\"font-weight: bold;\">SyntaxError</span>. Veja:</p>"
      ]
    },
    {
      "cell_type": "code",
      "execution_count": null,
      "metadata": {
        "id": "ve2JDtE7oG7B",
        "outputId": "6f67ab62-a24f-41d2-ed84-7027f165f4fc"
      },
      "outputs": [
        {
          "ename": "SyntaxError",
          "evalue": "expression cannot contain assignment, perhaps you meant \"==\"? (<ipython-input-104-26a3851eb7ef>, line 1)",
          "output_type": "error",
          "traceback": [
            "\u001b[0;36m  File \u001b[0;32m\"<ipython-input-104-26a3851eb7ef>\"\u001b[0;36m, line \u001b[0;32m1\u001b[0m\n\u001b[0;31m    cadastro = dict(nome='Renato Hidaka Torres', e-mail='renatohidaka@mgail.com')\u001b[0m\n\u001b[0m                                                 ^\u001b[0m\n\u001b[0;31mSyntaxError\u001b[0m\u001b[0;31m:\u001b[0m expression cannot contain assignment, perhaps you meant \"==\"?\n"
          ]
        }
      ],
      "source": [
        "cadastro = dict(nome='Renato Hidaka Torres', e-mail='renatohidaka@mgail.com')\n",
        "print(cadastro)"
      ]
    },
    {
      "cell_type": "markdown",
      "metadata": {
        "id": "ju7r670NoG7B"
      },
      "source": [
        "## Acessando um valor do dicionário"
      ]
    },
    {
      "cell_type": "markdown",
      "metadata": {
        "id": "eDrOV2EToG7B"
      },
      "source": [
        "<p style='text-align: justify; font-size: 16px; line-height: 1.5;'>Para acessar um valor de um item do dicionário, você precisa passar, entre colchetes, o valor da chave correspondente. Veja:</p>"
      ]
    },
    {
      "cell_type": "code",
      "execution_count": null,
      "metadata": {
        "id": "rfgaPIYWoG7B",
        "outputId": "d14447e0-2979-4559-838e-a4094886a423"
      },
      "outputs": [
        {
          "name": "stdout",
          "output_type": "stream",
          "text": [
            "5\n",
            "7\n"
          ]
        }
      ],
      "source": [
        "estoque = dict(feijao=10, arroz=5, macarrao=5, cafe=7, acucar=0)\n",
        "\n",
        "print(estoque['arroz'])\n",
        "print(estoque['cafe'])"
      ]
    },
    {
      "cell_type": "markdown",
      "metadata": {
        "id": "9xCvKtW0oG7B"
      },
      "source": [
        "<p style='text-align: justify; font-size: 16px; line-height: 1.5;'>Ao tentar acessar um valor de um item do dicionário passando uma chave inexistente, você receberá um erro em tempo de execução do tipo <span style=\"font-weight: bold;\">KeyError</span>. Veja:</p>"
      ]
    },
    {
      "cell_type": "code",
      "execution_count": null,
      "metadata": {
        "id": "dUdZxpV9oG7B",
        "outputId": "b3bd4dee-708d-425d-e6bf-f69e357335f2"
      },
      "outputs": [
        {
          "ename": "KeyError",
          "evalue": "'café'",
          "output_type": "error",
          "traceback": [
            "\u001b[0;31m---------------------------------------------------------------------------\u001b[0m",
            "\u001b[0;31mKeyError\u001b[0m                                  Traceback (most recent call last)",
            "\u001b[0;32m<ipython-input-116-12a216e61893>\u001b[0m in \u001b[0;36m<module>\u001b[0;34m\u001b[0m\n\u001b[1;32m      1\u001b[0m \u001b[0mestoque\u001b[0m \u001b[0;34m=\u001b[0m \u001b[0mdict\u001b[0m\u001b[0;34m(\u001b[0m\u001b[0mfeijao\u001b[0m\u001b[0;34m=\u001b[0m\u001b[0;36m10\u001b[0m\u001b[0;34m,\u001b[0m \u001b[0marroz\u001b[0m\u001b[0;34m=\u001b[0m\u001b[0;36m5\u001b[0m\u001b[0;34m,\u001b[0m \u001b[0mmacarrao\u001b[0m\u001b[0;34m=\u001b[0m\u001b[0;36m5\u001b[0m\u001b[0;34m,\u001b[0m \u001b[0mcafe\u001b[0m\u001b[0;34m=\u001b[0m\u001b[0;36m7\u001b[0m\u001b[0;34m,\u001b[0m \u001b[0macucar\u001b[0m\u001b[0;34m=\u001b[0m\u001b[0;36m0\u001b[0m\u001b[0;34m)\u001b[0m\u001b[0;34m\u001b[0m\u001b[0;34m\u001b[0m\u001b[0m\n\u001b[1;32m      2\u001b[0m \u001b[0;34m\u001b[0m\u001b[0m\n\u001b[0;32m----> 3\u001b[0;31m \u001b[0mprint\u001b[0m\u001b[0;34m(\u001b[0m\u001b[0mestoque\u001b[0m\u001b[0;34m[\u001b[0m\u001b[0;34m'café'\u001b[0m\u001b[0;34m]\u001b[0m\u001b[0;34m)\u001b[0m\u001b[0;34m\u001b[0m\u001b[0;34m\u001b[0m\u001b[0m\n\u001b[0m",
            "\u001b[0;31mKeyError\u001b[0m: 'café'"
          ]
        }
      ],
      "source": [
        "estoque = dict(feijao=10, arroz=5, macarrao=5, cafe=7, acucar=0)\n",
        "\n",
        "print(estoque['café'])"
      ]
    },
    {
      "cell_type": "markdown",
      "metadata": {
        "id": "SNCzkv7GoG7B"
      },
      "source": [
        "<p style='text-align: justify; font-size: 16px; line-height: 1.5;'>Para evitar esse tipo de erro, você pode realizar o tratamento de exceção. Outra possibilidade é a utilização da função <span style=\"font-weight: bold;\">get</span>. Ao utilizar a função <span style=\"font-weight: bold;\">get</span> para acessar o valor de um item do dicionário, caso a chave passada como argumento não exista, a função retorna <span style=\"font-weight: bold;\">None</span>. Veja:</p>"
      ]
    },
    {
      "cell_type": "code",
      "execution_count": null,
      "metadata": {
        "id": "WUyeUzFHoG7C",
        "outputId": "30786a5a-5479-4fb1-cd44-c101f0953da0"
      },
      "outputs": [
        {
          "name": "stdout",
          "output_type": "stream",
          "text": [
            "7\n",
            "None\n"
          ]
        }
      ],
      "source": [
        "estoque = dict(feijao=10, arroz=5, macarrao=5, cafe=7, acucar=0)\n",
        "\n",
        "print(estoque.get('cafe'))\n",
        "print(estoque.get('café'))"
      ]
    },
    {
      "cell_type": "markdown",
      "metadata": {
        "id": "15pliQ1PoG7C"
      },
      "source": [
        "<p style='text-align: justify; font-size: 16px; line-height: 1.5;'>Caso você não queria receber <span style=\"font-weight: bold;\">None</span> para chaves inexistentes, a função <span style=\"font-weight: bold;\">get</span> permite que você passe um segundo argumento que é utilizado para personalizar o retorno de chaves inexistentes. Veja:</p>"
      ]
    },
    {
      "cell_type": "code",
      "execution_count": null,
      "metadata": {
        "id": "EbGh2ah4oG7C",
        "outputId": "ad37313c-a2f2-4e7d-8c31-e54123f4cf86"
      },
      "outputs": [
        {
          "name": "stdout",
          "output_type": "stream",
          "text": [
            "7\n",
            "0\n"
          ]
        }
      ],
      "source": [
        "estoque = dict(feijao=10, arroz=5, macarrao=5, cafe=7, acucar=0)\n",
        "\n",
        "print(estoque.get('cafe', 0))\n",
        "print(estoque.get('café', 0))"
      ]
    },
    {
      "cell_type": "markdown",
      "metadata": {
        "id": "1RQfp2VNoG7C"
      },
      "source": [
        "<p style='text-align: justify; font-size: 16px; line-height: 1.5;'>Nesse exemplo, passamos o número zero como segundo argumento da função <span style=\"font-weight: bold;\">get</span>. Ao passar esse valor, estamos informando que se a chave especificada não existir, o valor zero deve ser retornado. No primeiro acesso, a chave <span style=\"font-weight: bold;\">cafe</span> existe, portanto, foi retornado o conteúdo associado a ela. Já no segundo acesso, como a chave <span style=\"font-weight: bold;\">café</span> não existe no dicionário, o valor zero foi retornado.</p>"
      ]
    },
    {
      "cell_type": "markdown",
      "metadata": {
        "id": "vnKS8DDaoG7C"
      },
      "source": [
        "## Adicionando ou atualizando valores no dicionário"
      ]
    },
    {
      "cell_type": "markdown",
      "metadata": {
        "id": "48kyLdQ6oG7C"
      },
      "source": [
        "<p style='text-align: justify; font-size: 16px; line-height: 1.5;'>Para adicionar um item ao dicionário, basta você especificar a chave entre colchetes e realizar a atribuição do valor. Caso a chave especificada já exista no dicionário, ao invés de adicionar um novo item, você estará atualizando o valor da chave já existente. Veja:</p>"
      ]
    },
    {
      "cell_type": "code",
      "execution_count": null,
      "metadata": {
        "id": "31-B_MMsoG7C",
        "outputId": "a66cd9d7-6c5b-4068-86aa-97b71ade0dec"
      },
      "outputs": [
        {
          "name": "stdout",
          "output_type": "stream",
          "text": [
            "{'feijao': 10, 'arroz': 5, 'macarrao': 5, 'cafe': 7, 'acucar': 0, 'trigo': 3}\n",
            "{'feijao': 10, 'arroz': 5, 'macarrao': 5, 'cafe': 7, 'acucar': 2, 'trigo': 3}\n",
            "{'feijao': 10, 'arroz': 5, 'macarrao': 5, 'cafe': 7, 'acucar': 2, 'trigo': 4}\n"
          ]
        }
      ],
      "source": [
        "estoque = dict(feijao=10, arroz=5, macarrao=5, cafe=7, acucar=0)\n",
        "\n",
        "estoque['trigo'] = 3\n",
        "print(estoque)\n",
        "\n",
        "estoque['acucar'] = 2\n",
        "print(estoque)\n",
        "\n",
        "estoque['trigo'] = estoque.get('trigo', 0) + 1\n",
        "print(estoque)"
      ]
    },
    {
      "cell_type": "markdown",
      "metadata": {
        "id": "D_DcRc9xoG7C"
      },
      "source": [
        "<p style='text-align: justify; font-size: 16px; line-height: 1.5;'>Nesse exemplo, na primeira atribuição, estamos adicionando um novo item de chave igual a trigo e valor igual a 3. Na segunda atribuição, como a chave <span style=\"font-weight: bold;\"> acucar </span> já existe no dicionário, estamos realizando uma atualização do valor associado a ela. Na terceira atribuição estamos realizando uma atualização do valor associado a chave trigo, a partir de uma adição unitária do próprio valor já contido no dicionário. Observe que para realizar essa operação, nós recuperamos o valor da chave trigo utilizando a função <span style=\"font-weight: bold;\">get</span> e especificamos o segundo argumento como zero. Essa é uma estratégia interessante, pois, caso a chave não exista, realizamos uma adição, inserindo o novo item com valor igual a 1.</p>"
      ]
    },
    {
      "cell_type": "markdown",
      "metadata": {
        "id": "k3roToIIoG7C"
      },
      "source": [
        "## Gerenciando a adição e atualização no dicionário"
      ]
    },
    {
      "cell_type": "markdown",
      "metadata": {
        "id": "vjSOZf9uoG7C"
      },
      "source": [
        "<p style='text-align: justify; font-size: 16px; line-height: 1.5;'>Para você ter controle sobre a adição e atualização dos itens de um dicionário, você pode criar funções que façam essas ações separadamente e retorne uma mensagem de aviso informando se a operação pode ou não ser realizada. Veja:</p>"
      ]
    },
    {
      "cell_type": "code",
      "execution_count": null,
      "metadata": {
        "id": "bbOFeqizoG7C"
      },
      "outputs": [],
      "source": [
        "dicionario = dict()\n",
        "\n",
        "def adicionar(chave, valor):\n",
        "    \"\"\"Função que adiciona itens no dicionário\"\"\"\n",
        "    if chave not in dicionario:\n",
        "        dicionario[chave] = valor\n",
        "        return True\n",
        "    else:\n",
        "        return False\n",
        "\n",
        "def atualizar(chave, valor):\n",
        "    \"\"\"Função que atualiza itens no dicionário\"\"\"    \n",
        "    if chave in dicionario:\n",
        "        dicionario[chave] = valor\n",
        "        return True\n",
        "    else:\n",
        "        return False"
      ]
    },
    {
      "cell_type": "code",
      "execution_count": null,
      "metadata": {
        "id": "RwlNrE34oG7C",
        "outputId": "74d99b6e-da7d-4567-bfe9-074d7955dbcc"
      },
      "outputs": [
        {
          "name": "stdout",
          "output_type": "stream",
          "text": [
            "True\n",
            "{'nome': 'Renato Hidaka Torres'}\n",
            "False\n",
            "{'nome': 'Renato Hidaka Torres'}\n",
            "True\n",
            "{'nome': 'Renato Hidaka Torres', 'telefone': '(91) 99269-9696'}\n",
            "True\n",
            "{'nome': 'Renato Hidaka Torres', 'telefone': '(91) 9888-8888'}\n",
            "False\n",
            "{'nome': 'Renato Hidaka Torres', 'telefone': '(91) 9888-8888'}\n"
          ]
        }
      ],
      "source": [
        "ok = adicionar('nome', 'Renato Hidaka Torres')\n",
        "print(ok)\n",
        "print(dicionario)\n",
        "\n",
        "ok = adicionar('nome', 'Renato Hidaka Torres')\n",
        "print(ok)\n",
        "print(dicionario)\n",
        "\n",
        "\n",
        "ok = adicionar('telefone', '(91) 99269-9696')\n",
        "print(ok)\n",
        "print(dicionario)\n",
        "\n",
        "ok = atualizar('telefone', '(91) 9888-8888')\n",
        "print(ok)\n",
        "print(dicionario)\n",
        "\n",
        "ok = atualizar('meail', 'renatohidaka@gmail.com')\n",
        "print(ok)\n",
        "print(dicionario)"
      ]
    },
    {
      "cell_type": "markdown",
      "metadata": {
        "id": "FA0Z7K5JoG7C"
      },
      "source": [
        "<p style='text-align: justify; font-size: 16px; line-height: 1.5;'>Na função <span style=\"font-weight: bold;\">adicionar</span>, criamos uma condição para verificar se a chave não existe no dicionário. Caso não exista, podemos fazer a inserção do novo item e retornamos True. Caso a chave já exista, retornamos False. Na função <span style=\"font-weight: bold;\">atualizar</span> a lógica é a inversa. Caso a chave já exista, podemos atualizar o valor da chave associada e retornamos True. Caso contrário, retornamos False.</p>"
      ]
    },
    {
      "cell_type": "markdown",
      "metadata": {
        "id": "sW-P9_oqoG7C"
      },
      "source": [
        "## Removendo itens do dicionário"
      ]
    },
    {
      "cell_type": "markdown",
      "metadata": {
        "id": "jZxDXQbeoG7C"
      },
      "source": [
        "<p style='text-align: justify; font-size: 16px; line-height: 1.5;'>Para remover um item do dicionário, basta você utilizar o comando <span style=\"font-weight: bold;\">del</span> e especificar a chave, entre colchetes, do item a ser removido. Veja:</p>"
      ]
    },
    {
      "cell_type": "code",
      "execution_count": null,
      "metadata": {
        "id": "6lVr57s8oG7C",
        "outputId": "6a97d753-bb73-4ce9-e5d8-e4f0aed60338"
      },
      "outputs": [
        {
          "name": "stdout",
          "output_type": "stream",
          "text": [
            "{'feijao': 10, 'arroz': 5, 'macarrao': 5, 'cafe': 7}\n"
          ]
        }
      ],
      "source": [
        "estoque = {'feijao': 10, 'arroz': 5, 'macarrao': 5, 'cafe': 7, 'acucar': 0}\n",
        "\n",
        "del estoque['acucar']\n",
        "print(estoque)"
      ]
    },
    {
      "cell_type": "markdown",
      "metadata": {
        "id": "KAUbeMgGoG7C"
      },
      "source": [
        "<p style='text-align: justify; font-size: 16px; line-height: 1.5;'>Ao utilizar o comando <span style=\"font-weight: bold;\">del</span>, caso a chave especificada não exista, você receberá um erro em tempo de execução do tipo <span style=\"font-weight: bold;\">KeyError</span>. Veja:</p>"
      ]
    },
    {
      "cell_type": "code",
      "execution_count": null,
      "metadata": {
        "id": "islHMsjeoG7D",
        "outputId": "6be5090d-339d-4330-b13d-ea0fc620d328"
      },
      "outputs": [
        {
          "ename": "KeyError",
          "evalue": "'trigo'",
          "output_type": "error",
          "traceback": [
            "\u001b[0;31m---------------------------------------------------------------------------\u001b[0m",
            "\u001b[0;31mKeyError\u001b[0m                                  Traceback (most recent call last)",
            "\u001b[0;32m<ipython-input-150-56657ad87577>\u001b[0m in \u001b[0;36m<module>\u001b[0;34m\u001b[0m\n\u001b[1;32m      1\u001b[0m \u001b[0mestoque\u001b[0m \u001b[0;34m=\u001b[0m \u001b[0;34m{\u001b[0m\u001b[0;34m'feijao'\u001b[0m\u001b[0;34m:\u001b[0m \u001b[0;36m10\u001b[0m\u001b[0;34m,\u001b[0m \u001b[0;34m'arroz'\u001b[0m\u001b[0;34m:\u001b[0m \u001b[0;36m5\u001b[0m\u001b[0;34m,\u001b[0m \u001b[0;34m'macarrao'\u001b[0m\u001b[0;34m:\u001b[0m \u001b[0;36m5\u001b[0m\u001b[0;34m,\u001b[0m \u001b[0;34m'cafe'\u001b[0m\u001b[0;34m:\u001b[0m \u001b[0;36m7\u001b[0m\u001b[0;34m,\u001b[0m \u001b[0;34m'acucar'\u001b[0m\u001b[0;34m:\u001b[0m \u001b[0;36m0\u001b[0m\u001b[0;34m}\u001b[0m\u001b[0;34m\u001b[0m\u001b[0;34m\u001b[0m\u001b[0m\n\u001b[1;32m      2\u001b[0m \u001b[0;34m\u001b[0m\u001b[0m\n\u001b[0;32m----> 3\u001b[0;31m \u001b[0;32mdel\u001b[0m \u001b[0mestoque\u001b[0m\u001b[0;34m[\u001b[0m\u001b[0;34m'trigo'\u001b[0m\u001b[0;34m]\u001b[0m\u001b[0;34m\u001b[0m\u001b[0;34m\u001b[0m\u001b[0m\n\u001b[0m\u001b[1;32m      4\u001b[0m \u001b[0mprint\u001b[0m\u001b[0;34m(\u001b[0m\u001b[0mestoque\u001b[0m\u001b[0;34m)\u001b[0m\u001b[0;34m\u001b[0m\u001b[0;34m\u001b[0m\u001b[0m\n",
            "\u001b[0;31mKeyError\u001b[0m: 'trigo'"
          ]
        }
      ],
      "source": [
        "estoque = {'feijao': 10, 'arroz': 5, 'macarrao': 5, 'cafe': 7, 'acucar': 0}\n",
        "\n",
        "del estoque['trigo']\n",
        "print(estoque)"
      ]
    },
    {
      "cell_type": "markdown",
      "metadata": {
        "id": "8uMSeFGzoG7D"
      },
      "source": [
        "<p style='text-align: justify; font-size: 16px; line-height: 1.5;'>Para evitar esse erro, você pode construir uma função de remoção que trata esse erro, retornando True caso o item seja removido, e False, caso contrário. Veja:</p>"
      ]
    },
    {
      "cell_type": "code",
      "execution_count": null,
      "metadata": {
        "id": "Ehc1wRv-oG7D"
      },
      "outputs": [],
      "source": [
        "estoque = {'feijao': 10, 'arroz': 5, 'macarrao': 5, 'cafe': 7, 'acucar': 0}\n",
        "\n",
        "def remover(chave):\n",
        "    \"\"\"Função que remove um item do dicionário. Retorna True se o elemento for removido e False, caso contrário\"\"\"\n",
        "    if chave in estoque:\n",
        "        del estoque[chave]\n",
        "        return True\n",
        "    else:\n",
        "        return False\n",
        "        "
      ]
    },
    {
      "cell_type": "code",
      "execution_count": null,
      "metadata": {
        "id": "jpvVG0dzoG7D",
        "outputId": "3e3a9a30-8034-4fc9-e67d-eab7d33011dc"
      },
      "outputs": [
        {
          "name": "stdout",
          "output_type": "stream",
          "text": [
            "False\n",
            "{'feijao': 10, 'arroz': 5, 'macarrao': 5, 'cafe': 7, 'acucar': 0}\n",
            "True\n",
            "{'feijao': 10, 'arroz': 5, 'macarrao': 5, 'cafe': 7}\n"
          ]
        }
      ],
      "source": [
        "ok = remover('trigo')\n",
        "print(ok)\n",
        "print(estoque)\n",
        "\n",
        "ok = remover('acucar')\n",
        "print(ok)\n",
        "print(estoque)"
      ]
    },
    {
      "cell_type": "markdown",
      "metadata": {
        "id": "mXCcfV7soG7D"
      },
      "source": [
        "<p style='text-align: justify; font-size: 16px; line-height: 1.5;'>Uma outra possiblidade para evitar o erro em tempo de execução provocado pelo comando <span style=\"font-weight: bold;\">del</span> é a utilização da função <span style=\"font-weight: bold;\">pop</span> com passagem de dois argumentos. O primeiro argumento deve ser a chave do item a ser removido, e o segundo argumento deve ser o valor default que a função <span style=\"font-weight: bold;\">pop</span> vai retornar caso a chave informada não exista no dicionário. Veja:</p>"
      ]
    },
    {
      "cell_type": "code",
      "execution_count": null,
      "metadata": {
        "id": "z6lzhR-IoG7D",
        "outputId": "8ab10e41-3420-499c-90a1-ca6062e352b1"
      },
      "outputs": [
        {
          "name": "stdout",
          "output_type": "stream",
          "text": [
            "7\n",
            "{'feijao': 10, 'arroz': 5, 'macarrao': 5, 'acucar': 0}\n",
            "None\n",
            "{'feijao': 10, 'arroz': 5, 'macarrao': 5, 'acucar': 0}\n"
          ]
        }
      ],
      "source": [
        "estoque = {'feijao': 10, 'arroz': 5, 'macarrao': 5, 'cafe': 7, 'acucar': 0}\n",
        "\n",
        "\n",
        "item_removido = estoque.pop('cafe', None)\n",
        "print(item_removido)\n",
        "print(estoque)\n",
        "\n",
        "item_removido = estoque.pop('trigo', None)\n",
        "print(item_removido)\n",
        "print(estoque)"
      ]
    },
    {
      "cell_type": "markdown",
      "metadata": {
        "id": "qPwHh0aPoG7D"
      },
      "source": [
        "## Acessando as chaves e valores de um dicionário"
      ]
    },
    {
      "cell_type": "markdown",
      "metadata": {
        "id": "jFoV_fLuoG7D"
      },
      "source": [
        "<p style='text-align: justify; font-size: 16px; line-height: 1.5;'>Para acessar todas as chaves e valores de um dicionário, você pode utilizar, respectivamente, as funções <span style=\"font-weight: bold;\">keys</span> e <span style=\"font-weight: bold;\">values</span> e transformar a coleção resultante em uma lista. Veja:</p>"
      ]
    },
    {
      "cell_type": "code",
      "execution_count": null,
      "metadata": {
        "id": "zQR6OrNNoG7D",
        "outputId": "1540561f-1267-47fd-8715-8443ad7b7a4f"
      },
      "outputs": [
        {
          "name": "stdout",
          "output_type": "stream",
          "text": [
            "['feijao', 'arroz', 'macarrao', 'cafe', 'acucar']\n",
            "[10, 5, 5, 7, 0]\n"
          ]
        }
      ],
      "source": [
        "estoque = {'feijao': 10, 'arroz': 5, 'macarrao': 5, 'cafe': 7, 'acucar': 0}\n",
        "\n",
        "chaves = list(estoque.keys())\n",
        "valores = list(estoque.values())\n",
        "\n",
        "print(chaves)\n",
        "print(valores)"
      ]
    },
    {
      "cell_type": "markdown",
      "metadata": {
        "id": "Qj4nRAy3oG7D"
      },
      "source": [
        "## Criando uma coleção de dicionários"
      ]
    },
    {
      "cell_type": "markdown",
      "metadata": {
        "id": "IgM2mltOoG7D"
      },
      "source": [
        "<p style='text-align: justify; font-size: 16px; line-height: 1.5;'>No Capítulo de Lista, você aprendeu que uma lista é uma coleção heterogênea e que, por tanto, pode armazenar qualquer tipo de dado. Sendo assim, podemos criar uma lista de dicionários. Por exemplo, podemos criar uma lista para guardar o cadastro de usuários, veja:</p>"
      ]
    },
    {
      "cell_type": "code",
      "execution_count": null,
      "metadata": {
        "id": "OWfc120ZoG7D",
        "outputId": "7b2d896e-0fb3-4ef1-ac10-07657e178f87"
      },
      "outputs": [
        {
          "name": "stdout",
          "output_type": "stream",
          "text": [
            "[{'nome': 'Renato Hidaka Torres', 'telefone': '(91) 99269-9696'}, {'nome': 'Júlia Oliveira Torres', 'telefone': '(91) 98273-0088'}, {'nome': 'Lívia Akemi Oliveira Torres', 'telefone': None}]\n",
            "\n",
            "Novo cadastro\n",
            "[{'nome': 'Renato Hidaka Torres', 'telefone': '(91) 99269-9696'}, {'nome': 'Júlia Oliveira Torres', 'telefone': '(91) 98273-0088'}, {'nome': 'Lívia Akemi Oliveira Torres', 'telefone': None}, {'nome': 'Sérgio Dantas Torres', 'telefone': '(91) 98243-6655'}]\n"
          ]
        }
      ],
      "source": [
        "cadastros = [\n",
        "    {\n",
        "        'nome': 'Renato Hidaka Torres',\n",
        "        'telefone': '(91) 99269-9696'\n",
        "    },\n",
        "    {\n",
        "        'nome': 'Júlia Oliveira Torres',\n",
        "        'telefone': '(91) 98273-0088'\n",
        "    },\n",
        "    {\n",
        "        'nome': 'Lívia Akemi Oliveira Torres',\n",
        "        'telefone': None\n",
        "    },\n",
        "]\n",
        "\n",
        "print(cadastros)\n",
        "\n",
        "cadastros.append(dict(nome='Sérgio Dantas Torres', telefone='(91) 98243-6655'))\n",
        "print('\\nNovo cadastro')\n",
        "print(cadastros)"
      ]
    },
    {
      "cell_type": "markdown",
      "metadata": {
        "id": "sXKPjfx-oG7D"
      },
      "source": [
        "<p style='text-align: justify; font-size: 16px; line-height: 1.5;'>Nesse exemplo, criamos uma lista com três elementos. Cada elemento é um dicionário que possui dois itens com chaves nome e telefone. No último elemento da lista, o valor None da chave telefone indica que esse cadastro não possui telefone. Em seguida, adicionamos mais um cadastro na lista.</p>"
      ]
    },
    {
      "cell_type": "markdown",
      "metadata": {
        "id": "KPc_hWHboG7D"
      },
      "source": [
        "<p style='text-align: justify; font-size: 16px; line-height: 1.5;'><span style=\"font-weight: bold;\">Exemplo 4:</span> Considerando uma lista de cadastro em que cada elemento corresponde a um dicionário com as chaves nome e telefone, construa uma função para receber o nome e telefone informado pelo usuário e insira esses valores como um novo elemento na lista. O seu programa deve ter um menu com três opções: 1- listar cadastros, 2- cadastrar, 3-sair.</p>"
      ]
    },
    {
      "cell_type": "code",
      "execution_count": null,
      "metadata": {
        "id": "OFQwNbJSoG7D"
      },
      "outputs": [],
      "source": [
        "cadastros = []\n",
        "\n",
        "def cadastrar():\n",
        "    \"\"\"Função para cadastrar o nome e telefone do usuário\"\"\"\n",
        "    nome = input('Digite o nome:\\n')\n",
        "    telefone = input('Digite o telefone:\\n')\n",
        "    cadastros.append({'nome': nome, 'telefone': telefone})\n",
        "    print('Usuário cadastrado com sucesso!\\n')\n",
        "\n",
        "def listar_cadastros():\n",
        "    \"\"\"Função para listar o nome e telefone dos usuários casdastrados\"\"\"\n",
        "    for item in cadastros:\n",
        "        print('Nome:', item['nome'])\n",
        "        print('Telefone:', item['telefone'])\n",
        "        print()\n",
        "    \n",
        "def menu():\n",
        "    \"\"\"Função para ler a opção de menu escolhida pelo usuário\"\"\"\n",
        "    print('Escolha um opção')\n",
        "    print('1- listar cadastros')\n",
        "    print('2- cadastrar')\n",
        "    print('3- sair')\n",
        "    return input()\n",
        "\n",
        "def programa():\n",
        "    \"\"\"Função principal do programa\"\"\"\n",
        "    opcao = menu()\n",
        "    while opcao != '3':\n",
        "        \n",
        "        if opcao == '1':\n",
        "            listar_cadastros()\n",
        "        elif opcao == '2':\n",
        "            cadastrar()\n",
        "        else:\n",
        "            print('Opção inválida!')\n",
        "        \n",
        "        opcao = menu()\n",
        "        "
      ]
    },
    {
      "cell_type": "code",
      "execution_count": null,
      "metadata": {
        "id": "dFfFAdamoG7D",
        "outputId": "67b4deaa-4869-49cf-ccf2-7c365fa5024a"
      },
      "outputs": [
        {
          "name": "stdout",
          "output_type": "stream",
          "text": [
            "Escolha um opção\n",
            "1- listar cadastros\n",
            "2- cadastrar\n",
            "3- sair\n",
            "2\n",
            "Digite o nome:\n",
            "Renato Hidaka Torres\n",
            "Digite o telefone:\n",
            "(91) 99269-9696\n",
            "Usuário cadastrado com sucesso!\n",
            "\n",
            "Escolha um opção\n",
            "1- listar cadastros\n",
            "2- cadastrar\n",
            "3- sair\n",
            "2\n",
            "Digite o nome:\n",
            "Júlia Oliveira Torres\n",
            "Digite o telefone:\n",
            "(91) 98277-6655\n",
            "Usuário cadastrado com sucesso!\n",
            "\n",
            "Escolha um opção\n",
            "1- listar cadastros\n",
            "2- cadastrar\n",
            "3- sair\n",
            "1\n",
            "Nome: Renato Hidaka Torres\n",
            "Telefone: (91) 99269-9696\n",
            "\n",
            "Nome: Júlia Oliveira Torres\n",
            "Telefone: (91) 98277-6655\n",
            "\n",
            "Escolha um opção\n",
            "1- listar cadastros\n",
            "2- cadastrar\n",
            "3- sair\n",
            "4\n",
            "Opção inválida!\n",
            "Escolha um opção\n",
            "1- listar cadastros\n",
            "2- cadastrar\n",
            "3- sair\n",
            "3\n"
          ]
        }
      ],
      "source": [
        "programa()"
      ]
    },
    {
      "cell_type": "markdown",
      "metadata": {
        "id": "3U3gPxpNoG7E"
      },
      "source": [
        "<p style='text-align: justify; font-size: 16px; line-height: 1.5;'>Nesse exemplo, nós criamos quatro funções com o objetivo de modularizar o nosso programa. A função <span style=\"font-weight: bold;\">programa</span> é a função principal que utiliza uma estrutura de repetição indeterminada tendo como sentinela a variável <span style=\"font-weight: bold;\">opcao</span>. Essa variável armazena a escolha do menu realizada pelo usuário. Dada a escolha do usuário, para determinar a ação correta, utilizamos uma condição alinhada. Na função <span style=\"font-weight: bold;\">cadastrar</span>, estamos recebendo o nome e telefone digitados pelo usuário e construindo um dicionário para inseri-lo como novo elemento da lista. Na função <span style=\"font-weight: bold;\">listar_cadastros</span>, estamos iterando a lista para poder exibir o nome e o telefone de cada usuário. Por fim, na função <span style=\"font-weight: bold;\">menu</span>, estamos indicando para o usuário as opções que ele tem no nosso programa.</p>"
      ]
    },
    {
      "cell_type": "markdown",
      "metadata": {
        "id": "0Po36f8zoG7E"
      },
      "source": [
        "## Utilizando um dicionário para armazenar a frequência dos elementos de uma lista"
      ]
    },
    {
      "cell_type": "markdown",
      "metadata": {
        "id": "rVd5nAw2oG7E"
      },
      "source": [
        "<p style='text-align: justify; font-size: 16px; line-height: 1.5;'>Considerando uma lista de números inteiros gerada aleatoriamente, vamos calcular a frequência de cada elemento da lista e armazená-la em um dicionário. Os número gerados aleatoriamente devem estar entre 1 e 10.</p>"
      ]
    },
    {
      "cell_type": "code",
      "execution_count": null,
      "metadata": {
        "id": "eexFLlpDoG7E"
      },
      "outputs": [],
      "source": [
        "from random import randrange\n",
        "def gera_lista_aleatoria(N):\n",
        "    \"\"\"\n",
        "    Função para gerar uma lista de número inteiros aleatoriamente no intervalo de 1 a 10\n",
        "    Arguments:\n",
        "        N: inteiro que indica o tamanho da lista\n",
        "    Returns:\n",
        "        Lista de tamanho N\n",
        "    \"\"\"\n",
        "    lista = []\n",
        "    for item in range(N):\n",
        "        lista.append(randrange(1, 11))\n",
        "    return lista\n",
        "\n",
        "def calcular_frequencia(lista):\n",
        "    \"\"\"\n",
        "    Função para calcular a frequência dos elementos de uma lista\n",
        "    Arguments:\n",
        "        lista: lista\n",
        "    Returns:\n",
        "        Dicionário contendo a frquência calculada\n",
        "    \"\"\"\n",
        "    dicionario = {}\n",
        "    for item in lista:\n",
        "        dicionario[item] = dicionario.get(item, 0)+1\n",
        "    return dicionario"
      ]
    },
    {
      "cell_type": "code",
      "execution_count": null,
      "metadata": {
        "id": "je5MYl9NoG7E",
        "outputId": "81eb7eb1-d260-49aa-c3c5-9eeba543dcf0"
      },
      "outputs": [
        {
          "name": "stdout",
          "output_type": "stream",
          "text": [
            "{5: 11, 9: 15, 8: 11, 3: 9, 10: 6, 4: 9, 1: 15, 2: 7, 6: 11, 7: 6}\n"
          ]
        }
      ],
      "source": [
        "lista = gera_lista_aleatoria(100)\n",
        "frequencia = calcular_frequencia(lista)\n",
        "print(frequencia)"
      ]
    },
    {
      "cell_type": "markdown",
      "metadata": {
        "id": "XArMKtgmoG7E"
      },
      "source": [
        "<p style='text-align: justify; font-size: 16px; line-height: 1.5;'>Nesse exemplo, criamos duas funções. Na construção da função <span style=\"font-weight: bold;\">gera_lista_aleatoria</span>, utilizamos a função <span style=\"font-weight: bold;\">randrange</span> para gerar os N números aleatórios desejados. Essa função não é uma função nativa do Python e, por esse motivo, foi necessário importá-la com o comando <span style=\"font-weight: bold;\">from random import randrange</span>. Como você pode perceber, estamos passando dois argumentos para a função <span style=\"font-weight: bold;\">randrange</span>. Quando utilizada dessa forma, o primeiro argumento define o intervalo inferior e o segundo argumento o intervalo superior da faixa de valores que será utilizada pela função. O segundo argumento é utilizado como intervalor aberto. Sendo assim, como passamos os valores 1 e 11, estamos informando que desejamos gerar números aleatórios entre 1 e 10.</p>"
      ]
    },
    {
      "cell_type": "markdown",
      "metadata": {
        "id": "9Y9NUHRSoG7E"
      },
      "source": [
        "<p style='text-align: justify; font-size: 16px; line-height: 1.5;'>Na construção da função <span style=\"font-weight: bold;\">calcular_frequencia</span>, definimos um dicionário vazio e iteramos a lista. Para cada elemento da lista, realizamos uma atualização no dicionário. A atualização é uma adição unitária do valor já armazenado para a chave informada. Como estamos utilizando a função <span style=\"font-weight: bold;\">get</span> para recuperar o valor do dicionário, caso a chave ainda não exista, retornamos o valor zero, realizamos a adição, e um novo item é inserido no dicionário. Você deve ter notado que as chaves do dicionário correspondem aos valores distintos da lista. Já os valores de cada chave correspondem a frequência calculada.</p>"
      ]
    },
    {
      "cell_type": "markdown",
      "metadata": {
        "id": "SNpFEOVvoG7E"
      },
      "source": [
        "## Realizando o mapeamento de uma lista de dicionários"
      ]
    },
    {
      "cell_type": "markdown",
      "metadata": {
        "id": "x-tqbYI4oG7E"
      },
      "source": [
        "<p style='text-align: justify; font-size: 16px; line-height: 1.5;'>No Capítulo de Lista, você estudou que o mapeamento tem como objetivo alterar os elementos da lista, porém, mantendo a quantidade de elementos. Quando se tem uma lista onde cada item é um dicionário, o mapeamento é interessante, pois permite construir uma coleção derivada de um ou mais valores associados aos dicionários. Vejamos alguns exemplos:</p>"
      ]
    },
    {
      "cell_type": "markdown",
      "metadata": {
        "id": "-WHR6DnQoG7E"
      },
      "source": [
        "<p style='text-align: justify; font-size: 16px; line-height: 1.5;'><span style=\"font-weight: bold;\">Exemplo 5:</span> Considerando uma lista de cadastro de usuários, realize o mapeamento para construir uma coleção contendo somente o nome dos usuários.</p>"
      ]
    },
    {
      "cell_type": "code",
      "execution_count": null,
      "metadata": {
        "id": "Z62w9KpcoG7E",
        "outputId": "4055196f-4ab4-4304-de2b-3b5140b11d91"
      },
      "outputs": [
        {
          "name": "stdout",
          "output_type": "stream",
          "text": [
            "['Renato Hidaka Torres', 'Júlia Oliveira Torres', 'Lívia Akemi Oliveira Torres']\n"
          ]
        }
      ],
      "source": [
        "cadastros = [\n",
        "    {\n",
        "        'nome': 'Renato Hidaka Torres',\n",
        "        'telefone': '(91) 99269-9696'\n",
        "    },\n",
        "    {\n",
        "        'nome': 'Júlia Oliveira Torres',\n",
        "        'telefone': '(91) 98273-0088'\n",
        "    },\n",
        "    {\n",
        "        'nome': 'Lívia Akemi Oliveira Torres',\n",
        "        'telefone': None\n",
        "    },\n",
        "]\n",
        "\n",
        "\n",
        "lista_de_nomes = []\n",
        "for item in cadastros:\n",
        "    lista_de_nomes.append(item['nome'])\n",
        "\n",
        "print(lista_de_nomes)"
      ]
    },
    {
      "cell_type": "markdown",
      "metadata": {
        "id": "3Sv5NRYjoG7E"
      },
      "source": [
        "<p style='text-align: justify; font-size: 16px; line-height: 1.5;'><span style=\"font-weight: bold;\">Exemplo 6:</span> Considerando duas listas, uma contendo o nome e a outra contendo e telefone, realize o mapeamento para construir uma lista onde cada item é um dicionário com o nome e telefone.</p>"
      ]
    },
    {
      "cell_type": "code",
      "execution_count": null,
      "metadata": {
        "id": "bo7l3RpeoG7E",
        "outputId": "5391d0bf-5287-43d5-a9c6-647db77d0eaf"
      },
      "outputs": [
        {
          "name": "stdout",
          "output_type": "stream",
          "text": [
            "[{'nome': 'Renato Hidaka Torres', 'telefone': '(91) 99269-9696'}, {'nome': 'Júlia Oliveira Torres', 'telefone': '(91) 98273-0088'}, {'nome': 'Lívia Akemi Oliveira Torres', 'telefone': '(91) 99843-1234'}]\n"
          ]
        }
      ],
      "source": [
        "nomes = ['Renato Hidaka Torres', 'Júlia Oliveira Torres', 'Lívia Akemi Oliveira Torres']\n",
        "telefones = ['(91) 99269-9696', '(91) 98273-0088', '(91) 99843-1234']\n",
        "\n",
        "cadastros = []\n",
        "for nome, telefone in zip(nomes, telefones):\n",
        "    cadastros.append({'nome': nome, 'telefone': telefone})\n",
        "\n",
        "print(cadastros)"
      ]
    },
    {
      "cell_type": "markdown",
      "metadata": {
        "id": "xf0RaV9poG7E"
      },
      "source": [
        "## Realizando o filtro de uma lista de dicionários"
      ]
    },
    {
      "cell_type": "markdown",
      "metadata": {
        "id": "e1EvP4xqoG7F"
      },
      "source": [
        "<p style='text-align: justify; font-size: 16px; line-height: 1.5;'>No Capítulo de Lista, você também estudou que o filtro tem como objetivo construir uma subsequência, dada uma determinada condição. Ao aplicar o filtro em uma lista de dicionários, podemos construir a condição, levando em consideração os valores associados as chaves do dicionário. Vejamos alguns exemplos:</p>"
      ]
    },
    {
      "cell_type": "markdown",
      "metadata": {
        "id": "H77B_l36oG7F"
      },
      "source": [
        "<p style='text-align: justify; font-size: 16px; line-height: 1.5;'><span style=\"font-weight: bold;\">Exemplo 7:</span> Considerando uma lista de cadastro de usuários, filtre e elimine todos os usuários que não tem telefone cadastrado.</p>"
      ]
    },
    {
      "cell_type": "code",
      "execution_count": null,
      "metadata": {
        "id": "k0fMrculoG7F",
        "outputId": "e3bfc15b-693d-4b4e-eee1-52668130e3e4"
      },
      "outputs": [
        {
          "name": "stdout",
          "output_type": "stream",
          "text": [
            "[{'nome': 'Renato Hidaka Torres', 'telefone': '(91) 99269-9696'}, {'nome': 'Júlia Oliveira Torres', 'telefone': '(91) 98273-0088'}]\n"
          ]
        }
      ],
      "source": [
        "cadastros = [\n",
        "    {\n",
        "        'nome': 'Renato Hidaka Torres',\n",
        "        'telefone': '(91) 99269-9696'\n",
        "    },\n",
        "    {\n",
        "        'nome': 'Júlia Oliveira Torres',\n",
        "        'telefone': '(91) 98273-0088'\n",
        "    },\n",
        "    {\n",
        "        'nome': 'Lívia Akemi Oliveira Torres',\n",
        "        'telefone': None\n",
        "    },\n",
        "]\n",
        "\n",
        "\n",
        "for item in cadastros.copy():\n",
        "    if item['telefone'] == None:\n",
        "        cadastros.remove(item)\n",
        "\n",
        "print(cadastros)"
      ]
    },
    {
      "cell_type": "markdown",
      "metadata": {
        "id": "iDiodwMnoG7F"
      },
      "source": [
        "<p style='text-align: justify; font-size: 16px; line-height: 1.5;'><span style=\"font-weight: bold;\">Exemplo 8:</span> Você também pode aplicar o filtro em um dicionário. Por exemplo, considerando um dicionário que informa a quantidade do estoque de cada produto, vamos filtrar e eliminar todos os produtos que estejam com estoque abaixo de 3, e também criar um novo dicionário com esses produtos.</p>"
      ]
    },
    {
      "cell_type": "code",
      "execution_count": null,
      "metadata": {
        "id": "6J7bP0QOoG7F",
        "outputId": "3d7d6207-917a-433f-bfa5-96c051be4130"
      },
      "outputs": [
        {
          "name": "stdout",
          "output_type": "stream",
          "text": [
            "{'feijao': 10, 'arroz': 5, 'macarrao': 5, 'cafe': 7}\n",
            "{'acucar': 0, 'trigo': 2}\n"
          ]
        }
      ],
      "source": [
        "estoque = {'feijao': 10, 'arroz': 5, 'macarrao': 5, 'cafe': 7, 'acucar': 0, 'trigo': 2}\n",
        "reposicao = {}\n",
        "\n",
        "for chave in estoque.copy().keys():\n",
        "    if estoque[chave] < 3:\n",
        "        produto = estoque.pop(chave)\n",
        "        reposicao[chave] = produto\n",
        "\n",
        "print(estoque)\n",
        "print(reposicao)"
      ]
    },
    {
      "cell_type": "markdown",
      "metadata": {
        "id": "UVEiNM4xoG7F"
      },
      "source": [
        "<p style='text-align: justify; font-size: 16px; line-height: 1.5;'>Nesses dois exemplos de filtro, como realizamos a remoção de elementos da coleção, foi necessário realizar a iteração em uma cópia. Observe que nos dois casos nós utilizamos a função <span style=\"font-weight: bold;\">copy</span>.</p>"
      ]
    }
  ],
  "metadata": {
    "kernelspec": {
      "display_name": "Python 3 (ipykernel)",
      "language": "python",
      "name": "python3"
    },
    "language_info": {
      "codemirror_mode": {
        "name": "ipython",
        "version": 3
      },
      "file_extension": ".py",
      "mimetype": "text/x-python",
      "name": "python",
      "nbconvert_exporter": "python",
      "pygments_lexer": "ipython3",
      "version": "3.10.5"
    },
    "colab": {
      "provenance": []
    }
  },
  "nbformat": 4,
  "nbformat_minor": 0
}
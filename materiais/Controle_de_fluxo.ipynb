{
  "cells": [
    {
      "cell_type": "markdown",
      "metadata": {
        "id": "nEx_t-67naq8"
      },
      "source": [
        "# Introdução à programação em Python\n",
        "## Renato Hidaka Torres"
      ]
    },
    {
      "cell_type": "markdown",
      "metadata": {
        "id": "etB50belnarE"
      },
      "source": [
        "## Controle de fluxo"
      ]
    },
    {
      "cell_type": "markdown",
      "metadata": {
        "id": "YVqamXYZnarE"
      },
      "source": [
        "## Objetivo"
      ]
    },
    {
      "cell_type": "markdown",
      "metadata": {
        "id": "xF-qqIEBnarF"
      },
      "source": [
        "<p style='text-align: justify; font-size: 16px; line-height: 1.5;'>Neste capítulo você irá aprender a criar programas de computador que necessitem da utilização de controle de fluxo. Iremos lhe apresentar diferentes formas de controle de fluxo. Ao final deste capítulo, você terá várias questões para exercitar o conteúdo.</p>"
      ]
    },
    {
      "cell_type": "markdown",
      "metadata": {
        "id": "S26tPkH_narF"
      },
      "source": [
        "## O que é um controle de fluxo?"
      ]
    },
    {
      "cell_type": "markdown",
      "metadata": {
        "id": "MHoXRpr-narF"
      },
      "source": [
        "<p style='text-align: justify; font-size: 16px; line-height: 1.5;'>O fluxo de um programa define as linhas de código que devem ser executadas para realizar uma determinada funcionalidade. Os controles de fluxo são utilizados para determinar quais linhas de código o programa deve executar ou, em outras palavras, o comportamento que o programa deve ter. Assim como em outras linguagens, na linguagem Python, existem três tipos de controle de fluxo, quais sejam: controle de fluxo de seleção, controle de fluxo de repetição e controle de fluxo de tratamento de exceção.</p>"
      ]
    },
    {
      "cell_type": "markdown",
      "metadata": {
        "id": "lWTrcHGonarG"
      },
      "source": [
        "## Controle de fluxo de seleção"
      ]
    },
    {
      "cell_type": "markdown",
      "metadata": {
        "id": "QL7octtEnarG"
      },
      "source": [
        "<p style='text-align: justify; font-size: 16px; line-height: 1.5;'>O controle de fluxo de seleção é definido pelas expressões lógicas utilizadas nas estruturas de seleção. A estrutura de seleção mais simples que se tem é definida pelo comando <span style=\"font-weight: bold;\">if</span>. Imagine um programa que realize a subtração de <span style=\"font-weight: bold;\">a</span> por <span style=\"font-weight: bold;\">b</span> se <span style=\"font-weight: bold;\">a</span> for maior ou igual a <span style=\"font-weight: bold;\">b</span> ou a subtração de <span style=\"font-weight: bold;\">b</span> por <span style=\"font-weight: bold;\">a</span>, caso contrário. Nesse caso, o programa precisa tomar a decisão de qual subtração realizar: <span style=\"font-weight: bold;\">a-b</span> ou <span style=\"font-weight: bold;\">b-a</span>. A tomada de decisão só poderá ser realizada quando o programa estiver em execução, isso significa que as duas operações devem ser codificadas mas somente uma delas será executada. Vejamos como fazer isso:</p>"
      ]
    },
    {
      "cell_type": "code",
      "execution_count": null,
      "metadata": {
        "id": "q4ZvJHyqnarG",
        "outputId": "e0878732-f9dc-4117-c8ae-4efc15e31d1c"
      },
      "outputs": [
        {
          "name": "stdout",
          "output_type": "stream",
          "text": [
            "12\n",
            "34\n",
            "22\n"
          ]
        }
      ],
      "source": [
        "a = int(input())\n",
        "b = int(input())\n",
        "\n",
        "if a >= b:\n",
        "    c = a-b\n",
        "else:\n",
        "    c = b-a\n",
        "\n",
        "print(c)"
      ]
    },
    {
      "cell_type": "markdown",
      "metadata": {
        "id": "jhobovGhnarH"
      },
      "source": [
        "<p style='text-align: justify; font-size: 16px; line-height: 1.5;'>Os comandos <span style=\"font-weight: bold;\">if</span> e <span style=\"font-weight: bold;\">else</span> são utilizados para construir o controle de fluxo de seleção. No comando <span style=\"font-weight: bold;\">if</span>, você deve escrever a expressão lógica que definirá a tomada de decisão. O conjunto de código subordinado ao comando <span style=\"font-weight: bold;\">if</span> só será executado se a expressão lógica for verdadeira. Na linguagem Python, a subordinação é definida pela indentação do código. Nesse caso, todas as linhas de código que estiverem indentadas após o comando <span style=\"font-weight: bold;\">if</span>, só serão executadas se a expressão lógica for verdadeira.</p>"
      ]
    },
    {
      "cell_type": "markdown",
      "metadata": {
        "id": "KDBTSVfgnarH"
      },
      "source": [
        "<p style='text-align: justify; font-size: 16px; line-height: 1.5;'>O comando <span style=\"font-weight: bold;\">else</span> é opcional. Você pode utilizar o comando <span style=\"font-weight: bold;\">else</span> para definir um conjunto de instruções que sejam executadas quando a expressão lógica for falsa. Todas as linhas de código indentadas após o comando <span style=\"font-weight: bold;\">else</span> estão subordinadas a ele e só serão executadas quando a expressão lógica do comando <span style=\"font-weight: bold;\">if</span> for falsa.</p>"
      ]
    },
    {
      "cell_type": "markdown",
      "metadata": {
        "id": "88KYcJc1narH"
      },
      "source": [
        "## Regras do controle de fluxo de seleção"
      ]
    },
    {
      "cell_type": "markdown",
      "metadata": {
        "id": "UgEcnlfJnarH"
      },
      "source": [
        "<ul>\n",
        "       <li style='text-align: justify; font-size: 16px; line-height: 1.5;'>No comando if sempre deve ser codificada uma expressão lógica.</li>\n",
        "       <li style='text-align: justify; font-size: 16px; line-height: 1.5;'>Após a expressão lógica do comando if é obrigatório o uso dos dois pontos.</li>\n",
        "       <li style='text-align: justify; font-size: 16px; line-height: 1.5;'>O uso dos dois pontos indica que as próximas linhas estarão subordinadas e devem se indentadas.</li>\n",
        "    <li style='text-align: justify; font-size: 16px; line-height: 1.5;'>No comando else nunca se codifica uma expressão lógica.</li>\n",
        "    <li style='text-align: justify; font-size: 16px; line-height: 1.5;'>Após o comando else é obrigatório o uso dos dois pontos.</li>\n",
        "    <li style='text-align: justify; font-size: 16px; line-height: 1.5;'>No controle de fluxo de seleção, o comando else nunca pode ser codificado sem um comando if.</li>\n",
        "    <li style='text-align: justify; font-size: 16px; line-height: 1.5;'>Os operadores relacionais que você pode utilizar em uma expressão lógica são: > (maior), < (menor), >= (maior igual), <= (menor igual), == (igual), != (diferente).</li>\n",
        "    </ul>"
      ]
    },
    {
      "cell_type": "markdown",
      "metadata": {
        "id": "AQFYbb3vnarI"
      },
      "source": [
        "## Operação ternária"
      ]
    },
    {
      "cell_type": "markdown",
      "metadata": {
        "id": "2rivFF4lnarI"
      },
      "source": [
        "<p style='text-align: justify; font-size: 16px; line-height: 1.5;'>Toda vez que você precisar criar uma condição if else para determinar qual o valor que deve ser atribuído a uma determinada variável, você pode fazer isso utilizando a operação ternária. Vamos recodificar o nosso exemplo anterior, utilizando essa estratégia.</p>"
      ]
    },
    {
      "cell_type": "code",
      "execution_count": null,
      "metadata": {
        "id": "t1j1lPNgnarI",
        "outputId": "8da53ffe-2fc3-4073-cb22-14cb717c9ed8"
      },
      "outputs": [
        {
          "name": "stdout",
          "output_type": "stream",
          "text": [
            "12\n",
            "34\n",
            "22\n"
          ]
        }
      ],
      "source": [
        "a = int(input())\n",
        "b = int(input())\n",
        "\n",
        "c = a-b if a >= b else b-a\n",
        "\n",
        "print(c)"
      ]
    },
    {
      "cell_type": "markdown",
      "metadata": {
        "id": "ChkgwujbnarI"
      },
      "source": [
        "<p style='text-align: justify; font-size: 16px; line-height: 1.5;'>Note que a operação ternária resume o comando if else em uma única linha. Como pode ser observado na Figura 1, a operação ternária possui três blocos. O bloco B1 diz respeito a atribuição que será realizada a variável c, caso a condição do bloco B2 seja verdadeira. O bloco B3 diz respeito a atribuição que será realizada a variável c, caso a condição do bloco B2 seja falsa.</p>"
      ]
    },
    {
      "cell_type": "markdown",
      "metadata": {
        "id": "zY3mcMHEnarI"
      },
      "source": [
        "![operação ternária](ternario.png)\n",
        "<p style=\"text-align:center;\">Figura 1: Sintaxe da operação ternária.</p>"
      ]
    },
    {
      "cell_type": "markdown",
      "metadata": {
        "id": "KG3Hn-0mnarI"
      },
      "source": [
        "## Controle de fluxo de seleção alinhado"
      ]
    },
    {
      "cell_type": "markdown",
      "metadata": {
        "id": "FMLfqRCsnarI"
      },
      "source": [
        "<p style='text-align: justify; font-size: 16px; line-height: 1.5;'>Existem situações em que você tem que programar mais de uma tomada de decisão mutuamente exclusiva. Nesse caso, você precisará programar mais de uma expressão lógica. Em Python, essa estrutura é construída com os comandos <span style=\"font-weight: bold;\">if</span> e <span style=\"font-weight: bold;\">elif</span>. Vejamos um exemplo.</p>"
      ]
    },
    {
      "cell_type": "code",
      "execution_count": null,
      "metadata": {
        "id": "sBrKDDlnnarI",
        "outputId": "fee6d99c-90f8-4ee4-8e1d-07fd7e99ff86"
      },
      "outputs": [
        {
          "name": "stdout",
          "output_type": "stream",
          "text": [
            "Informe a nota da AV1:\n",
            "7.5\n",
            "Informe a nota da AV2:\n",
            "4.5\n",
            "Informe a quantidade de aulas da disciplina:\n",
            "60\n",
            "Informe a quantidade de faltas do aluno:\n",
            "12\n",
            "reprovado por média\n"
          ]
        }
      ],
      "source": [
        "av1 = float(input(\"Informe a nota da AV1:\\n\"))\n",
        "av2 = float(input(\"Informe a nota da AV2:\\n\"))\n",
        "n_aulas = int(input(\"Informe a quantidade de aulas da disciplina:\\n\"))\n",
        "n_faltas = int(input(\"Informe a quantidade de faltas do aluno:\\n\"))\n",
        "\n",
        "media = (av1+av2)/2\n",
        "frequencia = (n_aulas-n_faltas)/n_aulas\n",
        "\n",
        "if media >= 7 and frequencia >= 0.7:\n",
        "    print(\"aprovado\")\n",
        "elif media >= 7 and not frequencia >= 0.7:\n",
        "    print(\"reprovado por frequência\")\n",
        "elif not media >= 7 and frequencia >= 0.7:\n",
        "    print(\"reprovado por média\")\n",
        "else:\n",
        "    print(\"reprovado por média e frequência\")"
      ]
    },
    {
      "cell_type": "markdown",
      "metadata": {
        "id": "qUcOigFPnarI"
      },
      "source": [
        "<p style='text-align: justify; font-size: 16px; line-height: 1.5;'>\n",
        "Nesse exemplo estamos verificando a situação de aprovação e reprovação de um aluno, levando em consideração a sua média e frequência. Para calcular a média e a frequência, o usuário precisa informar quatro valores de entrada. Os dois primeiros são números reais que correspondem as notas das duas avaliações realizadas pelo aluno. Os outros dois valores informados são números inteiros que correspondem a quantidade de aulas da disciplina e a quantidade de faltas do aluno. Em seguida, são calculadas a média e a frequência do aluno. A subtração <span style=\"font-weight: bold;\">n_aulas-n_faltas</span> nos informa a quantidade de aulas frequentadas pelo aluno. Ao dividir essa quantidade pelo número de aulas, obtemos a frequência do aluno no intervalo entre 0 e 1.</p>"
      ]
    },
    {
      "cell_type": "markdown",
      "metadata": {
        "id": "XfNQ5U7tnarI"
      },
      "source": [
        "<p style='text-align: justify; font-size: 16px; line-height: 1.5;'>A frequência igual 1 indica que o aluno frequentou todas as aulas. Como pode ser observado na expressão lógica do comando if, o aluno é aprovado se obtiver média maior igual a 7 e frequência maior igual 0.7. Se essa expressão lógica for falsa, então o aluno é reprovado. Entretanto, nesse programa, nós estamos informando o motivo da reprovação do aluno. Já que o aluno pode ser reprovado por mais de um motivo, nós precisamos criar outras tomadas de decisão para descobrir o motivo da reprovação. No primeiro elif nós estamos verificando se o aluno foi reprovado pela frequência. Se a média for maior igual a 7 e a frequência não for maior igual 0.7, então o aluno é reprovado pela frequência. No segundo elif nós estamos verificando se o aluno foi reprovado pela média. Se a média não for maior igual a 7 e a frequência for maior igual a 0.7, então o aluno é reprovado pela média. Na estrutura de mais de uma tomada de decisão mutuamente exclusiva, nós podemos definir que algum bloco de código seja executado caso nenhuma das expressões lógica seja verdadeira. Para isso, basta utilizar o comando else após a sequência de if e elif. Nesse exemplo, o comando print que informa a reprovação do aluno por média e frequência está subordinado ao comando else, ou seja, esse print só será executado se todas as expressões lógicas anteriores forem falsas.</p>"
      ]
    },
    {
      "cell_type": "markdown",
      "metadata": {
        "id": "JHxYayaqnarI"
      },
      "source": [
        "<p style='text-align: justify; font-size: 16px; line-height: 1.5;'>\n",
        "Você deve ter notado que nós utilizamos o operador lógico not na construção das expressões lógicas dos comandos elif. Este operador lógico tem o objetivo de negar a expressão ou subexpressão a qual está precedendo. Por exemplo, na expressão lógica media ≥ 7 and not frequencia ≥ 0.7 o operador lógico not está precedendo a subexpressão frequencia ≥ 0.7, ou seja, essa subexpressão será verdadeira quando a frequência não for maior igual a 0.7. Para esse exemplo, nós poderíamos construir uma expressão lógica equivalente sem a utilização do operador lógico not. Observe que o operador not está negando a relação maior igual da frequência, nesse caso, ao invés de negar, nós poderíamos utilizar a relação <. Veja que essas duas expressões são equivalentes:</p>"
      ]
    },
    {
      "cell_type": "markdown",
      "metadata": {
        "id": "90eG5EJfnarI"
      },
      "source": [
        "<ul>\n",
        "       <li style='text-align: justify; font-size: 16px; line-height: 1.5;'>\tmedia ≥ 7 and not frequencia ≥ 0.7</li>\n",
        "    <li style='text-align: justify; font-size: 16px; line-height: 1.5;'>\tmedia ≥ 7 and frequencia < 0.7</li>\n",
        "</ul>"
      ]
    },
    {
      "cell_type": "markdown",
      "metadata": {
        "id": "e-ZvtUwknarI"
      },
      "source": [
        "## Regras do controle de fluxo de seleção alinhado"
      ]
    },
    {
      "cell_type": "markdown",
      "metadata": {
        "id": "0-3oqekbnarI"
      },
      "source": [
        "<ul>\n",
        "       <li style='text-align: justify; font-size: 16px; line-height: 1.5;'>A estrutura deve iniciar com o comando if e ter no mínimo um comando elif.</li>\n",
        "    <li style='text-align: justify; font-size: 16px; line-height: 1.5;'>O comando if deve ter uma expressão lógica e terminar com  os dois pontos.</li>\n",
        "    <li style='text-align: justify; font-size: 16px; line-height: 1.5;'>As linhas de código indentadas após o comando if só serão executadas se a expressão lógica do comando if for verdadeira.</li>\n",
        "    <li style='text-align: justify; font-size: 16px; line-height: 1.5;'>Após as linhas indentadas do comando if é necessário a codificação do comando elif com a sua respectiva expressão lógica.</li>\n",
        "    <li style='text-align: justify; font-size: 16px; line-height: 1.5;'>O uso dos dois pontos é obrigatório após a expressão lógica do comando elif.</li>\n",
        "    <li style='text-align: justify; font-size: 16px; line-height: 1.5;'>As linhas de código indentadas após o comando elif só serão executadas se a expressão lógica do comando elif for verdadeira.</li>\n",
        "    <li style='text-align: justify; font-size: 16px; line-height: 1.5;'>A expressão lógica do comando elif só será executada se a expressão lógica do comando if for falsa.</li>\n",
        "    <li style='text-align: justify; font-size: 16px; line-height: 1.5;'>Você pode programar quantos elif forem necessários. Um novo elif deve sempre ser codificado após as linhas indentadas do elif anterior.</li>\n",
        "    <li style='text-align: justify; font-size: 16px; line-height: 1.5;'>Todo comendo elif deve ter uma expressão lógica terminada com dois pontos.</li>\n",
        "    <li style='text-align: justify; font-size: 16px; line-height: 1.5;'>A expressão lógica de um comando elif só será testada se todas as expressões lógicas anteriores forem falsas.</li>\n",
        "    <li style='text-align: justify; font-size: 16px; line-height: 1.5;'>Após a sequência de comandos elif, se necessário, você pode incluir o comando else seguido dos dois pontos.</li>\n",
        "    <li style='text-align: justify; font-size: 16px; line-height: 1.5;'>As linhas de código indentadas após o comando else só serão executadas se todas as expressões lógicas dos comandos if e elif forem falsas.</li>\n",
        "  \n",
        "</ul>"
      ]
    },
    {
      "cell_type": "markdown",
      "metadata": {
        "id": "uUeICO0fnarJ"
      },
      "source": [
        "## Controle de fluxo de repetição"
      ]
    },
    {
      "cell_type": "markdown",
      "metadata": {
        "id": "5h5XLNbanarJ"
      },
      "source": [
        "<p style='text-align: justify; font-size: 16px; line-height: 1.5;'>O controle de fluxo de repetição pode ser classificado como determinado ou indeterminado. O controle de fluxo é determinado quando, a partir da análise do código, podemos estimar o número de vezes que o fluxo irá se repetir. Por outro lado, o fluxo é indeterminado quando não podemos estimar quantas vezes o fluxo irá se repetir, mesmo analisando o código.</p>"
      ]
    },
    {
      "cell_type": "markdown",
      "metadata": {
        "id": "ux5M-NX2narJ"
      },
      "source": [
        "<p style='text-align: justify; font-size: 16px; line-height: 1.5;'>É importante ressaltar que, independentemente do tipo do fluxo de repetição, é necessário que sejam finitos. Ou seja, mesmo que o fluxo seja indeterminado, você deve ter garantias de que em algum momento ele encerre. Caso contrário, o seu programa entrará em loop infinito.</p>"
      ]
    },
    {
      "cell_type": "markdown",
      "metadata": {
        "id": "y-1rbjKDnarJ"
      },
      "source": [
        "## Controle de fluxo de repetição indeterminado"
      ]
    },
    {
      "cell_type": "markdown",
      "metadata": {
        "id": "GF9nZFTTnarJ"
      },
      "source": [
        "<p style='text-align: justify; font-size: 16px; line-height: 1.5;'>Na linguagem Python, você pode construir programas com fluxo de repetição indeterminado utilizando o comando while e uma variável denominada sentinela. Vejamos um exemplo:</p>"
      ]
    },
    {
      "cell_type": "code",
      "execution_count": null,
      "metadata": {
        "id": "sq6m1VM4narJ",
        "outputId": "7266fe5f-1c0a-4901-9be4-5ee5074a9f67"
      },
      "outputs": [
        {
          "name": "stdout",
          "output_type": "stream",
          "text": [
            "1- somar\n",
            "2- subtrair\n",
            "3- sair:\n",
            "5\n",
            "opção inválida\n",
            "1- somar\n",
            "2- subtrair\n",
            "3- sair:\n",
            "1\n",
            "Valor de x:\n",
            "4\n",
            "Valor de y:\n",
            "3\n",
            "x+y = 7\n",
            "1- somar\n",
            "2- subtrair\n",
            "3- sair:\n",
            "2\n",
            "Valor de x:\n",
            "5\n",
            "Valor de y:\n",
            "3\n",
            "x-y = 2\n",
            "1- somar\n",
            "2- subtrair\n",
            "3- sair:\n",
            "3\n"
          ]
        }
      ],
      "source": [
        "opcao = int(input(\"1- somar\\n2- subtrair\\n3- sair:\\n\"))\n",
        "\n",
        "while opcao != 3:        \n",
        "    \n",
        "    if opcao == 1:\n",
        "        x = int(input(\"Valor de x:\\n\"))\n",
        "        y = int(input(\"Valor de y:\\n\"))\n",
        "        print(\"x+y =\", x+y)\n",
        "    elif opcao == 2:\n",
        "        x = int(input(\"Valor de x:\\n\"))\n",
        "        y = int(input(\"Valor de y:\\n\"))\n",
        "        print(\"x-y =\", x-y)\n",
        "    else:\n",
        "        print(\"opção inválida\")\n",
        "        \n",
        "    opcao = int(input(\"1- somar\\n2- subtrair\\n3- sair:\\n\"))"
      ]
    },
    {
      "cell_type": "markdown",
      "metadata": {
        "id": "fmlzyHtunarJ"
      },
      "source": [
        "<p style='text-align: justify; font-size: 16px; line-height: 1.5;'>Nesse exemplo, utilizamos a variável <span style=\"font-weight: bold;\">opcao</span> como sentinela. Observe que o controle de fluxo de repetição definido pelo comando <span style=\"font-weight: bold;\">while</span> será executando enquanto o valor da variável sentinela for diferente de 3. Observe também que, a cada iteração, a variável sentinela está recebendo uma nova atribuição, a partir do comando input. Uma vez que o comando input ler um dado digitado pelo usuário, não temos como determinar quantas vezes o controle de fluxo de repetição será iterado até que ele se encerre. Contudo, mesmo sendo uma repetição indeterminada, temos a certeza que ela é finita, pois para encerrar o fluxo, basta que o usuário digite o valor 3.</p>"
      ]
    },
    {
      "cell_type": "markdown",
      "metadata": {
        "id": "L0VTql_QnarJ"
      },
      "source": [
        "<p style='text-align: justify; font-size: 16px; line-height: 1.5;'>Nesse exemplo, a cada iteração, estamos verificando a opção digitada pelo usuário e, dependendo da opção escolhida, o programa pede que o usuário digite dois valores para realizar a operação de adição, se a opção escolhida foi a 1, ou a operação de subtração, se a opção escolhida foi a 2. Caso o usuário digite uma opção diferente de 1 e 2, o programa informa que a opção é inválida.</p>"
      ]
    },
    {
      "cell_type": "markdown",
      "metadata": {
        "id": "MpJ9SRZsnarJ"
      },
      "source": [
        "<p style='text-align: justify; font-size: 16px; line-height: 1.5;'>Na linguagem Python, o escopo do controle de fluxo de repetição é determinado pela indentação do código. No exemplo em questão, todas as linhas que estão indentadas, após o comando <span style=\"font-weight: bold;\">while</span>, significa que estão subordinadas ao controle de fluxo de repetição e serão executadas a cada iteração.</p>"
      ]
    },
    {
      "cell_type": "markdown",
      "metadata": {
        "id": "QYyL0XNRnarJ"
      },
      "source": [
        "<p style='text-align: justify; font-size: 16px; line-height: 1.5;'>Para construir um controle de fluxo de repetição indeterminado, você precisa utilizar uma variável como sentinela. Uma variável é sentinela quando:</p>"
      ]
    },
    {
      "cell_type": "markdown",
      "metadata": {
        "id": "sE2RBB_XnarJ"
      },
      "source": [
        "<ul>\n",
        "       <li style='text-align: justify; font-size: 16px; line-height: 1.5;'>A variável é inicializada antes do comando while.</li>\n",
        "    <li style='text-align: justify; font-size: 16px; line-height: 1.5;'>A variável é utilizada na expressão lógica do comando while.</li>\n",
        "    <li style='text-align: justify; font-size: 16px; line-height: 1.5;'>A variável é atualizada de forma indeterminada a cada iteração do comando while.</li>  \n",
        "</ul>"
      ]
    },
    {
      "cell_type": "markdown",
      "metadata": {
        "id": "9SXbRkT0narJ"
      },
      "source": [
        "<p style='text-align: justify; font-size: 16px; line-height: 1.5;'>Vejamos outro exemplo:</p>"
      ]
    },
    {
      "cell_type": "code",
      "execution_count": null,
      "metadata": {
        "id": "kv3d4l7rnarK",
        "outputId": "a49f5489-80c8-4bed-be2c-603c8b07774c"
      },
      "outputs": [
        {
          "name": "stdout",
          "output_type": "stream",
          "text": [
            "Acerte o número: 50\n",
            "Mais\n",
            "Acerte o número: 80\n",
            "Menos\n",
            "Acerte o número: 60\n",
            "Mais\n",
            "Acerte o número: 74\n",
            "Menos\n",
            "Acerte o número: 72\n",
            "Menos\n",
            "Acerte o número: 67\n",
            "Menos\n",
            "Acerte o número: 63\n",
            "Menos\n",
            "Acerte o número: 61\n",
            "Acertou\n"
          ]
        }
      ],
      "source": [
        "from random import randrange\n",
        "\n",
        "N = randrange(1,101)\n",
        "escolha = int(input(\"Acerte o número: \"))\n",
        "\n",
        "while escolha != N:\n",
        "    \n",
        "    if escolha > N:\n",
        "        print(\"Menos\")\n",
        "    else:\n",
        "        print(\"Mais\")\n",
        "        \n",
        "    escolha = int(input(\"Acerte o número: \"))\n",
        "\n",
        "print(\"Acertou\")"
      ]
    },
    {
      "cell_type": "markdown",
      "metadata": {
        "id": "QhiNoIlznarK"
      },
      "source": [
        "<p style='text-align: justify; font-size: 16px; line-height: 1.5;'>Nesse exemplo construimos um jogo chamado de Acerte o Número. Inicialmente o jogo sorteia um número entre 1 e 100. O usuário deve tentar acertar o número, sendo que, para cada tentativa errada, o programa informa se o usuário precisa realizar um chute maior ou menor.</p>"
      ]
    },
    {
      "cell_type": "markdown",
      "metadata": {
        "id": "_Nd6jyQfnarK"
      },
      "source": [
        "<p style='text-align: justify; font-size: 16px; line-height: 1.5;'>Para construir o jogo, utilizamos a variável <span style=\"font-weight: bold;\">escolha</span> como sentinela. Observe que ela cumpre todos os requisitos para ser uma sentinela, uma vez que: 1- está sendo inicializada antes do comando while. 2- está sendo utilizada na expressão lógica do comando while, 3- está sendo atualizada de forma indeterminada a cada iteração.</p>"
      ]
    },
    {
      "cell_type": "markdown",
      "metadata": {
        "id": "WyC8Oe8ynarK"
      },
      "source": [
        "<p style='text-align: justify; font-size: 16px; line-height: 1.5;'>Nesse programa, para realizar o sorteio do número, nós utilizamos a função <span style=\"font-weight: bold;\">randrange</span>. A função <span style=\"font-weight: bold;\">randrange</span> é uma função que recebe dois argumentos que especificam o limite inferior e superior do sorteio, sendo que o limite superior trabalha com intervalo aberto.</p>\n"
      ]
    },
    {
      "cell_type": "markdown",
      "metadata": {
        "id": "gfcBP05hnarK"
      },
      "source": [
        "## Controle de fluxo de repetição determinado"
      ]
    },
    {
      "cell_type": "markdown",
      "metadata": {
        "id": "lJNRQJQ4narK"
      },
      "source": [
        "<p style='text-align: justify; font-size: 16px; line-height: 1.5;'>Como o próprio nome sugere, o controle de fluxo de repetição determinado é aquele em que, ao analisar o código, podemos calcular quantas vezes o fluxo será iterado. Com o comando <span style=\"font-weight: bold;\">while</span>, podemos construir controles de fluxo de repetição determinados, a partir da utilização de variáveis denominadas contador. Uma variável é denominada contador, quando:</p>"
      ]
    },
    {
      "cell_type": "markdown",
      "metadata": {
        "id": "GC5q2KI2narK"
      },
      "source": [
        "<ul>\n",
        "       <li style='text-align: justify; font-size: 16px; line-height: 1.5;'>A variável é inicializada antes do comando while.</li>\n",
        "    <li style='text-align: justify; font-size: 16px; line-height: 1.5;'>A variável é utilizada na expressão lógica do comando while.</li>\n",
        "    <li style='text-align: justify; font-size: 16px; line-height: 1.5;'>A variável é atualizada de forma determinada a cada iteração do comando while.</li>  \n",
        "</ul>"
      ]
    },
    {
      "cell_type": "markdown",
      "metadata": {
        "id": "BK8UBCmQnarK"
      },
      "source": [
        "<p style='text-align: justify; font-size: 16px; line-height: a1.5;'>Vejamos um exemplo:</p>"
      ]
    },
    {
      "cell_type": "code",
      "execution_count": null,
      "metadata": {
        "id": "0AgRQ9crnarK",
        "outputId": "f95ed80c-d38b-40ff-c247-87f9e0713f3a"
      },
      "outputs": [
        {
          "name": "stdout",
          "output_type": "stream",
          "text": [
            "1\n",
            "3\n",
            "5\n",
            "7\n",
            "9\n"
          ]
        }
      ],
      "source": [
        "N = 10\n",
        "contador = 1\n",
        "while contador < N:\n",
        "    print(contador)\n",
        "    contador += 2"
      ]
    },
    {
      "cell_type": "markdown",
      "metadata": {
        "id": "6nhX__FhnarK"
      },
      "source": [
        "<p style='text-align: justify; font-size: 16px; line-height: 1.5;'>Ao analisar o código, podemos perceber que a variável <span style=\"font-weight: bold;\">contador</span> cumpre os três requisitos para ser um contador de um controle de fluxo de repetição determinado. Veja que a sua atualização dentro do escopo do comado <span style=\"font-weight: bold;\">while</span> é realizada de forma determinada, a partir da soma acumulada de 2 em 2. Sabendo que a condição de parada é o valor de N e que a variável <span style=\"font-weight: bold;\">contador</span> inicia em 1 e cresce duas unidades a cada iteração, podemos determinar que o controle de fluxo de repetição irá iterar exatamente <span style=\"font-weight: bold;\">N/2</span> vezes.</p>"
      ]
    },
    {
      "cell_type": "markdown",
      "metadata": {
        "id": "UGzO7qvqnarK"
      },
      "source": [
        "<p style='text-align: justify; font-size: 16px; line-height: a1.5;'>Vejamos um outro exemplo:</p>"
      ]
    },
    {
      "cell_type": "code",
      "execution_count": null,
      "metadata": {
        "id": "7pEyjmFDnarK",
        "outputId": "cce42f3d-8bde-4dd1-e5d4-86bc00d8b60d"
      },
      "outputs": [
        {
          "name": "stdout",
          "output_type": "stream",
          "text": [
            "Digite um número positivo maior que 1: 101\n",
            "SIM\n"
          ]
        }
      ],
      "source": [
        "N = int(input('Digite um número positivo maior que 1: '))\n",
        "c = 2\n",
        "eh_primo = 'SIM'\n",
        "\n",
        "while c < N:\n",
        "    \n",
        "    if N % c == 0:\n",
        "        eh_primo = 'NÃO'\n",
        "        \n",
        "    c += 1\n",
        "        \n",
        "print(eh_primo)"
      ]
    },
    {
      "cell_type": "markdown",
      "metadata": {
        "id": "Hyap7IevnarL"
      },
      "source": [
        "<p style='text-align: justify; font-size: 16px; line-height: 1.5;'>Nesse exemplo estamos verificando se um número é primo. Sabe-se que um número N é primo quando ele só é dividido por 1 e por ele mesmo. Dessa forma, nesse programa, para verificar se um número N é primo, testamos todos os divisores entre 1 e N. Se nenhum divisor dividir N, então o número é primo.</p>"
      ]
    },
    {
      "cell_type": "markdown",
      "metadata": {
        "id": "TjW1uu2rnarL"
      },
      "source": [
        "<p style='text-align: justify; font-size: 16px; line-height: 1.5;'>Observe que estamos inicializando a variável <span style=\"font-weight: bold;\">eh_primo</span> com o valor <span style=\"font-weight: bold;\">SIM</span>. Isso significa que estamos inferindo que o valor N é primo. Para ratificar essa inferência, testamos todos os divisores entre 1 e N. Se um deles dividir N, alteramos o valor da variável <span style=\"font-weight: bold;\">NÃO</span>. Após a iteração do comando <span style=\"font-weight: bold;\">while</span>, informamos se o número N é primo, exibindo o valor da variável <span style=\"font-weight: bold;\">eh_primo</span>.</p>"
      ]
    },
    {
      "cell_type": "markdown",
      "metadata": {
        "id": "70NNS6mznarL"
      },
      "source": [
        "<p style='text-align: justify; font-size: 16px; line-height: 1.5;'>Nesse programa, utilizamos a variável <span style=\"font-weight: bold;\">c</span> como contador. Sabendo que N é um número positivo maior que 1 e que ele é a condição de parada da iteração e, sabendo que a variável <span style=\"font-weight: bold;\">c</span> é inicializada com o valor 2 e é atualizada com a soma acumulada de uma unidade, a cada iteração, podemos verificar que esse controle de fluxo de repetição itera exatamente <span style=\"font-weight: bold;\">N-2</span> vezes.</p>"
      ]
    },
    {
      "cell_type": "markdown",
      "metadata": {
        "id": "jok1D95InarL"
      },
      "source": [
        "## Comando break"
      ]
    },
    {
      "cell_type": "markdown",
      "metadata": {
        "id": "_Y6hhgNwnarL"
      },
      "source": [
        "<p style='text-align: justify; font-size: 16px; line-height: 1.5;'>No exemplo do número primo, utilizamos o controle de fluxo de repetição para verifica se algum número entre 1 e N divide N. Caso algum número divida, alteramos a variável <span style=\"font-weight: bold;\">eh_primo</span> para <span style=\"font-weight: bold;\">NÃO</span>. Note que basta que um número divida N para que ele não seja primo, ou seja, uma vez que a variável <span style=\"font-weight: bold;\">eh_primo</span> é atualizada para <span style=\"font-weight: bold;\">NÃO</span>, as demais verificação de divisão não são mais necessárias. Ou seja, a partir do momento em que um número dividir N, o fluxo de repetição já pode ser interrompido. Para interromper o fluxo de repetição, utilizamos o comando <span style=\"font-weight: bold;\">break</span>. Veja:</p>"
      ]
    },
    {
      "cell_type": "code",
      "execution_count": null,
      "metadata": {
        "id": "hi2nUBAcnarL",
        "outputId": "d2cc92a5-7509-40dd-8259-2f8a78379b72"
      },
      "outputs": [
        {
          "name": "stdout",
          "output_type": "stream",
          "text": [
            "Digite um número positivo maior que 1: 14\n",
            "NÃO\n"
          ]
        }
      ],
      "source": [
        "N = int(input('Digite um número positivo maior que 1: '))\n",
        "c = 2\n",
        "eh_primo = 'SIM'\n",
        "\n",
        "while c < N:\n",
        "    \n",
        "    if N % c == 0:\n",
        "        eh_primo = 'NÃO'\n",
        "        break\n",
        "        \n",
        "    c += 1\n",
        "        \n",
        "print(eh_primo)"
      ]
    },
    {
      "cell_type": "markdown",
      "metadata": {
        "id": "_YNL-5ylnarL"
      },
      "source": [
        "<p style='text-align: justify; font-size: 16px; line-height: 1.5;'>O comando <span style=\"font-weight: bold;\">break</span> está supordinado ao comando <span style=\"font-weight: bold;\">if</span>. Logo, o fluxo de repetição será interrompido quando algum número dividir N. É importante observar que ao utilizar o comando <span style=\"font-weight: bold;\">break</span>, dependendo do valor de N, o número de iterações será diferente. Obviamente, para os valores de N que não são primos, o número de iterações será bem menor que para os valores de N que são primos. Contudo, ainda assim o controle de fluxo de repetição é determinado. Nesse caso, falamos que esse código irá iterar ATÉ <span style=\"font-weight: bold;\">N-2</span> vezes.</p>"
      ]
    },
    {
      "cell_type": "markdown",
      "metadata": {
        "id": "IDyR6qahnarL"
      },
      "source": [
        "## Comando continue"
      ]
    },
    {
      "cell_type": "markdown",
      "metadata": {
        "id": "jSepwlf-narL"
      },
      "source": [
        "<p style='text-align: justify; font-size: 16px; line-height: 1.5;'>Dado um controle de fluxo de repetição, o comando <span style=\"font-weight: bold;\">continue</span> é utilizado para pular iterações. Por exemplo, imagine que precisamos somar todos os números pares até 100, exceto os números 6, 20 e 88. Podemos fazer isso utilizando o <span style=\"font-weight: bold;\">continue</span>. Veja:</p>"
      ]
    },
    {
      "cell_type": "code",
      "execution_count": null,
      "metadata": {
        "id": "m5hoduwnnarL",
        "outputId": "47ee51ed-fd91-4310-bcfe-e833f4f2f07f"
      },
      "outputs": [
        {
          "name": "stdout",
          "output_type": "stream",
          "text": [
            "2538\n"
          ]
        }
      ],
      "source": [
        "c = 0\n",
        "soma = 0\n",
        "while c <= 100:\n",
        "    c += 2\n",
        "    if c == 6 or c == 20 or c==88:\n",
        "        continue\n",
        "    soma += c\n",
        "\n",
        "print(soma)"
      ]
    },
    {
      "cell_type": "markdown",
      "metadata": {
        "id": "OHXaLIDWnarL"
      },
      "source": [
        "<p style='text-align: justify; font-size: 16px; line-height: 1.5;'>A cada iteração, estamos atualizando o contador para o próximo número par. Logo após a sua atualização, verificamos que o contador é igual a um dos números que não devem ser somados. Caso seja, pulamos a iteração com o comando <span style=\"font-weight: bold;\">continue</span>. Ou seja, uma vez que o comando <span style=\"font-weight: bold;\">continue</span> é executado, todas as linhas do escopo da iteração que estão após esse comando não são executadas. No nosso caso, a linha que não é executada é justamente a soma acumulada dos números pares.</p>"
      ]
    },
    {
      "cell_type": "markdown",
      "metadata": {
        "id": "WQiLRQFhnarL"
      },
      "source": [
        "## Controle de fluxo de repetição com o comando for"
      ]
    },
    {
      "cell_type": "markdown",
      "metadata": {
        "id": "tZq1yxyynarL"
      },
      "source": [
        "<p style='text-align: justify; font-size: 16px; line-height: 1.5;'>Na linguagem Python, o comando <span style=\"font-weight: bold;\">for</span> é utilizado para iterar coleções e outras estruturas iteráveis. As principais estruturas iteráveis com o comando for são: lista, dicionário, conjunto e string. Nos próximos capítulos vamos explorar bastante as possibilidades de utilização do comando <span style=\"font-weight: bold;\">for</span>. Agora, sem entrar em muitos detalhes, vamos ver alguns exemplos:</p>"
      ]
    },
    {
      "cell_type": "markdown",
      "metadata": {
        "id": "bJo9zvHpnarL"
      },
      "source": [
        "<p style='text-align: justify; font-size: 16px; line-height: 1.5;'> <span style=\"font-weight: bold;\">Exemplo 1:</span>  Iterando uma lista.</p>"
      ]
    },
    {
      "cell_type": "code",
      "execution_count": null,
      "metadata": {
        "id": "uxMfBJAZnarL",
        "outputId": "f00d0da2-d613-4961-aa6d-d0b9952e58f2"
      },
      "outputs": [
        {
          "name": "stdout",
          "output_type": "stream",
          "text": [
            "1\n",
            "17\n",
            "Renato Hidaka\n",
            "5.5\n",
            "Python\n"
          ]
        }
      ],
      "source": [
        "lista = [1, 17, 'Renato Hidaka', 5.5, 'Python']\n",
        "for item in lista:\n",
        "    print(item)"
      ]
    },
    {
      "cell_type": "markdown",
      "metadata": {
        "id": "KY3IhqqwnarL"
      },
      "source": [
        "<p style='text-align: justify; font-size: 16px; line-height: 1.5;'> Como você pode perceber, no comando <span style=\"font-weight: bold;\">for</span>, utilizamos uma variável especial para percorrer a coleção. Nesse exemplo, a variável <span style=\"font-weight: bold;\">item</span> é a variável especial utilizada para percorrer os elementos da lista. A cada iteração, a variável <span style=\"font-weight: bold;\">item</span> aponta para um elemento da lista, iniciando pelo elemento mais a esquerda.</p>"
      ]
    },
    {
      "cell_type": "markdown",
      "metadata": {
        "id": "Z8T1GsDWnarL"
      },
      "source": [
        "<p style='text-align: justify; font-size: 16px; line-height: 1.5;'> <span style=\"font-weight: bold;\">Exemplo 2:</span>  Iterando uma string.</p>"
      ]
    },
    {
      "cell_type": "code",
      "execution_count": null,
      "metadata": {
        "id": "LJD9d5yYnarM",
        "outputId": "c523b60a-1e15-4a9d-f092-dab1a1b122d9"
      },
      "outputs": [
        {
          "name": "stdout",
          "output_type": "stream",
          "text": [
            "R\n",
            "e\n",
            "n\n",
            "a\n",
            "t\n",
            "o\n",
            " \n",
            "H\n",
            "i\n",
            "d\n",
            "a\n",
            "k\n",
            "a\n"
          ]
        }
      ],
      "source": [
        "texto = 'Renato Hidaka'\n",
        "for item in texto:\n",
        "    print(item)"
      ]
    },
    {
      "cell_type": "markdown",
      "metadata": {
        "id": "lsSyvwVMnarM"
      },
      "source": [
        "<p style='text-align: justify; font-size: 16px; line-height: 1.5;'>Nesse exemplo estamos iterando uma string. Nesse caso, a variável <span style=\"font-weight: bold;\">item</span> é responsável por percorrer cada caractere da string, um a um, a partir do caractere mais a esquerda.</p>"
      ]
    },
    {
      "cell_type": "markdown",
      "metadata": {
        "id": "MIIZnMOunarM"
      },
      "source": [
        "<p style='text-align: justify; font-size: 16px; line-height: 1.5;'> <span style=\"font-weight: bold;\">Exemplo 3:</span>  Iterando uma sequência gerada pela função <span style=\"font-weight: bold;\">range</span> </p>"
      ]
    },
    {
      "cell_type": "code",
      "execution_count": null,
      "metadata": {
        "id": "qOS3_8R1narM",
        "outputId": "0b25ac45-3b27-498a-d168-88578abfc2c4"
      },
      "outputs": [
        {
          "name": "stdout",
          "output_type": "stream",
          "text": [
            "0\n",
            "1\n",
            "2\n",
            "3\n",
            "4\n"
          ]
        }
      ],
      "source": [
        "for item in range(5):\n",
        "    print(item)"
      ]
    },
    {
      "cell_type": "markdown",
      "metadata": {
        "id": "0STGQmD7narM"
      },
      "source": [
        "<p style='text-align: justify; font-size: 16px; line-height: 1.5;'>Nesse exemplo estamos iterando uma sequência gerada pela função <span style=\"font-weight: bold;\">range</span>. Da forma como está sendo utilizada, a função <span style=\"font-weight: bold;\">range</span> com a passagem de um único argumento gera uma sequência de zero até <span style=\"font-weight: bold;\">N-1</span> sendo N o valor passado como argumento. As sequências geradas pela função <span style=\"font-weight: bold;\">range</span> são muito utilizadas quando precisamos iterar coleção a partir de seus índices, ou quando queremos utilizar o laço for para codificar um controle de fluxo de repetição determinado. No Capítulo em que iremos estudar listas, falaremos mais da função <span style=\"font-weight: bold;\">range</span>.</p>"
      ]
    },
    {
      "cell_type": "markdown",
      "metadata": {
        "id": "tyY2Ks2ZnarM"
      },
      "source": [
        "## Comando for e o comando else"
      ]
    },
    {
      "cell_type": "markdown",
      "metadata": {
        "id": "mx1ezR_5narM"
      },
      "source": [
        "<p style='text-align: justify; font-size: 16px; line-height: 1.5;'>Voltando ao nosso exemplo da verificação de número primo, podemos construir uma versão de código utilizando o comando <span style=\"font-weight: bold;\">for</span>. Veja:</p>"
      ]
    },
    {
      "cell_type": "code",
      "execution_count": null,
      "metadata": {
        "id": "t5H_f4l1narM",
        "outputId": "4a6cd318-5979-4c1f-daba-9112bbc7e0e3"
      },
      "outputs": [
        {
          "name": "stdout",
          "output_type": "stream",
          "text": [
            "Digite um número positivo maior que 1: 12\n",
            "NÃO\n"
          ]
        }
      ],
      "source": [
        "N = int(input('Digite um número positivo maior que 1: '))\n",
        "eh_primo = 'SIM'\n",
        "\n",
        "for c in range(2, N):\n",
        "    \n",
        "    if N % c == 0:\n",
        "        eh_primo = 'NÃO'\n",
        "        break        \n",
        "        \n",
        "print(eh_primo)"
      ]
    },
    {
      "cell_type": "markdown",
      "metadata": {
        "id": "4qGoqI1KnarM"
      },
      "source": [
        "<p style='text-align: justify; font-size: 16px; line-height: 1.5;'>Nesse caso, a variável <span style=\"font-weight: bold;\">c</span> é utilizada para percorrer a sequência de 2 até <span style=\"font-weight: bold;\">N-1</span> gerada pela função <span style=\"font-weight: bold;\">range</span>. Para cada valor percorrido, verifica-se se <span style=\"font-weight: bold;\">c</span> divide <span style=\"font-weight: bold;\">N</span>. Caso divida, alteramos o valor da variável <span style=\"font-weight: bold;\">eh_primo</span> para NÃO e interrompemos a iteração com o comando <span style=\"font-weight: bold;\">break</span>.</p>"
      ]
    },
    {
      "cell_type": "markdown",
      "metadata": {
        "id": "-Ad95fuonarM"
      },
      "source": [
        "<p style='text-align: justify; font-size: 16px; line-height: 1.5;'>Ao analisar o fluxo desse código, observe que o print da variável <span style=\"font-weight: bold;\">eh_primo</span> só será igual a SIM, quando a variável <span style=\"font-weight: bold;\">c</span> percorrer todos os valores da sequência gerada pelo <span style=\"font-weight: bold;\">range</span> e, em nenhum caso, a expressão lógica do comando <span style=\"font-weight: bold;\">if</span> for verdadeira. Em outras palavras, o print da variável <span style=\"font-weight: bold;\">eh_primo</span> só será igual a SIM, quando o comando <span style=\"font-weight: bold;\">break</span> não for executado.</p>"
      ]
    },
    {
      "cell_type": "markdown",
      "metadata": {
        "id": "TIvvsehlnarM"
      },
      "source": [
        "<p style='text-align: justify; font-size: 16px; line-height: 1.5;'>Esse é um cenário típico para utilizar o comando <span style=\"font-weight: bold;\">else</span>. Vejamos:</p>"
      ]
    },
    {
      "cell_type": "code",
      "execution_count": null,
      "metadata": {
        "id": "cF8PGeqCnarM",
        "outputId": "16fc5178-15b5-4303-b599-96ad5e9b8adb"
      },
      "outputs": [
        {
          "name": "stdout",
          "output_type": "stream",
          "text": [
            "Digite um número positivo maior que 1: 3\n",
            "SIM\n"
          ]
        }
      ],
      "source": [
        "N = int(input('Digite um número positivo maior que 1: '))\n",
        "for c in range(2, N):\n",
        "    \n",
        "    if N % c == 0:\n",
        "        print('NÃO')\n",
        "        break        \n",
        "        \n",
        "else:\n",
        "    print('SIM')"
      ]
    },
    {
      "cell_type": "markdown",
      "metadata": {
        "id": "s6k_PhjQnarM"
      },
      "source": [
        "<p style='text-align: justify; font-size: 16px; line-height: 1.5;'>Quando utilizamos o comando <span style=\"font-weight: bold;\">else</span> alinhado ao comando <span style=\"font-weight: bold;\">for</span>, o <span style=\"font-weight: bold;\">else</span> é executado quando o loop termina por esgotamento iterável. Ou seja, quando toda a sequência é percorrida, sem nenhuma interrupção do comando <span style=\"font-weight: bold;\">break</span>.</p>"
      ]
    },
    {
      "cell_type": "markdown",
      "metadata": {
        "id": "OYz_BuSBnarM"
      },
      "source": [
        "<p style='text-align: justify; font-size: 16px; line-height: 1.5;'>No nosso exemplo, só imprimios SIM, quando o número é primo. Ou seja, quando nenhum valor de <span style=\"font-weight: bold;\">c</span> dividir <span style=\"font-weight: bold;\">N</span>.</p>"
      ]
    },
    {
      "cell_type": "markdown",
      "metadata": {
        "id": "ol_5Zp0pnarM"
      },
      "source": [
        "## Comando while e o comando else"
      ]
    },
    {
      "cell_type": "markdown",
      "metadata": {
        "id": "OCyudfdMnarM"
      },
      "source": [
        "<p style='text-align: justify; font-size: 16px; line-height: 1.5;'>O comando <span style=\"font-weight: bold;\">while</span> também admite o comando <span style=\"font-weight: bold;\">else</span> alinhado. Nesse caso, o <span style=\"font-weight: bold;\">else</span> será executado quando a expressão lógica do comando <span style=\"font-weight: bold;\">while</span> for falsa. o comando <span style=\"font-weight: bold;\">else</span> não será executado, caso a iteração do <span style=\"font-weight: bold;\">while</span> seja interrompida pelo comando <span style=\"font-weight: bold;\">break</span>.</p>"
      ]
    },
    {
      "cell_type": "markdown",
      "metadata": {
        "id": "wEh1KAWBnarN"
      },
      "source": [
        "<p style='text-align: justify; font-size: 16px; line-height: 1.5;'>Para exemplificar, vamos construir um programa que, dado uma lista, informe o índice em que está armazenado o número 10 ou informe que o este número não está na lista. Vejamos:</p>"
      ]
    },
    {
      "cell_type": "code",
      "execution_count": null,
      "metadata": {
        "id": "BxUNSNfmnarN",
        "outputId": "0d764ba2-30da-474e-8987-6f0fd216fa1f"
      },
      "outputs": [
        {
          "name": "stdout",
          "output_type": "stream",
          "text": [
            "O número 10 não está na lista\n"
          ]
        }
      ],
      "source": [
        "lista = [1, 4, 5, 6, 19]\n",
        "indice = 0\n",
        "\n",
        "while indice < len(lista):\n",
        "    \n",
        "    if lista[indice] == 10:\n",
        "        print('O número 10 está no índice', indice)\n",
        "        break\n",
        "        \n",
        "    indice += 1\n",
        "else:\n",
        "    print('O número 10 não está na lista')"
      ]
    },
    {
      "cell_type": "markdown",
      "metadata": {
        "id": "S-YLDrxXnarN"
      },
      "source": [
        "## Controle de fluxo de tratamento de exceção"
      ]
    },
    {
      "cell_type": "markdown",
      "metadata": {
        "id": "3X9iYYiQnarN"
      },
      "source": [
        "<p style='text-align: justify; font-size: 16px; line-height: 1.5;'>O controle de fluxo de tratamento de exceção é utilizado para monitorar e tratar os erros que podem acontecer em tempo de execução. Entre os erros mais comuns, temos a divisão por zero, tentativa de acesso de um índice inexistente em uma lista, tentativa de leitura de um arquivo inexistente, tentativa de conversão de uma string para inteiro com conteúdo inválido, dentre outros.</p>"
      ]
    },
    {
      "cell_type": "markdown",
      "metadata": {
        "id": "6ZElTplQnarN"
      },
      "source": [
        "<p style='text-align: justify; font-size: 16px; line-height: 1.5;'>Na linguagem Python, monitoramos e tratamos esses erros em tempo de execução com a estrutura <span style=\"font-weight: bold;\">try</span> e <span style=\"font-weight: bold;\">except</span>. Vamos estudar alguns exemplos que geram erros em tempo de execução e verificar como tratá-los.</p>"
      ]
    },
    {
      "cell_type": "markdown",
      "metadata": {
        "id": "jPJ6nwDgnarN"
      },
      "source": [
        "<p style='text-align: justify; font-size: 16px; line-height: 1.5;'> <span style=\"font-weight: bold;\">Exemplo 1:</span>  Erro de conversão string para inteiro</p>"
      ]
    },
    {
      "cell_type": "code",
      "execution_count": null,
      "metadata": {
        "id": "V7OngTGDnarN",
        "outputId": "bf521c7c-6ac0-4857-ccf8-f0e9fc36061a"
      },
      "outputs": [
        {
          "ename": "ValueError",
          "evalue": "invalid literal for int() with base 10: 'isso não é um número'",
          "output_type": "error",
          "traceback": [
            "\u001b[0;31m---------------------------------------------------------------------------\u001b[0m",
            "\u001b[0;31mValueError\u001b[0m                                Traceback (most recent call last)",
            "\u001b[0;32m<ipython-input-28-7d91a1b5d982>\u001b[0m in \u001b[0;36m<module>\u001b[0;34m\u001b[0m\n\u001b[1;32m      1\u001b[0m \u001b[0ma\u001b[0m \u001b[0;34m=\u001b[0m \u001b[0;34m'isso não é um número'\u001b[0m\u001b[0;34m\u001b[0m\u001b[0;34m\u001b[0m\u001b[0m\n\u001b[0;32m----> 2\u001b[0;31m \u001b[0mb\u001b[0m \u001b[0;34m=\u001b[0m \u001b[0mint\u001b[0m\u001b[0;34m(\u001b[0m\u001b[0ma\u001b[0m\u001b[0;34m)\u001b[0m\u001b[0;34m\u001b[0m\u001b[0;34m\u001b[0m\u001b[0m\n\u001b[0m",
            "\u001b[0;31mValueError\u001b[0m: invalid literal for int() with base 10: 'isso não é um número'"
          ]
        }
      ],
      "source": [
        "a = 'isso não é um número'\n",
        "b = int(a)"
      ]
    },
    {
      "cell_type": "markdown",
      "metadata": {
        "id": "tMVgc9v3narN"
      },
      "source": [
        "<p style='text-align: justify; font-size: 16px; line-height: 1.5;'> Nesse exemplo recebemos um erro em tempo de execução, pois estamos tentando converter uma string para inteiro, mas com um valor inválido. Note que o conteúdo da variável <span style=\"font-weight: bold;\">a</span> é uma string contendo letras. Por esse motivo, não é possível realizar a conversão para inteiro. Para tratar essa exceção, podemos utilizar a estrutura <span style=\"font-weight: bold;\">try</span> e <span style=\"font-weight: bold;\">except</span>. Vejamos:</p>"
      ]
    },
    {
      "cell_type": "code",
      "execution_count": null,
      "metadata": {
        "id": "j6muTNDHnarN",
        "outputId": "df9115df-ec35-4736-ac1c-c17c4463b113"
      },
      "outputs": [
        {
          "name": "stdout",
          "output_type": "stream",
          "text": [
            "valor inválido\n"
          ]
        }
      ],
      "source": [
        "try:\n",
        "    a = 'isso não é um número'\n",
        "    b = int(a)\n",
        "except ValueError:\n",
        "    print('valor inválido')"
      ]
    },
    {
      "cell_type": "markdown",
      "metadata": {
        "id": "NSVvEtRknarN"
      },
      "source": [
        "<p style='text-align: justify; font-size: 16px; line-height: 1.5;'> Ao utilizar o comando <span style=\"font-weight: bold;\">try</span>, estamos informando que todo o código no seu escopo estará sendo monitorado em tempo de execução. Caso uma exceção do tipo <span style=\"font-weight: bold;\">ValueError</span> aconteça em tempo de execução, o fluxo do escopo do comando <span style=\"font-weight: bold;\">try</span> é interrompido e o escopo do comando <span style=\"font-weight: bold;\">except</span> é acionado.</p>"
      ]
    },
    {
      "cell_type": "markdown",
      "metadata": {
        "id": "a31YSqqGnarN"
      },
      "source": [
        "<p style='text-align: justify; font-size: 16px; line-height: 1.5;'> <span style=\"font-weight: bold;\">Exemplo 2:</span>  Erro de divisão por zero</p>"
      ]
    },
    {
      "cell_type": "code",
      "execution_count": null,
      "metadata": {
        "id": "3twtzMn3narN",
        "outputId": "3b1d9637-bf0e-4a16-e877-4da587ab6611"
      },
      "outputs": [
        {
          "ename": "ZeroDivisionError",
          "evalue": "division by zero",
          "output_type": "error",
          "traceback": [
            "\u001b[0;31m---------------------------------------------------------------------------\u001b[0m",
            "\u001b[0;31mZeroDivisionError\u001b[0m                         Traceback (most recent call last)",
            "\u001b[0;32m<ipython-input-30-89ccb465a460>\u001b[0m in \u001b[0;36m<module>\u001b[0;34m\u001b[0m\n\u001b[1;32m      1\u001b[0m \u001b[0ma\u001b[0m \u001b[0;34m=\u001b[0m \u001b[0;36m10\u001b[0m\u001b[0;34m\u001b[0m\u001b[0;34m\u001b[0m\u001b[0m\n\u001b[0;32m----> 2\u001b[0;31m \u001b[0mb\u001b[0m \u001b[0;34m=\u001b[0m \u001b[0;36m2\u001b[0m \u001b[0;34m/\u001b[0m \u001b[0;34m(\u001b[0m\u001b[0ma\u001b[0m\u001b[0;34m-\u001b[0m\u001b[0;36m10\u001b[0m\u001b[0;34m)\u001b[0m\u001b[0;34m\u001b[0m\u001b[0;34m\u001b[0m\u001b[0m\n\u001b[0m",
            "\u001b[0;31mZeroDivisionError\u001b[0m: division by zero"
          ]
        }
      ],
      "source": [
        "a = 10\n",
        "b = 2 / (a-10)"
      ]
    },
    {
      "cell_type": "markdown",
      "metadata": {
        "id": "o2chZz7dnarN"
      },
      "source": [
        "<p style='text-align: justify; font-size: 16px; line-height: 1.5;'> Nesse exemplo estamos tentando atribui a variável <span style=\"font-weight: bold;\">b</span> o resultado da divisão de 2 por zero. Como a divisão por zero não é possível, recebemos um erro em tempo de execução do tipo <span style=\"font-weight: bold;\">ZeroDivisionError</span>. Para tratar essa exceção, podemos utilizar a estrutura <span style=\"font-weight: bold;\">try</span> e <span style=\"font-weight: bold;\">except</span>. Vejamos:</p>"
      ]
    },
    {
      "cell_type": "code",
      "execution_count": null,
      "metadata": {
        "id": "RF3DXAvUnarO",
        "outputId": "f90fa083-1394-491e-b619-c64e55d4d58a"
      },
      "outputs": [
        {
          "name": "stdout",
          "output_type": "stream",
          "text": [
            "divisão inválida\n"
          ]
        }
      ],
      "source": [
        "try:\n",
        "    a = 10\n",
        "    b = 2 / (a-10)\n",
        "except ZeroDivisionError:\n",
        "    print('divisão inválida')"
      ]
    },
    {
      "cell_type": "markdown",
      "metadata": {
        "id": "SJymCzGRnarO"
      },
      "source": [
        "<p style='text-align: justify; font-size: 16px; line-height: 1.5;'> <span style=\"font-weight: bold;\">Exemplo 3:</span>  Erro de índice inválido</p>"
      ]
    },
    {
      "cell_type": "code",
      "execution_count": null,
      "metadata": {
        "id": "GChZfRiAnarO",
        "outputId": "bc68bb71-eb6e-41b1-da2f-2b303dc6c12a"
      },
      "outputs": [
        {
          "name": "stdout",
          "output_type": "stream",
          "text": [
            "15\n",
            "7\n",
            "100\n"
          ]
        },
        {
          "ename": "IndexError",
          "evalue": "list index out of range",
          "output_type": "error",
          "traceback": [
            "\u001b[0;31m---------------------------------------------------------------------------\u001b[0m",
            "\u001b[0;31mIndexError\u001b[0m                                Traceback (most recent call last)",
            "\u001b[0;32m<ipython-input-41-b8d4fb50ccf4>\u001b[0m in \u001b[0;36m<module>\u001b[0;34m\u001b[0m\n\u001b[1;32m      2\u001b[0m \u001b[0;34m\u001b[0m\u001b[0m\n\u001b[1;32m      3\u001b[0m \u001b[0;32mfor\u001b[0m \u001b[0mindice\u001b[0m \u001b[0;32min\u001b[0m \u001b[0mrange\u001b[0m\u001b[0;34m(\u001b[0m\u001b[0;36m6\u001b[0m\u001b[0;34m)\u001b[0m\u001b[0;34m:\u001b[0m\u001b[0;34m\u001b[0m\u001b[0;34m\u001b[0m\u001b[0m\n\u001b[0;32m----> 4\u001b[0;31m     \u001b[0mprint\u001b[0m\u001b[0;34m(\u001b[0m\u001b[0mlista\u001b[0m\u001b[0;34m[\u001b[0m\u001b[0mindice\u001b[0m\u001b[0;34m]\u001b[0m\u001b[0;34m)\u001b[0m\u001b[0;34m\u001b[0m\u001b[0;34m\u001b[0m\u001b[0m\n\u001b[0m",
            "\u001b[0;31mIndexError\u001b[0m: list index out of range"
          ]
        }
      ],
      "source": [
        "lista = [15, 7, 100]\n",
        "\n",
        "for indice in range(6):\n",
        "    print(lista[indice])"
      ]
    },
    {
      "cell_type": "markdown",
      "metadata": {
        "id": "1gml7EwGnarO"
      },
      "source": [
        "<p style='text-align: justify; font-size: 16px; line-height: 1.5;'> Nesse exemplo, geramos uma sequência com a função <span style=\"font-weight: bold;\">range</span>, com a intenção de utilizar os valores para acessar os índices da lista. Contudo, observe que a sequência gerada é maior que a quantidade de elementos da lista. Por esse motivo, ao tentar acessar o índice 3, que é um índice inexistente na lista, recebemos um erro em tempo de execução do tipo <span style=\"font-weight: bold;\">IndexError</span>. Para tratar essa exceção, podemos utilizar a estrutura <span style=\"font-weight: bold;\">try</span> e <span style=\"font-weight: bold;\">except</span>. Vejamos:</p>"
      ]
    },
    {
      "cell_type": "code",
      "execution_count": null,
      "metadata": {
        "id": "HGiDHJ2jnarO",
        "outputId": "a85ca6df-3f88-488d-c371-66295727c62f"
      },
      "outputs": [
        {
          "name": "stdout",
          "output_type": "stream",
          "text": [
            "15\n",
            "7\n",
            "100\n"
          ]
        }
      ],
      "source": [
        "try:\n",
        "    lista = [15, 7, 100]\n",
        "\n",
        "    for indice in range(6):\n",
        "        print(lista[indice])\n",
        "except IndexError:\n",
        "    pass"
      ]
    },
    {
      "cell_type": "markdown",
      "metadata": {
        "id": "EvcOHJi3narO"
      },
      "source": [
        "<p style='text-align: justify; font-size: 16px; line-height: 1.5;'> Note que nesse tratamento de exceção estamos utilizando o comando <span style=\"font-weight: bold;\">pass</span> no escopo do <span style=\"font-weight: bold;\">except</span>. Nesse caso, o comando <span style=\"font-weight: bold;\">pass</span> tem como objetivo ignorar a exceção, não exibindo o erro em tempo de execução. Veja que a lista foi iterada com os índices válidos e o erro em tempo de execução gerado pela tentativa de acesso de um índice inexistente foi ignorado.</p>"
      ]
    },
    {
      "cell_type": "markdown",
      "metadata": {
        "id": "E9B6EOZpnarO"
      },
      "source": [
        "<p style='text-align: justify; font-size: 16px; line-height: 1.5;'> <span style=\"font-weight: bold;\">Exemplo 4:</span>  Utilizando mais de um except</p>"
      ]
    },
    {
      "cell_type": "code",
      "execution_count": null,
      "metadata": {
        "id": "Z83267qanarO",
        "outputId": "a0152d4e-d8f2-4bd4-f760-50bb58d10bbc"
      },
      "outputs": [
        {
          "name": "stdout",
          "output_type": "stream",
          "text": [
            "15\n",
            "7\n",
            "valor inválido\n"
          ]
        }
      ],
      "source": [
        "try:\n",
        "    lista = [15, 7, 'Renato', 100]\n",
        "\n",
        "    for indice in range(6):\n",
        "        print(int(lista[indice]))\n",
        "except IndexError:\n",
        "    print('ínidice inválido')\n",
        "except ValueError:\n",
        "    print('valor inválido')\n"
      ]
    },
    {
      "cell_type": "markdown",
      "metadata": {
        "id": "qIPp3fn-narO"
      },
      "source": [
        "<p style='text-align: justify; font-size: 16px; line-height: 1.5;'> Nesse exemplo estamos monitorando duas possíveis exceções, a de índice inválido e a de valor inválido. Caso uma das duas ocorra, o <span style=\"font-weight: bold;\">except</span> correspondente é acionado para tratar o erro, conforme definido no escopo. Uma vez que a mensagem <span style=\"font-weight: bold;\">valor inválido</span> foi imprimida, significa que houve um erro em tempo de execução do tipo <span style=\"font-weight: bold;\">ValueError</span>. Esse erro aconteceu ao tentar converter para inteiro o conteúdo do índice 2 da lista.</p>"
      ]
    },
    {
      "cell_type": "markdown",
      "metadata": {
        "id": "1-k80cFTnarO"
      },
      "source": [
        "<p style='text-align: justify; font-size: 16px; line-height: 1.5;'> Essa abordagem de utilização de vários <span style=\"font-weight: bold;\">except</span> é interessante, quando você necessita realizar tratamentos de exceções específicos, em função do tipo de exceção ocorrida.</p>"
      ]
    },
    {
      "cell_type": "markdown",
      "metadata": {
        "id": "ydDcBaLxnarO"
      },
      "source": [
        "<p style='text-align: justify; font-size: 16px; line-height: 1.5;'> <span style=\"font-weight: bold;\">Exemplo 5:</span>  Monitorando várias exceções em um único except</p>"
      ]
    },
    {
      "cell_type": "code",
      "execution_count": null,
      "metadata": {
        "id": "5hZX4fiCnarO",
        "outputId": "85cf06fb-ac11-459b-e1dc-89daed094f13"
      },
      "outputs": [
        {
          "name": "stdout",
          "output_type": "stream",
          "text": [
            "15\n",
            "7\n"
          ]
        }
      ],
      "source": [
        "try:\n",
        "    lista = [15, 7, 'Renato', 100]\n",
        "\n",
        "    for indice in range(6):\n",
        "        print(int(lista[indice]))\n",
        "except (IndexError, ValueError, ZeroDivisionError):\n",
        "    pass"
      ]
    },
    {
      "cell_type": "markdown",
      "metadata": {
        "id": "GnltEcz8narO"
      },
      "source": [
        "<p style='text-align: justify; font-size: 16px; line-height: 1.5;'> Nesse exemplo estamos monitorando três tipos de exceção e estamos informando que, caso uma delas ocorra, devemos simplesmente ignorar. Essa abordagem é interessante, quando você deseja realizar um mesmo tratamento de exceção para um determinado conjunto de tipos de exceção.</p>"
      ]
    },
    {
      "cell_type": "markdown",
      "metadata": {
        "id": "gvrUogyznarO"
      },
      "source": [
        "<p style='text-align: justify; font-size: 16px; line-height: 1.5;'> <span style=\"font-weight: bold;\">Exemplo 6:</span>  Monitorando qualquer exceção</p>"
      ]
    },
    {
      "cell_type": "markdown",
      "metadata": {
        "id": "KKzu7ha7narO"
      },
      "source": [
        "<p style='text-align: justify; font-size: 16px; line-height: 1.5;'> Nos exemplos anteriores, você deve ter notado que é necessário conhecer o tipo de erro em tempo de execução para poder definir o mapeamento do <span style=\"font-weight: bold;\">except</span>. Como alternativa, se você quiser mapear qualquer erro em tempo de execução, independentemente do seu tipo, você pode utilizar a exceção <span style=\"font-weight: bold;\">Exception</span>. Vejamos:</p>"
      ]
    },
    {
      "cell_type": "code",
      "execution_count": null,
      "metadata": {
        "id": "lRLfBTiAnarO",
        "outputId": "285e3041-bedd-4e0e-ddf3-8f1b9e1df87c"
      },
      "outputs": [
        {
          "name": "stdout",
          "output_type": "stream",
          "text": [
            "erro em tempo de execução\n"
          ]
        }
      ],
      "source": [
        "try:\n",
        "    a = 10\n",
        "    b = 2 / (a-10)\n",
        "    print(b)\n",
        "except Exception:\n",
        "    print('erro em tempo de execução')"
      ]
    },
    {
      "cell_type": "markdown",
      "metadata": {
        "id": "GnVtj94gnarP"
      },
      "source": [
        "<p style='text-align: justify; font-size: 16px; line-height: 1.5;'> Ao utilizar o <span style=\"font-weight: bold;\">Exception</span> você não terá mais problemas de erro em tempo de execução. Um ponto negativo da utilização do <span style=\"font-weight: bold;\">Exception</span> é que você não poderá especificar tratamentos de exceções específicas, caso seja necessário. Uma boa prática de programação implica a definição individual das exceções que você quer tratar de forma específica, mais a definição genérica da exceção do <span style=\"font-weight: bold;\">Exception</span>. Vejamos:</p>"
      ]
    },
    {
      "cell_type": "code",
      "execution_count": null,
      "metadata": {
        "id": "QwTerdgOnarP",
        "outputId": "591ea5dc-fd54-4be0-9c0f-d10803640095"
      },
      "outputs": [
        {
          "name": "stdout",
          "output_type": "stream",
          "text": [
            "15\n",
            "7\n",
            "valor inválido\n"
          ]
        }
      ],
      "source": [
        "try:\n",
        "    lista = [15, 7, 'Renato', 100]\n",
        "\n",
        "    for indice in range(6):\n",
        "        print(int(lista[indice]))\n",
        "except IndexError:\n",
        "    print('ínidice inválido')\n",
        "except ValueError:\n",
        "    print('valor inválido')\n",
        "except Exception:\n",
        "    print('erro em tempo de execução desconhecido')"
      ]
    },
    {
      "cell_type": "markdown",
      "metadata": {
        "id": "BnnUWdGHnarP"
      },
      "source": [
        "## Resumo do comando try"
      ]
    },
    {
      "cell_type": "markdown",
      "metadata": {
        "id": "aK4QngxOnarP"
      },
      "source": [
        "<ul>\n",
        "       <li style='text-align: justify; font-size: 16px; line-height: 1.5;'>Ao utilizar o comando try, todo o seu escopo é monitorado em tempo de execução.</li>\n",
        "    <li style='text-align: justify; font-size: 16px; line-height: 1.5;'>Se nenhuma exceção ocorrer, o comando except será ignorado e a execução da instrução try é concluída.</li>\n",
        "    <li style='text-align: justify; font-size: 16px; line-height: 1.5;'>Se ocorrer uma exceção durante a execução do comando try, o restante do escopo será ignorado.</li> \n",
        "    <li style='text-align: justify; font-size: 16px; line-height: 1.5;'>Se ocorrer uma exceção durante a execução do comando try, e se seu tipo corresponder à uma exceção nomeada após o comando except, a cláusula except será executada.</li> \n",
        "    <li style='text-align: justify; font-size: 16px; line-height: 1.5;'>Se ocorrer uma exceção que não corresponda à exceção nomeada na cláusula except, ela será passada para instruções try externas. Se nenhum manipulador for encontrado, é uma exceção sem tratamento e a execução é interrompida com uma mensagem de erro.</li> \n",
        "    \n",
        "</ul>"
      ]
    },
    {
      "cell_type": "markdown",
      "metadata": {
        "id": "aOSWt8xfnarP"
      },
      "source": [
        "## Definindo seus próprios erros em tempo de execução"
      ]
    },
    {
      "cell_type": "markdown",
      "metadata": {
        "id": "uAfnd0_wnarP"
      },
      "source": [
        "<p style='text-align: justify; font-size: 16px; line-height: 1.5;'> Existem situações que, em função de uma determinada lógica, precisamos disparar um erro em tempo de execução. Quando esse for o caso, podemos utilizar o comando <span style=\"font-weight: bold;\">raise</span>. Para esse propósito, ao utilizar o comando <span style=\"font-weight: bold;\">raise</span>, devemos definir o tipo de exceção que desejamos disparar e, entre parênteses, a mensagem desejada. Vejamos um exemplo:</p>"
      ]
    },
    {
      "cell_type": "code",
      "execution_count": null,
      "metadata": {
        "id": "DjQSPx80narP",
        "outputId": "6c4fb490-9d79-46ae-cf40-fdbd3cca3862"
      },
      "outputs": [
        {
          "name": "stdout",
          "output_type": "stream",
          "text": [
            "Digite o código: 34\n",
            "Código inválido: quantidade de dígitos incorreta\n"
          ]
        }
      ],
      "source": [
        "try:\n",
        "    codigo = input('Digite o código: ')\n",
        "    \n",
        "    if not codigo.isdigit():\n",
        "        raise Exception(\"Código inválido: não é numérico\")\n",
        "    elif len(codigo) != 5:\n",
        "        raise Exception(\"Código inválido: quantidade de dígitos incorreta\")\n",
        "    else:\n",
        "        codigo = int(codigo)\n",
        "        print(codigo)\n",
        "    \n",
        "except Exception as e:\n",
        "    print(e)\n",
        "    "
      ]
    },
    {
      "cell_type": "markdown",
      "metadata": {
        "id": "Tg_H5vO4narP"
      },
      "source": [
        "<p style='text-align: justify; font-size: 16px; line-height: 1.5;'> Nesse exemplo, estamos pedindo que o usuário digite um código. Em seguida, utilizado uma condição alinhada, verificamos se o código digitado é válido. Na primeira condição, verificamos se o número possui algum caractere diferente de dígitos, caso tenha, disparamos uma <span style=\"font-weight: bold;\">Exception</span>. Na segunda verificação da condição alinhada, checamos se o tamanho do código é diferente de cinco, caso seja, também disparamos uma <span style=\"font-weight: bold;\">Exception</span>. Se nenhuma exceção for disparada, então convertemos o código para número inteiro e imprimimos o seu valor.</p>"
      ]
    },
    {
      "cell_type": "markdown",
      "metadata": {
        "id": "Hc8TmX8anarP"
      },
      "source": [
        "<p style='text-align: justify; font-size: 16px; line-height: 1.5;'>Note que para cada comando <span style=\"font-weight: bold;\">raise</span>, estamos passando a mensagem da <span style=\"font-weight: bold;\">Exception</span>. Para receber essa mensagem e utilizá-la no escopo do comando <span style=\"font-weight: bold;\">except</span>, devemos referenciar a exceção com uma variável da seguinte forma: <span style=\"font-weight: bold;\">Exception as e</span>. Nesse caso, estamos informando que a mensagem será armazenada na variável <span style=\"font-weight: bold;\">e</span>.</p>"
      ]
    },
    {
      "cell_type": "markdown",
      "metadata": {
        "id": "aD86lnZ4narP"
      },
      "source": [
        "## Comando try com comando else"
      ]
    },
    {
      "cell_type": "markdown",
      "metadata": {
        "id": "hpminkcKnarP"
      },
      "source": [
        "<p style='text-align: justify; font-size: 16px; line-height: 1.5;'>O comando <span style=\"font-weight: bold;\">try</span> admite de forma opcional a utilização do comando <span style=\"font-weight: bold;\">else</span>. Quando este for o caso, o comando <span style=\"font-weight: bold;\">else</span> deve ser definido após os comando <span style=\"font-weight: bold;\">except</span>. O escopo do comando <span style=\"font-weight: bold;\">else</span> será executado quando nenhum erro em tempo de execução for observado no escopo do comando <span style=\"font-weight: bold;\">try</span>.</p>"
      ]
    },
    {
      "cell_type": "markdown",
      "metadata": {
        "id": "P6bMG2iinarP"
      },
      "source": [
        "<p style='text-align: justify; font-size: 16px; line-height: 1.5;'>Podemos recodificar o exemplo em que pedimos para o usuário digitar um código, utilizando a estratégia do <span style=\"font-weight: bold;\">else</span> alinhado ao <span style=\"font-weight: bold;\">try</span>. Note que só queremos converter o código para número inteiro caso ele seja válido. Por tanto, podemos realizar essa conversão da seguinte forma:</p>"
      ]
    },
    {
      "cell_type": "code",
      "execution_count": null,
      "metadata": {
        "id": "iqChqQl-narP",
        "outputId": "c4ea4432-618b-447a-9b13-18e1a5d27c7a"
      },
      "outputs": [
        {
          "name": "stdout",
          "output_type": "stream",
          "text": [
            "Digite o código: 12345\n",
            "12345\n"
          ]
        }
      ],
      "source": [
        "try:\n",
        "    codigo = input('Digite o código: ')\n",
        "    \n",
        "    if not codigo.isdigit():\n",
        "        raise Exception(\"Código inválido: não é numérico\")\n",
        "    elif len(codigo) != 5:\n",
        "        raise Exception(\"Código inválido: quantidade de dígitos incorreta\")\n",
        "    \n",
        "except Exception as e:\n",
        "    print(e)\n",
        "    \n",
        "else:    \n",
        "    codigo = int(codigo)\n",
        "    print(codigo)\n",
        "    "
      ]
    },
    {
      "cell_type": "markdown",
      "metadata": {
        "id": "E8E77DjlnarP"
      },
      "source": [
        "<p style='text-align: justify; font-size: 16px; line-height: 1.5;'>No estopo do comando <span style=\"font-weight: bold;\">try</span> concentramos somente as validações que devem ser feitas em tempo de execução. Caso alguma condição de validação seja verdadeira, disparamos o comando <span style=\"font-weight: bold;\">raise</span> para interromper o fluxo do escopo do <span style=\"font-weight: bold;\">try</span> e, consequentemente, acionar o escopo do <span style=\"font-weight: bold;\">except</span>. Se nenhuma condição de validação for verdadeira, então nenhum <span style=\"font-weight: bold;\">rise</span> será executado, implicando, portanto, na execução do comando <span style=\"font-weight: bold;\">else</span> alinhado ao <span style=\"font-weight: bold;\">try</span>.</p>"
      ]
    },
    {
      "cell_type": "markdown",
      "metadata": {
        "id": "-7P3xrNZnarP"
      },
      "source": [
        "## Comando try com o comando finally"
      ]
    },
    {
      "cell_type": "markdown",
      "metadata": {
        "id": "rxUoJhA5narP"
      },
      "source": [
        "<p style='text-align: justify; font-size: 16px; line-height: 1.5;'>O comando <span style=\"font-weight: bold;\">try</span> também admite de forma opcional a utilização do coando <span style=\"font-weight: bold;\">finally</span>. Quando este for o caso, o comando <span style=\"font-weight: bold;\">finally</span> deve ser o último comando alinhado ao <span style=\"font-weight: bold;\">try</span>, ou seja, deve vir depois dos comandos <span style=\"font-weight: bold;\">except</span> e <span style=\"font-weight: bold;\">else</span>, caso existam. O escopo do comando <span style=\"font-weight: bold;\">finally</span> sempre será executado após a finalização do fluxo do <span style=\"font-weight: bold;\">try</span>, independentemente se houver erro em tempo de execução. Se algum erro em tempo de execução acontecer, e alguma <span style=\"font-weight: bold;\">except</span> mapear a exceção, então o escopo do except é executado antes do <span style=\"font-weight: bold;\">finally</span>. Vejamos um exemplo:</p>"
      ]
    },
    {
      "cell_type": "code",
      "execution_count": null,
      "metadata": {
        "id": "QCRr-tX3narP",
        "outputId": "c4420c7e-b45a-454b-db6d-9e3066e50b24"
      },
      "outputs": [
        {
          "name": "stdout",
          "output_type": "stream",
          "text": [
            "Digite o código: -56\n",
            "Código inválido: não é numérico\n",
            "-56\n"
          ]
        }
      ],
      "source": [
        "try:\n",
        "    codigo = input('Digite o código: ')\n",
        "    \n",
        "    if not codigo.isdigit():\n",
        "        raise Exception(\"Código inválido: não é numérico\")\n",
        "    elif len(codigo) != 5:\n",
        "        raise Exception(\"Código inválido: quantidade de dígitos incorreta\")\n",
        "    \n",
        "except Exception as e:\n",
        "    print(e)\n",
        "    \n",
        "else:    \n",
        "    codigo = int(codigo)    \n",
        "finally:\n",
        "    print(codigo)"
      ]
    },
    {
      "cell_type": "markdown",
      "metadata": {
        "id": "BeDsyIg1narP"
      },
      "source": [
        "<p style='text-align: justify; font-size: 16px; line-height: 1.5;'>Recodificando o exemplo da digitação de um código, refatoramos o comando <span style=\"font-weight: bold;\">print</span> para ficar no escopo do comando <span style=\"font-weight: bold;\">finally</span>. Dessa forma, independentemente se o código digitado for válido, ele será imprimido para o usuário.</p>"
      ]
    }
  ],
  "metadata": {
    "kernelspec": {
      "display_name": "Python 3",
      "language": "python",
      "name": "python3"
    },
    "language_info": {
      "codemirror_mode": {
        "name": "ipython",
        "version": 3
      },
      "file_extension": ".py",
      "mimetype": "text/x-python",
      "name": "python",
      "nbconvert_exporter": "python",
      "pygments_lexer": "ipython3",
      "version": "3.9.1"
    },
    "colab": {
      "provenance": []
    }
  },
  "nbformat": 4,
  "nbformat_minor": 0
}
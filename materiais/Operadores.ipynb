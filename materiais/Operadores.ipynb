{
  "cells": [
    {
      "cell_type": "markdown",
      "metadata": {
        "id": "5DPkdSiulvC_"
      },
      "source": [
        "# Introdução à programação em Python\n",
        "## Renato Hidaka Torres"
      ]
    },
    {
      "cell_type": "markdown",
      "metadata": {
        "id": "tgsTievKlvDA"
      },
      "source": [
        "# Operadores"
      ]
    },
    {
      "cell_type": "markdown",
      "metadata": {
        "id": "_gSA0J8ZlvDA"
      },
      "source": [
        "## Objetivo"
      ]
    },
    {
      "cell_type": "markdown",
      "metadata": {
        "id": "AnlHdyy2lvDB"
      },
      "source": [
        "<p style='text-align: justify; font-size: 16px; line-height: 1.5;'>Neste capítulo você irá estudar sobre os operadores da linguagem Python. Os operadores são símbolos que nós utilizamos para definir os processamentos básicos que o computador pode fazer, bem como para especificar onde deve ser armazenado o resultados desses processamentos. Podemos definir os operadores em quatro grupos: operadores de atribuição, operadores aritméticos, operadores relacionais, e operadores lógicos. Iremos lhe apresentar esses quatro grupos de operadores. Ao final deste capítulo, você terá várias questões para exercitar o conteúdo.</p>"
      ]
    },
    {
      "cell_type": "markdown",
      "metadata": {
        "id": "N7fbzrcxlvDB"
      },
      "source": [
        "## Operadore de atribuição"
      ]
    },
    {
      "cell_type": "markdown",
      "metadata": {
        "id": "A58hW0nflvDB"
      },
      "source": [
        "## Atribuição simples"
      ]
    },
    {
      "cell_type": "markdown",
      "metadata": {
        "id": "zyHIM2HnlvDB"
      },
      "source": [
        "<p style='text-align: justify; font-size: 16px; line-height: 1.5;'>Na linguagem Python, o operador = é utilizado como operador de atribuição. A atribuição implica o armazenamento de um dado em uma variável. Uma variável é uma abstração de um endereço de memória. Então, ao realizar uma atribuição, estamos informando que desejamos armazenar um dado na memória. Vejamos alguns exemplos de atribuição simples:</p>"
      ]
    },
    {
      "cell_type": "code",
      "execution_count": null,
      "metadata": {
        "id": "lbosC--klvDB",
        "outputId": "7ead4e96-3155-4604-d623-6f38282fc3ae"
      },
      "outputs": [
        {
          "name": "stdout",
          "output_type": "stream",
          "text": [
            "10\n",
            "Renato Hidaka\n",
            "6\n",
            "[5, 10, 6, 'Renato Hidaka', '902']\n",
            "False\n"
          ]
        }
      ],
      "source": [
        "A = 10\n",
        "nome = 'Renato Hidaka'\n",
        "N = A - 4\n",
        "lista = [5, 10, N, nome, '902']\n",
        "verifica = N > 7\n",
        "\n",
        "print(A)\n",
        "print(nome)\n",
        "print(N)\n",
        "print(lista)\n",
        "print(verifica)"
      ]
    },
    {
      "cell_type": "markdown",
      "metadata": {
        "id": "QDT_0YbflvDD"
      },
      "source": [
        "## Atribuição composta"
      ]
    },
    {
      "cell_type": "markdown",
      "metadata": {
        "id": "vdzpBl5olvDD"
      },
      "source": [
        "<p style='text-align: justify; font-size: 16px; line-height: 1.5;'>Muitas vezes realizamos operações aritméticas ou lógicas e a atribuição resultante é realizada em uma variável envolvida na operação. Quando esse é o caso, dizemos que a variável que recebe a atribuição está sofrendo uma atualização. Em situações como essa, de operações que realizam a atualização de uma variável, podemos utilizar a atribuição composta. Vejamos alguns exemplos:</p>"
      ]
    },
    {
      "cell_type": "code",
      "execution_count": null,
      "metadata": {
        "id": "ACwMSN1xlvDD",
        "outputId": "ff398400-0cdd-4eeb-d9f4-5194bdaee2c3"
      },
      "outputs": [
        {
          "name": "stdout",
          "output_type": "stream",
          "text": [
            "12\n",
            "72\n",
            "False\n"
          ]
        }
      ],
      "source": [
        "A += 2 #equivale a: A = A + 2\n",
        "N *= A #equivale a: N = N * A\n",
        "verifica &= N>7 #equivale a: verifica = verifica & N>7\n",
        "\n",
        "print(A)\n",
        "print(N)\n",
        "print(verifica)"
      ]
    },
    {
      "cell_type": "markdown",
      "metadata": {
        "id": "cadJKc0clvDD"
      },
      "source": [
        "<p style='text-align: justify; font-size: 16px; line-height: 1.5;'>A atribuição composta pode ser utilizada com qualquer operador aritmético ou lógico. Atenção, a atribuição composta não admite a utilização de operadores relacionais.</p>"
      ]
    },
    {
      "cell_type": "markdown",
      "metadata": {
        "id": "G88SIOO2lvDD"
      },
      "source": [
        "## Atribuição múltipla"
      ]
    },
    {
      "cell_type": "markdown",
      "metadata": {
        "id": "GV7cgHHvlvDE"
      },
      "source": [
        "<p style='text-align: justify; font-size: 16px; line-height: 1.5;'>Na linguagem Python, podemos realizar, em uma mesma instrução, mais de uma operação. Quando este for o caso, as variáveis e os dados atribuídos devem estar separados por vírgulas e a quantidade de variáveis e dados devem ser compatíveis. Vejamos alguns exemplos: </p>"
      ]
    },
    {
      "cell_type": "code",
      "execution_count": null,
      "metadata": {
        "id": "V4z713mclvDE",
        "outputId": "3c0dd124-fe37-45a7-b273-3697b3b62341"
      },
      "outputs": [
        {
          "name": "stdout",
          "output_type": "stream",
          "text": [
            "5\n",
            "2\n",
            "Renato Hidaka 9934\n"
          ]
        }
      ],
      "source": [
        "A, B = 2, 5\n",
        "A, B = B, A\n",
        "nome, sobrenome, codigo = 'Renato', 'Hidaka', 9934\n",
        "\n",
        "print(A)\n",
        "print(B)\n",
        "print(nome, sobrenome, codigo)"
      ]
    },
    {
      "cell_type": "markdown",
      "metadata": {
        "id": "NKfzyUs6lvDE"
      },
      "source": [
        "## Operadores aritméticos"
      ]
    },
    {
      "cell_type": "markdown",
      "metadata": {
        "id": "dokW0CGElvDE"
      },
      "source": [
        "<p style='text-align: justify; font-size: 16px; line-height: 1.5;'>Para tipos numéricos, os operadores aritméticos são utilizados para realizar processamentos cujo resultado é um número. Na Tabela 1, podemos ver os operadores aritméticos nativos da linguagem Python, por ordem de precedência.</p>"
      ]
    },
    {
      "cell_type": "markdown",
      "metadata": {
        "id": "JDwUkq2FlvDE"
      },
      "source": [
        "<table style='text-align: justify; font-size: 16px; line-height: 1.5;'>\n",
        "    <tr>\n",
        "        <td>Operação</td>\n",
        "        <td>Operador</td>\n",
        "    </tr>\n",
        "    <tr>\n",
        "        <td>Exponenciação</td>\n",
        "        <td>**</td>\n",
        "    </tr>\n",
        "    <tr>\n",
        "        <td>Multiplicação, Divisão, Resto da divisão, Divisão inteira</td>\n",
        "        <td>* / % //</td>\n",
        "    </tr>\n",
        "    <tr>\n",
        "        <td>Adição, Subtração</td>\n",
        "        <td>+ -</td>\n",
        "    </tr>\n",
        "</table>"
      ]
    },
    {
      "cell_type": "markdown",
      "metadata": {
        "id": "TqYaH9cRlvDE"
      },
      "source": [
        "<p style='text-align: justify; font-size: 16px; line-height: 1.5;'>Os operadores que estão no mesmo nível possuem a mesma ordem de precedência. Quando utilizados em uma expressão, dos operadores que possuírem a mesma ordem de precedência, os que estiverem mais a esquerda, são executados primeiro. Vejamos alguns exemplo:</p>"
      ]
    },
    {
      "cell_type": "markdown",
      "metadata": {
        "id": "wRgyOme9lvDE"
      },
      "source": [
        "<p style='text-align: justify; font-size: 16px; line-height: 1.5;'> <span style=\"font-weight: bold;\">Exemplo 1:</span>  Mesma ordem de precedência</p>"
      ]
    },
    {
      "cell_type": "code",
      "execution_count": null,
      "metadata": {
        "id": "MHBg_SdJlvDE",
        "outputId": "dfdd45cd-2479-4d5c-b254-38b8b0c671a3"
      },
      "outputs": [
        {
          "name": "stdout",
          "output_type": "stream",
          "text": [
            "0 10\n"
          ]
        }
      ],
      "source": [
        "A = 10 * 3 % 2\n",
        "B = 3 % 2 * 10\n",
        "\n",
        "print(A, B)"
      ]
    },
    {
      "cell_type": "markdown",
      "metadata": {
        "id": "fmkp2KgmlvDE"
      },
      "source": [
        "<p style='text-align: justify; font-size: 16px; line-height: 1.5;'>Como os operadores possuem a mesma ordem de precedência, na primeira expressão, primeiro foi realizada a multiplicação e, em seguida, utilizou-se o resultado para encontrar o resto da divisão por 2. Já na segunda expressão, primeiro foi calculado o resto da divisão de 3 por 2 e, em seguida, o resultado foi multiplicado por 10.</p>"
      ]
    },
    {
      "cell_type": "markdown",
      "metadata": {
        "id": "4FvZUe5llvDE"
      },
      "source": [
        "<p style='text-align: justify; font-size: 16px; line-height: 1.5;'> <span style=\"font-weight: bold;\">Exemplo 2:</span>  Ordem de precedência diferente</p>"
      ]
    },
    {
      "cell_type": "code",
      "execution_count": null,
      "metadata": {
        "id": "vN0Sa9fZlvDE",
        "outputId": "55c45251-5b03-42fe-cdf6-1fdcaa8f3bb4"
      },
      "outputs": [
        {
          "name": "stdout",
          "output_type": "stream",
          "text": [
            "8 0\n"
          ]
        }
      ],
      "source": [
        "A = 2 ** 5 // 4\n",
        "B = 4 // 2 ** 5\n",
        "\n",
        "print(A, B)"
      ]
    },
    {
      "cell_type": "markdown",
      "metadata": {
        "id": "i7UJsz8hlvDF"
      },
      "source": [
        "<p style='text-align: justify; font-size: 16px; line-height: 1.5;'>Nesse exemplo, os operadores possuem ordem de precedência diferentes. Tanto na primeira quanto na segunda expressão, primeiro é realizada a exponenciação de 2 na 5. Sendo assim, na primeira expressão, estamos calculando a divisão inteira de 32 por 4. Já na segunda expressão, estamos calculando a divisão inteira de 4 por 32.</p>"
      ]
    },
    {
      "cell_type": "markdown",
      "metadata": {
        "id": "koDUjIp1lvDF"
      },
      "source": [
        "<p style='text-align: justify; font-size: 16px; line-height: 1.5;'> <span style=\"font-weight: bold;\">Exemplo 3:</span>  Exponenciação para calcular raiz.</p>"
      ]
    },
    {
      "cell_type": "code",
      "execution_count": null,
      "metadata": {
        "id": "N6aqnuYUlvDF",
        "outputId": "1940920c-1282-4706-f93e-8ec9073fd1e6"
      },
      "outputs": [
        {
          "name": "stdout",
          "output_type": "stream",
          "text": [
            "9.0\n"
          ]
        }
      ],
      "source": [
        "A = 81 ** 0.5\n",
        "\n",
        "print(A)"
      ]
    },
    {
      "cell_type": "markdown",
      "metadata": {
        "id": "KqWoZConlvDF"
      },
      "source": [
        "<p style='text-align: justify; font-size: 16px; line-height: 1.5;'>A radiciação é uma exponenciação cujo exponente é um número fracionário. Sendo assim, podemos utilizar a exponenciação para calcular raízes. Nesse exemplo, estamos calculando a raiz quadrada de 9.</p>"
      ]
    },
    {
      "cell_type": "markdown",
      "metadata": {
        "id": "5FjENxUhlvDF"
      },
      "source": [
        "## Expressões com parênteses"
      ]
    },
    {
      "cell_type": "markdown",
      "metadata": {
        "id": "oCtxaDsqlvDF"
      },
      "source": [
        "<p style='text-align: justify; font-size: 16px; line-height: 1.5;'>Quando você quiser determinar ou ratificar uma ordem de precedência de uma expressão, você pode utilizar os parênteses. Vejamos:</p>"
      ]
    },
    {
      "cell_type": "code",
      "execution_count": null,
      "metadata": {
        "id": "Sln5sFWKlvDF",
        "outputId": "039e3580-85ac-4d76-827e-5d3950ab31ca"
      },
      "outputs": [
        {
          "name": "stdout",
          "output_type": "stream",
          "text": [
            "8 32\n"
          ]
        }
      ],
      "source": [
        "A = (2 ** 5) // 4\n",
        "B = (4 // 2) ** 5\n",
        "\n",
        "print(A, B)"
      ]
    },
    {
      "cell_type": "markdown",
      "metadata": {
        "id": "DxXjmKYKlvDF"
      },
      "source": [
        "<p style='text-align: justify; font-size: 16px; line-height: 1.5;'>Nesse exemplo, na primeira expressão, nós utilizamos os parênteses para ratificar a ordem de precedência da exponenciação. Já na segunda expressão, os parênteses estão informando que a divisão inteira deve ser calculada antes da exponenciação.</p>"
      ]
    },
    {
      "cell_type": "markdown",
      "metadata": {
        "id": "8jTCOFRNlvDF"
      },
      "source": [
        "## Biblioteca math"
      ]
    },
    {
      "cell_type": "markdown",
      "metadata": {
        "id": "GrwGvvN9lvDF"
      },
      "source": [
        "<p style='text-align: justify; font-size: 16px; line-height: 1.5;'>Quando estamos trabalhando com operações aritméticas, pode ser necessário a utilização de funções. Na linguagem Python, existem várias bibliotecas que disponibilizam funções para essa finalidade. Uma dessas bibliotecas é a <a href=\"https://docs.python.org/3/library/math.html\">math</a>. Vamos aproveitar para ver algumas funções dessa biblioteca.</p>"
      ]
    },
    {
      "cell_type": "markdown",
      "metadata": {
        "id": "Aige04EolvDF"
      },
      "source": [
        "## Função log2"
      ]
    },
    {
      "cell_type": "markdown",
      "metadata": {
        "id": "IzksDdWLlvDI"
      },
      "source": [
        "<p style='text-align: justify; font-size: 16px; line-height: 1.5;'>Retorna o logarítmo de X na base 2.</p>"
      ]
    },
    {
      "cell_type": "code",
      "execution_count": null,
      "metadata": {
        "id": "Op__xCkflvDI",
        "outputId": "cd39717c-0811-4d00-e9e5-5440699e788a"
      },
      "outputs": [
        {
          "name": "stdout",
          "output_type": "stream",
          "text": [
            "5.0\n"
          ]
        }
      ],
      "source": [
        "from math import log2\n",
        "\n",
        "X = 32\n",
        "y = log2(X)\n",
        "\n",
        "print(y)"
      ]
    },
    {
      "cell_type": "markdown",
      "metadata": {
        "id": "klwSoYemlvDI"
      },
      "source": [
        "## Função log10"
      ]
    },
    {
      "cell_type": "markdown",
      "metadata": {
        "id": "7bNoNflDlvDJ"
      },
      "source": [
        "<p style='text-align: justify; font-size: 16px; line-height: 1.5;'>Retorna o logarítmo de X na base 10.</p>"
      ]
    },
    {
      "cell_type": "code",
      "execution_count": null,
      "metadata": {
        "id": "GDvJlP5BlvDJ",
        "outputId": "9d55c5d1-d026-474e-9845-fc34e953597c"
      },
      "outputs": [
        {
          "name": "stdout",
          "output_type": "stream",
          "text": [
            "2.3010299956639813\n"
          ]
        }
      ],
      "source": [
        "from math import log10\n",
        "\n",
        "X = 200\n",
        "y = log10(X)\n",
        "\n",
        "print(y)"
      ]
    },
    {
      "cell_type": "markdown",
      "metadata": {
        "id": "7J8zlcc8lvDK"
      },
      "source": [
        "## Função log"
      ]
    },
    {
      "cell_type": "markdown",
      "metadata": {
        "id": "eH2Jb-H3lvDK"
      },
      "source": [
        "<p style='text-align: justify; font-size: 16px; line-height: 1.5;'>Retorna o logarítmo de X na base N.</p>"
      ]
    },
    {
      "cell_type": "code",
      "execution_count": null,
      "metadata": {
        "id": "5ti2IfmPlvDL",
        "outputId": "3326aaf9-5449-4a50-c56f-4181c384c86e"
      },
      "outputs": [
        {
          "name": "stdout",
          "output_type": "stream",
          "text": [
            "5.0\n"
          ]
        }
      ],
      "source": [
        "from math import log\n",
        "\n",
        "X = 32\n",
        "y = log(X, 2)\n",
        "\n",
        "print(y)"
      ]
    },
    {
      "cell_type": "markdown",
      "metadata": {
        "id": "aGV-90UblvDM"
      },
      "source": [
        "## Função gcd"
      ]
    },
    {
      "cell_type": "markdown",
      "metadata": {
        "id": "CqUvYqSulvDM"
      },
      "source": [
        "<p style='text-align: justify; font-size: 16px; line-height: 1.5;'>Retorna maior divisor comum dos números inteiros passados como argumento.</p>"
      ]
    },
    {
      "cell_type": "code",
      "execution_count": null,
      "metadata": {
        "id": "xbOTb9pllvDN",
        "outputId": "1e8ec1fe-28f4-45c3-ab73-43447d3c3d5f"
      },
      "outputs": [
        {
          "name": "stdout",
          "output_type": "stream",
          "text": [
            "8\n"
          ]
        }
      ],
      "source": [
        "from math import gcd\n",
        "\n",
        "y = gcd(24, 32)\n",
        "\n",
        "print(y)"
      ]
    },
    {
      "cell_type": "markdown",
      "metadata": {
        "id": "A34G0h_XlvDN"
      },
      "source": [
        "## Função ceil"
      ]
    },
    {
      "cell_type": "markdown",
      "metadata": {
        "id": "qnyPN2e4lvDO"
      },
      "source": [
        "<p style='text-align: justify; font-size: 16px; line-height: 1.5;'>Retorna o menor inteiro maior ou igual a X.</p>"
      ]
    },
    {
      "cell_type": "code",
      "execution_count": null,
      "metadata": {
        "id": "4f2v16tglvDO",
        "outputId": "5097ea20-6109-4f9e-e3d2-3ac336fb53ec"
      },
      "outputs": [
        {
          "name": "stdout",
          "output_type": "stream",
          "text": [
            "25\n"
          ]
        }
      ],
      "source": [
        "from math import ceil\n",
        "\n",
        "y = ceil(24.87)\n",
        "\n",
        "print(y)"
      ]
    },
    {
      "cell_type": "markdown",
      "metadata": {
        "id": "vuHS_Q8ulvDP"
      },
      "source": [
        "## Função floor"
      ]
    },
    {
      "cell_type": "markdown",
      "metadata": {
        "id": "3UXD2I6JlvDP"
      },
      "source": [
        "<p style='text-align: justify; font-size: 16px; line-height: 1.5;'>Retorna o maior inteiro menor ou igual a X.</p>"
      ]
    },
    {
      "cell_type": "code",
      "execution_count": null,
      "metadata": {
        "id": "4bkvfbQilvDQ",
        "outputId": "ae97dd94-a756-4a4b-b3ac-b93018a0a059"
      },
      "outputs": [
        {
          "name": "stdout",
          "output_type": "stream",
          "text": [
            "24\n"
          ]
        }
      ],
      "source": [
        "from math import floor\n",
        "\n",
        "y = floor(24.87)\n",
        "\n",
        "print(y)"
      ]
    },
    {
      "cell_type": "markdown",
      "metadata": {
        "id": "RiIiRns8lvDQ"
      },
      "source": [
        "<p style='text-align: justify; font-size: 16px; line-height: 1.5;'>Para estudar mais funções da biblioteca math, consulte a sua documentação: <a href=\"https://docs.python.org/3/library/math.html\">https://docs.python.org/3/library/math.html</a>.</p>"
      ]
    },
    {
      "cell_type": "markdown",
      "metadata": {
        "id": "oQYgE0V_lvDQ"
      },
      "source": [
        "## Operadores aritméticos com string"
      ]
    },
    {
      "cell_type": "markdown",
      "metadata": {
        "id": "PV3mFECelvDR"
      },
      "source": [
        "<p style='text-align: justify; font-size: 16px; line-height: 1.5;'>Uma string admite a utilização dos operadores aritméticos + e *. O operador + é utilizado para concatenar duas strings. Já o operador * é utilizado para replicar o conteúdo de uma string. Vejamos como eles funcionam.</p>"
      ]
    },
    {
      "cell_type": "markdown",
      "metadata": {
        "id": "bSKMkvOUlvDR"
      },
      "source": [
        "<p style='text-align: justify; font-size: 16px; line-height: 1.5;'> <span style=\"font-weight: bold;\">Exemplo 4:</span>  Concatenando string com o operador +</p>"
      ]
    },
    {
      "cell_type": "code",
      "execution_count": null,
      "metadata": {
        "id": "ih-LItYHlvDS",
        "outputId": "e2517123-f3da-4c19-873c-23db67dbadd5"
      },
      "outputs": [
        {
          "name": "stdout",
          "output_type": "stream",
          "text": [
            "RenatoHidaka\n"
          ]
        }
      ],
      "source": [
        "a = 'Renato'\n",
        "b = 'Hidaka'\n",
        "c = a+b\n",
        "\n",
        "print(c)"
      ]
    },
    {
      "cell_type": "code",
      "execution_count": null,
      "metadata": {
        "id": "vyPtZ31llvDS",
        "outputId": "37fa820d-5078-4b63-f00d-67be337e2e12"
      },
      "outputs": [
        {
          "name": "stdout",
          "output_type": "stream",
          "text": [
            "Renato Hidaka\n"
          ]
        }
      ],
      "source": [
        "a = 'Renato'\n",
        "b = 'Hidaka'\n",
        "c = a+' '+b\n",
        "\n",
        "print(c)"
      ]
    },
    {
      "cell_type": "markdown",
      "metadata": {
        "id": "UOfCxhvzlvDT"
      },
      "source": [
        "<p style='text-align: justify; font-size: 16px; line-height: 1.5;'>No primeiro exemplo você percebeu que a concatenação dos dois nomes não tem espaço. Para resolver esse problema, no segundo exemplo, concatenamos três strings, sendo a string do meio uma string com um espaço em branco.</p>"
      ]
    },
    {
      "cell_type": "markdown",
      "metadata": {
        "id": "xxKVms8rlvDT"
      },
      "source": [
        "<p style='text-align: justify; font-size: 16px; line-height: 1.5;'> <span style=\"font-weight: bold;\">Exemplo 5:</span>  Replicando string com o operador *</p>"
      ]
    },
    {
      "cell_type": "code",
      "execution_count": null,
      "metadata": {
        "id": "2_6fOyXRlvDU",
        "outputId": "16435b89-7dda-4bda-ce78-3816f6363c40"
      },
      "outputs": [
        {
          "name": "stdout",
          "output_type": "stream",
          "text": [
            "abcabcabcabcabc\n"
          ]
        }
      ],
      "source": [
        "a = 'abc'*5\n",
        "\n",
        "print(a)"
      ]
    },
    {
      "cell_type": "markdown",
      "metadata": {
        "id": "WbANfqITlvDV"
      },
      "source": [
        "<p style='text-align: justify; font-size: 16px; line-height: 1.5;'>Ao multiplicar uma string por um número inteiro N, estamos replicando a string N vezes. Ou seja, realizando N concatenações dela mesma. A replicação de uma string pode ser feita com a atribuição acumulada. Veja:</p>"
      ]
    },
    {
      "cell_type": "code",
      "execution_count": null,
      "metadata": {
        "id": "s3on3nYDlvDW",
        "outputId": "827005b3-a8d4-4355-efe3-c3eaa4d4d5b6"
      },
      "outputs": [
        {
          "name": "stdout",
          "output_type": "stream",
          "text": [
            "abcabcabcabcabc\n"
          ]
        }
      ],
      "source": [
        "a = 'abc'\n",
        "a*= 5\n",
        "\n",
        "print(a)"
      ]
    },
    {
      "cell_type": "markdown",
      "metadata": {
        "id": "aHlC2COdlvDX"
      },
      "source": [
        "## Operadores aritméticos com lista"
      ]
    },
    {
      "cell_type": "markdown",
      "metadata": {
        "id": "FnAzL1mvlvDX"
      },
      "source": [
        "<p style='text-align: justify; font-size: 16px; line-height: 1.5;'>Uma lista também admite a utilização dos operadores aritméticos + e *. O operador + é utilizado para concatenar duas listas. Já o operador * é utilizado para replicar o conteúdo de uma lista. Vejamos como eles funcionam.</p>"
      ]
    },
    {
      "cell_type": "markdown",
      "metadata": {
        "id": "10hT_aMTlvDY"
      },
      "source": [
        "<p style='text-align: justify; font-size: 16px; line-height: 1.5;'> <span style=\"font-weight: bold;\">Exemplo 6:</span>  Concatenando duas listas com o operador +</p>"
      ]
    },
    {
      "cell_type": "code",
      "execution_count": null,
      "metadata": {
        "id": "OtVZsLwRlvDZ",
        "outputId": "7eafd82e-5c87-40f4-96a8-3c233789aa43"
      },
      "outputs": [
        {
          "name": "stdout",
          "output_type": "stream",
          "text": [
            "[1, 2, 3, 20, 99]\n"
          ]
        }
      ],
      "source": [
        "a = [1, 2, 3]\n",
        "b = [20, 99]\n",
        "c = a + b\n",
        "\n",
        "print(c)"
      ]
    },
    {
      "cell_type": "markdown",
      "metadata": {
        "id": "LDqF19folvDZ"
      },
      "source": [
        "<p style='text-align: justify; font-size: 16px; line-height: 1.5;'> <span style=\"font-weight: bold;\">Exemplo 7:</span>  Replicando uma lista com o operador *</p>"
      ]
    },
    {
      "cell_type": "code",
      "execution_count": null,
      "metadata": {
        "id": "i34X4J3HlvDa",
        "outputId": "6a60e079-0d1a-4928-f154-8a26083206e7"
      },
      "outputs": [
        {
          "name": "stdout",
          "output_type": "stream",
          "text": [
            "[22, 99, 22, 99, 22, 99, 22, 99]\n"
          ]
        }
      ],
      "source": [
        "a = [22, 99]*4\n",
        "\n",
        "print(a)"
      ]
    },
    {
      "cell_type": "markdown",
      "metadata": {
        "id": "hRI8768mlvDa"
      },
      "source": [
        "<p style='text-align: justify; font-size: 16px; line-height: 1.5;'>Assim como nas strings, a replicação de uma lista pode ser feita com a atribuição acumulada. Veja:</p>"
      ]
    },
    {
      "cell_type": "code",
      "execution_count": null,
      "metadata": {
        "id": "o3V2NUK6lvDc",
        "outputId": "4a32f247-606a-487d-951e-6bda459cb0ff"
      },
      "outputs": [
        {
          "name": "stdout",
          "output_type": "stream",
          "text": [
            "[1, 1, 1, 1, 1]\n"
          ]
        }
      ],
      "source": [
        "a = [1]\n",
        "a *= 5\n",
        "\n",
        "print(a)"
      ]
    },
    {
      "cell_type": "markdown",
      "metadata": {
        "id": "PmpRFv-2lvDc"
      },
      "source": [
        "## Operadores relacionais"
      ]
    },
    {
      "cell_type": "markdown",
      "metadata": {
        "id": "pouKtGQWlvDd"
      },
      "source": [
        "<p style='text-align: justify; font-size: 16px; line-height: 1.5;'>Como o próprio nome já diz, os operadores relacionais são utilizados verificar a relação entre valores. Uma verificação de relação implica a comparação de valores cujo resultado é verdadeiro ou falso. Na linguagem Python, podemos utilizar os seguintes operadores relacionais para comparar valores numéricos:</p>"
      ]
    },
    {
      "cell_type": "markdown",
      "metadata": {
        "id": "3e8mhrVrlvDd"
      },
      "source": [
        "<table style='text-align: justify; font-size: 16px; line-height: 1.5;'>\n",
        "    <tr>\n",
        "        <td>Relação</td>\n",
        "        <td>Operador</td>\n",
        "        <td>Exemplo</td>\n",
        "    </tr>\n",
        "    <tr>\n",
        "        <td>igual</td>\n",
        "        <td>==</td>\n",
        "        <td>A == B</td>\n",
        "    </tr>\n",
        "    <tr>\n",
        "        <td>diferente</td>\n",
        "        <td>!=</td>\n",
        "        <td>A != 45</td>\n",
        "    </tr>\n",
        "    <tr>\n",
        "        <td>maior</td>\n",
        "        <td>></td>\n",
        "        <td>A > B</td>\n",
        "    </tr>\n",
        "    <tr>\n",
        "        <td>menor</td>\n",
        "        <td><</td>\n",
        "        <td>A < B</td>\n",
        "    </tr>\n",
        "    <tr>\n",
        "        <td>maior ou igual</td>\n",
        "        <td>>=</td>\n",
        "        <td>A >= 45</td>\n",
        "    </tr>\n",
        "    <tr>\n",
        "        <td>menor ou igual</td>\n",
        "        <td><=</td>\n",
        "        <td>A <= B</td>\n",
        "    </tr>\n",
        "</table>"
      ]
    },
    {
      "cell_type": "markdown",
      "metadata": {
        "id": "N7zo5me9lvDe"
      },
      "source": [
        "## Operação aritmética e relacional"
      ]
    },
    {
      "cell_type": "markdown",
      "metadata": {
        "id": "y17on8zflvDe"
      },
      "source": [
        "<p style='text-align: justify; font-size: 16px; line-height: 1.5;'>Caso você tenha uma expressão que possua operadores aritméticos e relacionais, saiba que primeiro serão resolvidas as operações aritméticas. Ou seja, as operações aritméticas têm precedência sobre as operações relacionais. Vejamos um exemplo:</p>"
      ]
    },
    {
      "cell_type": "code",
      "execution_count": null,
      "metadata": {
        "id": "RofiCJOilvDf",
        "outputId": "7d187a7c-ad00-4d44-fdae-a9dac0b6efe1"
      },
      "outputs": [
        {
          "name": "stdout",
          "output_type": "stream",
          "text": [
            "True\n"
          ]
        }
      ],
      "source": [
        "A = 10\n",
        "B = 5\n",
        "C = 2\n",
        "\n",
        "X = C**B / A >= B-C\n",
        "\n",
        "print(X)"
      ]
    },
    {
      "cell_type": "markdown",
      "metadata": {
        "id": "TxMi9faXlvDf"
      },
      "source": [
        "## Expressão com mais de um operador relacional"
      ]
    },
    {
      "cell_type": "markdown",
      "metadata": {
        "id": "TFSESNNClvDg"
      },
      "source": [
        "<p style='text-align: justify; font-size: 16px; line-height: 1.5;'>A linguagem Python admite que você construa uma expressão com mais de um operador relacional. Quando este for o caso, as relações são comparadas dois a dois e a expressão só é verdadeira quando todas as relações forem verdadeiras. Vejamos um exemplo:</p>"
      ]
    },
    {
      "cell_type": "code",
      "execution_count": null,
      "metadata": {
        "id": "qruwjUJXlvDg",
        "outputId": "7fa1eb85-950c-403d-9908-f5e5a1fd523e"
      },
      "outputs": [
        {
          "name": "stdout",
          "output_type": "stream",
          "text": [
            "True False\n"
          ]
        }
      ],
      "source": [
        "X = A > B > C\n",
        "Y = A > B > C > A\n",
        "\n",
        "print(X, Y)"
      ]
    },
    {
      "cell_type": "markdown",
      "metadata": {
        "id": "7dUUGUzklvDg"
      },
      "source": [
        "<p style='text-align: justify; font-size: 16px; line-height: 1.5;'>Nesse exemplo, X é True por que A é maior que B e B é maior que C. Y é False porque C não é maior que A.</p>"
      ]
    },
    {
      "cell_type": "markdown",
      "metadata": {
        "id": "EgNGMkrllvDh"
      },
      "source": [
        "## Opradores relacionais com string"
      ]
    },
    {
      "cell_type": "markdown",
      "metadata": {
        "id": "IPGyIx8GlvDh"
      },
      "source": [
        "<p style='text-align: justify; font-size: 16px; line-height: 1.5;'>Os operadores relacionais também podem ser utilizados para a comparação de strings. Nesse caso, quando os operadores <, >, >= e <= são utilizados, deve-se levar em consideração a ordem dos caracteres na tabela <a href=\"https://pt.wikipedia.org/wiki/ASCII\">ASCII</a>. Vejamos alguns exemplos:</p>"
      ]
    },
    {
      "cell_type": "code",
      "execution_count": null,
      "metadata": {
        "id": "6xxIzLZQlvDi",
        "outputId": "4f20dba8-fd72-4041-b4fd-6df5a0d9e416"
      },
      "outputs": [
        {
          "name": "stdout",
          "output_type": "stream",
          "text": [
            "True\n",
            "False\n",
            "True\n",
            "False\n"
          ]
        }
      ],
      "source": [
        "A = 'Renato' == 'Renato'\n",
        "B = 'Hidaka' == 'hidaka'\n",
        "C = 'Hidaka' < 'Renato'\n",
        "D = 'Hidaka' > 'Renato'\n",
        "\n",
        "print(A)\n",
        "print(B)\n",
        "print(C)\n",
        "print(D)"
      ]
    },
    {
      "cell_type": "markdown",
      "metadata": {
        "id": "W4DxKU5klvDi"
      },
      "source": [
        "## Operador in"
      ]
    },
    {
      "cell_type": "markdown",
      "metadata": {
        "id": "J5g5lu8xlvDi"
      },
      "source": [
        "<p style='text-align: justify; font-size: 16px; line-height: 1.5;'>Na linguagem Python, como as strings são iteráveis, admite-se a utilização do operador <span style=\"font-weight: bold;\">in</span>. Nesse caso, ao utilizar o operador <span style=\"font-weight: bold;\">in</span>, verificamos se a string do lado esquerdo é uma substring da string do lado direito. Essa comparação é realizada caractere a caractere e, se em algum momento as cadeias casarem, o resultado da comparação é verdadeiro. Vejamos um exemplo:</p>"
      ]
    },
    {
      "cell_type": "code",
      "execution_count": null,
      "metadata": {
        "id": "KbXScZS5lvDj",
        "outputId": "e237e267-4b3d-44cd-9584-e4f48050a74c"
      },
      "outputs": [
        {
          "name": "stdout",
          "output_type": "stream",
          "text": [
            "True\n",
            "True\n",
            "True\n",
            "False\n",
            "False\n"
          ]
        }
      ],
      "source": [
        "Ex1 = 'Rena' in 'Renato Hidaka'\n",
        "Ex2 = 'Hidaka' in 'Renato Hidaka'\n",
        "Ex3 = 'ato' in 'Renato'\n",
        "Ex4 = 'hidaka' in 'Hidaka'\n",
        "Ex5 = 'Renato Hidaka' in 'Renato'\n",
        "\n",
        "print(Ex1)\n",
        "print(Ex2)\n",
        "print(Ex3)\n",
        "print(Ex4)\n",
        "print(Ex5)"
      ]
    },
    {
      "cell_type": "markdown",
      "metadata": {
        "id": "ZdjScSZ7lvDj"
      },
      "source": [
        "## Funções de comparação de string"
      ]
    },
    {
      "cell_type": "markdown",
      "metadata": {
        "id": "QEMebUxSlvDk"
      },
      "source": [
        "<p style='text-align: justify; font-size: 16px; line-height: 1.5;'>A linguagem Python possui várias funções de comparação de string, segundo a particularidade do seu conteúdo. Vejamos algumas dessas funções:</p>"
      ]
    },
    {
      "cell_type": "markdown",
      "metadata": {
        "id": "-jzs4EkvlvDk"
      },
      "source": [
        "<p style='text-align: justify; font-size: 16px; line-height: 1.5;'> <span style=\"font-weight: bold;\">Exemplo 8:</span>  Verificando se uma string está em caixa alta:</p>"
      ]
    },
    {
      "cell_type": "code",
      "execution_count": null,
      "metadata": {
        "id": "vA_ksGqflvDl",
        "outputId": "53c4272b-fdd3-4125-e46d-e8f1045e9488"
      },
      "outputs": [
        {
          "name": "stdout",
          "output_type": "stream",
          "text": [
            "True\n",
            "False\n"
          ]
        }
      ],
      "source": [
        "nome_1 = 'HIDAKA'\n",
        "nome_2 = 'Renato'\n",
        "\n",
        "X = nome_1.isupper()\n",
        "Y = nome_2.isupper()\n",
        "\n",
        "print(X)\n",
        "print(Y)"
      ]
    },
    {
      "cell_type": "markdown",
      "metadata": {
        "id": "cVBKIEFilvDl"
      },
      "source": [
        "<p style='text-align: justify; font-size: 16px; line-height: 1.5;'> <span style=\"font-weight: bold;\">Exemplo 9:</span>  Verificando se uma string está em caixa baixa:</p>"
      ]
    },
    {
      "cell_type": "code",
      "execution_count": null,
      "metadata": {
        "id": "7Ls6G_f4lvDl",
        "outputId": "d0142c2f-acd0-4d5b-d83d-e7e0da5250f5"
      },
      "outputs": [
        {
          "name": "stdout",
          "output_type": "stream",
          "text": [
            "False\n",
            "True\n"
          ]
        }
      ],
      "source": [
        "nome_1 = 'HIDAKA'\n",
        "nome_2 = 'renato'\n",
        "\n",
        "X = nome_1.islower()\n",
        "Y = nome_2.islower()\n",
        "\n",
        "print(X)\n",
        "print(Y)"
      ]
    },
    {
      "cell_type": "markdown",
      "metadata": {
        "id": "tjr6kdjSlvDm"
      },
      "source": [
        "<p style='text-align: justify; font-size: 16px; line-height: 1.5;'> <span style=\"font-weight: bold;\">Exemplo 10:</span>  Verificando se uma string só possui dígitos:</p>"
      ]
    },
    {
      "cell_type": "code",
      "execution_count": null,
      "metadata": {
        "id": "6VYc3GdLlvDn",
        "outputId": "c0cafb45-403f-495b-96fc-63296fa9a96a"
      },
      "outputs": [
        {
          "name": "stdout",
          "output_type": "stream",
          "text": [
            "False\n",
            "True\n"
          ]
        }
      ],
      "source": [
        "valor_1 = 'Renato'\n",
        "valor_2 = '1032043'\n",
        "\n",
        "X = valor_1.isdigit()\n",
        "Y = valor_2.isdigit()\n",
        "\n",
        "print(X)\n",
        "print(Y)"
      ]
    },
    {
      "cell_type": "markdown",
      "metadata": {
        "id": "sI0LhJYXlvDn"
      },
      "source": [
        "<p style='text-align: justify; font-size: 16px; line-height: 1.5;'>Para estudar mais funções de comparação e manipulação de string, você pode consultar a documentação: <a href=\"https://docs.python.org/3/library/stdtypes.html\">https://docs.python.org/3/library/stdtypes.html</a>.</p>"
      ]
    },
    {
      "cell_type": "markdown",
      "metadata": {
        "id": "OSqFvGIzlvDn"
      },
      "source": [
        "## Operadores lógicos and e or"
      ]
    },
    {
      "cell_type": "markdown",
      "metadata": {
        "id": "WFYfSDnwlvDo"
      },
      "source": [
        "<p style='text-align: justify; font-size: 16px; line-height: 1.5;'>Os operadores lógicos <span style=\"font-weight: bold;\">and</span> e <span style=\"font-weight: bold;\">or</span> são utilizados para combinar duas ou mais relações. Uma expressão com o operador lógico <span style=\"font-weight: bold;\">and</span> só é verdadeira, quando todas as relações são verdadeiras. Uma expressão com o operador lógico <span style=\"font-weight: bold;\">or</span> é verdadeira, quando pelo menos uma das relações é verdadeira. Se a expressão possuir operadores <span style=\"font-weight: bold;\">and</span> e <span style=\"font-weight: bold;\">or</span>, saiba que o operador <span style=\"font-weight: bold;\">and</span> possui maior precedência. Caso você queira ratificar ou determinar uma precedência, utilize parênteses. Vejamos alguns exemplos:</p>"
      ]
    },
    {
      "cell_type": "code",
      "execution_count": null,
      "metadata": {
        "id": "MXEj5gnAlvDo",
        "outputId": "01ea6ca5-b27c-449d-8ff5-f988ac534f82"
      },
      "outputs": [
        {
          "name": "stdout",
          "output_type": "stream",
          "text": [
            "True\n",
            "True\n",
            "True\n"
          ]
        }
      ],
      "source": [
        "A = 4\n",
        "B = 2\n",
        "C = 10\n",
        "D = 'Renato'\n",
        "\n",
        "X = A*B <= C-2 and D == 'Renato'\n",
        "Y = A**B > A+B+C or D.upper() == 'RENATO'\n",
        "Z = C != B or A // B != B and 'R' in D\n",
        "\n",
        "print(X)\n",
        "print(Y)\n",
        "print(Z)"
      ]
    },
    {
      "cell_type": "markdown",
      "metadata": {
        "id": "ZCvAGfyHlvDp"
      },
      "source": [
        "## Operador lógico not"
      ]
    },
    {
      "cell_type": "markdown",
      "metadata": {
        "id": "kuR5VbWvlvDp"
      },
      "source": [
        "<p style='text-align: justify; font-size: 16px; line-height: 1.5;'>O operador lógico <span style=\"font-weight: bold;\">not</span> é utilizado para negar uma relação ou uma expressão. Vejamos alguns exemplos:</p>"
      ]
    },
    {
      "cell_type": "code",
      "execution_count": null,
      "metadata": {
        "id": "mlH_Ul6ElvDq",
        "outputId": "f725b169-932c-423d-acc8-a03456224165"
      },
      "outputs": [
        {
          "name": "stdout",
          "output_type": "stream",
          "text": [
            "False\n",
            "True\n",
            "False\n"
          ]
        }
      ],
      "source": [
        "A = 4\n",
        "B = 2\n",
        "C = 10\n",
        "D = 'Renato'\n",
        "\n",
        "X = not A > B\n",
        "Y = 'H' not in D\n",
        "Z = not (C != B or A // B != B and 'R' in D)\n",
        "\n",
        "print(X)\n",
        "print(Y)\n",
        "print(Z)"
      ]
    }
  ],
  "metadata": {
    "kernelspec": {
      "display_name": "Python 3",
      "language": "python",
      "name": "python3"
    },
    "language_info": {
      "codemirror_mode": {
        "name": "ipython",
        "version": 3
      },
      "file_extension": ".py",
      "mimetype": "text/x-python",
      "name": "python",
      "nbconvert_exporter": "python",
      "pygments_lexer": "ipython3",
      "version": "3.9.1"
    },
    "colab": {
      "provenance": []
    }
  },
  "nbformat": 4,
  "nbformat_minor": 0
}
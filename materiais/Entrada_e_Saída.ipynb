{
  "cells": [
    {
      "cell_type": "markdown",
      "metadata": {
        "id": "rxstAZWKnoga"
      },
      "source": [
        "# Introdução à programação em Python\n",
        "## Renato Hidaka Torres"
      ]
    },
    {
      "cell_type": "markdown",
      "metadata": {
        "id": "UnuFqA-ynogi"
      },
      "source": [
        "## Entrada e Saída"
      ]
    },
    {
      "cell_type": "markdown",
      "metadata": {
        "id": "--ON6jOEnogj"
      },
      "source": [
        "## Objetivo"
      ]
    },
    {
      "cell_type": "markdown",
      "metadata": {
        "id": "VAhFwPMCnogj"
      },
      "source": [
        "<p style='text-align: justify; font-size: 16px; line-height: 1.5;'>Neste capítulo você irá estudar as principais formas de entrada e saída de dados utilizadas na linguagem Python. Obviamente, ao programar um sistema, a interface de entrada e saída de dados é trabalhada para operar de forma amigável em ambientes web e mobile, por exemplo. Entretanto, esse livro não tem como objetivo aprofundar esse tipo amigável de entrada e saída de dados. Aqui, nós iremos trabalhar com as entradas e saídas básicas em modo texto. Ao final deste capítulo, você terá várias questões para exercitar o conteúdo.</p>"
      ]
    },
    {
      "cell_type": "markdown",
      "metadata": {
        "id": "N2RE5pF7nogj"
      },
      "source": [
        "## Saída de dados"
      ]
    },
    {
      "cell_type": "markdown",
      "metadata": {
        "id": "MqZYpChcnogj"
      },
      "source": [
        "<p style='text-align: justify; font-size: 16px; line-height: 1.5;'>Na linguagem Python, utilizamos a função <span style=\"font-weight: bold;\">print</span> para imprimir as informações na saída padrão do computador (monitor). Essa função pode receber múltiplos argumentos separados por vírgula. Cada argumento é convertido para string antes de ser imprimido na tela. A função <span style=\"font-weight: bold;\">print</span> possui dois parâmetros nomeados que definem a forma de separação das informações impressas e a formatação da finalização da impressão. Esse parâmetros nomeados são, respectivamente, o <span style=\"font-weight: bold;\">sep</span> e o <span style=\"font-weight: bold;\">end</span>. </p>"
      ]
    },
    {
      "cell_type": "markdown",
      "metadata": {
        "id": "VfljLceYnogj"
      },
      "source": [
        "<p style='text-align: justify; font-size: 16px; line-height: 1.5;'>Por padrão, o parâmetro nomeado <span style=\"font-weight: bold;\">sep</span> é definido como espaço em branco. Ou seja, se a função print imprimir mais de uma informação, então elas estarão separadas por um espaço em branco. Em relação ao parâmetro nomeado  <span style=\"font-weight: bold;\">end</span>, por padrão, é definido como quebra de linha (\\n). Isso significa que após a impressão, o <span style=\"font-weight: bold;\">print</span> realiza uma quebra de linha. Vejamos alguns exemplos de utilização da função <span style=\"font-weight: bold;\">print</span></p>."
      ]
    },
    {
      "cell_type": "markdown",
      "metadata": {
        "id": "x7RgWgExnogj"
      },
      "source": [
        "<p style='text-align: justify; font-size: 16px; line-height: 1.5;'> <span style=\"font-weight: bold;\">Exemplo 1:</span>  Imprimindo uma string</p>"
      ]
    },
    {
      "cell_type": "code",
      "execution_count": null,
      "metadata": {
        "id": "y5u-S1Crnogk",
        "outputId": "ad95125e-b4b3-4422-b0be-c6d13a2f8129"
      },
      "outputs": [
        {
          "name": "stdout",
          "output_type": "stream",
          "text": [
            "Renato Hidaka\n"
          ]
        }
      ],
      "source": [
        "print('Renato Hidaka')"
      ]
    },
    {
      "cell_type": "markdown",
      "metadata": {
        "id": "ug7YNlcunogl"
      },
      "source": [
        "<p style='text-align: justify; font-size: 16px; line-height: 1.5;'> <span style=\"font-weight: bold;\">Exemplo 2:</span>  Imprimindo o conteúdo de três variáveis</p>"
      ]
    },
    {
      "cell_type": "code",
      "execution_count": null,
      "metadata": {
        "id": "kMXz4nKNnogl",
        "outputId": "26ad1553-207c-4cb3-e87d-227d73b51450"
      },
      "outputs": [
        {
          "name": "stdout",
          "output_type": "stream",
          "text": [
            "12 Renato 99\n"
          ]
        }
      ],
      "source": [
        "A = 12\n",
        "B = 'Renato'\n",
        "C = 99\n",
        "\n",
        "print(A, B, C)"
      ]
    },
    {
      "cell_type": "markdown",
      "metadata": {
        "id": "Fv_Ak58snogl"
      },
      "source": [
        "<p style='text-align: justify; font-size: 16px; line-height: 1.5;'> <span style=\"font-weight: bold;\">Exemplo 3:</span>  Modificando o separador</p>"
      ]
    },
    {
      "cell_type": "code",
      "execution_count": null,
      "metadata": {
        "id": "s7qIXGUKnogm",
        "outputId": "de157921-57d3-4b9a-b73b-4302482a8f6e"
      },
      "outputs": [
        {
          "name": "stdout",
          "output_type": "stream",
          "text": [
            "12-Renato-99\n"
          ]
        }
      ],
      "source": [
        "A = 12\n",
        "B = 'Renato'\n",
        "C = 99\n",
        "\n",
        "print(A, B, C, sep='-')"
      ]
    },
    {
      "cell_type": "code",
      "execution_count": null,
      "metadata": {
        "id": "CxuSmUr8nogm",
        "outputId": "41e0728d-0271-4f70-9a70-9582cbfc8fbc"
      },
      "outputs": [
        {
          "name": "stdout",
          "output_type": "stream",
          "text": [
            "12\n",
            "Renato\n",
            "99\n"
          ]
        }
      ],
      "source": [
        "A = 12\n",
        "B = 'Renato'\n",
        "C = 99\n",
        "\n",
        "print(A, B, C, sep='\\n')"
      ]
    },
    {
      "cell_type": "code",
      "execution_count": null,
      "metadata": {
        "id": "nbTwtHKunogm",
        "outputId": "17d2de72-86ff-4e62-a73f-60fa9b6ee39f"
      },
      "outputs": [
        {
          "name": "stdout",
          "output_type": "stream",
          "text": [
            "12 separador Renato separador 99\n"
          ]
        }
      ],
      "source": [
        "A = 12\n",
        "B = 'Renato'\n",
        "C = 99\n",
        "\n",
        "print(A, B, C, sep=' separador ')"
      ]
    },
    {
      "cell_type": "markdown",
      "metadata": {
        "id": "n1YFl1Fznogm"
      },
      "source": [
        "<p style='text-align: justify; font-size: 16px; line-height: 1.5;'> <span style=\"font-weight: bold;\">Exemplo 4:</span>  Modificando o finalizador da impressão</p>"
      ]
    },
    {
      "cell_type": "code",
      "execution_count": null,
      "metadata": {
        "id": "fzOt_4cxnogm",
        "outputId": "5e059c76-1387-40f2-eceb-d53ca42875f3"
      },
      "outputs": [
        {
          "name": "stdout",
          "output_type": "stream",
          "text": [
            "12 Renato 99."
          ]
        }
      ],
      "source": [
        "A = 12\n",
        "B = 'Renato'\n",
        "C = 99\n",
        "\n",
        "print(A, B, C, end='.')"
      ]
    },
    {
      "cell_type": "code",
      "execution_count": null,
      "metadata": {
        "id": "EqkxI-JUnogm",
        "outputId": "1634d45a-d445-428e-d0d8-bdc9b09cd842"
      },
      "outputs": [
        {
          "name": "stdout",
          "output_type": "stream",
          "text": [
            "12 Renato 99\n",
            "\n",
            "fim"
          ]
        }
      ],
      "source": [
        "A = 12\n",
        "B = 'Renato'\n",
        "C = 99\n",
        "\n",
        "print(A, B, C, end='\\n\\nfim')"
      ]
    },
    {
      "cell_type": "markdown",
      "metadata": {
        "id": "EsNguQ4Ynogm"
      },
      "source": [
        "<p style='text-align: justify; font-size: 16px; line-height: 1.5;'> <span style=\"font-weight: bold;\">Exemplo 5:</span>  Modificando o separador e o finalizador da impressão</p>"
      ]
    },
    {
      "cell_type": "code",
      "execution_count": null,
      "metadata": {
        "id": "r8t2I0IZnogm",
        "outputId": "70074e8e-fe6b-4006-ae4c-bac8f7da5753"
      },
      "outputs": [
        {
          "name": "stdout",
          "output_type": "stream",
          "text": [
            "12;Renato;99."
          ]
        }
      ],
      "source": [
        "A = 12\n",
        "B = 'Renato'\n",
        "C = 99\n",
        "\n",
        "print(A, B, C, sep=';', end='.')"
      ]
    },
    {
      "cell_type": "code",
      "execution_count": null,
      "metadata": {
        "id": "dRiRhMyJnogm",
        "outputId": "2f0bed8b-f87e-43d4-97c7-b038e0249928"
      },
      "outputs": [
        {
          "name": "stdout",
          "output_type": "stream",
          "text": [
            "12-------Renato-------99!!!!!"
          ]
        }
      ],
      "source": [
        "A = 12\n",
        "B = 'Renato'\n",
        "C = 99\n",
        "\n",
        "print(A, B, C, sep='-------', end='!!!!!')"
      ]
    },
    {
      "cell_type": "markdown",
      "metadata": {
        "id": "JBTcAdZPnogm"
      },
      "source": [
        "<p style='text-align: justify; font-size: 16px; line-height: 1.5;'>Como você deve ter notado, toda vez que você precisar redefinir o separador ou o finalizar da impressão, os valores dos parâmetros nomeados devem ser os últimos argumentos passados para a função print.</p>"
      ]
    },
    {
      "cell_type": "markdown",
      "metadata": {
        "id": "X7u_6QxInogn"
      },
      "source": [
        "## Personalizando a saída com string literal"
      ]
    },
    {
      "cell_type": "markdown",
      "metadata": {
        "id": "4fL7d05Onogn"
      },
      "source": [
        "<p style='text-align: justify; font-size: 16px; line-height: 1.5;'>Uma string literal é uma string especial que tem a letra <span style=\"font-weight: bold;\">f</span> ou <span style=\"font-weight: bold;\">F</span> precedendo a abertura das aspas. Dentro das aspas, utilizando as chaves, pode-se escrever uma expressão ou exibir o conteúdo de uma variável. Vejamos um exemplo: </p>"
      ]
    },
    {
      "cell_type": "code",
      "execution_count": null,
      "metadata": {
        "id": "aDqFoX8Onogn",
        "outputId": "3d672b58-243b-44e8-c583-85d13a17139e"
      },
      "outputs": [
        {
          "name": "stdout",
          "output_type": "stream",
          "text": [
            "Nome: Renato Hidaka, E-mail: renatohidaka@gmail.com e Código: 9392\n"
          ]
        }
      ],
      "source": [
        "nome = 'Renato Hidaka'\n",
        "email = 'renatohidaka@gmail.com'\n",
        "cod = 9392\n",
        "\n",
        "saida = f'Nome: {nome}, E-mail: {email} e Código: {cod}'\n",
        "\n",
        "print(saida)"
      ]
    },
    {
      "cell_type": "code",
      "execution_count": null,
      "metadata": {
        "id": "rQjsQxwdnogn",
        "outputId": "cc161700-247e-4929-8e2c-a13b70d0b5a8"
      },
      "outputs": [
        {
          "name": "stdout",
          "output_type": "stream",
          "text": [
            "Nome: Renato Hidaka\n",
            "E-mail: renatohidaka@gmail.com\n",
            "Código: 9392\n"
          ]
        }
      ],
      "source": [
        "nome = 'Renato Hidaka'\n",
        "email = 'renatohidaka@gmail.com'\n",
        "cod = 9392\n",
        "\n",
        "saida = f'Nome: {nome}\\nE-mail: {email}\\nCódigo: {cod}'\n",
        "\n",
        "print(saida)"
      ]
    },
    {
      "cell_type": "markdown",
      "metadata": {
        "id": "miV2coxxnogn"
      },
      "source": [
        "## Formatando casas decimais na string literal"
      ]
    },
    {
      "cell_type": "markdown",
      "metadata": {
        "id": "r_fVngI3nogn"
      },
      "source": [
        "<p style='text-align: justify; font-size: 16px; line-height: 1.5;'>Se você estiver definindo um valor com ponto flutuante em uma string literal e quiser especificar o número de casas decimais, você pode fazer isso da seguinte forma:</p>"
      ]
    },
    {
      "cell_type": "code",
      "execution_count": null,
      "metadata": {
        "id": "1hVTYIuMnogn",
        "outputId": "c8dc5d1c-6a95-42f8-dcd0-9e7e7b61fd39"
      },
      "outputs": [
        {
          "name": "stdout",
          "output_type": "stream",
          "text": [
            "R$ 12.57\n"
          ]
        }
      ],
      "source": [
        "valor = 12.5697\n",
        "saida = f'R$ {valor:.2f}'\n",
        "\n",
        "print(saida)"
      ]
    },
    {
      "cell_type": "code",
      "execution_count": null,
      "metadata": {
        "id": "yu0lqpDjnogn",
        "outputId": "d3c85f34-d649-4faa-fa2f-f965c80ecb63"
      },
      "outputs": [
        {
          "name": "stdout",
          "output_type": "stream",
          "text": [
            "R$ 12.570\n"
          ]
        }
      ],
      "source": [
        "valor = 12.5697\n",
        "saida = f'R$ {valor:.3f}'\n",
        "\n",
        "print(saida)"
      ]
    },
    {
      "cell_type": "markdown",
      "metadata": {
        "id": "8pjvRmePnogn"
      },
      "source": [
        "<p style='text-align: justify; font-size: 16px; line-height: 1.5;'>Como você deve ter notado, a definição do número de casas decimais ocorre com a especificação do padrão <span style=\"font-weight: bold;\">:.Nf</span>, onde <span style=\"font-weight: bold;\">N</span> corresponde ao número de casas decimais desejadas.</p>"
      ]
    },
    {
      "cell_type": "markdown",
      "metadata": {
        "id": "eJ-mS1_Mnogn"
      },
      "source": [
        "<p style='text-align: justify; font-size: 16px; line-height: 1.5;'>Sobre essa questão da definição do número de casas decimais, você também pode fazer isso, utilizando a função <span style=\"font-weight: bold;\">str</span>. Veja:</p>"
      ]
    },
    {
      "cell_type": "code",
      "execution_count": null,
      "metadata": {
        "id": "r90DTWNPnogn",
        "outputId": "990fcdd4-1967-4a6d-f40c-3a612057ee7b"
      },
      "outputs": [
        {
          "name": "stdout",
          "output_type": "stream",
          "text": [
            "R$ 12.57\n"
          ]
        }
      ],
      "source": [
        "valor = 12.5697\n",
        "valor = str('%.2f'%valor)\n",
        "\n",
        "print('R$', valor)"
      ]
    },
    {
      "cell_type": "code",
      "execution_count": null,
      "metadata": {
        "id": "9Ez2YMJ1nogn",
        "outputId": "f4ac971a-0fe1-4569-bfae-e9b703d41149"
      },
      "outputs": [
        {
          "name": "stdout",
          "output_type": "stream",
          "text": [
            "R$ 12.570\n"
          ]
        }
      ],
      "source": [
        "valor = 12.5697\n",
        "valor = str('%.3f'%valor)\n",
        "\n",
        "print('R$', valor)"
      ]
    },
    {
      "cell_type": "markdown",
      "metadata": {
        "id": "MiAdRqSTnogn"
      },
      "source": [
        "## Formatando o espaçamento das expressões na string literal"
      ]
    },
    {
      "cell_type": "markdown",
      "metadata": {
        "id": "1-QzHSgbnogn"
      },
      "source": [
        "<p style='text-align: justify; font-size: 16px; line-height: 1.5;'>Ao utilizar uma expressão na string literal, podemos definir o número mínimo N de caracteres que essa expressão deve ter. Para isso, basta especificar o valor de N, após os dois pontos, da seguinte forma:</p>"
      ]
    },
    {
      "cell_type": "code",
      "execution_count": null,
      "metadata": {
        "id": "xbjUaZJnnogn",
        "outputId": "142b8da8-0c53-4033-bf37-804961f9f1f0"
      },
      "outputs": [
        {
          "name": "stdout",
          "output_type": "stream",
          "text": [
            "Nome:      Renato Hidaka\n",
            "E-mail:    renatohidaka@gmail.com\n",
            "Código:    9392\n"
          ]
        }
      ],
      "source": [
        "nome = 'Renato Hidaka'\n",
        "email = 'renatohidaka@gmail.com'\n",
        "cod = 9392\n",
        "\n",
        "saida = f'{\"Nome:\":10} {nome}\\n{\"E-mail:\":10} {email}\\n{\"Código:\":10} {cod}'\n",
        "\n",
        "print(saida)"
      ]
    },
    {
      "cell_type": "code",
      "execution_count": null,
      "metadata": {
        "id": "yYkeZBE8nogo",
        "outputId": "0b63b60a-0fff-4e4f-ec99-49a04ffb1537"
      },
      "outputs": [
        {
          "name": "stdout",
          "output_type": "stream",
          "text": [
            "Nome:      =>         Renato Hidaka\n",
            "E-mail:    =>         renatohidaka@gmail.com\n",
            "Código:    =>         9392\n"
          ]
        }
      ],
      "source": [
        "nome = 'Renato Hidaka'\n",
        "email = 'renatohidaka@gmail.com'\n",
        "cod = 9392\n",
        "\n",
        "saida = f'{\"Nome:\":10} {\"=>\":10} {nome}\\n{\"E-mail:\":10} {\"=>\":10} {email}\\n{\"Código:\":10} {\"=>\":10} {cod}'\n",
        "\n",
        "print(saida)"
      ]
    },
    {
      "cell_type": "markdown",
      "metadata": {
        "id": "BaSYfEPTnogo"
      },
      "source": [
        "## Melhorando a leitura do código com Multi Line String"
      ]
    },
    {
      "cell_type": "markdown",
      "metadata": {
        "id": "qeifNnV9nogo"
      },
      "source": [
        "<p style='text-align: justify; font-size: 16px; line-height: 1.5;'>Quando utilizamos uma string literal com muitos detalhes de formatação, pode ser que a leitura desse código fique difícil. Na tentativa de melhorar a leitura do código, uma alternativa que você pode utilizar é a string de múltiplas linhas. Na linguagem Python, uma string de múltiplas linhas é definida por três aspas abrindo e fechando. Ao utilizar uma string de múltiplas linhas, saiba que todo espaço e quebra de linha será refletido na impressão. Vamos recodificar a exemplo anterior e observar como a leitura do código melhora.</p>"
      ]
    },
    {
      "cell_type": "code",
      "execution_count": null,
      "metadata": {
        "id": "p4b1Pth1nogo",
        "outputId": "3a5302ef-a73a-401f-cf1a-b3a2fef2da3d"
      },
      "outputs": [
        {
          "name": "stdout",
          "output_type": "stream",
          "text": [
            "\n",
            "Nome:      Renato Hidaka\n",
            "E-mail:    renatohidaka@gmail.com\n",
            "Código:    9392\n"
          ]
        }
      ],
      "source": [
        "nome = 'Renato Hidaka'\n",
        "email = 'renatohidaka@gmail.com'\n",
        "cod = 9392\n",
        "\n",
        "saida = f'''\n",
        "{\"Nome:\":10} {nome}\n",
        "{\"E-mail:\":10} {email}\n",
        "{\"Código:\":10} {cod}'''\n",
        "\n",
        "print(saida)"
      ]
    },
    {
      "cell_type": "markdown",
      "metadata": {
        "id": "RLEd5isTnogo"
      },
      "source": [
        "## Entrada de dados"
      ]
    },
    {
      "cell_type": "markdown",
      "metadata": {
        "id": "h-w8fy5_nogo"
      },
      "source": [
        "<p style='text-align: justify; font-size: 16px; line-height: 1.5;'>Na linguagem Python, utilizamos a função <span style=\"font-weight: bold;\">input</span> para ler as informações da entrada padrão do computador (teclado). É importante saber que toda informação lida pela função <span style=\"font-weight: bold;\">input</span> é armazaneda como string. Por tanto, caso você queria que a informação lida seja armazenada com outro tipo, é necessário utilizar a função apropriada para a conversão de tipo. Outra observação importante da função <span style=\"font-weight: bold;\">input</span> é que ela admite uma string como argumento. O valor passado como argumento dessa função é exibido no monitor para o usuário. Normalmente, essa string funciona como uma mensagem de auxílio para o usuário. Vejamos alguns exemplos de utilização da função <span style=\"font-weight: bold;\">input</span>.</p>"
      ]
    },
    {
      "cell_type": "markdown",
      "metadata": {
        "id": "gC9Lo2WPnogo"
      },
      "source": [
        "<p style='text-align: justify; font-size: 16px; line-height: 1.5;'> <span style=\"font-weight: bold;\">Exemplo 6:</span>  Lendo um nome:</p>"
      ]
    },
    {
      "cell_type": "code",
      "execution_count": null,
      "metadata": {
        "id": "NDkZA3u6nogo",
        "outputId": "8987c2ce-e422-4ac1-da47-9b4812e952be"
      },
      "outputs": [
        {
          "name": "stdout",
          "output_type": "stream",
          "text": [
            "Digite o seu nome: 12\n",
            "Olá 12\n"
          ]
        }
      ],
      "source": [
        "nome = input('Digite o seu nome: ')\n",
        "print('Olá', nome)"
      ]
    },
    {
      "cell_type": "markdown",
      "metadata": {
        "id": "Puzo_Ns8nogo"
      },
      "source": [
        "<p style='text-align: justify; font-size: 16px; line-height: 1.5;'> <span style=\"font-weight: bold;\">Exemplo 7:</span>  Lendo um número inteiro:</p>"
      ]
    },
    {
      "cell_type": "code",
      "execution_count": null,
      "metadata": {
        "id": "gG5CLmtFnogo",
        "outputId": "1a60a292-014f-48df-955f-54bbf38bddd8"
      },
      "outputs": [
        {
          "name": "stdout",
          "output_type": "stream",
          "text": [
            "Digite um número inteiro: 12\n",
            "12\n"
          ]
        }
      ],
      "source": [
        "valor = int(input('Digite um número inteiro: '))\n",
        "print(valor)"
      ]
    },
    {
      "cell_type": "markdown",
      "metadata": {
        "id": "l6WTioKSnogo"
      },
      "source": [
        "<p style='text-align: justify; font-size: 16px; line-height: 1.5;'>Nesse exemplo, observe que estamos utilizando a função <span style=\"font-weight: bold;\">int</span> para converter para número inteiro o valor lido pelo <span style=\"font-weight: bold;\">input</span>. Caso o usuário digite alguma informação que não seja um número inteiro, o programa gera um erro em tempo de execução do tipo <span style=\"font-weight: bold;\">ValueError</span>. No  capítulo de controle de fluxo, você aprenderá como resolver esse problema.</p>"
      ]
    },
    {
      "cell_type": "markdown",
      "metadata": {
        "id": "8I-kKZhBnogo"
      },
      "source": [
        "<p style='text-align: justify; font-size: 16px; line-height: 1.5;'> <span style=\"font-weight: bold;\">Exemplo 8:</span>  Lendo um número fracionário:</p>"
      ]
    },
    {
      "cell_type": "code",
      "execution_count": null,
      "metadata": {
        "id": "9-KbkHDxnogo"
      },
      "outputs": [],
      "source": [
        "valor = float(input('Digite um número fracionário: '))\n",
        "print(valor)"
      ]
    },
    {
      "cell_type": "markdown",
      "metadata": {
        "id": "dLn5H7-rnogo"
      },
      "source": [
        "<p style='text-align: justify; font-size: 16px; line-height: 1.5;'>Nesse exemplo, estamos utilizando a função <span style=\"font-weight: bold;\">float</span> para converter para número fracionário o valor lido pelo <span style=\"font-weight: bold;\">input</span>. Na linguagem Python, os valores fracionários são definidos por ponto e não por vírgula. Caso o usuário digite alguma informação que não seja um número fracionário ou digite um número fracionário com vírgula, o programa também gera um erro em tempo de execução do tipo <span style=\"font-weight: bold;\">ValueError</span>.</p>"
      ]
    },
    {
      "cell_type": "markdown",
      "metadata": {
        "id": "Tma4k2g7nogp"
      },
      "source": [
        "<p style='text-align: justify; font-size: 16px; line-height: 1.5;'>Nos próximos capítulos, depois que estudarmos a função <span style=\"font-weight: bold;\">map</span> e List Comprehensions, nós vamos explorar outras possibilidades de leituras com o comando <span style=\"font-weight: bold;\">input</span>.</p> "
      ]
    },
    {
      "cell_type": "markdown",
      "metadata": {
        "id": "EisD7Pr6nogp"
      },
      "source": [
        "## Leitura de arquivo de texto"
      ]
    },
    {
      "cell_type": "markdown",
      "metadata": {
        "id": "D_6eKnJnnogp"
      },
      "source": [
        "<p style='text-align: justify; font-size: 16px; line-height: 1.5;'>Outro tipo de entrada de dados que vamos estudar refere-se a leitura de arquivos. Na linguagem Python, existem várias formas de ler arquivos. Nós vamos estudar a forma que utiliza a função <span style=\"font-weight: bold;\">open</span> combinada com o comando <span style=\"font-weight: bold;\">with</span>.</p> "
      ]
    },
    {
      "cell_type": "markdown",
      "metadata": {
        "id": "7jzthPbonogp"
      },
      "source": [
        "<p style='text-align: justify; font-size: 16px; line-height: 1.5;'> Para ler um arquivo com a função <span style=\"font-weight: bold;\">open</span>, normalmente, passamos três argumentos. O primeiro argumento refere-se ao caminho do arquivo que será lido. O segundo argumento refere-se ao modo de operação sobre o arquivo. Por fim, o terceiro argumento que diz respeito à um parâmetro nomeado, refere-se ao tipo de codificação do arquivo.</p>"
      ]
    },
    {
      "cell_type": "markdown",
      "metadata": {
        "id": "E1Ip_UJ5nogp"
      },
      "source": [
        "<p style='text-align: justify; font-size: 16px; line-height: 1.5;'> Sobre o caminho do arquivo, se este estiver no mesmo diretório do código fonte, basta passar o nome do arquivo que será lido. Caso contrário, é necessário passar o caminho inteiro. Em relação ao modo de operação, o caractere <span style=\"font-weight: bold;\">r</span> indica que o arquivo sofrerá uma operação de leitura. O modo de operação de leitura é o modo padrão da função <span style=\"font-weight: bold;\">open</span>. Portanto, quando for realizar a leitura de um arquivo, se você quiser, pode omitir esse argumento. Em relação ao parâmetro nomeado <span style=\"font-weight: bold;\">enconding</span>, passamos o argumento <span style=\"font-weight: bold;\">utf-8</span> que normalmente é utilizado para arquivos de texto.</p>"
      ]
    },
    {
      "cell_type": "markdown",
      "metadata": {
        "id": "mjYWRII1nogp"
      },
      "source": [
        "<p style='text-align: justify; font-size: 16px; line-height: 1.5;'>Ao utilizar a função <span style=\"font-weight: bold;\">open</span> para manipular um arquivo, utilizamos o comando <span style=\"font-weight: bold;\">with</span> para gerenciar essa manipulação. No escopo do comando <span style=\"font-weight: bold;\">with</span>, temos o controle da manipulação do arquivo. Após a finalização do escopo do comando <span style=\"font-weight: bold;\">with</span>, temos a garantia de que o canal de comunicação com o arquivo é encerrado. No cabeçalho do comando <span style=\"font-weight: bold;\">with</span>, devemos definir o arquivo que será lido pela função <span style=\"font-weight: bold;\">open</span>, bem como a variável de referência que irá armazenar esse arquivo. Essa variável é definida pelo comando <span style=\"font-weight: bold;\">as</span>. Vejamos alguns exemplos de leitura de um arquivo:</p> "
      ]
    },
    {
      "cell_type": "markdown",
      "metadata": {
        "id": "ZIPia68Bnogp"
      },
      "source": [
        "<p style='text-align: justify; font-size: 16px; line-height: 1.5;'> <span style=\"font-weight: bold;\">Exemplo 9:</span>  Leitura de um arquivo de texto:</p>"
      ]
    },
    {
      "cell_type": "code",
      "execution_count": null,
      "metadata": {
        "id": "NLMIse4enogp",
        "outputId": "159b7760-e283-474e-81cf-fa3aa02b1dce"
      },
      "outputs": [
        {
          "name": "stdout",
          "output_type": "stream",
          "text": [
            "Renato Hidaka Torres\n",
            "renatohidaka@gmail.com\n",
            "93842\n"
          ]
        }
      ],
      "source": [
        "with open('arquivo.txt', 'r', encoding=\"utf-8\") as f:\n",
        "    conteudo = f.read()\n",
        "\n",
        "print(conteudo)"
      ]
    },
    {
      "cell_type": "markdown",
      "metadata": {
        "id": "di5yydNKnogp"
      },
      "source": [
        "<p style='text-align: justify; font-size: 16px; line-height: 1.5;'>Nesse exemplo, estamos lendo um arquivo de nome <span style=\"font-weight: bold;\">arquivo.txt</span> que está no mesmo diretório do código fonte. Definimos a variável <span style=\"font-weight: bold;\">f</span> para referenciar o arquivo. A partir dessa variável, dentro do escopo do comando <span style=\"font-weight: bold;\">with</span>, utilizamos a função <span style=\"font-weight: bold;\">read</span> para ler todo o conteúdo do arquivo. Após a finalização do escopo do comando <span style=\"font-weight: bold;\">with</span>, imprimimos o conteúdo do arquivo que está armazenado na variável <span style=\"font-weight: bold;\">conteudo</span>.</p> "
      ]
    },
    {
      "cell_type": "markdown",
      "metadata": {
        "id": "c1EcKlqUnogp"
      },
      "source": [
        "<p style='text-align: justify; font-size: 16px; line-height: 1.5;'> <span style=\"font-weight: bold;\">Exemplo 10:</span>  Leitura de uma linha do arquivo de texto:</p>"
      ]
    },
    {
      "cell_type": "code",
      "execution_count": null,
      "metadata": {
        "id": "JEKi0Iynnogp",
        "outputId": "79c72161-a6f7-44e0-fa73-671f66d45ca4"
      },
      "outputs": [
        {
          "name": "stdout",
          "output_type": "stream",
          "text": [
            "Renato Hidaka Torres\n",
            "\n",
            "renatohidaka@gmail.com\n",
            "\n"
          ]
        }
      ],
      "source": [
        "with open('arquivo.txt', encoding=\"utf-8\") as f:\n",
        "    linha1 = f.readline()\n",
        "    print(linha1)\n",
        "    linha2 = f.readline()\n",
        "    print(linha2)"
      ]
    },
    {
      "cell_type": "markdown",
      "metadata": {
        "id": "j3WYwDkwnogp"
      },
      "source": [
        "<p style='text-align: justify; font-size: 16px; line-height: 1.5;'>Para ler somente uma linha do arquivo, podemos utilizar a função <span style=\"font-weight: bold;\">readline</span>. Cada vez que essa função é chamada, lemos a próxima linha do arquivo. Se a função <span style=\"font-weight: bold;\">readline</span> é chamada N vezes tal que N seja maior do que o número de linhas existente no arquivo, então, para as chamadas excedentes, a função retorna uma string vazia.</p> "
      ]
    },
    {
      "cell_type": "markdown",
      "metadata": {
        "id": "Dr4ulKyynogp"
      },
      "source": [
        "<p style='text-align: justify; font-size: 16px; line-height: 1.5;'> <span style=\"font-weight: bold;\">Exemplo 11:</span>  Leitura de todas as linhas arquivo de texto:</p>"
      ]
    },
    {
      "cell_type": "code",
      "execution_count": null,
      "metadata": {
        "id": "5uhWRHHmnogp",
        "outputId": "6a35bf38-53e6-4c4d-8df0-a56723767980"
      },
      "outputs": [
        {
          "name": "stdout",
          "output_type": "stream",
          "text": [
            "Renato Hidaka Torres\n",
            "renatohidaka@gmail.com\n",
            "93842"
          ]
        }
      ],
      "source": [
        "with open('arquivo.txt', encoding=\"utf-8\") as f:\n",
        "    for linha in f:\n",
        "        print(linha, end='')"
      ]
    },
    {
      "cell_type": "markdown",
      "metadata": {
        "id": "0LOLj3Afnogq"
      },
      "source": [
        "<p style='text-align: justify; font-size: 16px; line-height: 1.5;'>Nesse exemplo, sabendo que a variável <span style=\"font-weight: bold;\">f</span> está armazenando todo o conteúdo do arquivo, podemos utilizar o laço <span style=\"font-weight: bold;\">for</span> para iterar as linhas do arquivo.</p>"
      ]
    },
    {
      "cell_type": "markdown",
      "metadata": {
        "id": "Rbw6UA8ynogq"
      },
      "source": [
        "<p style='text-align: justify; font-size: 16px; line-height: 1.5;'> <span style=\"font-weight: bold;\">Exemplo 12:</span>  Leitura de arquivo inexistente:</p>"
      ]
    },
    {
      "cell_type": "code",
      "execution_count": null,
      "metadata": {
        "id": "Vl4XNdW3nogq",
        "outputId": "929195c5-c4e4-4597-b3fe-6f6ff6cf48bf"
      },
      "outputs": [
        {
          "ename": "FileNotFoundError",
          "evalue": "[Errno 2] No such file or directory: 'arquivoX.txt'",
          "output_type": "error",
          "traceback": [
            "\u001b[0;31m---------------------------------------------------------------------------\u001b[0m",
            "\u001b[0;31mFileNotFoundError\u001b[0m                         Traceback (most recent call last)",
            "\u001b[0;32m<ipython-input-93-ad1be3ce163a>\u001b[0m in \u001b[0;36m<module>\u001b[0;34m\u001b[0m\n\u001b[0;32m----> 1\u001b[0;31m \u001b[0;32mwith\u001b[0m \u001b[0mopen\u001b[0m\u001b[0;34m(\u001b[0m\u001b[0;34m'arquivoX.txt'\u001b[0m\u001b[0;34m,\u001b[0m \u001b[0mencoding\u001b[0m\u001b[0;34m=\u001b[0m\u001b[0;34m\"utf-8\"\u001b[0m\u001b[0;34m)\u001b[0m \u001b[0;32mas\u001b[0m \u001b[0mf\u001b[0m\u001b[0;34m:\u001b[0m\u001b[0;34m\u001b[0m\u001b[0;34m\u001b[0m\u001b[0m\n\u001b[0m\u001b[1;32m      2\u001b[0m     \u001b[0;32mfor\u001b[0m \u001b[0mlinha\u001b[0m \u001b[0;32min\u001b[0m \u001b[0mf\u001b[0m\u001b[0;34m:\u001b[0m\u001b[0;34m\u001b[0m\u001b[0;34m\u001b[0m\u001b[0m\n\u001b[1;32m      3\u001b[0m         \u001b[0mprint\u001b[0m\u001b[0;34m(\u001b[0m\u001b[0mlinha\u001b[0m\u001b[0;34m,\u001b[0m \u001b[0mend\u001b[0m\u001b[0;34m=\u001b[0m\u001b[0;34m''\u001b[0m\u001b[0;34m)\u001b[0m\u001b[0;34m\u001b[0m\u001b[0;34m\u001b[0m\u001b[0m\n",
            "\u001b[0;31mFileNotFoundError\u001b[0m: [Errno 2] No such file or directory: 'arquivoX.txt'"
          ]
        }
      ],
      "source": [
        "with open('arquivoX.txt', encoding=\"utf-8\") as f:\n",
        "    for linha in f:\n",
        "        print(linha, end='')"
      ]
    },
    {
      "cell_type": "markdown",
      "metadata": {
        "id": "OGruU0ADnogq"
      },
      "source": [
        "<p style='text-align: justify; font-size: 16px; line-height: 1.5;'>Caso você informe um arquivo inexistente ou um arquivo com o caminho incorreto, você receberá um erro em tempo de execução do tipo <span style=\"font-weight: bold;\">FileNotFoundError</span>.</p> "
      ]
    },
    {
      "cell_type": "markdown",
      "metadata": {
        "id": "b0MMP1Trnogq"
      },
      "source": [
        "## Escrita de arquivo"
      ]
    },
    {
      "cell_type": "markdown",
      "metadata": {
        "id": "QKSnOJkDnogq"
      },
      "source": [
        "<p style='text-align: justify; font-size: 16px; line-height: 1.5;'>Para escrever em um arquivo, a única coisa que precisamos mudar no cabeçalho do comando <span style=\"font-weight: bold;\">with</span> é o modo de operação. Como você já sabe, o modo de operação deve ser passado como segundo argumento da função <span style=\"font-weight: bold;\">open</span>. No caso da escrita de arquivo, temos a opção do modo <span style=\"font-weight: bold;\">w</span> e <span style=\"font-weight: bold;\">a</span>. Se o modo <span style=\"font-weight: bold;\">w</span> for usado, então, antes de qualquer escrita, o arquivo é limpado. Já o modo <span style=\"font-weight: bold;\">a</span> mantém o conteúdo existente, acrescentando os novos conteúdos no final do arquivo. Vejamos alguns exemplos de escrita:</p> "
      ]
    },
    {
      "cell_type": "markdown",
      "metadata": {
        "id": "V-4UOY78nogq"
      },
      "source": [
        "<p style='text-align: justify; font-size: 16px; line-height: 1.5;'> <span style=\"font-weight: bold;\">Exemplo 13:</span> Escrevendo com o modo w:</p>"
      ]
    },
    {
      "cell_type": "code",
      "execution_count": null,
      "metadata": {
        "id": "1K1hCncMnogq",
        "outputId": "c41545df-3ebe-4dd3-c179-51d8f3754067"
      },
      "outputs": [
        {
          "name": "stdout",
          "output_type": "stream",
          "text": [
            "Renato Hidaka Torres\n",
            "renatohidaka@gmail.com\n",
            "93842\n"
          ]
        }
      ],
      "source": [
        "with open('arquivo.txt', 'r', encoding=\"utf-8\") as f:\n",
        "    conteudo = f.read()\n",
        "    print(conteudo)"
      ]
    },
    {
      "cell_type": "code",
      "execution_count": null,
      "metadata": {
        "id": "fnNve8Svnogq",
        "outputId": "e8aeaa67-1981-4bcd-cb9b-e6cc5cf11812"
      },
      "outputs": [
        {
          "name": "stdout",
          "output_type": "stream",
          "text": [
            "Júlia Torres\n",
            "julia@email.com\n"
          ]
        }
      ],
      "source": [
        "with open('arquivo.txt', 'w', encoding=\"utf-8\") as f:\n",
        "    f.write('Júlia Torres')\n",
        "    f.write('\\n')\n",
        "    f.write('julia@email.com')\n",
        "    \n",
        "with open('arquivo.txt', 'r', encoding=\"utf-8\") as f:\n",
        "    conteudo = f.read()\n",
        "    print(conteudo)\n"
      ]
    },
    {
      "cell_type": "markdown",
      "metadata": {
        "id": "kPctGaMOnogq"
      },
      "source": [
        "<p style='text-align: justify; font-size: 16px; line-height: 1.5;'>Nesse exemplo, primeiramente realizamos a leitura do arquivo para mostrar o conteúdo existente. Em seguida, realizamos a escrita com o modo de operação <span style=\"font-weight: bold;\">w</span> e realizamos uma nova leitura para mostrar que o conteúdo antigo foi perdido. Na operação de escrita, cada chamada da função <span style=\"font-weight: bold;\">write</span> realiza uma escrita no arquivo. Para realizar uma escrita em uma nova linha do arquivo, você precisa escrever o <span style=\"font-weight: bold;\">\\n</span>.</p> "
      ]
    },
    {
      "cell_type": "markdown",
      "metadata": {
        "id": "Lbfli7GLnogq"
      },
      "source": [
        "<p style='text-align: justify; font-size: 16px; line-height: 1.5;'> <span style=\"font-weight: bold;\">Exemplo 14:</span> Escrevendo com o modo a:</p>"
      ]
    },
    {
      "cell_type": "code",
      "execution_count": null,
      "metadata": {
        "id": "G3LSKn7ynogq",
        "outputId": "b436f7fc-3df3-4802-82d3-37060a155139"
      },
      "outputs": [
        {
          "name": "stdout",
          "output_type": "stream",
          "text": [
            "Júlia Torres\n",
            "julia@email.com\n"
          ]
        }
      ],
      "source": [
        "with open('arquivo.txt', 'r', encoding=\"utf-8\") as f:\n",
        "    conteudo = f.read()\n",
        "    print(conteudo)"
      ]
    },
    {
      "cell_type": "code",
      "execution_count": null,
      "metadata": {
        "id": "K5xSMD4ynogq",
        "outputId": "ef5e86e7-bc1e-4be3-b0c4-81abf37b1b7f"
      },
      "outputs": [
        {
          "name": "stdout",
          "output_type": "stream",
          "text": [
            "Júlia Torres\n",
            "julia@email.com\n",
            "9439\n"
          ]
        }
      ],
      "source": [
        "with open('arquivo.txt', 'a', encoding=\"utf-8\") as f:\n",
        "    f.write('\\n')\n",
        "    f.write('9439')\n",
        "    \n",
        "with open('arquivo.txt', 'r', encoding=\"utf-8\") as f:\n",
        "    conteudo = f.read()\n",
        "    print(conteudo)"
      ]
    },
    {
      "cell_type": "markdown",
      "metadata": {
        "id": "m-odzfWmnogq"
      },
      "source": [
        "<p style='text-align: justify; font-size: 16px; line-height: 1.5;'>Nesse exemplo, utilizamos a mesma estratégia. Primeiramente realizamos a leitura do arquivo para mostrar o conteúdo existente. Em seguida, realizamos a escrita com o modo de operação <span style=\"font-weight: bold;\">a</span> e realizamos uma nova leitura para mostrar que o conteúdo antigo foi mantido.</p> "
      ]
    },
    {
      "cell_type": "markdown",
      "metadata": {
        "id": "trTfU9tenogq"
      },
      "source": [
        "<p style='text-align: justify; font-size: 16px; line-height: 1.5;'> <span style=\"font-weight: bold;\">Exemplo 15:</span> Escrevendo uma multi line string:</p>"
      ]
    },
    {
      "cell_type": "code",
      "execution_count": null,
      "metadata": {
        "id": "_I1QddsKnogr",
        "outputId": "0e4196e7-09d2-43f7-bd5c-9547de3ac482"
      },
      "outputs": [
        {
          "name": "stdout",
          "output_type": "stream",
          "text": [
            "\n",
            "Renato Hidaka Torres\n",
            "renatohidaka@gmail.com\n",
            "95493\n",
            "\n"
          ]
        }
      ],
      "source": [
        "conteudo = '''\n",
        "Renato Hidaka Torres\n",
        "renatohidaka@gmail.com\n",
        "95493\n",
        "'''\n",
        "\n",
        "with open('arquivo.txt', 'w', encoding=\"utf-8\") as f:\n",
        "    f.write(conteudo)\n",
        "    \n",
        "with open('arquivo.txt', 'r', encoding=\"utf-8\") as f:\n",
        "    conteudo = f.read()\n",
        "    print(conteudo)"
      ]
    }
  ],
  "metadata": {
    "kernelspec": {
      "display_name": "Python 3",
      "language": "python",
      "name": "python3"
    },
    "language_info": {
      "codemirror_mode": {
        "name": "ipython",
        "version": 3
      },
      "file_extension": ".py",
      "mimetype": "text/x-python",
      "name": "python",
      "nbconvert_exporter": "python",
      "pygments_lexer": "ipython3",
      "version": "3.9.1"
    },
    "colab": {
      "provenance": []
    }
  },
  "nbformat": 4,
  "nbformat_minor": 0
}
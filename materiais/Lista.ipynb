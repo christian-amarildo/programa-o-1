{
  "cells": [
    {
      "cell_type": "markdown",
      "metadata": {
        "id": "_A46QO4hn3sz"
      },
      "source": [
        "# Introdução à programação em Python\n",
        "## Renato Hidaka Torres"
      ]
    },
    {
      "cell_type": "markdown",
      "metadata": {
        "id": "nf668F6Zn3s6"
      },
      "source": [
        "# Lista"
      ]
    },
    {
      "cell_type": "markdown",
      "metadata": {
        "id": "Trly-FgRn3s6"
      },
      "source": [
        "## Objetivo"
      ]
    },
    {
      "cell_type": "markdown",
      "metadata": {
        "id": "AdM0KXMKn3s6"
      },
      "source": [
        "<p style='text-align: justify; font-size: 16px; line-height: 1.5;'>Neste capítulo você irá aprender a criar programas de computador que necessitem da utilização e manipulação de listas. Iremos lhe apresentar diferentes formas de manipulação de lista. Ao final deste capítulo, você terá várias questões para exercitar o conteúdo.</p>"
      ]
    },
    {
      "cell_type": "markdown",
      "metadata": {
        "id": "wStUfmhYn3s6"
      },
      "source": [
        "## O que é uma lista?"
      ]
    },
    {
      "cell_type": "markdown",
      "metadata": {
        "id": "yV1hRim7n3s6"
      },
      "source": [
        "<p style='text-align: justify; font-size: 16px; line-height: 1.5;'>Uma lista ou sequência é uma estrutura de dados que armazena uma coleção de dados indexados, em que cada valor da coleção é identificado por um índice. Na linguagem de programação Python, o primeiro elemento da lista está no índice zero, o segundo elemento no índice um e assim por diante.</p>"
      ]
    },
    {
      "cell_type": "markdown",
      "metadata": {
        "id": "25SIByVbn3s6"
      },
      "source": [
        "<p style='text-align: justify; font-size: 16px; line-height: 1.5;'>Para criar uma lista com elementos, você deve usar colchetes e adicionar os itens entre eles separados por vírgula, como mostra o exemplo:</p>"
      ]
    },
    {
      "cell_type": "code",
      "execution_count": null,
      "metadata": {
        "id": "89xYhycPn3s7"
      },
      "outputs": [],
      "source": [
        "lista = [1, 5.6, 8, 'Renato', 5, 'Hidaka', 4, 5]"
      ]
    },
    {
      "cell_type": "markdown",
      "metadata": {
        "id": "t1bWc7Mbn3s7"
      },
      "source": [
        "<p style='text-align: justify; font-size: 16px; line-height: 1.5;'>Nesse exemplo, a lista que foi criada está armazenada na variável <span style=\"font-weight: bold;\">lista</span>, portanto, todas vez que você quiser acessar os elementos ou realizar alguma manipulação nessa lista, basta utilizar essa variável.</p>"
      ]
    },
    {
      "cell_type": "markdown",
      "metadata": {
        "id": "r8VzdAB6n3s7"
      },
      "source": [
        "<p style='text-align: justify; font-size: 16px; line-height: 1.5;'>Outra informação importante que você deve perceber é que, na linguagem de programação Python, a lista é heterogênea. Uma lista heterogênea é aquela que permite armazenar múltiplos tipos de dados.</p>"
      ]
    },
    {
      "cell_type": "markdown",
      "metadata": {
        "id": "Us8zLhCgn3s7"
      },
      "source": [
        "<p style='text-align: justify; font-size: 16px; line-height: 1.5;'>Por ser uma sequência, observe que a lista também permite o armazenamento de itens com valores repetidos.</p>"
      ]
    },
    {
      "cell_type": "markdown",
      "metadata": {
        "id": "ENula47nn3s7"
      },
      "source": [
        "## Exibindo os valores da lista"
      ]
    },
    {
      "cell_type": "markdown",
      "metadata": {
        "id": "8KKhN3V2n3s7"
      },
      "source": [
        "<p style='text-align: justify; font-size: 16px; line-height: 1.5;'>Como você já sabe, na linguagem Python, utilizamos a função <span style=\"font-weight: bold;\">print</span> para exibir informações no dispositivo de saída. A função <span style=\"font-weight: bold;\">print</span> recebe qualquer número de argumentos e os imprime em uma linha de texto. Os itens são convertidos em formato de texto, separados por espaços, e há um único '\\n' no final (o caractere \"nova linha\"). O exemplo seguinte mostra como exibir os valores armazenados na variável <span style=\"font-weight: bold;\">lista</span>.</p>"
      ]
    },
    {
      "cell_type": "code",
      "execution_count": null,
      "metadata": {
        "id": "MJz_Ee3wn3s8",
        "outputId": "6b59c1cd-a9ee-41e1-9315-d13a630c9462"
      },
      "outputs": [
        {
          "name": "stdout",
          "output_type": "stream",
          "text": [
            "[1, 5.6, 8, 'Renato', 5, 'Hidaka', 4, 5]\n"
          ]
        }
      ],
      "source": [
        "print(lista)"
      ]
    },
    {
      "cell_type": "markdown",
      "metadata": {
        "id": "Uk31INwyn3s8"
      },
      "source": [
        "<p style='text-align: justify; font-size: 16px; line-height: 1.5;'>Observe que a função <span style=\"font-weight: bold;\">print</span> considerou a <span style=\"font-weight: bold;\">lista</span> como o único argumento passado para a função, por esse motivo, os valores da lista não foram separados por espaço. Para passar cada valor da lista como argumento da função, você pode utilizar o símbolo * precedendo a lista, da seguinte forma:</p>"
      ]
    },
    {
      "cell_type": "code",
      "execution_count": null,
      "metadata": {
        "id": "TlgXYymDn3s8",
        "outputId": "05b97df0-0886-4701-b183-62578d1e56fd"
      },
      "outputs": [
        {
          "name": "stdout",
          "output_type": "stream",
          "text": [
            "1 5.6 8 Renato 5 Hidaka 4 5\n"
          ]
        }
      ],
      "source": [
        "print(*lista)"
      ]
    },
    {
      "cell_type": "markdown",
      "metadata": {
        "id": "Se7JeP8in3s8"
      },
      "source": [
        "<p style='text-align: justify; font-size: 16px; line-height: 1.5;'>Observe que agora os itens da lista estão separados por espaço. Isso significa que cada valor foi passado como argumento da função <span style=\"font-weight: bold;\">print</span>. Esse é o trabalho que * precedendo uma lista faz!</p>"
      ]
    },
    {
      "cell_type": "markdown",
      "metadata": {
        "id": "9i1nAARCn3s8"
      },
      "source": [
        "<p style='text-align: justify; font-size: 16px; line-height: 1.5;'>Caso você queira exibir cada valor da lista em uma linha diferente, você pode modificar o separador da função <span style=\"font-weight: bold;\">print</span> da seguinte forma:</p>"
      ]
    },
    {
      "cell_type": "code",
      "execution_count": null,
      "metadata": {
        "id": "LQQhIhhNn3s8",
        "outputId": "bee7e72c-f470-4362-de38-7ae046ec3f7d"
      },
      "outputs": [
        {
          "name": "stdout",
          "output_type": "stream",
          "text": [
            "1\n",
            "5.6\n",
            "8\n",
            "Renato\n",
            "5\n",
            "Hidaka\n",
            "4\n",
            "5\n"
          ]
        }
      ],
      "source": [
        "print(*lista, sep='\\n')"
      ]
    },
    {
      "cell_type": "markdown",
      "metadata": {
        "id": "tIb-gKAnn3s9"
      },
      "source": [
        "## Acessando os itens da lista"
      ]
    },
    {
      "cell_type": "markdown",
      "metadata": {
        "id": "9sYbP9Rmn3s9"
      },
      "source": [
        "<p style='text-align: justify; font-size: 16px; line-height: 1.5;'>Como dito anteriormente, os elementos da lista são indexados tal que cada item é identificado por um índice. Portanto, para acessar um item da lista, basta informar, entre colchetes, o índice o elemento desejado. No exemplo seguinte estamos acessando e exibindo todos os elementos da lista a partir dos seus índices.<p>"
      ]
    },
    {
      "cell_type": "code",
      "execution_count": null,
      "metadata": {
        "id": "RndA2kqQn3s9",
        "outputId": "a9f325aa-198c-4402-faef-613c3e2bee5c"
      },
      "outputs": [
        {
          "name": "stdout",
          "output_type": "stream",
          "text": [
            "1\n",
            "5.6\n",
            "8\n",
            "Renato\n",
            "5\n",
            "Hidaka\n",
            "4\n",
            "5\n"
          ]
        }
      ],
      "source": [
        "print(lista[0])\n",
        "print(lista[1])\n",
        "print(lista[2])\n",
        "print(lista[3])\n",
        "print(lista[4])\n",
        "print(lista[5])\n",
        "print(lista[6])\n",
        "print(lista[7])"
      ]
    },
    {
      "cell_type": "markdown",
      "metadata": {
        "id": "cnJJd01Tn3s9"
      },
      "source": [
        "<p style='text-align: justify; font-size: 16px; line-height: 1.5;'>Os elementos da lista também podem ser acessados utilizando índices negativos. Nesse caso, o último item da lista é indexado pelo índice -1, o penúltimo pelo índice -2 e assim por diante. Por exemplo, vamos ver como acessar os três últimos itens da lista com os seus índices negativos:</p>"
      ]
    },
    {
      "cell_type": "code",
      "execution_count": null,
      "metadata": {
        "id": "7Pg47m_an3s9",
        "outputId": "58e78619-1f4e-40a4-82ea-dbffd55441dd"
      },
      "outputs": [
        {
          "name": "stdout",
          "output_type": "stream",
          "text": [
            "Hidaka\n",
            "4\n",
            "5\n"
          ]
        }
      ],
      "source": [
        "print(lista[-3])\n",
        "print(lista[-2])\n",
        "print(lista[-1])"
      ]
    },
    {
      "cell_type": "markdown",
      "metadata": {
        "id": "WZzERt8xn3s9"
      },
      "source": [
        "## Cuidado com o IndexError"
      ]
    },
    {
      "cell_type": "markdown",
      "metadata": {
        "id": "c15JptIVn3s9"
      },
      "source": [
        "<p style='text-align: justify; font-size: 16px; line-height: 1.5;'>Quando acessamos os itens da lista pelo índice, é necessário ter cuidado com o <span style=\"font-weight: bold;\">IndexError</span>. Esse erro ocorre quando passamos um índice inexistente na lista.</p>"
      ]
    },
    {
      "cell_type": "code",
      "execution_count": null,
      "metadata": {
        "id": "QZTqa7Kjn3s9",
        "outputId": "eaa13794-aaf7-4245-d10c-cf4d762a1567"
      },
      "outputs": [
        {
          "ename": "IndexError",
          "evalue": "list index out of range",
          "output_type": "error",
          "traceback": [
            "\u001b[0;31m---------------------------------------------------------------------------\u001b[0m",
            "\u001b[0;31mIndexError\u001b[0m                                Traceback (most recent call last)",
            "\u001b[0;32m<ipython-input-67-cb6a6782eaa4>\u001b[0m in \u001b[0;36m<module>\u001b[0;34m\u001b[0m\n\u001b[0;32m----> 1\u001b[0;31m \u001b[0mprint\u001b[0m\u001b[0;34m(\u001b[0m\u001b[0mlista\u001b[0m\u001b[0;34m[\u001b[0m\u001b[0;36m8\u001b[0m\u001b[0;34m]\u001b[0m\u001b[0;34m)\u001b[0m\u001b[0;34m\u001b[0m\u001b[0;34m\u001b[0m\u001b[0m\n\u001b[0m",
            "\u001b[0;31mIndexError\u001b[0m: list index out of range"
          ]
        }
      ],
      "source": [
        "print(lista[8])"
      ]
    },
    {
      "cell_type": "markdown",
      "metadata": {
        "id": "Q8IVt92dn3s9"
      },
      "source": [
        "## Acessando os itens da lista com slice"
      ]
    },
    {
      "cell_type": "markdown",
      "metadata": {
        "id": "31CjsSsQn3s9"
      },
      "source": [
        "<p style='text-align: justify; font-size: 16px; line-height: 1.5;'>Uma outra forma de acessar os elementos de uma lista pelos seus índices pode ser realizada utilizando o <span style=\"font-weight: bold;\">slice</span>. O <span style=\"font-weight: bold;\">slice</span> permite que você acesse uma subsequência da lista, com a seguinte sintaxe: lista[<span style=\"font-weight: bold;\">v1</span>:<span style=\"font-weight: bold;\">v2</span>:<span style=\"font-weight: bold;\">v3</span>]</p>"
      ]
    },
    {
      "cell_type": "markdown",
      "metadata": {
        "id": "Udy2pignn3s9"
      },
      "source": [
        "<p style='text-align: justify; font-size: 16px; line-height: 1.5;'>Onde:</p>\n",
        "    <ul>\n",
        "       <li style='text-align: justify; font-size: 16px; line-height: 1.5;'><span style=\"font-weight: bold;\">v1</span> corresponde ao índice do primeiro elemento com intervalo fechado</li>\n",
        "       <li style='text-align: justify; font-size: 16px; line-height: 1.5;'><span style=\"font-weight: bold;\">v2</span> corresponde ao índice do último elemento com intervalo aberto</li>\n",
        "       <li style='text-align: justify; font-size: 16px; line-height: 1.5;'><span style=\"font-weight: bold;\">v3</span> corresponde ao incremento dos índices</li>\n",
        "    </ul>"
      ]
    },
    {
      "cell_type": "markdown",
      "metadata": {
        "id": "da_c5wESn3s-"
      },
      "source": [
        "<p style='text-align: justify; font-size: 16px; line-height: 1.5;'>Vejamos alguns exemplos:</p>"
      ]
    },
    {
      "cell_type": "markdown",
      "metadata": {
        "id": "JyqzxOVOn3s-"
      },
      "source": [
        "<p style='text-align: justify; font-size: 16px; line-height: 1.5;'><span style=\"font-weight: bold;\">Exemplo 1:</span> Acessando os quatro primeiros valores da lista:</p>"
      ]
    },
    {
      "cell_type": "code",
      "execution_count": null,
      "metadata": {
        "id": "CUhZNtDTn3s-",
        "outputId": "13ee9ee3-062c-45cf-800e-8ba9b28b5016"
      },
      "outputs": [
        {
          "name": "stdout",
          "output_type": "stream",
          "text": [
            "1 5.6 8 Renato\n"
          ]
        }
      ],
      "source": [
        "print(*lista[0:4:1])"
      ]
    },
    {
      "cell_type": "markdown",
      "metadata": {
        "id": "ENYFzerCn3s-"
      },
      "source": [
        "<p style='text-align: justify; font-size: 16px; line-height: 1.5;'>Toda vez que o incremento da lista for igual a 1, se você quiser, não é necessário informá-lo. Por exemplo, você pode reescrever o exemplo 1 da seguinte forma:</p>"
      ]
    },
    {
      "cell_type": "code",
      "execution_count": null,
      "metadata": {
        "id": "bCtInqsan3s-",
        "outputId": "ba6e0d97-0acf-4c1d-9e3d-485382f938d0"
      },
      "outputs": [
        {
          "name": "stdout",
          "output_type": "stream",
          "text": [
            "1 5.6 8 Renato\n"
          ]
        }
      ],
      "source": [
        "print(*lista[0:4])"
      ]
    },
    {
      "cell_type": "markdown",
      "metadata": {
        "id": "5hVeESVAn3s-"
      },
      "source": [
        "<p style='text-align: justify; font-size: 16px; line-height: 1.5;'>Toda vez que você quiser acessar uma subsequência da lista que inicie pelo primeiro índice da lista, se você quiser, não é necessário informar o primeiro valor. Por exemplo, você pode reescrever o exemplo 1 da seguinte forma:</p>"
      ]
    },
    {
      "cell_type": "code",
      "execution_count": null,
      "metadata": {
        "id": "7_3uifqnn3s-",
        "outputId": "0a25fb98-e542-4618-9707-3fde33d71bba"
      },
      "outputs": [
        {
          "name": "stdout",
          "output_type": "stream",
          "text": [
            "1 5.6 8 Renato\n"
          ]
        }
      ],
      "source": [
        "print(*lista[:4])"
      ]
    },
    {
      "cell_type": "markdown",
      "metadata": {
        "id": "doIP2DI-n3s-"
      },
      "source": [
        "<p style='text-align: justify; font-size: 16px; line-height: 1.5;'><span style=\"font-weight: bold;\">Exemplo 2:</span> Acessando o terceiro, quarto e quinto elemento da lista:</p>"
      ]
    },
    {
      "cell_type": "code",
      "execution_count": null,
      "metadata": {
        "id": "8hIf8PvOn3s-",
        "outputId": "85ba39a1-256d-406b-a5d0-db1a4b240c72"
      },
      "outputs": [
        {
          "name": "stdout",
          "output_type": "stream",
          "text": [
            "8 Renato 5\n"
          ]
        }
      ],
      "source": [
        "print(*lista[2:5])"
      ]
    },
    {
      "cell_type": "markdown",
      "metadata": {
        "id": "_ifhWVWxn3s-"
      },
      "source": [
        "<p style='text-align: justify; font-size: 16px; line-height: 1.5;'>Não esqueça, o primeiro elemento da lista é indexado pelo índice zero. Portanto, o terceiro elemento é indexado pelo índice dois que corresponde ao nosso valor <span style=\"font-weight: bold;\">v1</span> do <span style=\"font-weight: bold;\">slice</span>. Como queremos acessar o terceiro, quarto e quinto elemento da lista, o valor de <span style=\"font-weight: bold;\">v2</span> deve ser igual a 5, uma vez que esse argumento é de intervalo aberto. Nesse exemplo o valor de <span style=\"font-weight: bold;\">v3</span> foi omitido porque estamos utilizando o incremento de índice padrão que é igual a um.</p>"
      ]
    },
    {
      "cell_type": "markdown",
      "metadata": {
        "id": "b-haySIBn3s-"
      },
      "source": [
        "<p style='text-align: justify; font-size: 16px; line-height: 1.5;'><span style=\"font-weight: bold;\">Exemplo 3:</span> Acessando os três últimos elementos da lista:</p>"
      ]
    },
    {
      "cell_type": "code",
      "execution_count": null,
      "metadata": {
        "id": "jboiLnh4n3s-",
        "outputId": "f19d6f69-b462-40ff-8ce8-49abd13e6d7b"
      },
      "outputs": [
        {
          "name": "stdout",
          "output_type": "stream",
          "text": [
            "Hidaka 4 5\n"
          ]
        }
      ],
      "source": [
        "print(*lista[-3:])"
      ]
    },
    {
      "cell_type": "markdown",
      "metadata": {
        "id": "IQo3nQptn3s-"
      },
      "source": [
        "<p style='text-align: justify; font-size: 16px; line-height: 1.5;'>Nesse exemplo, utilizamos o slice com ínidce negativo. Observe que o valor de <span style=\"font-weight: bold;\">v2</span> foi omitido. Isso significa que o slice irá percorrer os elementos até o final da lista. Como o valor de <span style=\"font-weight: bold;\">v3</span> também foi omitido, significa que o incremento dos índices será o padrão que é igual a um. Por fim, dado que o valor de <span style=\"font-weight: bold;\">v1</span> é igual a -3, significa que o slice irá gerar uma subsequência com os elementos de índice -3, -2 e -1 que correspondem justamente ao três últimos elementos da lista.</p>"
      ]
    },
    {
      "cell_type": "markdown",
      "metadata": {
        "id": "zdol2PeAn3s-"
      },
      "source": [
        "<p style='text-align: justify; font-size: 16px; line-height: 1.5;'><span style=\"font-weight: bold;\">Exemplo 4:</span> Acessando os itens indexados por índices pares:</p>"
      ]
    },
    {
      "cell_type": "code",
      "execution_count": null,
      "metadata": {
        "id": "VRgXHAO5n3s-",
        "outputId": "089b3bfd-9fcd-4185-882c-d5e4b0dd05a2"
      },
      "outputs": [
        {
          "name": "stdout",
          "output_type": "stream",
          "text": [
            "1 8 5 4\n"
          ]
        }
      ],
      "source": [
        "print(*lista[::2])"
      ]
    },
    {
      "cell_type": "markdown",
      "metadata": {
        "id": "bgagTjsCn3s_"
      },
      "source": [
        "<p style='text-align: justify; font-size: 16px; line-height: 1.5;'>Nesse exemplo utilizamos somente o valor de <span style=\"font-weight: bold;\">v3</span>. O fato de ter omitido os valores de <span style=\"font-weight: bold;\">v1</span> e de <span style=\"font-weight: bold;\">v2</span>, significa que o slice irá percorrer toda a lista para poder formar a subsequência desejada. Como <span style=\"font-weight: bold;\">v3=2</span>, significa que o primeiro elemento da subsequência será o item indexado pelo índice zero, o segundo pelo índice dois, o terceiro pelo índice quatro e assim por diante.</p>"
      ]
    },
    {
      "cell_type": "markdown",
      "metadata": {
        "id": "VpOGvFt_n3s_"
      },
      "source": [
        "<p style='text-align: justify; font-size: 16px; line-height: 1.5;'><span style=\"font-weight: bold;\">Exemplo 5:</span> Construindo a sequência reversa:</p>"
      ]
    },
    {
      "cell_type": "code",
      "execution_count": null,
      "metadata": {
        "id": "I_eQ_Awfn3s_",
        "outputId": "7324e0e1-daff-4978-c89a-f0591ec26b85"
      },
      "outputs": [
        {
          "name": "stdout",
          "output_type": "stream",
          "text": [
            "5 4 Hidaka 5 Renato 8 5.6 1\n"
          ]
        }
      ],
      "source": [
        "print(*lista[::-1])"
      ]
    },
    {
      "cell_type": "markdown",
      "metadata": {
        "id": "i_TNagFln3s_"
      },
      "source": [
        "<p style='text-align: justify; font-size: 16px; line-height: 1.5;'>Nesse exemplo, para construir a lista reversa, utilizamos o incremento negativo. Sendo assim, o primeiro valor acessado será o indexado pelo índice -1, o segundo pelo índice -2 e assim por diante.</p>"
      ]
    },
    {
      "cell_type": "markdown",
      "metadata": {
        "id": "lCsv_2p7n3s_"
      },
      "source": [
        "<p style='text-align: justify; font-size: 16px; line-height: 1.5;'>Cuidado com os valores de <span style=\"font-weight: bold;\">v1</span> e de <span style=\"font-weight: bold;\">v2</span>, quando você for utilizar o incremento negativo. Como o incremento negativo gera índices cada vez menores, é necessário que o valor de <span style=\"font-weight: bold;\">v1</span> seja maior que o valor de <span style=\"font-weight: bold;\">v2</span>. Caso contrário, a subsequência gerada será uma lista vazia. Veja o próximo exemplo em que não estamos tomando o devido cuidado e, portanto, gerando um subsequência vazia</p>"
      ]
    },
    {
      "cell_type": "code",
      "execution_count": null,
      "metadata": {
        "id": "Uu8vj3lyn3s_",
        "outputId": "8e8fa3e4-07b6-41b1-d697-de11dbc74b92"
      },
      "outputs": [
        {
          "name": "stdout",
          "output_type": "stream",
          "text": [
            "\n"
          ]
        }
      ],
      "source": [
        "print(*lista[1:4:-1])"
      ]
    },
    {
      "cell_type": "markdown",
      "metadata": {
        "id": "31lE9OoEn3s_"
      },
      "source": [
        "## Verificando os tipos de dados na lista"
      ]
    },
    {
      "cell_type": "markdown",
      "metadata": {
        "id": "MhgOl6Ocn3s_"
      },
      "source": [
        "<p style='text-align: justify; font-size: 16px; line-height: 1.5;'>Como dito anteriormente, as listas na linguagem de programação Python são coleções heterogêneas. A fim de verificar o tipo de dado armazenado em uma determinada posição da lista ou em uma variável qualquer, o Python possui a função <span style=\"font-weight: bold;\">type</span>. Vamos utilizar essa função para verificar o tipo de dado armazenados nos índices zero e três da lista.</p>"
      ]
    },
    {
      "cell_type": "code",
      "execution_count": null,
      "metadata": {
        "id": "WVs-gFyBn3s_",
        "outputId": "863acd14-742c-46ba-dbba-9467cda5eb0c"
      },
      "outputs": [
        {
          "name": "stdout",
          "output_type": "stream",
          "text": [
            "1 é do tipo <class 'int'>\n",
            "Renato é do tipo <class 'str'>\n"
          ]
        }
      ],
      "source": [
        "print(lista[0], 'é do tipo', type(lista[0]))\n",
        "print(lista[3], 'é do tipo', type(lista[3]))"
      ]
    },
    {
      "cell_type": "markdown",
      "metadata": {
        "id": "OdDqTN5gn3s_"
      },
      "source": [
        "<p style='text-align: justify; font-size: 16px; line-height: 1.5;'>Como pode ser observado, o elemento do índice zero, cujo valor é igual a 1, é do tipo inteiro (<span style=\"font-weight: bold;\">int</span>), e o valor do índice três, cujo valor é igual a Renato, é do tipo string (<span style=\"font-weight: bold;\">str</span>).</p>"
      ]
    },
    {
      "cell_type": "markdown",
      "metadata": {
        "id": "VVNgcNxYn3s_"
      },
      "source": [
        "<p style='text-align: justify; font-size: 16px; line-height: 1.5;'>No contexto das listas heterogêneas, verificar o tipo de dado é importante para que não se tenha erro ao realizar operações entre os itens da lista. Por exemplo, veja o que acontece se você tentar somar os elementos que estão armazenados nos índices zero e três da lista.</p>"
      ]
    },
    {
      "cell_type": "code",
      "execution_count": null,
      "metadata": {
        "id": "BwzitXfwn3s_",
        "outputId": "734031ee-da69-4d62-8562-cf915e0940b8"
      },
      "outputs": [
        {
          "ename": "TypeError",
          "evalue": "unsupported operand type(s) for +: 'int' and 'str'",
          "output_type": "error",
          "traceback": [
            "\u001b[0;31m---------------------------------------------------------------------------\u001b[0m",
            "\u001b[0;31mTypeError\u001b[0m                                 Traceback (most recent call last)",
            "\u001b[0;32m<ipython-input-77-88fea13d9646>\u001b[0m in \u001b[0;36m<module>\u001b[0;34m\u001b[0m\n\u001b[0;32m----> 1\u001b[0;31m \u001b[0mprint\u001b[0m\u001b[0;34m(\u001b[0m\u001b[0mlista\u001b[0m\u001b[0;34m[\u001b[0m\u001b[0;36m0\u001b[0m\u001b[0;34m]\u001b[0m\u001b[0;34m+\u001b[0m\u001b[0mlista\u001b[0m\u001b[0;34m[\u001b[0m\u001b[0;36m3\u001b[0m\u001b[0;34m]\u001b[0m\u001b[0;34m)\u001b[0m\u001b[0;34m\u001b[0m\u001b[0;34m\u001b[0m\u001b[0m\n\u001b[0m",
            "\u001b[0;31mTypeError\u001b[0m: unsupported operand type(s) for +: 'int' and 'str'"
          ]
        }
      ],
      "source": [
        "print(lista[0]+lista[3])"
      ]
    },
    {
      "cell_type": "markdown",
      "metadata": {
        "id": "jq64i_2fn3s_"
      },
      "source": [
        "<p style='text-align: justify; font-size: 16px; line-height: 1.5;'>Como você notou, o programa apresentou um erro informando que a operação de adição não é suportada entre valores do tipo <span style=\"font-weight: bold;\">int</span> e <span style=\"font-weight: bold;\">str</span>. Para evitar esse tipo de erro, você pode fazer a verificação do tipo dos dados antes de realizar a operação. Vejamos um exemplo:</p>"
      ]
    },
    {
      "cell_type": "code",
      "execution_count": null,
      "metadata": {
        "id": "KE9Yq3JTn3tA",
        "outputId": "7b84a335-08a6-4c6f-c853-d70243150ff8"
      },
      "outputs": [
        {
          "name": "stdout",
          "output_type": "stream",
          "text": [
            "operação não permitida\n"
          ]
        }
      ],
      "source": [
        "if type(lista[0]) is int and type(lista[3]) is int:\n",
        "    print(lista[0]+lista[3])\n",
        "else:\n",
        "    print('operação não permitida')"
      ]
    },
    {
      "cell_type": "markdown",
      "metadata": {
        "id": "LWCc8M3mn3tA"
      },
      "source": [
        "<p style='text-align: justify; font-size: 16px; line-height: 1.5;'>Nesse exemplo criamos uma condição para verificar se o tipo dos valores armazenados nos índices zero e três da lista são números inteiros. Caso sejam, exibimos a soma desses valores, caso contrário, se um deles não for do tipo inteiro, estamos informando que a operação não pode ser realizada. Como você sabe, nesse exemplo, no índice três da lista está armazenada a string Renato. Por esse motivo, a saída do nosso programa foi a mensagem <span style=\"font-weight: bold;\">operação não permitida</span>.</p>"
      ]
    },
    {
      "cell_type": "markdown",
      "metadata": {
        "id": "pE_FJCM2n3tA"
      },
      "source": [
        "<p style='text-align: justify; font-size: 16px; line-height: 1.5;'>Tecnicamente, um número inteiro pode ser somado com um número real. Então, em um cenário prático, essa condição do exemplo anterior precisaria ser refinada para considerar o tipo <span style=\"font-weight: bold;\">float</span> também. Contudo, a verificação de tipos para evitar erros em tempo de execução pode requerer inúmeras condições e ficar criando essas condições não seria nada prático. Nos próximos capítulos, você verá como mapear esses possíveis erros em tempo de execução de uma forma mais elegante.</p>"
      ]
    },
    {
      "cell_type": "markdown",
      "metadata": {
        "id": "w5YYdU0on3tA"
      },
      "source": [
        "## Inserindo um elmento no final da lista com a função append"
      ]
    },
    {
      "cell_type": "markdown",
      "metadata": {
        "id": "B2kwQYAIn3tA"
      },
      "source": [
        "<p style='text-align: justify; font-size: 16px; line-height: 1.5;'>Para inserir um novo elemento na lista, basta utilizar a função append da seguinte forma:</p>"
      ]
    },
    {
      "cell_type": "code",
      "execution_count": null,
      "metadata": {
        "id": "-hGZbfWKn3tA",
        "outputId": "872f3490-8b74-4598-a9ca-8059a5748e74"
      },
      "outputs": [
        {
          "name": "stdout",
          "output_type": "stream",
          "text": [
            "1 5.6 8 Renato 5 Hidaka 4 5 17\n"
          ]
        }
      ],
      "source": [
        "lista.append(17)\n",
        "print(*lista)"
      ]
    },
    {
      "cell_type": "markdown",
      "metadata": {
        "id": "skHm53WTn3tA"
      },
      "source": [
        "<p style='text-align: justify; font-size: 16px; line-height: 1.5;'>Nesse exemplo estamos inserindo o número 17 no final da lista e, em seguida, exibindo os valores da lista.</p>"
      ]
    },
    {
      "cell_type": "markdown",
      "metadata": {
        "id": "hqcx_LU1n3tA"
      },
      "source": [
        "<p style='text-align: justify; font-size: 16px; line-height: 1.5;'>Você pode passar como argumento da função append qual quer informação, inclusive um valor armazenado em uma variável. Por exemplo:</p>"
      ]
    },
    {
      "cell_type": "code",
      "execution_count": null,
      "metadata": {
        "id": "cPQu5-qBn3tA",
        "outputId": "fd060aa0-2063-414a-f042-8349108000b0"
      },
      "outputs": [
        {
          "name": "stdout",
          "output_type": "stream",
          "text": [
            "1 5.6 8 Renato 5 Hidaka 4 5 17 3.14\n"
          ]
        }
      ],
      "source": [
        "pi = 3.14\n",
        "lista.append(pi)\n",
        "print(*lista)"
      ]
    },
    {
      "cell_type": "markdown",
      "metadata": {
        "id": "UH0N0aULn3tA"
      },
      "source": [
        "<p style='text-align: justify; font-size: 16px; line-height: 1.5;'>Nesse exemplo estamos inserindo o valor da variável <span style=\"font-weight: bold;\">pi</span> no final da lista e, em seguida, exibindo os valores da lista.</p>"
      ]
    },
    {
      "cell_type": "markdown",
      "metadata": {
        "id": "Su8wWJpGn3tA"
      },
      "source": [
        "<p style='text-align: justify; font-size: 16px; line-height: 1.5;'>O que acontece se eu passar uma nova lista como argumento da função append? Vejamos:</p>"
      ]
    },
    {
      "cell_type": "code",
      "execution_count": null,
      "metadata": {
        "id": "bzIDEDYtn3tA",
        "outputId": "fc48a60e-5ce5-4044-f418-cc11119273bd"
      },
      "outputs": [
        {
          "name": "stdout",
          "output_type": "stream",
          "text": [
            "1 5.6 8 Renato 5 Hidaka 4 5 17 3.14 ['Python', 'Java', 'C++']\n"
          ]
        }
      ],
      "source": [
        "linguagens = ['Python', 'Java', 'C++']\n",
        "lista.append(linguagens)\n",
        "print(*lista)"
      ]
    },
    {
      "cell_type": "markdown",
      "metadata": {
        "id": "2-ATZaPzn3tA"
      },
      "source": [
        "<p style='text-align: justify; font-size: 16px; line-height: 1.5;'>Como você pode observar, o append inseriu a lista armazenada na variável <span style=\"font-weight: bold;\">linguagens</span> no final da nossa lista. Isso é possível, uma vez que a lista é uma coleção de dados heterogênea. Nesse exemplo, você acabou ficando com uma lista dentro de outra lista. Caso você queria inserir os elementos de uma lista em outra lista, a função mais apropriado é a função <span style=\"font-weight: bold;\">extend</span>.</p>"
      ]
    },
    {
      "cell_type": "markdown",
      "metadata": {
        "id": "heDq9zxnn3tA"
      },
      "source": [
        "## Inserindo elementos de uma lista em outra lista com a função extend"
      ]
    },
    {
      "cell_type": "markdown",
      "metadata": {
        "id": "aR5RjsVrn3tA"
      },
      "source": [
        "<p style='text-align: justify; font-size: 16px; line-height: 1.5;'>Para inserir os elementos de uma lista em outra lista, basta utilizar a função extend da seguinte forma:</p>"
      ]
    },
    {
      "cell_type": "code",
      "execution_count": null,
      "metadata": {
        "id": "xY2bt4d-n3tA",
        "outputId": "c54a1c18-8381-4dc2-f0d5-c73deda4228d"
      },
      "outputs": [
        {
          "name": "stdout",
          "output_type": "stream",
          "text": [
            "Python Java C++ Elixir Dart Julia\n"
          ]
        }
      ],
      "source": [
        "linguagens = ['Python', 'Java', 'C++']\n",
        "novas = ['Elixir', 'Dart', 'Julia']\n",
        "linguagens.extend(novas)\n",
        "print(*linguagens)"
      ]
    },
    {
      "cell_type": "markdown",
      "metadata": {
        "id": "UZmMGgM4n3tB"
      },
      "source": [
        "<p style='text-align: justify; font-size: 16px; line-height: 1.5;'>Nesse exemplo estamos criando duas listas que estão sendo armazenadas nas variáveis <span style=\"font-weight: bold;\">linguagens</span> e <span style=\"font-weight: bold;\">novas</span>. Em seguida, estamos inserindo os elementos da lista armazenada na variável <span style=\"font-weight: bold;\">novas</span> no final da lista armazenada na variável <span style=\"font-weight: bold;\">linguagnes</span>.</p>"
      ]
    },
    {
      "cell_type": "markdown",
      "metadata": {
        "id": "ZQg8FLB8n3tB"
      },
      "source": [
        "## Inserindo um elemento em uma posição específica da lista com a função insert"
      ]
    },
    {
      "cell_type": "markdown",
      "metadata": {
        "id": "jEKIG7Nvn3tB"
      },
      "source": [
        "<p style='text-align: justify; font-size: 16px; line-height: 1.5;'>Para inserir um novo elemento em uma posição específica da lista, basta utilizar a função insert da seguinte forma:</p>"
      ]
    },
    {
      "cell_type": "code",
      "execution_count": null,
      "metadata": {
        "id": "crXRD0Ryn3tB",
        "outputId": "10e48809-24e5-4da9-b5f6-fe615de0970d"
      },
      "outputs": [
        {
          "name": "stdout",
          "output_type": "stream",
          "text": [
            "Python Java PHP C++ Elixir Dart Julia\n"
          ]
        }
      ],
      "source": [
        "linguagens.insert(2, 'PHP')\n",
        "print(*linguagens)"
      ]
    },
    {
      "cell_type": "markdown",
      "metadata": {
        "id": "RCbSWdwBn3tB"
      },
      "source": [
        "<p style='text-align: justify; font-size: 16px; line-height: 1.5;'>Nesse exemplo estamos inserindo a string 'PHP' no índice 2 da lista. Observe que essa inserção provocou uma reindexação na lista. O elemento que estava no índice 2 foi para o índice 3, o do índice 3 para o índice 4 e assim por diante.</p>"
      ]
    },
    {
      "cell_type": "markdown",
      "metadata": {
        "id": "JHTWs6K1n3tB"
      },
      "source": [
        "<p style='text-align: justify; font-size: 16px; line-height: 1.5;'>Você deve ter percebido que a função insert necessita de dois argumentos. O primeiro argumento refere-se ao índice que será utilizado para indexar o novo elemento que será inserido, já o segundo argumento refere-se ao elemento que será inserido.</p>"
      ]
    },
    {
      "cell_type": "markdown",
      "metadata": {
        "id": "vNnhHnmfn3tB"
      },
      "source": [
        "<p style='text-align: justify; font-size: 16px; line-height: 1.5;'><span style=\"font-weight: bold;\">Observação:</span> Ao utilizar a função insert, caso o índice passado como argumento não exista na lista, por padrão, o elemento será inserido no final da lista.</p>"
      ]
    },
    {
      "cell_type": "markdown",
      "metadata": {
        "id": "ejrNHYHTn3tB"
      },
      "source": [
        "## Removendo um elemento da lista com a função remove"
      ]
    },
    {
      "cell_type": "markdown",
      "metadata": {
        "id": "7_Mk3AIpn3tB"
      },
      "source": [
        "<p style='text-align: justify; font-size: 16px; line-height: 1.5;'>Para remover um elemento da lista, basta utilizar a função remove da seguinte forma:</p>"
      ]
    },
    {
      "cell_type": "code",
      "execution_count": null,
      "metadata": {
        "id": "uQfaTCfRn3tB",
        "outputId": "7fefad95-4c0e-4a96-e2e4-7992d98d0bbe"
      },
      "outputs": [
        {
          "name": "stdout",
          "output_type": "stream",
          "text": [
            "Python Java C++ Elixir Dart Julia\n"
          ]
        }
      ],
      "source": [
        "linguagens.remove('PHP')\n",
        "print(*linguagens)"
      ]
    },
    {
      "cell_type": "markdown",
      "metadata": {
        "id": "R-mfgrphn3tB"
      },
      "source": [
        "<p style='text-align: justify; font-size: 16px; line-height: 1.5;'>Nesse exemplo foi removido a string 'PHP'. Após a remoção, os itens que estavam após o elemento removido são reindexados. Se você tentar remover um elemento não existente, você terá um erro em tempo de execução do tipo <span style=\"font-weight: bold;\">ValueError</span>. Veja o que acontece se você tentar remover a string 'JavaScript' da lista:</p>"
      ]
    },
    {
      "cell_type": "code",
      "execution_count": null,
      "metadata": {
        "id": "IZ-G9vHzn3tB",
        "outputId": "6b5260ca-ad31-43c7-94fe-356497fc1b3b"
      },
      "outputs": [
        {
          "ename": "ValueError",
          "evalue": "list.remove(x): x not in list",
          "output_type": "error",
          "traceback": [
            "\u001b[0;31m---------------------------------------------------------------------------\u001b[0m",
            "\u001b[0;31mValueError\u001b[0m                                Traceback (most recent call last)",
            "\u001b[0;32m<ipython-input-92-83447ffcf23c>\u001b[0m in \u001b[0;36m<module>\u001b[0;34m\u001b[0m\n\u001b[0;32m----> 1\u001b[0;31m \u001b[0mlinguagens\u001b[0m\u001b[0;34m.\u001b[0m\u001b[0mremove\u001b[0m\u001b[0;34m(\u001b[0m\u001b[0;34m'JavaScript'\u001b[0m\u001b[0;34m)\u001b[0m\u001b[0;34m\u001b[0m\u001b[0;34m\u001b[0m\u001b[0m\n\u001b[0m\u001b[1;32m      2\u001b[0m \u001b[0mprint\u001b[0m\u001b[0;34m(\u001b[0m\u001b[0;34m*\u001b[0m\u001b[0mlinguagens\u001b[0m\u001b[0;34m)\u001b[0m\u001b[0;34m\u001b[0m\u001b[0;34m\u001b[0m\u001b[0m\n",
            "\u001b[0;31mValueError\u001b[0m: list.remove(x): x not in list"
          ]
        }
      ],
      "source": [
        "linguagens.remove('JavaScript')\n",
        "print(*linguagens)"
      ]
    },
    {
      "cell_type": "markdown",
      "metadata": {
        "id": "xv0zD4zMn3tB"
      },
      "source": [
        "<p style='text-align: justify; font-size: 16px; line-height: 1.5;'>Por ser uma sequência, uma lista admite a repetição de elementos. Nesse caso, caso a lista possua valores repetidos, a função remove só removerá o primeiro elemento encontrado, veja:</p>"
      ]
    },
    {
      "cell_type": "code",
      "execution_count": null,
      "metadata": {
        "id": "4ROAOsAon3tB",
        "outputId": "18765e10-1385-47c8-c7bb-e78f85f572b9"
      },
      "outputs": [
        {
          "name": "stdout",
          "output_type": "stream",
          "text": [
            "1 2 6 7 4\n"
          ]
        }
      ],
      "source": [
        "lista = [1,2,4,6,7,4]\n",
        "lista.remove(4)\n",
        "print(*lista)"
      ]
    },
    {
      "cell_type": "markdown",
      "metadata": {
        "id": "505aGbMVn3tC"
      },
      "source": [
        "## Removendo um elemento da lista pelo índice com a função pop"
      ]
    },
    {
      "cell_type": "markdown",
      "metadata": {
        "id": "l5Hqs-Rpn3tC"
      },
      "source": [
        "<p style='text-align: justify; font-size: 16px; line-height: 1.5;'>Para remover um elemento da lista pelo índice, basta utilizar a função pop da seguinte forma:</p>"
      ]
    },
    {
      "cell_type": "code",
      "execution_count": null,
      "metadata": {
        "id": "z5e5MNmbn3tC",
        "outputId": "49f1ef99-2f30-4306-8e92-b43b0a6cd1b2"
      },
      "outputs": [
        {
          "name": "stdout",
          "output_type": "stream",
          "text": [
            "1 6 7 4\n"
          ]
        }
      ],
      "source": [
        "lista.pop(1)\n",
        "print(*lista)"
      ]
    },
    {
      "cell_type": "markdown",
      "metadata": {
        "id": "qetabl08n3tC"
      },
      "source": [
        "<p style='text-align: justify; font-size: 16px; line-height: 1.5;'>Nesse exemplo passamos como argumento da função pop o número 1, indicando que desejamos remover o elemento da lista indexado por esse índice. Como pode ser observado, o item removido foi o número 2.</p>"
      ]
    },
    {
      "cell_type": "markdown",
      "metadata": {
        "id": "WzKg_Efcn3tC"
      },
      "source": [
        "<p style='text-align: justify; font-size: 16px; line-height: 1.5;'>Você também pode passar como argumento da função pop os índices negativos. Por exemplo, para remover o penúltimo elemento da lista, o seguinte código pode ser executado:</p>"
      ]
    },
    {
      "cell_type": "code",
      "execution_count": null,
      "metadata": {
        "id": "Fk5kyFngn3tC",
        "outputId": "1b438868-6d14-4fe4-8e42-27e9414896fb"
      },
      "outputs": [
        {
          "name": "stdout",
          "output_type": "stream",
          "text": [
            "1 6 4\n"
          ]
        }
      ],
      "source": [
        "lista.pop(-2)\n",
        "print(*lista)"
      ]
    },
    {
      "cell_type": "markdown",
      "metadata": {
        "id": "Dppcr01in3tC"
      },
      "source": [
        "<p style='text-align: justify; font-size: 16px; line-height: 1.5;'>Se você tentar remover um elemento de índice inexistente, receberá um erro em tempo de execução do tipo <span style=\"font-weight: bold;\">IndexError</span>. Veja o que acontece se você tentar remover um elemento do índice 10:</p>"
      ]
    },
    {
      "cell_type": "code",
      "execution_count": null,
      "metadata": {
        "id": "q402Q36Rn3tC",
        "outputId": "939fc376-df53-4a09-8091-143458c2f65e"
      },
      "outputs": [
        {
          "ename": "IndexError",
          "evalue": "pop index out of range",
          "output_type": "error",
          "traceback": [
            "\u001b[0;31m---------------------------------------------------------------------------\u001b[0m",
            "\u001b[0;31mIndexError\u001b[0m                                Traceback (most recent call last)",
            "\u001b[0;32m<ipython-input-111-beb1c2881631>\u001b[0m in \u001b[0;36m<module>\u001b[0;34m\u001b[0m\n\u001b[0;32m----> 1\u001b[0;31m \u001b[0mlista\u001b[0m\u001b[0;34m.\u001b[0m\u001b[0mpop\u001b[0m\u001b[0;34m(\u001b[0m\u001b[0;36m10\u001b[0m\u001b[0;34m)\u001b[0m\u001b[0;34m\u001b[0m\u001b[0;34m\u001b[0m\u001b[0m\n\u001b[0m",
            "\u001b[0;31mIndexError\u001b[0m: pop index out of range"
          ]
        }
      ],
      "source": [
        "lista.pop(10)"
      ]
    },
    {
      "cell_type": "markdown",
      "metadata": {
        "id": "PCfr3avwn3tC"
      },
      "source": [
        "<p style='text-align: justify; font-size: 16px; line-height: 1.5;'>Se você não passar nenhum argumento para a função pop, por padrão ela remove o último elemento da lista, veja:</p>"
      ]
    },
    {
      "cell_type": "code",
      "execution_count": null,
      "metadata": {
        "id": "SJh3QOkxn3tC",
        "outputId": "5acbb609-9cc7-4bc4-cc23-928484f882e8"
      },
      "outputs": [
        {
          "name": "stdout",
          "output_type": "stream",
          "text": [
            "1 6\n"
          ]
        }
      ],
      "source": [
        "lista.pop()\n",
        "print(*lista)"
      ]
    },
    {
      "cell_type": "markdown",
      "metadata": {
        "id": "mKEMMwlen3tC"
      },
      "source": [
        "<p style='text-align: justify; font-size: 16px; line-height: 1.5;'>A função pop, além de remover o elemento, também retorna o elemento removido. Para armazenar o elemento removido, basta atribuir o retorno da função pop a uma variável. Veja um exemplo.</p>"
      ]
    },
    {
      "cell_type": "code",
      "execution_count": null,
      "metadata": {
        "id": "xOuzMuDQn3tC",
        "outputId": "e340284f-a8c7-4b53-b950-45b0c3040321"
      },
      "outputs": [
        {
          "name": "stdout",
          "output_type": "stream",
          "text": [
            "2\n",
            "1 3 4 5\n"
          ]
        }
      ],
      "source": [
        "lista = [1,2,3,4,5]\n",
        "elemento_removido = lista.pop(1)\n",
        "print(elemento_removido)\n",
        "print(*lista)"
      ]
    },
    {
      "cell_type": "markdown",
      "metadata": {
        "id": "i2-C-Ojfn3tC"
      },
      "source": [
        "<p style='text-align: justify; font-size: 16px; line-height: 1.5;'>Nesse exemplo passamos como argumento da função pop o número 1, indicando que desejamos remover o elemento da lista indexado por esse índice. Como pode ser observado, a variável <span style=\"font-weight: bold;\">elemento_removido</span> armazenou o número 2 que foi o elemento removido da lista.</p>"
      ]
    },
    {
      "cell_type": "markdown",
      "metadata": {
        "id": "Z1nMckXzn3tC"
      },
      "source": [
        "## Removendo um elemento da lista pelo índice com o comando del"
      ]
    },
    {
      "cell_type": "markdown",
      "metadata": {
        "id": "hRDGZVs9n3tC"
      },
      "source": [
        "<p style='text-align: justify; font-size: 16px; line-height: 1.5;'>Para remover um elemento da lista pelo índice, você pode utilizar o comando del da seguinte forma:</p>"
      ]
    },
    {
      "cell_type": "code",
      "execution_count": null,
      "metadata": {
        "id": "NlaWMXdKn3tC",
        "outputId": "66e9e17d-5c37-419d-8abf-027e8448177a"
      },
      "outputs": [
        {
          "name": "stdout",
          "output_type": "stream",
          "text": [
            "[1, 2, 4, 5, 6]\n"
          ]
        }
      ],
      "source": [
        "lista = [1,2,3,4,5,6]\n",
        "del lista[2]\n",
        "print(lista)"
      ]
    },
    {
      "cell_type": "markdown",
      "metadata": {
        "id": "ofLclzBLn3tC"
      },
      "source": [
        "<p style='text-align: justify; font-size: 16px; line-height: 1.5;'>Nesse exemplo estamos informando que o valor da lista indexado pelo índice 2 será removido</p>"
      ]
    },
    {
      "cell_type": "markdown",
      "metadata": {
        "id": "fZIBs0san3tD"
      },
      "source": [
        "<p style='text-align: justify; font-size: 16px; line-height: 1.5;'>Como você pode observar, o comando del não é uma função. Na verdade, o del é um palavra reservada da linguagem Python que é utilizada para remover elementos de coleções ou objetos da memória. Para remover elementos de uma lista com o comando del, você precisa informar a variável que está armazenando a lista, bem como o índice do elemento a ser removido. Diferentemente da função pop, o comando del não retorna o elemento que foi removido.</p>"
      ]
    },
    {
      "cell_type": "markdown",
      "metadata": {
        "id": "McnDdHFsn3tD"
      },
      "source": [
        "<p style='text-align: justify; font-size: 16px; line-height: 1.5;'>Ao utilizar o comando del você também precisa ter cuidado com o erro do tipo <span style=\"font-weight: bold;\">IndexError</span>. Esse erro corre em tempo de execução, caso você tente remover um elemento de índice inexistente. Veja um exemplo:</p>"
      ]
    },
    {
      "cell_type": "code",
      "execution_count": null,
      "metadata": {
        "id": "VFQECYeSn3tD",
        "outputId": "178239cb-8c01-41a6-b45b-5258afeef30c"
      },
      "outputs": [
        {
          "ename": "IndexError",
          "evalue": "list assignment index out of range",
          "output_type": "error",
          "traceback": [
            "\u001b[0;31m---------------------------------------------------------------------------\u001b[0m",
            "\u001b[0;31mIndexError\u001b[0m                                Traceback (most recent call last)",
            "\u001b[0;32m<ipython-input-116-29003514b171>\u001b[0m in \u001b[0;36m<module>\u001b[0;34m\u001b[0m\n\u001b[0;32m----> 1\u001b[0;31m \u001b[0;32mdel\u001b[0m \u001b[0mlista\u001b[0m\u001b[0;34m[\u001b[0m\u001b[0;36m12\u001b[0m\u001b[0;34m]\u001b[0m\u001b[0;34m\u001b[0m\u001b[0;34m\u001b[0m\u001b[0m\n\u001b[0m\u001b[1;32m      2\u001b[0m \u001b[0mprint\u001b[0m\u001b[0;34m(\u001b[0m\u001b[0mlista\u001b[0m\u001b[0;34m)\u001b[0m\u001b[0;34m\u001b[0m\u001b[0;34m\u001b[0m\u001b[0m\n",
            "\u001b[0;31mIndexError\u001b[0m: list assignment index out of range"
          ]
        }
      ],
      "source": [
        "del lista[12]\n",
        "print(lista)"
      ]
    },
    {
      "cell_type": "markdown",
      "metadata": {
        "id": "IvTXoP4Xn3tD"
      },
      "source": [
        "<p style='text-align: justify; font-size: 16px; line-height: 1.5;'> Uma vantagem do comando del é permitir a utilização do slice para definir uma subsequência de elementos a serem removidos. Por exemplo, veja como remover os três primeiros elementos da lista com slice:</p>"
      ]
    },
    {
      "cell_type": "code",
      "execution_count": null,
      "metadata": {
        "id": "wryzUCUin3tD",
        "outputId": "b8ddb23c-5c29-4555-fd68-718d4476ff4b"
      },
      "outputs": [
        {
          "name": "stdout",
          "output_type": "stream",
          "text": [
            "4 9 10\n"
          ]
        }
      ],
      "source": [
        "lista = [3, 6, 5, 4, 9, 10]\n",
        "del lista[:3]\n",
        "print(*lista)"
      ]
    },
    {
      "cell_type": "markdown",
      "metadata": {
        "id": "mo53kxOUn3tD"
      },
      "source": [
        "<p style='text-align: justify; font-size: 16px; line-height: 1.5;'> Como você já estudou o slice, sabe que existem diferentes formas de utilizá-lo para gerar subsequências. Nesse exemplo, como foram removidos os três primeiros elementos da lista, por opção de simplificação, os valore de <span style=\"font-weight: bold;\">v1</span> e <span style=\"font-weight: bold;\">v3</span> foram omitidos do slice.</p>"
      ]
    },
    {
      "cell_type": "markdown",
      "metadata": {
        "id": "e9x__KyFn3tD"
      },
      "source": [
        "<p style='text-align: justify; font-size: 16px; line-height: 1.5;'> Utilizando o slice, podemos remover todos os elementos da lista da seguinte forma:</p>"
      ]
    },
    {
      "cell_type": "code",
      "execution_count": null,
      "metadata": {
        "id": "DGf0ic_In3tD",
        "outputId": "b48c1181-538a-4b23-80a6-37717afb07eb"
      },
      "outputs": [
        {
          "name": "stdout",
          "output_type": "stream",
          "text": [
            "[]\n"
          ]
        }
      ],
      "source": [
        "del lista[:]\n",
        "print(lista)"
      ]
    },
    {
      "cell_type": "markdown",
      "metadata": {
        "id": "VUQYpreXn3tD"
      },
      "source": [
        "<p style='text-align: justify; font-size: 16px; line-height: 1.5;'> Nesse exemplo, como não foram informados os valores de <span style=\"font-weight: bold;\">v1</span> e <span style=\"font-weight: bold;\">v2</span> do slice, a subsequência gerada é igual a própria lista, implicando na remoção de todos os elementos.</p>"
      ]
    },
    {
      "cell_type": "markdown",
      "metadata": {
        "id": "YEyWKagkn3tD"
      },
      "source": [
        "<p style='text-align: justify; font-size: 16px; line-height: 1.5;'> Ao utilizar o comando del, caso você não informe o índice do elemento a ser removido, além de remover toda a lista, o comando del também remove a referência da memória, ou seja, a variável que armazena a lista deixa de existir e caso você tente utilizá-la sem uma nova atribuição, receberá um erro em tempo de execução do tipo <span style=\"font-weight: bold;\">NameError</span>. Veja um exemplo:</p>"
      ]
    },
    {
      "cell_type": "code",
      "execution_count": null,
      "metadata": {
        "id": "s8DxGMYXn3tD",
        "outputId": "1f3103a2-b144-4e02-ebbf-f8d8a0d370ed"
      },
      "outputs": [
        {
          "ename": "NameError",
          "evalue": "name 'lista' is not defined",
          "output_type": "error",
          "traceback": [
            "\u001b[0;31m---------------------------------------------------------------------------\u001b[0m",
            "\u001b[0;31mNameError\u001b[0m                                 Traceback (most recent call last)",
            "\u001b[0;32m<ipython-input-126-9286d3f74dc7>\u001b[0m in \u001b[0;36m<module>\u001b[0;34m\u001b[0m\n\u001b[1;32m      1\u001b[0m \u001b[0mlista\u001b[0m \u001b[0;34m=\u001b[0m \u001b[0;34m[\u001b[0m\u001b[0;36m3\u001b[0m\u001b[0;34m,\u001b[0m \u001b[0;36m6\u001b[0m\u001b[0;34m,\u001b[0m \u001b[0;36m5\u001b[0m\u001b[0;34m,\u001b[0m \u001b[0;36m4\u001b[0m\u001b[0;34m,\u001b[0m \u001b[0;36m9\u001b[0m\u001b[0;34m,\u001b[0m \u001b[0;36m10\u001b[0m\u001b[0;34m]\u001b[0m\u001b[0;34m\u001b[0m\u001b[0;34m\u001b[0m\u001b[0m\n\u001b[1;32m      2\u001b[0m \u001b[0;32mdel\u001b[0m \u001b[0mlista\u001b[0m\u001b[0;34m\u001b[0m\u001b[0;34m\u001b[0m\u001b[0m\n\u001b[0;32m----> 3\u001b[0;31m \u001b[0mprint\u001b[0m\u001b[0;34m(\u001b[0m\u001b[0mlista\u001b[0m\u001b[0;34m)\u001b[0m\u001b[0;34m\u001b[0m\u001b[0;34m\u001b[0m\u001b[0m\n\u001b[0m",
            "\u001b[0;31mNameError\u001b[0m: name 'lista' is not defined"
          ]
        }
      ],
      "source": [
        "lista = [3, 6, 5, 4, 9, 10]\n",
        "del lista\n",
        "print(lista)"
      ]
    },
    {
      "cell_type": "markdown",
      "metadata": {
        "id": "4IC24-S5n3tD"
      },
      "source": [
        "## Removendo todos os elementos da lista com a função clear"
      ]
    },
    {
      "cell_type": "markdown",
      "metadata": {
        "id": "oNRotzhLn3tD"
      },
      "source": [
        "<p style='text-align: justify; font-size: 16px; line-height: 1.5;'>Para remover todos os elementos da lista, você pode utilizar a função clear da seguinte forma:</p>"
      ]
    },
    {
      "cell_type": "code",
      "execution_count": null,
      "metadata": {
        "id": "MX27tdAfn3tD",
        "outputId": "5f2c709a-4194-4cda-86e0-ceaa3861676b"
      },
      "outputs": [
        {
          "name": "stdout",
          "output_type": "stream",
          "text": [
            "[]\n"
          ]
        }
      ],
      "source": [
        "lista = [3, 6, 5, 4, 9, 10]\n",
        "lista.clear()\n",
        "print(lista)"
      ]
    },
    {
      "cell_type": "markdown",
      "metadata": {
        "id": "dVRxielJn3tD"
      },
      "source": [
        "## Encontrando o índice de um elemento da lista com a função index"
      ]
    },
    {
      "cell_type": "markdown",
      "metadata": {
        "id": "I7-quQvZn3tD"
      },
      "source": [
        "<p style='text-align: justify; font-size: 16px; line-height: 1.5;'>Para encontrar o índice de um determinado elemento da lista, você pode utilizar a função index da seguinte forma:</p>"
      ]
    },
    {
      "cell_type": "code",
      "execution_count": null,
      "metadata": {
        "id": "ODUhOARmn3tD",
        "outputId": "28a0ff3e-42d9-40d5-ff1a-b5b0e475e416"
      },
      "outputs": [
        {
          "name": "stdout",
          "output_type": "stream",
          "text": [
            "3\n"
          ]
        }
      ],
      "source": [
        "linguagens = ['Python', 'Java', 'C++', 'Elixir', 'Dart', 'Julia']\n",
        "indice = linguagens.index('Elixir')\n",
        "print(indice)"
      ]
    },
    {
      "cell_type": "markdown",
      "metadata": {
        "id": "F9VV07dIn3tD"
      },
      "source": [
        "<p style='text-align: justify; font-size: 16px; line-height: 1.5;'>Nesse exemplo estamos utilizando a função index para descobrir em qual índice está armazenada a string 'Elixir'. O retorno da função index foi armazenado na variável  <span style=\"font-weight: bold;\">indice</span>. Como você pode observar, o valor da variável  <span style=\"font-weight: bold;\">indice</span> é igual a 3, indicando que a string 'Elixir' está indexada por esse índice na lista.</p>"
      ]
    },
    {
      "cell_type": "markdown",
      "metadata": {
        "id": "zEEXUWZ5n3tD"
      },
      "source": [
        "<p style='text-align: justify; font-size: 16px; line-height: 1.5;'>Caso você tente encontrar o índice de um elemento inexistente na lista, você receberá um erro em tempo de execução do tipo <span style=\"font-weight: bold;\">ValueError</span>. Veja o que acontece quando tentamos encontrar o índice da string 'PHP' que não está na lista:</p>\n"
      ]
    },
    {
      "cell_type": "code",
      "execution_count": null,
      "metadata": {
        "id": "qcCDBTP9n3tD",
        "outputId": "e5d919bc-5c0d-441a-c386-246be7913eb5"
      },
      "outputs": [
        {
          "ename": "ValueError",
          "evalue": "'PHP' is not in list",
          "output_type": "error",
          "traceback": [
            "\u001b[0;31m---------------------------------------------------------------------------\u001b[0m",
            "\u001b[0;31mValueError\u001b[0m                                Traceback (most recent call last)",
            "\u001b[0;32m<ipython-input-129-b0b792824154>\u001b[0m in \u001b[0;36m<module>\u001b[0;34m\u001b[0m\n\u001b[0;32m----> 1\u001b[0;31m \u001b[0mindice\u001b[0m \u001b[0;34m=\u001b[0m \u001b[0mlinguagens\u001b[0m\u001b[0;34m.\u001b[0m\u001b[0mindex\u001b[0m\u001b[0;34m(\u001b[0m\u001b[0;34m'PHP'\u001b[0m\u001b[0;34m)\u001b[0m\u001b[0;34m\u001b[0m\u001b[0;34m\u001b[0m\u001b[0m\n\u001b[0m\u001b[1;32m      2\u001b[0m \u001b[0mprint\u001b[0m\u001b[0;34m(\u001b[0m\u001b[0mindice\u001b[0m\u001b[0;34m)\u001b[0m\u001b[0;34m\u001b[0m\u001b[0;34m\u001b[0m\u001b[0m\n",
            "\u001b[0;31mValueError\u001b[0m: 'PHP' is not in list"
          ]
        }
      ],
      "source": [
        "indice = linguagens.index('PHP')\n",
        "print(indice)"
      ]
    },
    {
      "cell_type": "markdown",
      "metadata": {
        "id": "E8dBQ_PJn3tD"
      },
      "source": [
        "<p style='text-align: justify; font-size: 16px; line-height: 1.5;'>Quando você utiliza a função index, por padrão, a busca pelo índice do elemento passado como argumento da função ocorre em toda a lista. Contudo, se você quiser restringir a busca do elemento em uma subsequência da lista, a função index permite que você passe mais dois argumentos que correspondem ao índice inicial e ao índice final na qual a busca será realizada. O valor do índice inicial é interpretado como intervalo fechado, já o valor do índice final é interpretado como intervalo aberto. Na subsequência definidas pelos índices, se o elemento buscado não estiver presente, você receberá um erro em tempo de execução do tipo <span style=\"font-weight: bold;\">ValueError</span>. Vejamos alguns exemplos:</p>"
      ]
    },
    {
      "cell_type": "markdown",
      "metadata": {
        "id": "3fSEIZHin3tE"
      },
      "source": [
        "<p style='text-align: justify; font-size: 16px; line-height: 1.5;'><span style=\"font-weight: bold;\">Exemplo 1:</span> Buscando o índice da string 'Elixir' entre os índices 1 e 4.</p>"
      ]
    },
    {
      "cell_type": "code",
      "execution_count": null,
      "metadata": {
        "id": "qOWVD4_7n3tE",
        "outputId": "7e86307e-070b-4846-9107-8998d51698bc"
      },
      "outputs": [
        {
          "name": "stdout",
          "output_type": "stream",
          "text": [
            "3\n"
          ]
        }
      ],
      "source": [
        "indice = linguagens.index('Elixir', 1, 5)\n",
        "print(indice)"
      ]
    },
    {
      "cell_type": "markdown",
      "metadata": {
        "id": "3Owmhlrun3tE"
      },
      "source": [
        "<p style='text-align: justify; font-size: 16px; line-height: 1.5;'>Observe que para buscar o elemento desejado entre os índices 1 e 4, o valor do terceiro argumento deve ser igual a 5. Isso é necessário porque o índice final é interpretado como intervalo aberto pela função index.</p>"
      ]
    },
    {
      "cell_type": "markdown",
      "metadata": {
        "id": "6FE79aegn3tE"
      },
      "source": [
        "<p style='text-align: justify; font-size: 16px; line-height: 1.5;'><span style=\"font-weight: bold;\">Exemplo 2:</span> Buscando o índice da string 'Java' a partir do índice 1.</p>"
      ]
    },
    {
      "cell_type": "code",
      "execution_count": null,
      "metadata": {
        "id": "NcGKE5wzn3tE",
        "outputId": "49bc7ea6-2393-44ae-d011-8b5d36889993"
      },
      "outputs": [
        {
          "name": "stdout",
          "output_type": "stream",
          "text": [
            "1\n"
          ]
        }
      ],
      "source": [
        "indice = linguagens.index('Java', 1)\n",
        "print(indice)"
      ]
    },
    {
      "cell_type": "markdown",
      "metadata": {
        "id": "u-osB_WTn3tE"
      },
      "source": [
        "<p style='text-align: justify; font-size: 16px; line-height: 1.5;'>Nesse exemplo não foi informado o terceiro argumento da função index. Quando este é o caso, a função realiza a busca a partir do índice inicial informado como argumento e vai até o final da lista. Como a busca iniciou pelo índice 1, somente o elemento indexado pelo índice zero não foi levado em consideração para essa busca. O valor da variável <span style=\"font-weight: bold;\">indice</span> igual a 1 significa que a string 'Java' está indexada por esse índice na lista.</p>"
      ]
    },
    {
      "cell_type": "markdown",
      "metadata": {
        "id": "mobkp36qn3tE"
      },
      "source": [
        "<p style='text-align: justify; font-size: 16px; line-height: 1.5;'><span style=\"font-weight: bold;\">Exemplo 3:</span> Buscando o índice da string 'Java' entre os índices 3 e 5 da lista.</p>"
      ]
    },
    {
      "cell_type": "code",
      "execution_count": null,
      "metadata": {
        "id": "MZgOefuDn3tE",
        "outputId": "f14c5729-5472-40e6-a833-9db5d8288e7e"
      },
      "outputs": [
        {
          "ename": "ValueError",
          "evalue": "'Java' is not in list",
          "output_type": "error",
          "traceback": [
            "\u001b[0;31m---------------------------------------------------------------------------\u001b[0m",
            "\u001b[0;31mValueError\u001b[0m                                Traceback (most recent call last)",
            "\u001b[0;32m<ipython-input-144-ec8a8f699034>\u001b[0m in \u001b[0;36m<module>\u001b[0;34m\u001b[0m\n\u001b[0;32m----> 1\u001b[0;31m \u001b[0mindice\u001b[0m \u001b[0;34m=\u001b[0m \u001b[0mlinguagens\u001b[0m\u001b[0;34m.\u001b[0m\u001b[0mindex\u001b[0m\u001b[0;34m(\u001b[0m\u001b[0;34m'Java'\u001b[0m\u001b[0;34m,\u001b[0m \u001b[0;36m3\u001b[0m\u001b[0;34m,\u001b[0m \u001b[0;36m6\u001b[0m\u001b[0;34m)\u001b[0m\u001b[0;34m\u001b[0m\u001b[0;34m\u001b[0m\u001b[0m\n\u001b[0m\u001b[1;32m      2\u001b[0m \u001b[0mprint\u001b[0m\u001b[0;34m(\u001b[0m\u001b[0mindice\u001b[0m\u001b[0;34m)\u001b[0m\u001b[0;34m\u001b[0m\u001b[0;34m\u001b[0m\u001b[0m\n",
            "\u001b[0;31mValueError\u001b[0m: 'Java' is not in list"
          ]
        }
      ],
      "source": [
        "indice = linguagens.index('Java', 3, 6)\n",
        "print(indice)"
      ]
    },
    {
      "cell_type": "markdown",
      "metadata": {
        "id": "wBCAOPQvn3tE"
      },
      "source": [
        "<p style='text-align: justify; font-size: 16px; line-height: 1.5;'>Nesse exemplo, apesar da string 'Java'está na lista, recebemos um erro em tempo de execução do tipo <span style=\"font-weight: bold;\">ValueError</span>, pois e string 'Java' está fora do intervalo definido para a busca. A busca foi realizada entre os índices 3 e 5. O valor 6 foi passado como terceiro argumento da função index porque ela considera o índice final como intervalo aberto.</p>"
      ]
    },
    {
      "cell_type": "markdown",
      "metadata": {
        "id": "wQXJR64fn3tE"
      },
      "source": [
        "## Calculando a frequência absoluta de um elemento da lista com a função count"
      ]
    },
    {
      "cell_type": "markdown",
      "metadata": {
        "id": "D50yDcdfn3tE"
      },
      "source": [
        "<p style='text-align: justify; font-size: 16px; line-height: 1.5;'>Para calcular a frequência absoluta de um determinado elemento da lista, você pode utilizar a função count da seguinte forma:</p>"
      ]
    },
    {
      "cell_type": "code",
      "execution_count": null,
      "metadata": {
        "id": "LgTuAoAen3tE",
        "outputId": "33be678a-0690-4534-d74c-dd88c1354392"
      },
      "outputs": [
        {
          "name": "stdout",
          "output_type": "stream",
          "text": [
            "3\n"
          ]
        }
      ],
      "source": [
        "lista = [1,3,4,2,1,3,2,3,6,8,7,8,9,0,9,7,5,3,2]\n",
        "frequencia = lista.count(2)\n",
        "print(frequencia)"
      ]
    },
    {
      "cell_type": "markdown",
      "metadata": {
        "id": "tKVceXexn3tE"
      },
      "source": [
        "<p style='text-align: justify; font-size: 16px; line-height: 1.5;'>Nesse exemplo estamos calculando a frequência absoluta do elemento 2 e armazenando o resultado na variável <span style=\"font-weight: bold;\">frequencia</span>. O valor de <span style=\"font-weight: bold;\">frequencia</span> igual a 3 indica que o número 2 se repete três vezes na lista.</p>"
      ]
    },
    {
      "cell_type": "markdown",
      "metadata": {
        "id": "BRrfIWLQn3tE"
      },
      "source": [
        "## Calculando a lista reversa com a função reverse"
      ]
    },
    {
      "cell_type": "markdown",
      "metadata": {
        "id": "o_U-_nHAn3tE"
      },
      "source": [
        "<p style='text-align: justify; font-size: 16px; line-height: 1.5;'>Para calcular a lista reversa, você pode utilizar a função reverse da seguinte forma:</p>"
      ]
    },
    {
      "cell_type": "code",
      "execution_count": null,
      "metadata": {
        "id": "NBWm8a03n3tE",
        "outputId": "ccb763f5-c5c5-4fa2-95c8-fb1fa20d4878"
      },
      "outputs": [
        {
          "name": "stdout",
          "output_type": "stream",
          "text": [
            "[2, 3, 5, 7, 9, 0, 9, 8, 7, 8, 6, 3, 2, 3, 1, 2, 4, 3, 1]\n"
          ]
        }
      ],
      "source": [
        "lista.reverse()\n",
        "print(lista)"
      ]
    },
    {
      "cell_type": "markdown",
      "metadata": {
        "id": "mVErorH7n3tE"
      },
      "source": [
        "## Ordenando os elementos da lista com a função sort"
      ]
    },
    {
      "cell_type": "markdown",
      "metadata": {
        "id": "8Hgi9DCnn3tE"
      },
      "source": [
        "<p style='text-align: justify; font-size: 16px; line-height: 1.5;'>Para ordenar uma lista, você pode utilizar a função sort da seguinte forma:</p>"
      ]
    },
    {
      "cell_type": "code",
      "execution_count": null,
      "metadata": {
        "id": "baigLXURn3tE",
        "outputId": "68a27cab-996f-4ca9-c79e-1ecd656ff920"
      },
      "outputs": [
        {
          "name": "stdout",
          "output_type": "stream",
          "text": [
            "[0, 1, 1, 2, 2, 2, 3, 3, 3, 3, 4, 5, 6, 7, 7, 8, 8, 9, 9]\n"
          ]
        }
      ],
      "source": [
        "lista.sort()\n",
        "print(lista)"
      ]
    },
    {
      "cell_type": "markdown",
      "metadata": {
        "id": "YAOtmXdbn3tE"
      },
      "source": [
        "<p style='text-align: justify; font-size: 16px; line-height: 1.5;'>Por padrão, a função sort ordena os elementos em ordem crescente. Caso você queira ordenar a lista em ordem decrescente, você tem que utilizar o argumento nomeado reverse passando o valor True. Veja o exemplo:</p>"
      ]
    },
    {
      "cell_type": "code",
      "execution_count": null,
      "metadata": {
        "id": "--NI8X2ln3tF",
        "outputId": "c483d747-2315-451b-8943-405e3cb13f71"
      },
      "outputs": [
        {
          "name": "stdout",
          "output_type": "stream",
          "text": [
            "[9, 9, 8, 8, 7, 7, 6, 5, 4, 3, 3, 3, 3, 2, 2, 2, 1, 1, 0]\n"
          ]
        }
      ],
      "source": [
        "lista.sort(reverse=True)\n",
        "print(lista)"
      ]
    },
    {
      "cell_type": "markdown",
      "metadata": {
        "id": "TA4UDVh_n3tF"
      },
      "source": [
        "## Copiando os valores de uma lista com a função copy"
      ]
    },
    {
      "cell_type": "markdown",
      "metadata": {
        "id": "cM62rqLfn3tF"
      },
      "source": [
        "<p style='text-align: justify; font-size: 16px; line-height: 1.5;'>Para copiar os elementos de uma lista, você pode utilizar a função copy da seguinte forma:</p>"
      ]
    },
    {
      "cell_type": "code",
      "execution_count": null,
      "metadata": {
        "id": "algPFM-On3tF",
        "outputId": "fed720bf-bf0e-40ac-e59d-29097ffe1ef8"
      },
      "outputs": [
        {
          "name": "stdout",
          "output_type": "stream",
          "text": [
            "[9, 9, 8, 8, 7, 7, 6, 5, 4, 3, 3, 3, 3, 2, 2, 2, 1, 1, 0]\n"
          ]
        }
      ],
      "source": [
        "copia = lista.copy()\n",
        "print(copia)"
      ]
    },
    {
      "cell_type": "markdown",
      "metadata": {
        "id": "DsQt-O96n3tF"
      },
      "source": [
        "<p style='text-align: justify; font-size: 16px; line-height: 1.5;'>Você deve está se perguntando porque eu preciso copiar os elementos de uma lista para outra variável e não simplesmente só atribuir a lista para essa variável? Quando você copia os elementos de uma lista para outra variável, você está reservando um novo espaço na memória para armazenar essa cópia e endereçando esse espaço com a nova variável que no nosso exemplo é a variável <span style=\"font-weight: bold;\">copia</span>. O fato de termos um espaço na memória diferente para a lista copiada, significa que uma operação que altere a estrutura da lista original não afetará a lista copiada. Se no lugar da cópia você  simplesmente só atribuir a lista para uma nova variável, tecnicamente o que você está fazendo é criando uma nova referência para o espaço reservado da memória no qual a lista já está armazenada. Nesse caso, qualquer operação que altere a estrutura da lista será refletida para as duas variáveis, uma vez que elas referenciam o mesmo espaço. Para exemplificar, vejamos:</p>"
      ]
    },
    {
      "cell_type": "code",
      "execution_count": null,
      "metadata": {
        "id": "O1qRKqwgn3tF",
        "outputId": "6bd2cec7-5300-47a7-cc80-26604d298041"
      },
      "outputs": [
        {
          "name": "stdout",
          "output_type": "stream",
          "text": [
            "[7, 7, 6, 5, 4, 3, 3, 3, 3, 2, 2, 2, 1, 1, 0]\n",
            "[7, 7, 6, 5, 4, 3, 3, 3, 3, 2, 2, 2, 1, 1, 0]\n"
          ]
        }
      ],
      "source": [
        "copia = lista\n",
        "del lista[:4]\n",
        "print(lista)\n",
        "print(copia)"
      ]
    },
    {
      "cell_type": "markdown",
      "metadata": {
        "id": "VOXB2Bd0n3tF"
      },
      "source": [
        "<p style='text-align: justify; font-size: 16px; line-height: 1.5;'>Nesse exemplo estamos atribuindo o conteúdo da variável <span style=\"font-weight: bold;\">lista</span> para a variável <span style=\"font-weight: bold;\">copia</span>. Em seguida, deletamos os quatro primeiros elementos da lista e exibimos o conteúdo de ambas as variáveis. Observe que os elementos da lista armazenada na variável <span style=\"font-weight: bold;\">copia</span> também foram deletados. Isso ocorreu porque <span style=\"font-weight: bold;\">lista</span> e <span style=\"font-weight: bold;\">copia</span> estão referenciando o mesmo espaço da memória.</p>"
      ]
    },
    {
      "cell_type": "markdown",
      "metadata": {
        "id": "WNFsCHVxn3tF"
      },
      "source": [
        "<p style='text-align: justify; font-size: 16px; line-height: 1.5;'>Agora observe a diferença quando copiamos a lista:</p>"
      ]
    },
    {
      "cell_type": "code",
      "execution_count": null,
      "metadata": {
        "id": "2b0g0ujin3tF",
        "outputId": "18a7e920-9fcd-4243-bf1b-8f1a765a72c2"
      },
      "outputs": [
        {
          "name": "stdout",
          "output_type": "stream",
          "text": [
            "[4, 3, 3, 3, 3, 2, 2, 2, 1, 1, 0]\n",
            "[7, 7, 6, 5, 4, 3, 3, 3, 3, 2, 2, 2, 1, 1, 0]\n"
          ]
        }
      ],
      "source": [
        "copia = lista.copy()\n",
        "del lista[:4]\n",
        "print(lista)\n",
        "print(copia)"
      ]
    },
    {
      "cell_type": "markdown",
      "metadata": {
        "id": "56axjn9ln3tF"
      },
      "source": [
        "<p style='text-align: justify; font-size: 16px; line-height: 1.5;'>Nesse caso somente os valores da variável <span style=\"font-weight: bold;\">lista</span> foram deletados. A lista da variável <span style=\"font-weight: bold;\">copia</span> não foi alterada porque ela está em um outro espaço da memória.</p>"
      ]
    },
    {
      "cell_type": "markdown",
      "metadata": {
        "id": "-4C3PxWkn3tF"
      },
      "source": [
        "<p style='text-align: justify; font-size: 16px; line-height: 1.5;'>Você também pode copiar uma lista utilizando o slice da seguinte forma.</p>"
      ]
    },
    {
      "cell_type": "code",
      "execution_count": null,
      "metadata": {
        "id": "JlAX3Cyxn3tF",
        "outputId": "0bd10fa8-730c-4625-d137-31899cb46ee1"
      },
      "outputs": [
        {
          "name": "stdout",
          "output_type": "stream",
          "text": [
            "[4, 3, 3, 3, 3, 2, 2, 2, 1, 1, 0, 5, 5, 5, 5]\n",
            "[4, 3, 3, 3, 3, 2, 2, 2, 1, 1, 0]\n"
          ]
        }
      ],
      "source": [
        "copia = lista[:]\n",
        "lista.extend([5,5,5,5])\n",
        "print(lista)\n",
        "print(copia)"
      ]
    },
    {
      "cell_type": "markdown",
      "metadata": {
        "id": "DpkvIhtrn3tF"
      },
      "source": [
        "<p style='text-align: justify; font-size: 16px; line-height: 1.5;'>Nesse exemplo copiamos a lista utilizando o slice e, em seguida, adicionamos os elementos de uma outra lista à lista armazenada na variável <span style=\"font-weight: bold;\">lista</span>.</p>"
      ]
    },
    {
      "cell_type": "markdown",
      "metadata": {
        "id": "QuJcdF3kn3tG"
      },
      "source": [
        "## Mais algumas funções nativas da linguagem Python que podem ser utilizadas em listas"
      ]
    },
    {
      "cell_type": "markdown",
      "metadata": {
        "id": "Z0WUyVIHn3tG"
      },
      "source": [
        "## Calculando a quantidade de elementos de uma lista com a função len"
      ]
    },
    {
      "cell_type": "markdown",
      "metadata": {
        "id": "ZNRELFw0n3tG"
      },
      "source": [
        "<p style='text-align: justify; font-size: 16px; line-height: 1.5;'>Para calcular a quantidade de elementos de uma lista, você pode utilizar a função len da seguinte forma:</p>"
      ]
    },
    {
      "cell_type": "code",
      "execution_count": null,
      "metadata": {
        "id": "8ZwUB356n3tG",
        "outputId": "e24fca8d-3d3f-4ed4-cebe-eeae41da3a3d"
      },
      "outputs": [
        {
          "name": "stdout",
          "output_type": "stream",
          "text": [
            "15\n"
          ]
        }
      ],
      "source": [
        "tamanho = len(lista)\n",
        "print(tamanho)"
      ]
    },
    {
      "cell_type": "markdown",
      "metadata": {
        "id": "-aW5MATan3tG"
      },
      "source": [
        "## Somando os valores da lista com a função sum"
      ]
    },
    {
      "cell_type": "markdown",
      "metadata": {
        "id": "Y0sYsYGDn3tG"
      },
      "source": [
        "<p style='text-align: justify; font-size: 16px; line-height: 1.5;'>Para somar os elementos de uma lista, você pode utilizar a função sum da seguinte forma:</p>"
      ]
    },
    {
      "cell_type": "code",
      "execution_count": null,
      "metadata": {
        "id": "yE5wEkwCn3tG",
        "outputId": "8fa91520-3729-447e-89ad-d602721f4507"
      },
      "outputs": [
        {
          "name": "stdout",
          "output_type": "stream",
          "text": [
            "44\n"
          ]
        }
      ],
      "source": [
        "soma = sum(lista)\n",
        "print(soma)"
      ]
    },
    {
      "cell_type": "markdown",
      "metadata": {
        "id": "Oh98D5mhn3tG"
      },
      "source": [
        "## Encontrando o maior elemento de uma lista com a função max"
      ]
    },
    {
      "cell_type": "markdown",
      "metadata": {
        "id": "Ja-XmzB1n3tG"
      },
      "source": [
        "<p style='text-align: justify; font-size: 16px; line-height: 1.5;'>Para encontrar o maior elemento de uma lista, você pode utilizar a função max da seguinte forma:</p>"
      ]
    },
    {
      "cell_type": "code",
      "execution_count": null,
      "metadata": {
        "id": "ZRRtx8pDn3tG",
        "outputId": "42041bc2-41c3-4825-ad52-536070cd50f5"
      },
      "outputs": [
        {
          "name": "stdout",
          "output_type": "stream",
          "text": [
            "5\n"
          ]
        }
      ],
      "source": [
        "maior = max(lista)\n",
        "print(maior)"
      ]
    },
    {
      "cell_type": "markdown",
      "metadata": {
        "id": "7qAitPr8n3tG"
      },
      "source": [
        "## Encontrando o menor elemento de uma lista com a função min"
      ]
    },
    {
      "cell_type": "markdown",
      "metadata": {
        "id": "JjFfNviSn3tG"
      },
      "source": [
        "<p style='text-align: justify; font-size: 16px; line-height: 1.5;'>Para encontrar o menor elemento de uma lista, você pode utilizar a função min da seguinte forma:</p>"
      ]
    },
    {
      "cell_type": "code",
      "execution_count": null,
      "metadata": {
        "id": "z7otttu4n3tG",
        "outputId": "f12dc81d-83a4-4663-aa09-f529567b4054"
      },
      "outputs": [
        {
          "name": "stdout",
          "output_type": "stream",
          "text": [
            "0\n"
          ]
        }
      ],
      "source": [
        "menor = min(lista)\n",
        "print(menor)"
      ]
    },
    {
      "cell_type": "markdown",
      "metadata": {
        "id": "mjw87bw-n3tG"
      },
      "source": [
        "## Ordenando os elementos de uma lista com a função sorted"
      ]
    },
    {
      "cell_type": "markdown",
      "metadata": {
        "id": "P2lHmrJTn3tG"
      },
      "source": [
        "<p style='text-align: justify; font-size: 16px; line-height: 1.5;'>Para ordenar uma lista, você pode utilizar a função sorted da seguinte forma:</p>"
      ]
    },
    {
      "cell_type": "code",
      "execution_count": null,
      "metadata": {
        "id": "V7JLIKb4n3tG",
        "outputId": "4232739e-2673-4682-f057-b05f1e571660"
      },
      "outputs": [
        {
          "name": "stdout",
          "output_type": "stream",
          "text": [
            "[0, 1, 1, 2, 2, 2, 3, 3, 3, 3, 4, 5, 5, 5, 5]\n"
          ]
        }
      ],
      "source": [
        "lista = sorted(lista)\n",
        "print(lista)"
      ]
    },
    {
      "cell_type": "markdown",
      "metadata": {
        "id": "sqkH0INfn3tG"
      },
      "source": [
        "<p style='text-align: justify; font-size: 16px; line-height: 1.5;'>A função sorted também recebe o argumento nomeado reverse que permite realizar a ordenação em ordem decrescente. Veja:</p>"
      ]
    },
    {
      "cell_type": "code",
      "execution_count": null,
      "metadata": {
        "id": "hssWR-Q9n3tG",
        "outputId": "95c693fa-4851-42f7-af15-48317bfa069a"
      },
      "outputs": [
        {
          "name": "stdout",
          "output_type": "stream",
          "text": [
            "[5, 5, 5, 5, 4, 3, 3, 3, 3, 2, 2, 2, 1, 1, 0]\n"
          ]
        }
      ],
      "source": [
        "lista = sorted(lista, reverse=True)\n",
        "print(lista)"
      ]
    },
    {
      "cell_type": "markdown",
      "metadata": {
        "id": "_mM5ludFn3tH"
      },
      "source": [
        "## Iteração de lista"
      ]
    },
    {
      "cell_type": "markdown",
      "metadata": {
        "id": "vqqelVO6n3tH"
      },
      "source": [
        "<p style='text-align: justify; font-size: 16px; line-height: 1.5;'>Para iterar uma lista você pode utilizar o laço de repetição <span style=\"font-weight: bold;\">for</span> da seguinte forma:</p>"
      ]
    },
    {
      "cell_type": "code",
      "execution_count": null,
      "metadata": {
        "id": "vhXvnizfn3tH",
        "outputId": "e3b79892-8592-48cf-dffb-0d8a678ab81a"
      },
      "outputs": [
        {
          "name": "stdout",
          "output_type": "stream",
          "text": [
            "1\n",
            "5.6\n",
            "8\n",
            "Renato\n",
            "5\n",
            "Hidaka\n",
            "4\n",
            "5\n"
          ]
        }
      ],
      "source": [
        "lista = [1, 5.6, 8, 'Renato', 5, 'Hidaka', 4, 5]\n",
        "for item in lista:\n",
        "    print(item)"
      ]
    },
    {
      "cell_type": "markdown",
      "metadata": {
        "id": "Y7lfW0jdn3tH"
      },
      "source": [
        "<p style='text-align: justify; font-size: 16px; line-height: 1.5;'>Uma iteração compreende o acesso sequencial dos itens de uma lista. O acesso sequencial pode ser denominado de encaminhamento. Para iterar uma lista, é necessário utilizar uma variável que é responsável por realizar o encaminhamento na lista. No comando <span style=\"font-weight: bold;\">for</span>, a variável responsável pelo encaminhamento precede a palavra reservada <span style=\"font-weight: bold;\">in</span> e, após esta palavra, deve-se informar a lista que será iterada. Como demonstrado na Figura 1, a sintaxe da estrutura de iteração de uma lista é definida por 6 passos.</p>"
      ]
    },
    {
      "cell_type": "markdown",
      "metadata": {
        "id": "pjnTrrIqn3tH"
      },
      "source": [
        "![iteração de lista](ex-for.png)\n",
        "<p style=\"text-align:center;\">Figura 1: Sintaxe do comando for para iterar um lista.</p>"
      ]
    },
    {
      "cell_type": "markdown",
      "metadata": {
        "id": "7GAx1cFjn3tH"
      },
      "source": [
        "<p style='text-align: justify; font-size: 16px; line-height: 1.5;'>Onde:</p>\n",
        "<ol>\n",
        "       <li style='text-align: justify; font-size: 16px; line-height: 1.5;'>declaração do comando for que informa que desejamos executar um iteração.</li>\n",
        "       <li style='text-align: justify; font-size: 16px; line-height: 1.5;'>definição da variável que fará o encaminhamento na lista.</li>\n",
        "       <li style='text-align: justify; font-size: 16px; line-height: 1.5;'>palavra reservada que, nesse contexto, informa que, logo após, deve ser definida a lista que será iterada.</li>\n",
        "    <li style='text-align: justify; font-size: 16px; line-height: 1.5;'>definição da lista que será iterada.</li>\n",
        "    <li style='text-align: justify; font-size: 16px; line-height: 1.5;'>inicialização do escopo da iteração.</li>\n",
        "    <li style='text-align: justify; font-size: 16px; line-height: 1.5;'>escopo da iteração.</li>\n",
        "    </ol>"
      ]
    },
    {
      "cell_type": "markdown",
      "metadata": {
        "id": "fkJeYJXKn3tH"
      },
      "source": [
        "<p style='text-align: justify; font-size: 16px; line-height: 1.5;'>Como você já sabe, na linguagem de programação Python, o escopo necessita da tabulação. No caso do comando <span style=\"font-weight: bold;\">for</span>, todo o bloco de código tabulado está subordinado a ele e, portanto, será processado para todos os valores da lista referenciados pela variável responsável pelo encaminhamento. A primeira linha de código não tabulada, após o comando for, está fora do escopo. Essa linha só será executada quando a iteração for finalizada.</p>"
      ]
    },
    {
      "cell_type": "markdown",
      "metadata": {
        "id": "eGrapNwgn3tH"
      },
      "source": [
        "<p style='text-align: justify; font-size: 16px; line-height: 1.5;'>No nosso exemplo, estamos informando que a variável <span style=\"font-weight: bold;\">item</span> será utilizada para realizar o encaminhado na lista que está armazenada na variável <span style=\"font-weight: bold;\">lista</span>. No escopo subordinado ao laço <span style=\"font-weight: bold;\">for</span>, estamos utilizando a função <span style=\"font-weight: bold;\">print</span> para exibir os valores referenciados por <span style=\"font-weight: bold;\">item</span>. Como <span style=\"font-weight: bold;\">item</span> encaminha a lista, e esse escopo será processado até que a iteração seja concluída, todos o elementos da lista são exibidos.</p>"
      ]
    },
    {
      "cell_type": "markdown",
      "metadata": {
        "id": "y4hZIymAn3tH"
      },
      "source": [
        "<p style='text-align: justify; font-size: 16px; line-height: 1.5;'>No escopo da iteração podem ser codificadas várias linhas de código. Na verdade, o código que você vai escrever depende do problema que você vai resolver. Não limitado a isso, mas muitos dos problemas que requerem a iteração de uma lista podem ser resolvidos com três tipos de abordagem denominadas: filtro, mapeamento e redução.</p>"
      ]
    },
    {
      "cell_type": "markdown",
      "metadata": {
        "id": "BcQjxgaBn3tH"
      },
      "source": [
        "## Resolvendo problemas de iteração com filtro"
      ]
    },
    {
      "cell_type": "markdown",
      "metadata": {
        "id": "5d1jwNN9n3tH"
      },
      "source": [
        "<p style='text-align: justify; font-size: 16px; line-height: 1.5;'>Dada uma lista, as soluções dos problemas resolvidos com a iteração com filtro têm como objetivo construir uma subsequência com os elementos que atendem à determinada condição. O escopo da iteração necessita de um controle de fluxo de seleção para determinar quais os elementos formarão a subsequência. Por se tratar de um filtro, é comum, mas não obrigatório, que a subsequência gerada seja menor que a lista que está sendo iterada.</p>"
      ]
    },
    {
      "cell_type": "markdown",
      "metadata": {
        "id": "KczSaaZQn3tH"
      },
      "source": [
        "<p style='text-align: justify; font-size: 16px; line-height: 1.5;'>Vejamos alguns exemplos de problemas resolvidos com a iteração com filtro. Nesses próximos exemplos, tente observar o padrão das soluções. Mesmo que sejam diferentes, você notará que a iteração com filtro sempre terá um ou mais controles de fluxo de seleção para filtrar os elementos que formarão a subsequência.</p>"
      ]
    },
    {
      "cell_type": "markdown",
      "metadata": {
        "id": "-If0GWlan3tH"
      },
      "source": [
        "<p style='text-align: justify; font-size: 16px; line-height: 1.5;'><span style=\"font-weight: bold;\">Exemplo1:</span> Dada uma lista de números inteiros, filtre os elementos pares.</p>"
      ]
    },
    {
      "cell_type": "code",
      "execution_count": null,
      "metadata": {
        "id": "O_7eg-4xn3tH",
        "outputId": "f75b3a50-b03b-4a20-c214-528bb65f273f"
      },
      "outputs": [
        {
          "name": "stdout",
          "output_type": "stream",
          "text": [
            "Elementos pares da lista: 4 2 8 14\n"
          ]
        }
      ],
      "source": [
        "lista = [1,3,5,4,3,2,8,9,14]\n",
        "pares = []\n",
        "\n",
        "for item in lista:\n",
        "    if item%2 == 0:\n",
        "        pares.append(item)\n",
        "        \n",
        "print('Elementos pares da lista:', *pares)"
      ]
    },
    {
      "cell_type": "markdown",
      "metadata": {
        "id": "vYSsSI6kn3tH"
      },
      "source": [
        "<p style='text-align: justify; font-size: 16px; line-height: 1.5;'>Nesse exemplo, você tem algumas coisas importantes para observar. Primeiramente, veja que no escopo da iteração estamos utilizando uma condição para filtrar os elementos pares. Essa condição está sendo utilizada pelo controle de fluxo definido com o comando <span style=\"font-weight: bold;\">if</span>. A instrução de código subordinada ao <span style=\"font-weight: bold;\">if</span> só será executada quando a condição for verdadeira. Nesse caso, o elemento referenciado pela variável <span style=\"font-weight: bold;\">item</span>, só é adicionado na lista referenciada pela variável <span style=\"font-weight: bold;\">pares</span>, quando o valor de <span style=\"font-weight: bold;\">item</span> for par.</p>"
      ]
    },
    {
      "cell_type": "markdown",
      "metadata": {
        "id": "xDLGHRTLn3tH"
      },
      "source": [
        "<p style='text-align: justify; font-size: 16px; line-height: 1.5;'>O segundo ponto a ser observado, refe-se à função <span style=\"font-weight: bold;\">print</span>. Note que essa linha de código não está subordinada ao comando <span style=\"font-weight: bold;\">for</span>. Portanto, a função <span style=\"font-weight: bold;\">print</span> só será executada quando a iteração for finalizada. Nesse caso, a iteração só é finalizada quando todos os elementos da lista forem referenciados pela variável <span style=\"font-weight: bold;\">item</span>.</p>"
      ]
    },
    {
      "cell_type": "markdown",
      "metadata": {
        "id": "5QuMVaRnn3tH"
      },
      "source": [
        "<p style='text-align: justify; font-size: 16px; line-height: 1.5;'>Outra observação importante, refere-se à variável <span style=\"font-weight: bold;\">pares</span>. Essa variável foi criada para armazenar os elementos filtrados durante a iteração. Você só precisa criar uma nova variável se ainda pretender utilizar a lista iterada em algum outro momento. Se esse não for o caso, você pode realizar o filtro deletando os valores que não satisfazem a condição. Veja:</p>"
      ]
    },
    {
      "cell_type": "code",
      "execution_count": null,
      "metadata": {
        "id": "7KQX6-Szn3tH",
        "outputId": "ee7dac3d-616b-4133-b807-42622a702b75"
      },
      "outputs": [
        {
          "name": "stdout",
          "output_type": "stream",
          "text": [
            "Elementos pares da lista: 4 2 8 14\n"
          ]
        }
      ],
      "source": [
        "lista = [1,3,5,4,3,2,8,9,14]\n",
        "\n",
        "for item in lista.copy():\n",
        "    if item%2 != 0:\n",
        "        lista.remove(item)\n",
        "        \n",
        "print('Elementos pares da lista:', *lista)"
      ]
    },
    {
      "cell_type": "markdown",
      "metadata": {
        "id": "-8heI7Hvn3tI"
      },
      "source": [
        "<p style='text-align: justify; font-size: 16px; line-height: 1.5;'>Nesse exemplo não foi necessário a utilização de uma nova lista. Utilizamos o filtro para remover os elementos que não satisfazem a condição. Note que foi necessário inverter a lógica da condição do filtro. Ao invés de perguntar se o elemento referenciado pela variável <span style=\"font-weight: bold;\">item</span> é par, perguntamos se ele é ímpar. Sendo ímpar, removemos esse elemento da lista, resultando, ao final da iteração, somente os números pares.</p>"
      ]
    },
    {
      "cell_type": "markdown",
      "metadata": {
        "id": "XKIMActrn3tI"
      },
      "source": [
        "<p style='text-align: justify; font-size: 16px; line-height: 1.5;'>Um ponto muito importante que deve ser observado nessa exemplo, diz respeito à lista que está sendo iterada. Veja que na declaração do comando <span style=\"font-weight: bold;\">for</span>, nós estamos informando que a lista iterada é uma cópia da lista. Isso é necessário, uma vez que estamos mudando a estrutura da lista ao remover os elementos ímpares. Lembre, toda vez que uma remoção é realizada. os índices que estão após os elementos removidos são reindexados. Caso você estivesse iterando a lista original, a reindexação provocada pela remoção provocaria uma inconsistência no encaminhamento da lista, tal que alguns elementos seriam pulados. Se estiver curioso, veja o que acontece ao executar esse exemplo, mas sem a utilização da função  <span style=\"font-weight: bold;\">copy</span>.</p>"
      ]
    },
    {
      "cell_type": "markdown",
      "metadata": {
        "id": "mPt2i1Zvn3tI"
      },
      "source": [
        "<p style='text-align: justify; font-size: 16px; line-height: 1.5;'><span style=\"font-weight: bold;\">Exemplo2:</span> Dada uma lista heterogênea, elimine qualquer elemento que não for numérico.</p>"
      ]
    },
    {
      "cell_type": "code",
      "execution_count": null,
      "metadata": {
        "id": "cCFE0wnOn3tI",
        "outputId": "4067569b-41b6-4833-bb3b-9f2ed807fc28"
      },
      "outputs": [
        {
          "name": "stdout",
          "output_type": "stream",
          "text": [
            "[3, 5.5, 7.2, 2, 32.33]\n"
          ]
        }
      ],
      "source": [
        "lista = [3, 5.5, 7.2, 'Renato', 2, 'Hidaka', 32.33, 'Torres']\n",
        "\n",
        "for item in lista.copy():\n",
        "    if type(item) is not int and type(item) is not float:\n",
        "        lista.remove(item)\n",
        "\n",
        "print(lista)"
      ]
    },
    {
      "cell_type": "markdown",
      "metadata": {
        "id": "agJQXK1Mn3tI"
      },
      "source": [
        "<p style='text-align: justify; font-size: 16px; line-height: 1.5;'>Nesse exemplo, para construir o filtro, estamos utilizando a função <span style=\"font-weight: bold;\">type</span> que retorna o tipo do elemento passado como argumento da função. Nesse caso, todos os valores da lista que não são do tipo <span style=\"font-weight: bold;\">int</span> e nem do <span style=\"font-weight: bold;\">float</span>, estão sendo removidos das lista. Você pode construir esse mesmo filtro criando uma condição para verificar se o tipo retornado pela função type não está em uma lista. Veja:</p>"
      ]
    },
    {
      "cell_type": "code",
      "execution_count": null,
      "metadata": {
        "id": "CaVQlADTn3tI",
        "outputId": "9adba7ee-4edc-4d25-9ef2-79c5e6871658"
      },
      "outputs": [
        {
          "name": "stdout",
          "output_type": "stream",
          "text": [
            "[3, 5.5, 7.2, 2, 32.33]\n"
          ]
        }
      ],
      "source": [
        "lista = [3, 5.5, 7.2, 'Renato', 2, 'Hidaka', 32.33, 'Torres']\n",
        "\n",
        "for item in lista.copy():\n",
        "    if type(item) not in [int, float]:\n",
        "        lista.remove(item)\n",
        "\n",
        "print(lista)"
      ]
    },
    {
      "cell_type": "markdown",
      "metadata": {
        "id": "BDsoqONjn3tI"
      },
      "source": [
        "<p style='text-align: justify; font-size: 16px; line-height: 1.5;'><span style=\"font-weight: bold;\">Exemplo3:</span> Dada uma lista heterogênea, filtre todos os elementos que são números inteiros pares ou são números negativos, ou são string que iniciam com as letras R ou H.</p>"
      ]
    },
    {
      "cell_type": "code",
      "execution_count": null,
      "metadata": {
        "id": "07QtsHB7n3tI",
        "outputId": "65da1f00-6a02-4d23-96e8-350431bdf5b6"
      },
      "outputs": [
        {
          "name": "stdout",
          "output_type": "stream",
          "text": [
            "[-7.2, 'Renato', 2, 'Hidaka', 32]\n"
          ]
        }
      ],
      "source": [
        "lista = [3, 5.5, -7.2, 'Renato', 2, 'Hidaka', 32, 'Torres']\n",
        "filtrados = []\n",
        "for item in lista:\n",
        "    \n",
        "    if type(item) is int and item%2 == 0:\n",
        "        filtrados.append(item)\n",
        "        \n",
        "    elif type(item) in [int, float] and item < 0:\n",
        "        filtrados.append(item)\n",
        "        \n",
        "    elif type(item) is str and 'R' in item:\n",
        "        filtrados.append(item)\n",
        "        \n",
        "    elif type(item) is str and 'H' in item:\n",
        "        filtrados.append(item)\n",
        "        \n",
        "\n",
        "print(filtrados)"
      ]
    },
    {
      "cell_type": "markdown",
      "metadata": {
        "id": "rmOg2fz7n3tI"
      },
      "source": [
        "<p style='text-align: justify; font-size: 16px; line-height: 1.5;'>Nesse exemplo, a subsequência gerada é determinada por um filtro com quatro condições. Por esse motivo, optamos pela utilização do controle de fluxo alinhado. Por se tratar de uma lista heterogênea, além da condição de verificação da propriedade dos itens que devem ser filtrados, também houve a necessidade da verificação do tipo de dado. Sem a verificação do tipo de dado, ao tentar verificar se uma string é par, aconteceria um erro em tempo de execução do tipo <span style=\"font-weight: bold;\">TypeError</span>. Ao tentar verificar se um número começa com a letra R ou com a letra H, o mesmo erro seria percebido.</p>"
      ]
    },
    {
      "cell_type": "markdown",
      "metadata": {
        "id": "837tJvjvn3tI"
      },
      "source": [
        "<p style='text-align: justify; font-size: 16px; line-height: 1.5;'>Uma outra possibilidade para resolver esse mesmo problema seria armazenar o resultado de cada filtro em uma variável para poder eliminar a necessidade da condição alinhada. Veja:</p>"
      ]
    },
    {
      "cell_type": "code",
      "execution_count": null,
      "metadata": {
        "id": "XppmS4gGn3tI",
        "outputId": "8b0df8ef-c74b-4120-c4e5-a23620a00131"
      },
      "outputs": [
        {
          "name": "stdout",
          "output_type": "stream",
          "text": [
            "[-7.2, 'Renato', 2, 'Hidaka', 32]\n"
          ]
        }
      ],
      "source": [
        "lista = [3, 5.5, -7.2, 'Renato', 2, 'Hidaka', 32, 'Torres']\n",
        "filtrados = []\n",
        "for item in lista:\n",
        "    \n",
        "    filtro1 = type(item) is int and item%2 == 0\n",
        "    filtro2 = type(item) in [int, float] and item < 0\n",
        "    filtro3 = type(item) is str and ('R' in item or 'H' in item)\n",
        "\n",
        "    if filtro1 or filtro2 or filtro3:\n",
        "        filtrados.append(item)\n",
        "        \n",
        "\n",
        "print(filtrados)"
      ]
    },
    {
      "cell_type": "markdown",
      "metadata": {
        "id": "btNuuFu4n3tI"
      },
      "source": [
        "<p style='text-align: justify; font-size: 16px; line-height: 1.5;'>Nesse exemplo nós criamos três filtros. Perceba que as condições que verificam se uma string inicia com a letra R ou com a letra H foram unificadas em um único filtro. Dado que as variáveis <span style=\"font-weight: bold;\">filtro1, filtro2</span> e <span style=\"font-weight: bold;\">filtro3</span> armazenam o resultado da expressão lógica de cada filtro, então elas só podem armazenar os valores <span style=\"font-weight: bold;\">True</span> ou <span style=\"font-weight: bold;\">False</span>. A partir dos valores dessas variáveis, estamos construindo o controle de fluxo que adicionará o elemento na lista, caso um desses filtros seja verdadeiro.</p>"
      ]
    },
    {
      "cell_type": "markdown",
      "metadata": {
        "id": "PyVXHyUZn3tI"
      },
      "source": [
        "<p style='text-align: justify; font-size: 16px; line-height: 1.5;'>Utilizando a mesmas estratégia de armazenar o resultado da expressão lógica em variáveis, uma outra possibilidade de construção do controle de fluxo implica a construção de uma lista com os valores armazenados nas variáveis <span style=\"font-weight: bold;\">filtro1, filtro2</span> e <span style=\"font-weight: bold;\">filtro3</span>. Com essa abordagem, no controle de fluxo, perguntamos se o valor <span style=\"font-weight: bold;\">True</span> está na lista. Caso esteja, adicionamos o elemento na lista resultante do filtro. Veja:</p>"
      ]
    },
    {
      "cell_type": "code",
      "execution_count": null,
      "metadata": {
        "id": "biSrPNqUn3tJ",
        "outputId": "449cc24f-e70b-4f4e-fbb0-3c62b93df0f8"
      },
      "outputs": [
        {
          "name": "stdout",
          "output_type": "stream",
          "text": [
            "[-7.2, 'Renato', 2, 'Hidaka', 32]\n"
          ]
        }
      ],
      "source": [
        "lista = [3, 5.5, -7.2, 'Renato', 2, 'Hidaka', 32, 'Torres']\n",
        "filtrados = []\n",
        "for item in lista:\n",
        "    \n",
        "    filtro1 = type(item) is int and item%2 == 0\n",
        "    filtro2 = type(item) in [int, float] and item < 0\n",
        "    filtro3 = type(item) is str and ('R' in item or 'H' in item)\n",
        "\n",
        "    if True in [filtro1, filtro2, filtro3]:\n",
        "        filtrados.append(item)\n",
        "        \n",
        "\n",
        "print(filtrados)"
      ]
    },
    {
      "cell_type": "markdown",
      "metadata": {
        "id": "SKKFaf5Sn3tJ"
      },
      "source": [
        "<p style='text-align: justify; font-size: 16px; line-height: 1.5;'>Esse exemplo 3 deixa bem claro que você pode resolver um determinado problema de diferentes formas. Dado uma solução, a ação de reescrever o código de uma outra forma sem que o resultado esperado seja alterado é denominada <span style=\"font-weight: bold;\">refatoração</span>. A refatoração é um conceito importante que ainda vamos praticar bastante ao longo dos capítulos. Ao refatorar um código, você deve ter um dos seguintes objetivos: melhorar a leitura do código ou otimizar a solução, no que diz respeito a quantidade de instruções executadas para gerar o resultado esperado.\n",
        "</p>"
      ]
    },
    {
      "cell_type": "markdown",
      "metadata": {
        "id": "2DpVL1vjn3tJ"
      },
      "source": [
        "## Resolvendo problemas de iteração com mapeamento"
      ]
    },
    {
      "cell_type": "markdown",
      "metadata": {
        "id": "c562QTO_n3tJ"
      },
      "source": [
        "<p style='text-align: justify; font-size: 16px; line-height: 1.5;'>Dada uma lista, as soluções dos problemas resolvidos com a iteração com mapeamento têm como objetivo alterar os elementos da lista, porém, mantendo a quantidade de elementos. Em um mapeamento, o escopo da iteração pode ter uma simples operação que altere os valores dos elementos ou pode ter um controle de fluxo de seleção. O mapeamento implica a atualização dos elementos da lista. Como sabemos, para realizar uma atualização, é necessário informar o índice da lista que sofrerá a atualização. Nesse capítulo, abordaremos o mapeamento de duas formas: iterando a lista de elementos utilizando a função enumerate, e iterando a lista de índices. No próximo capítulo, você vai aprender a resolver problemas de iteração com mapeamento sem a necessidade de acessar o índice do elemento que será atualizado. Agora, vejamos alguns exemplos acessando o índice:</p>"
      ]
    },
    {
      "cell_type": "markdown",
      "metadata": {
        "id": "6u9fJE5Nn3tJ"
      },
      "source": [
        "<p style='text-align: justify; font-size: 16px; line-height: 1.5;'><span style=\"font-weight: bold;\">Exemplo1:</span> Dada uma lista de strings, altere todos os valores para caixa alta.</p>"
      ]
    },
    {
      "cell_type": "code",
      "execution_count": null,
      "metadata": {
        "id": "HQS_JGcKn3tJ",
        "outputId": "f7a2d072-f9a8-46bd-9a2f-bff38f988b65"
      },
      "outputs": [
        {
          "name": "stdout",
          "output_type": "stream",
          "text": [
            "PROFESSOR RENATO HIDAKA TORRES\n"
          ]
        }
      ],
      "source": [
        "lista = ['professor', 'Renato', 'Hidaka', 'Torres']\n",
        "\n",
        "for indice, item in enumerate(lista):    \n",
        "    lista[indice] = item.upper()\n",
        "\n",
        "print(*lista)"
      ]
    },
    {
      "cell_type": "markdown",
      "metadata": {
        "id": "ayBribUkn3tJ"
      },
      "source": [
        "<p style='text-align: justify; font-size: 16px; line-height: 1.5;'>A função <span style=\"font-weight: bold;\">enumerate</span> recebe um coleção como argumento e retorna um tupla contendo o índice e o elemento que está sendo iterado. Por retornar dois valores, note que foi necessário declarar duas variáveis no cabeçalho do comando <span style=\"font-weight: bold;\">for</span>. A primeira variável recebe o índice e a segunda variável o elemento. Quando há a necessidade de declarar mais de uma variável no cabeçalho do comando <span style=\"font-weight: bold;\">for</span>, essas devem ser separadas por vírgula. No escopo da iteração estamos utilizando a função <span style=\"font-weight: bold;\">upper</span> para colocar em caixa alta todas as letras da string armazenada pela variável <span style=\"font-weight: bold;\">item</span>. Essa transformação está sendo atualizada na lista, na posição indexada pelo índice armazenado na variável <span style=\"font-weight: bold;\">indice</span>. Ao final da iteração, executamos o comando print, exibindo a lista resultante.</p>"
      ]
    },
    {
      "cell_type": "markdown",
      "metadata": {
        "id": "M7H1uAmwn3tJ"
      },
      "source": [
        "<p style='text-align: justify; font-size: 16px; line-height: 1.5;'>Agora vamos ver como realizar esse mesmo mapeamento só que agora iterando uma lista de índice:</p>"
      ]
    },
    {
      "cell_type": "code",
      "execution_count": null,
      "metadata": {
        "id": "EgpE0gaLn3tJ",
        "outputId": "c3ad0c5e-44f9-4e91-f152-8b065a888d92"
      },
      "outputs": [
        {
          "name": "stdout",
          "output_type": "stream",
          "text": [
            "PROFESSOR RENATO HIDAKA TORRES\n"
          ]
        }
      ],
      "source": [
        "lista = ['professor', 'Renato', 'Hidaka', 'Torres']\n",
        "N = len(lista)\n",
        "\n",
        "for indice in range(N):    \n",
        "    lista[indice] = lista[indice].upper()\n",
        "\n",
        "print(*lista)"
      ]
    },
    {
      "cell_type": "markdown",
      "metadata": {
        "id": "dySGBTYfn3tJ"
      },
      "source": [
        "<p style='text-align: justify; font-size: 16px; line-height: 1.5;'>Nesse exemplo, nós utilizamos a função <span style=\"font-weight: bold;\">range</span> para gerar a lista de índices que será iterada. A função <span style=\"font-weight: bold;\">range</span> é uma função responsável por gerar sequências. Quando passado somente um argumento para essa função, ela gera uma sequência de 0 até o <span style=\"font-weight: bold;\">N-1</span>, sendo <span style=\"font-weight: bold;\">N</span> o valor passado como argumento. Por exemplo, para <span style=\"font-weight: bold;\">N=5</span>, a função <span style=\"font-weight: bold;\">range(N)</span> gera a sequência [0,1,2,3,4].</p>"
      ]
    },
    {
      "cell_type": "markdown",
      "metadata": {
        "id": "wCFWVLKan3tJ"
      },
      "source": [
        "<p style='text-align: justify; font-size: 16px; line-height: 1.5;'>Como nós queremos iterar uma lista de índices para percorrer os elementos da lista armazenada na variável <span style=\"font-weight: bold;\">lista</span>, precisamos gerar uma sequência cujo valores sejam os índices dessa lista. Para isso, o argumento passado para a função <span style=\"font-weight: bold;\">range</span> deve ser o tamanho da lista armazenada na variável <span style=\"font-weight: bold;\">lista</span>. O cálculo do tamanho da lista está sendo feito na segunda linha código, a partir da utilização da função <span style=\"font-weight: bold;\">len</span>."
      ]
    },
    {
      "cell_type": "markdown",
      "metadata": {
        "id": "qqeg8F1fn3tJ"
      },
      "source": [
        "<p style='text-align: justify; font-size: 16px; line-height: 1.5;'>Sabendo que a variável <span style=\"font-weight: bold;\">indice</span> armazena um índice da lista a cada iteração, esse índices são utilizados para acessar o elemento que tem o seu conteúdo transformado para caixa alta e, em seguida, armazenado no mesmo índice correspondente.</p>"
      ]
    },
    {
      "cell_type": "markdown",
      "metadata": {
        "id": "BHs1BJXvn3tJ"
      },
      "source": [
        "<p style='text-align: justify; font-size: 16px; line-height: 1.5;'><span style=\"font-weight: bold;\">Exemplo2:</span> Dada uma lista, altere para zero todos os valores indexados por um índice par.</p>"
      ]
    },
    {
      "cell_type": "code",
      "execution_count": null,
      "metadata": {
        "id": "y0OqkBAan3tJ",
        "outputId": "84843f7a-14f7-4a9a-bff3-6cccb55925b0"
      },
      "outputs": [
        {
          "name": "stdout",
          "output_type": "stream",
          "text": [
            "0 4 0 45 0 78 0 8 0 67 0 12\n"
          ]
        }
      ],
      "source": [
        "lista = [3, 4, 5, 45, 6, 78, 9, 8, 4, 67, 32, 12]\n",
        "N = len(lista)\n",
        "\n",
        "for indice in range(0, N, 2):\n",
        "    lista[indice] = 0\n",
        "\n",
        "print(*lista)"
      ]
    },
    {
      "cell_type": "markdown",
      "metadata": {
        "id": "l5eYm597n3tJ"
      },
      "source": [
        "<p style='text-align: justify; font-size: 16px; line-height: 1.5;'>Nesse exemplo, nós também realizamos o mapeamento iterando uma lista de índices gerada pela função <span style=\"font-weight: bold;\">range</span>. Dessa vez, nós passamos três argumentos para a função <span style=\"font-weight: bold;\">range</span>. Quando a função <span style=\"font-weight: bold;\">range</span> recebe três argumentos, o primeiro diz respeito ao valor inicial da sequência que será gerada. O segundo refere-se ao valor final da sequência que será gerada. Contudo, o segundo argumento trabalho com intervalo aberto, ou seja, o último valor da sequência será <span style=\"font-weight: bold;\">N-1</span>, sendo <span style=\"font-weight: bold;\">N</span> o valor passado como segundo argumento. O terceiro argumento corresponde ao incremento que deve ser considerado pela função no momento em que a sequência estiver sendo gerada. Se o terceiro argumento não for informado, por padrão, a função <span style=\"font-weight: bold;\">range</span> considera o incremento unitário.</p>"
      ]
    },
    {
      "cell_type": "markdown",
      "metadata": {
        "id": "idplNtc6n3tK"
      },
      "source": [
        "<p style='text-align: justify; font-size: 16px; line-height: 1.5;'>Nesse exemplo, como queremos realizar o mapeamento para zero somente dos elementos indexados por índices pares, a sequência gerada pela função <span style=\"font-weight: bold;\">range</span> iniciou em zero e teve um incremento de 2, garantindo, portanto, que somente os índices pares serão acessados.</p>"
      ]
    },
    {
      "cell_type": "markdown",
      "metadata": {
        "id": "QUrUp303n3tK"
      },
      "source": [
        "<p style='text-align: justify; font-size: 16px; line-height: 1.5;'>Você poderia resolver o mapeamento do exemplo 2 utilizando a função <span style=\"font-weight: bold;\">enumerate</span>. Mas nesse caso, há a necessidade de uma condição no escopo da iteração. Veja:</p>"
      ]
    },
    {
      "cell_type": "code",
      "execution_count": null,
      "metadata": {
        "id": "NxOy5beYn3tK",
        "outputId": "b552d7bb-5abd-4bec-e209-c59587224431"
      },
      "outputs": [
        {
          "name": "stdout",
          "output_type": "stream",
          "text": [
            "0 4 0 45 0 78 0 8 0 67 0 12\n"
          ]
        }
      ],
      "source": [
        "lista = [3, 4, 5, 45, 6, 78, 9, 8, 4, 67, 32, 12]\n",
        "\n",
        "for indice, item in enumerate(lista):\n",
        "    if indice%2 == 0:\n",
        "        lista[indice] = 0\n",
        "\n",
        "print(*lista)"
      ]
    },
    {
      "cell_type": "markdown",
      "metadata": {
        "id": "Wr7zKeLxn3tK"
      },
      "source": [
        "<p style='text-align: justify; font-size: 16px; line-height: 1.5;'>Apesar de resolver o problema, note que essa solução é menos elegante, uma vez que subutiliza a variável  <span style=\"font-weight: bold;\">item</span> e também porque realiza o dobro de iterações, se comparada com a solução que utiliza a função <span style=\"font-weight: bold;\">range</span> para gerar a sequência de índices pares.</p>"
      ]
    },
    {
      "cell_type": "markdown",
      "metadata": {
        "id": "uCsM9h7Gn3tK"
      },
      "source": [
        "<p style='text-align: justify; font-size: 16px; line-height: 1.5;'><span style=\"font-weight: bold;\">Exemplo 3:</span> Dada uma lista, altere para zero os valores indexados por índices pares e altere para um os valores indexados por índices ímpares.</p>"
      ]
    },
    {
      "cell_type": "code",
      "execution_count": null,
      "metadata": {
        "id": "qtl-Fhvmn3tK",
        "outputId": "39e78ce2-9ac0-43f0-e2af-dcc9a43da079"
      },
      "outputs": [
        {
          "name": "stdout",
          "output_type": "stream",
          "text": [
            "0 1 0 1 0 1 0 1 0 1 0 1\n"
          ]
        }
      ],
      "source": [
        "lista = [3, 4, 5, 45, 6, 78, 9, 8, 4, 67, 32, 12]\n",
        "N = len(lista)\n",
        "\n",
        "for indice in range(N):\n",
        "    if indice%2 == 0:\n",
        "        lista[indice] = 0\n",
        "    else:\n",
        "        lista[indice] = 1\n",
        "\n",
        "print(*lista)"
      ]
    },
    {
      "cell_type": "markdown",
      "metadata": {
        "id": "cOBCKNnhn3tK"
      },
      "source": [
        "<p style='text-align: justify; font-size: 16px; line-height: 1.5;'>Nessa solução, nós iteramos uma lista de índices gerada pela função <span style=\"font-weight: bold;\">range</span> e, dentro do escopo da iteração, utilizamos um controle de fluxo de seleção para verificar se o índice é par e, consequentemente, realizar a atualização correta de cada posição da lista. Uma outra solução para esse mapeamento pode ser construída sem o controle de fluxo de seleção. Veja:</p>"
      ]
    },
    {
      "cell_type": "code",
      "execution_count": null,
      "metadata": {
        "id": "vbLtXx2bn3tK",
        "outputId": "8261753e-68ec-42fb-d1d5-7f0b0a39eca7"
      },
      "outputs": [
        {
          "name": "stdout",
          "output_type": "stream",
          "text": [
            "0 1 0 1 0 1 0 1 0 1 0 1\n"
          ]
        }
      ],
      "source": [
        "lista = [3, 4, 5, 45, 6, 78, 9, 8, 4, 67, 32, 12]\n",
        "N = len(lista)\n",
        "\n",
        "for indice in range(0, N, 2):\n",
        "        lista[indice] = 0\n",
        "\n",
        "for indice in range(1, N, 2):\n",
        "    lista[indice] = 1\n",
        "    \n",
        "print(*lista)"
      ]
    },
    {
      "cell_type": "markdown",
      "metadata": {
        "id": "wnagKBOLn3tK"
      },
      "source": [
        "<p style='text-align: justify; font-size: 16px; line-height: 1.5;'>Nessa solução, nós construímos o mapeamento com duas iterações. Primeiro iteramos somente os índices pares e atualizamos essas posições para zero. Em seguida, iteramos os índices ímpares e atualizamos essas posições para um. A lista de índices ímpares foi construída com a função <span style=\"font-weight: bold;\">range</span> iniciando em 1 e tendo o incremento igual a 2. Na sua opinião, qual das duas soluções é mais elegante?</p>"
      ]
    },
    {
      "cell_type": "markdown",
      "metadata": {
        "id": "ADFKqYHyn3tK"
      },
      "source": [
        "## Resolvendo problemas de iteração com redução"
      ]
    },
    {
      "cell_type": "markdown",
      "metadata": {
        "id": "qMFMa-7zn3tK"
      },
      "source": [
        "<p style='text-align: justify; font-size: 16px; line-height: 1.5;'>Os problemas de iteração com redução são aqueles que necessitam de uma variável auxiliar para guardar o estado acumulado a cada iteração. Os problemas clássicos de redução envolvem soma, contagem e busca de um elemento que atende a uma determinada propriedade. Vejamos alguns exemplos:</p>"
      ]
    },
    {
      "cell_type": "markdown",
      "metadata": {
        "id": "vRXuOZ7an3tK"
      },
      "source": [
        "<p style='text-align: justify; font-size: 16px; line-height: 1.5;'><span style=\"font-weight: bold;\">Exemplo 1:</span> Dada uma lista numérica, calcule o produto dos números armazenados.</p>"
      ]
    },
    {
      "cell_type": "code",
      "execution_count": null,
      "metadata": {
        "id": "f-VRm4cOn3tK",
        "outputId": "98f018a3-44a9-490c-f136-0918d83a47a4"
      },
      "outputs": [
        {
          "name": "stdout",
          "output_type": "stream",
          "text": [
            "76204800\n"
          ]
        }
      ],
      "source": [
        "lista = [3, 4, 5, 5, 6, 7, 9, 8, 4, 7, 3, 1]\n",
        "produto = 1\n",
        "\n",
        "for item in lista:\n",
        "    produto = produto * item\n",
        "\n",
        "print(produto)"
      ]
    },
    {
      "cell_type": "markdown",
      "metadata": {
        "id": "ktEsr6Rqn3tK"
      },
      "source": [
        "<p style='text-align: justify; font-size: 16px; line-height: 1.5;'>Nesse exemplo, a variável <span style=\"font-weight: bold;\">produto</span> foi utilizada para armazenar o estado da redução. Como a solução tem que calcular o produto dos elementos da lista, a vaiável <span style=\"font-weight: bold;\">produto</span> foi inicializada com o valor 1, que é o elemento neutro da multiplicação. A inicialização dessa variável foi necessária, porque estamos realizando o produto acumulado dos itens da lista. Uma operação acumulada é caracterizada quando a variável que está armazenando o resultado da operação aritmética está sendo utilizada no cálculo da operação. Caso a variável <span style=\"font-weight: bold;\">produto</span> não tivesse sido inicializada, ao realizar a multiplicação <span style=\"font-weight: bold;\">produto * item</span>, você perceberia um erro em tempo de execução do tipo <span style=\"font-weight: bold;\">NameError</span>.</p>"
      ]
    },
    {
      "cell_type": "markdown",
      "metadata": {
        "id": "Unl_pyeRn3tK"
      },
      "source": [
        "<p style='text-align: justify; font-size: 16px; line-height: 1.5;'><span style=\"font-weight: bold;\">Exemplo 2:</span> Dada uma lista numérica, informe a quantidade de números maiores que 17.</p>"
      ]
    },
    {
      "cell_type": "code",
      "execution_count": null,
      "metadata": {
        "id": "pdwmXmIDn3tK",
        "outputId": "a78db34d-9e61-4cdf-98de-c31402dbf15b"
      },
      "outputs": [
        {
          "name": "stdout",
          "output_type": "stream",
          "text": [
            "5\n"
          ]
        }
      ],
      "source": [
        "lista = [32, 14, 25, 5, 16, 71, 19, 28, 14, 7, 13, 1]\n",
        "quantidade = 0\n",
        "\n",
        "for item in lista:\n",
        "    if item > 17:\n",
        "        quantidade = quantidade + 1\n",
        "\n",
        "print(quantidade)"
      ]
    },
    {
      "cell_type": "markdown",
      "metadata": {
        "id": "uzBexqCZn3tK"
      },
      "source": [
        "<p style='text-align: justify; font-size: 16px; line-height: 1.5;'>Nesse exemplo, realizamos um redução para resolver um problema de contagem. A variável <span style=\"font-weight: bold;\">quantidade</span> foi utilizada para armazenar o estado da redução. Como estamos utilizando essa variável em uma operação acumulada de soma dentro do escopo da iteração, houve a necessidade de inicializá-la com o valor zero. Problemas que envolvem contagem, dada uma determinada propriedade, necessitam de um controle de fluxo para verificar se a propriedade é verdadeia ou falsa para cada item da lista. Nesse exemplo, dentro do escopo da iteração, construímos um controle de fluxo de seleção com o comando <span style=\"font-weight: bold;\">if</span> para verificar quais os elementos da lista são maiores que 17. Para todos os elementos da lista que satisfazem essa condição, nós realizamos a soma acumulada unitária da variável quantidade.</p>"
      ]
    },
    {
      "cell_type": "markdown",
      "metadata": {
        "id": "TtW31llcn3tL"
      },
      "source": [
        "<p style='text-align: justify; font-size: 16px; line-height: 1.5;'><span style=\"font-weight: bold;\">Exemplo 3:</span> Dada uma lista de string, informe a maior string da lista.</p>"
      ]
    },
    {
      "cell_type": "code",
      "execution_count": null,
      "metadata": {
        "id": "pKWK-N7Rn3tL",
        "outputId": "65c2ffc5-b629-4433-e6ca-20d488e24847"
      },
      "outputs": [
        {
          "name": "stdout",
          "output_type": "stream",
          "text": [
            "14\n"
          ]
        }
      ],
      "source": [
        "lista = ['arara', 'arroz', 'abacaxi', 'paralelepipedo', 'cachorro', 'feijão']\n",
        "maior_string = len(lista[0])\n",
        "\n",
        "for item in lista:\n",
        "    if len(item) > maior_string:\n",
        "        maior_string = len(item)\n",
        "\n",
        "print(maior_string)"
      ]
    },
    {
      "cell_type": "markdown",
      "metadata": {
        "id": "iss-yPKvn3tL"
      },
      "source": [
        "<p style='text-align: justify; font-size: 16px; line-height: 1.5;'>Nesse exemplo, realizamos um redução para resolver um problema de busca de elemento que atende a uma determinada propriedade. Como estamos querendo encontrar a string de maior tamanho, utilizamos a função <span style=\"font-weight: bold;\">len</span> para calcular o tamanho das strings armazenadas em cada posição da lista. A variável <span style=\"font-weight: bold;\">maior_string</span> está sendo utilizada na redução e foi inicializada com o tamanho da string armazenada no índice zero da lista. Essa inicialização foi necessária porque a variável <span style=\"font-weight: bold;\">maior_string</span> está sendo utilizada no controle de fluxo de seleção que está dentro do escopo da iteração. Para todo elemento que tiver um tamanho de string maior do que o tamanho que está armazenado na variável <span style=\"font-weight: bold;\">maior_string</span>, nós atualizamos o valor da variável <span style=\"font-weight: bold;\">maior_string</span> com esse maior tamanho encontrado.</p>"
      ]
    },
    {
      "cell_type": "markdown",
      "metadata": {
        "id": "NR2aSPSIn3tL"
      },
      "source": [
        "<p style='text-align: justify; font-size: 16px; line-height: 1.5;'>Nos próximos capítulos vamos estudar as estruturas de conjuntos e dicionário, após essa explanação, vamos resolver problemas que necessitam de filtro, mapeamento e redução mais elaborados.</p>"
      ]
    },
    {
      "cell_type": "markdown",
      "metadata": {
        "id": "vh9GUgDln3tL"
      },
      "source": [
        "## Iterando mais de uma lista com a função zip"
      ]
    },
    {
      "cell_type": "markdown",
      "metadata": {
        "id": "t_gHpu4on3tL"
      },
      "source": [
        "<p style='text-align: justify; font-size: 16px; line-height: 1.5;'>Existem situações em que você precisa acessar elementos de mais de uma lista. Na linguagem Python, você pode fazer isso utilizando a função <span style=\"font-weight: bold;\">zip</span>. A função <span style=\"font-weight: bold;\">zip</span> faz uma iteração paralela nas coleções passadas como argumento. Para cada iteração, a função <span style=\"font-weight: bold;\">zip</span> retorna uma tupla com os elementos de cada coleção que possuam índices correspondentes. Caso sejam passados coleções de tamanhos diferentes, por padrão, a função <span style=\"font-weight: bold;\">zip</span> itera até o maior índice comum para todas as coleções.</p>"
      ]
    },
    {
      "cell_type": "markdown",
      "metadata": {
        "id": "eerZKGWUn3tL"
      },
      "source": [
        "<p style='text-align: justify; font-size: 16px; line-height: 1.5;'> Vejamos algums exemplos de utilização da função <span style=\"font-weight: bold;\">zip</span>.</p>"
      ]
    },
    {
      "cell_type": "markdown",
      "metadata": {
        "id": "s9bIOw-cn3tL"
      },
      "source": [
        "<p style='text-align: justify; font-size: 16px; line-height: 1.5;'><span style=\"font-weight: bold;\">Exemplo 1:</span> Utilizando a função <span style=\"font-weight: bold;\">zip</span> para exibir as tuplas com os elementos das listas <span style=\"font-weight: bold;\">a</span> e <span style=\"font-weight: bold;\">b</span>.</p>"
      ]
    },
    {
      "cell_type": "code",
      "execution_count": null,
      "metadata": {
        "id": "GV0xmA4Zn3tL",
        "outputId": "3b76d346-1477-444a-8b2a-cddd3273cc59"
      },
      "outputs": [
        {
          "name": "stdout",
          "output_type": "stream",
          "text": [
            "(1, 6)\n",
            "(2, 2)\n",
            "(3, 4)\n"
          ]
        }
      ],
      "source": [
        "a = [1,2,3]\n",
        "b = [6,2,4]\n",
        "\n",
        "for item in zip(a,b):\n",
        "    print(item)"
      ]
    },
    {
      "cell_type": "markdown",
      "metadata": {
        "id": "pjBJkvinn3tL"
      },
      "source": [
        "<p style='text-align: justify; font-size: 16px; line-height: 1.5;'>Como você pode perceber, a função <span style=\"font-weight: bold;\">zip</span> está gerando uma tupla com os elementos das listas <span style=\"font-weight: bold;\">a</span> e <span style=\"font-weight: bold;\">b</span> de índices correspondentes. Uma tupla é uma estrutura de dados imutável e que na linguagem Python é determinada pelos parênteses.</p>"
      ]
    },
    {
      "cell_type": "markdown",
      "metadata": {
        "id": "-hqwsvSmn3tL"
      },
      "source": [
        "<p style='text-align: justify; font-size: 16px; line-height: 1.5;'><span style=\"font-weight: bold;\">Exemplo 2:</span> Armazenando os elementos da tupla em variáveis distintas.</p>"
      ]
    },
    {
      "cell_type": "code",
      "execution_count": null,
      "metadata": {
        "id": "czSR8UKPn3tL",
        "outputId": "8e070ba3-18d3-4157-f82c-07248b563d15"
      },
      "outputs": [
        {
          "name": "stdout",
          "output_type": "stream",
          "text": [
            "1 6\n",
            "2 2\n",
            "3 4\n"
          ]
        }
      ],
      "source": [
        "a = [1,2,3]\n",
        "b = [6,2,4]\n",
        "\n",
        "for x, y in zip(a,b):\n",
        "    print(x, y)"
      ]
    },
    {
      "cell_type": "markdown",
      "metadata": {
        "id": "E1_GeqZgn3tO"
      },
      "source": [
        "<p style='text-align: justify; font-size: 16px; line-height: 1.5;'>Na iteração utilizando a função <span style=\"font-weight: bold;\">zip</span>, a quantidade de elementos na tupla equivale ao número de coleções passadas como argumento da função. No nosso caso, como foram passados como argumento as listas <span style=\"font-weight: bold;\">a</span> e <span style=\"font-weight: bold;\">b</span>, cada tupla é formada por dois elementos. Para armazenar cada um desses elementos em variáveis distintas, basta especificar essas variáveis no cabeçalho do comando <span style=\"font-weight: bold;\">for</span>. A quantidade de variáveis especificadas deve ser igual ao número de coleções passadas como argumentos da função <span style=\"font-weight: bold;\">zip</span> e essas variáveis devem estar separadas por vírgula.</p>"
      ]
    },
    {
      "cell_type": "markdown",
      "metadata": {
        "id": "RqBCNnA3n3tO"
      },
      "source": [
        "<p style='text-align: justify; font-size: 16px; line-height: 1.5;'>Como você sabe, existem várias formas de resolver o mesmo problema. Uma alternativa a função <span style=\"font-weight: bold;\">zip</span> para acessar os elementos de índices correspondentes de mais de uma coleção pode ser a partir da iteração de índices gerados pela função <span style=\"font-weight: bold;\">range</span>. Vejamos:</p>"
      ]
    },
    {
      "cell_type": "code",
      "execution_count": null,
      "metadata": {
        "id": "zrCnsEddn3tO",
        "outputId": "f597cebf-d602-4f53-e923-59c7f97bd0e7"
      },
      "outputs": [
        {
          "name": "stdout",
          "output_type": "stream",
          "text": [
            "1 6\n",
            "2 2\n",
            "3 4\n"
          ]
        }
      ],
      "source": [
        "a = [1,2,3]\n",
        "b = [6,2,4]\n",
        "\n",
        "N = min(len(a), len(b))\n",
        "\n",
        "for indice in range(N):\n",
        "    print(a[indice], b[indice])"
      ]
    },
    {
      "cell_type": "markdown",
      "metadata": {
        "id": "fGFnpXSjn3tO"
      },
      "source": [
        "<p style='text-align: justify; font-size: 16px; line-height: 1.5;'>Para determinar quantos índices a função <span style=\"font-weight: bold;\">range</span> deve gerar, foi necessário verificar qual o tamanho na menor lista a ser iterada. Realizamos essa verificação utilizando a combinação das funções <span style=\"font-weight: bold;\">len</span> e <span style=\"font-weight: bold;\">min</span>. A função <span style=\"font-weight: bold;\">len</span> foi utilizada para calcular os tamanhos das listas <span style=\"font-weight: bold;\">a</span> e <span style=\"font-weight: bold;\">b</span> e a função <span style=\"font-weight: bold;\">min</span> para determinar o menor valor calculado. Uma outra possibilidade de encontrar o tamanho da menor lista seria criando uma condição ternária. Vejamos:</p>"
      ]
    },
    {
      "cell_type": "code",
      "execution_count": null,
      "metadata": {
        "id": "SCQJFPmfn3tO",
        "outputId": "cd105d0f-532b-4917-ddc7-a23dbd3277ab"
      },
      "outputs": [
        {
          "name": "stdout",
          "output_type": "stream",
          "text": [
            "1 6\n",
            "2 2\n",
            "3 4\n"
          ]
        }
      ],
      "source": [
        "a = [1,2,3]\n",
        "b = [6,2,4]\n",
        "\n",
        "N = len(a) if len(a) < len(b) else len(b)\n",
        "\n",
        "for indice in range(N):\n",
        "    print(a[indice], b[indice])"
      ]
    },
    {
      "cell_type": "markdown",
      "metadata": {
        "id": "mrVOh-l9n3tO"
      },
      "source": [
        "<p style='text-align: justify; font-size: 16px; line-height: 1.5;'>Ao invés de utilizar uma condição ternária, você também poderia determinar o valor de N com uma condição tradicional. Vejamos:</p>"
      ]
    },
    {
      "cell_type": "code",
      "execution_count": null,
      "metadata": {
        "id": "HU2ZE1con3tO",
        "outputId": "3254df83-f4bc-425a-c310-b195e5535515"
      },
      "outputs": [
        {
          "name": "stdout",
          "output_type": "stream",
          "text": [
            "1 6\n",
            "2 2\n",
            "3 4\n"
          ]
        }
      ],
      "source": [
        "a = [1,2,3]\n",
        "b = [6,2,4]\n",
        "\n",
        "if len(a) < len(b):\n",
        "    N = len(b)\n",
        "else:\n",
        "    N = len(a)\n",
        "\n",
        "for indice in range(N):\n",
        "    print(a[indice], b[indice])"
      ]
    },
    {
      "cell_type": "markdown",
      "metadata": {
        "id": "izaj3ULan3tO"
      },
      "source": [
        "<p style='text-align: justify; font-size: 16px; line-height: 1.5;'><span style=\"font-weight: bold;\">Exemplo 3:</span> Utilizando a função a função <span style=\"font-weight: bold;\">zip</span> para iterar elementos adjacentes de uma lista 3 a 3.</p>"
      ]
    },
    {
      "cell_type": "code",
      "execution_count": null,
      "metadata": {
        "id": "yHdJvB22n3tO",
        "outputId": "30d0998b-8191-421f-9ac8-0f5d3072a3a0"
      },
      "outputs": [
        {
          "name": "stdout",
          "output_type": "stream",
          "text": [
            "(1, 2, 3)\n",
            "(2, 3, 4)\n",
            "(3, 4, 5)\n",
            "(4, 5, 6)\n",
            "(5, 6, 7)\n",
            "(6, 7, 8)\n",
            "(7, 8, 9)\n"
          ]
        }
      ],
      "source": [
        "lista = [1, 2, 3, 4, 5, 6, 7, 8, 9]\n",
        "\n",
        "for item in zip(lista, lista[1:], lista[2:]):\n",
        "    print(item)"
      ]
    },
    {
      "cell_type": "markdown",
      "metadata": {
        "id": "mSPNGYJMn3tO"
      },
      "source": [
        "<p style='text-align: justify; font-size: 16px; line-height: 1.5;'>Nesse exemplo, observe que apesar de estarmos utilizando a mesma lista, os argumentos passados para a função zip implicam em listas diferentes, uma vez que estamos gerando subsequências utilizado o slice. Como queremos iterar elementos adjacentes 3 a 3, na lista do meio, utilizamos o slice para gerar uma subsequência a partir do segundo elemento da lista. Na última lista, o slice foi utilizado para gerar uma subsequência a partir do terceiro elemento da lista. As subsequências geradas pelo slice são reindexadas tal que o primeiro elemento seja indexado pelo índice zero. Por tanto, as três listas passadas como argumento da função zip possuem o primeiro elemento com índices correspondentes. Note também que as três listas não possuem o mesmo tamanho. Nesse caso a função zip irá iterar até o maior índice que seja correspondente nas três listas.</p>"
      ]
    },
    {
      "cell_type": "markdown",
      "metadata": {
        "id": "zouRgSNin3tO"
      },
      "source": [
        "<p style='text-align: justify; font-size: 16px; line-height: 1.5;'>Caso você necessite acessar os elementos iterados separadamente, você pode armazenar os elementos da tupla em variáveis distintas. Veja:</p>"
      ]
    },
    {
      "cell_type": "code",
      "execution_count": null,
      "metadata": {
        "id": "PWO5QTnan3tO",
        "outputId": "752b6109-77ee-47f6-f224-8c4ce798d561"
      },
      "outputs": [
        {
          "name": "stdout",
          "output_type": "stream",
          "text": [
            "1 2 3\n",
            "2 3 4\n",
            "3 4 5\n",
            "4 5 6\n",
            "5 6 7\n",
            "6 7 8\n",
            "7 8 9\n"
          ]
        }
      ],
      "source": [
        "lista = [1, 2, 3, 4, 5, 6, 7, 8, 9]\n",
        "\n",
        "for x, y, z in zip(lista, lista[1:], lista[2:]):\n",
        "    print(x, y, z)"
      ]
    },
    {
      "cell_type": "markdown",
      "metadata": {
        "id": "2yXqIFyPn3tO"
      },
      "source": [
        "<p style='text-align: justify; font-size: 16px; line-height: 1.5;'>O problema da iteração de elementos adjacentes N a N também pode ser resolvido utilizando a função range. Veja:</p>"
      ]
    },
    {
      "cell_type": "code",
      "execution_count": null,
      "metadata": {
        "id": "Tt56Flz6n3tO",
        "outputId": "957b56f6-fc63-4752-9113-38ee7ac1a692"
      },
      "outputs": [
        {
          "name": "stdout",
          "output_type": "stream",
          "text": [
            "1 2 3\n",
            "2 3 4\n",
            "3 4 5\n",
            "4 5 6\n",
            "5 6 7\n",
            "6 7 8\n",
            "7 8 9\n"
          ]
        }
      ],
      "source": [
        "lista = [1, 2, 3, 4, 5, 6, 7, 8, 9]\n",
        "N = len(lista)-2\n",
        "\n",
        "for indice in range(N):\n",
        "    print(lista[indice], lista[indice+1], lista[indice+2])"
      ]
    },
    {
      "cell_type": "markdown",
      "metadata": {
        "id": "5RYk0d6Kn3tO"
      },
      "source": [
        "<p style='text-align: justify; font-size: 16px; line-height: 1.5;'>Nessa solução, a quantidade de índices gerados pela função range deve ser igual ao tamanho da lista menos a quantidade de elementos adjacentes que serão iterados menos um. O menos um é necessário porque o primeiro índice da lista é igual a zero. No exemplo em questão, como queremos realizar a iteração adjacente 3 a 3, o valor de N é igual ao tamanho da lista menos 3 menos 1, ou seja, N é igual ao tamanho da lista menos 2.</p>"
      ]
    },
    {
      "cell_type": "markdown",
      "metadata": {
        "id": "Z94oy3xVn3tO"
      },
      "source": [
        "<p style='text-align: justify; font-size: 16px; line-height: 1.5;'>Utilizando a função range, além de ser possível fazer a iteração de elementos adjacentes, também podemos definir o padrão de deslocamento da iteração que por padrão é igual a 1. Na função range, o padrão de deslocamento é definido com o valor passado como terceiro argumento da função. Veja o exemplo que realiza a iteração 3 a 3 com deslocamento de 3, conforme exemplificado na Figura 2.</p>"
      ]
    },
    {
      "cell_type": "markdown",
      "metadata": {
        "id": "5WTI2_4wn3tO"
      },
      "source": [
        "![iteração de lista](fig2.png)\n",
        "<p style=\"text-align:center;\">Figura 2: Exemplo de iteração 3 a 3 com deslocamento de 3.</p>"
      ]
    },
    {
      "cell_type": "code",
      "execution_count": null,
      "metadata": {
        "id": "5o2DZOnRn3tP",
        "outputId": "15258b74-924a-4338-f08b-4c757251cd03"
      },
      "outputs": [
        {
          "name": "stdout",
          "output_type": "stream",
          "text": [
            "1 2 3\n",
            "4 5 6\n",
            "7 8 9\n"
          ]
        }
      ],
      "source": [
        "lista = [1, 2, 3, 4, 5, 6, 7, 8, 9]\n",
        "N = len(lista)-2\n",
        "\n",
        "for indice in range(0,N,3):\n",
        "    print(lista[indice], lista[indice+1], lista[indice+2])"
      ]
    }
  ],
  "metadata": {
    "kernelspec": {
      "display_name": "Python 3",
      "language": "python",
      "name": "python3"
    },
    "language_info": {
      "codemirror_mode": {
        "name": "ipython",
        "version": 3
      },
      "file_extension": ".py",
      "mimetype": "text/x-python",
      "name": "python",
      "nbconvert_exporter": "python",
      "pygments_lexer": "ipython3",
      "version": "3.9.1"
    },
    "colab": {
      "provenance": []
    }
  },
  "nbformat": 4,
  "nbformat_minor": 0
}
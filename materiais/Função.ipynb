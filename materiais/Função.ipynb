{
  "cells": [
    {
      "cell_type": "markdown",
      "metadata": {
        "id": "Il8LXIGknILc"
      },
      "source": [
        "# Introdução à programação em Python\n",
        "## Renato Hidaka Torres"
      ]
    },
    {
      "cell_type": "markdown",
      "metadata": {
        "id": "YW7b6SwknILe"
      },
      "source": [
        "## Função"
      ]
    },
    {
      "cell_type": "markdown",
      "metadata": {
        "id": "deG4uWICnILe"
      },
      "source": [
        "## Objetivo"
      ]
    },
    {
      "cell_type": "markdown",
      "metadata": {
        "id": "WqyIlpUOnILe"
      },
      "source": [
        "<p style='text-align: justify; font-size: 16px; line-height: 1.5;'>Neste capítulo você irá estudar as especificidades para construir funções. As funções são muito importantes no processo de construção de programa de computador, pois possibilita a modularização, a reutilização, e facilita a leitura do código, uma vez que fragmenta seu código em partes com finalidades específicas. Iremos lhe apresentar diferentes formas de codificação de funções. Ao final deste capítulo, você terá várias questões para exercitar o conteúdo.</p>"
      ]
    },
    {
      "cell_type": "markdown",
      "metadata": {
        "id": "Tea9fn3KnILe"
      },
      "source": [
        "## O que é uma função?"
      ]
    },
    {
      "cell_type": "markdown",
      "metadata": {
        "id": "np7jlaE7nILe"
      },
      "source": [
        "<p style='text-align: justify; font-size: 16px; line-height: 1.5;'>Podemos dizer que uma função é um fragmento de código que é construído para encapsular uma funcionalidade. Geralmente, as funções recebem dados, processam a sua tarefa e retornam o resultado esperado. Uma vez que uma função é programada, ela pode ser utilizada várias vezes, em diferentes partes do código, com diferentes dados de entrada.</p>"
      ]
    },
    {
      "cell_type": "markdown",
      "metadata": {
        "id": "jvQLGQQgnILf"
      },
      "source": [
        "## Definindo uma função"
      ]
    },
    {
      "cell_type": "markdown",
      "metadata": {
        "id": "XVt4ss5xnILf"
      },
      "source": [
        "<p style='text-align: justify; font-size: 16px; line-height: 1.5;'>Para exemplificar, vamos escrever uma função para somar três números:</p>"
      ]
    },
    {
      "cell_type": "code",
      "execution_count": null,
      "metadata": {
        "id": "GdtoCKNXnILf"
      },
      "outputs": [],
      "source": [
        "def soma(a, b, c):\n",
        "    soma = a+b+c\n",
        "    return soma"
      ]
    },
    {
      "cell_type": "markdown",
      "metadata": {
        "id": "LS0dUZ5pnILf"
      },
      "source": [
        "<p style='text-align: justify; font-size: 16px; line-height: 1.5;'>A construção de uma função pode ser subdividida em três etapas, quais sejam:</p>"
      ]
    },
    {
      "cell_type": "markdown",
      "metadata": {
        "id": "hgMU1r5InILf"
      },
      "source": [
        "<ol>\n",
        "       <li style='text-align: justify; font-size: 16px; line-height: 1.5;'>cabeçalho da função</li>\n",
        "       <li style='text-align: justify; font-size: 16px; line-height: 1.5;'>escopo da função</li>\n",
        "       <li style='text-align: justify; font-size: 16px; line-height: 1.5;'>retorno da função</li>\n",
        "    </ol>"
      ]
    },
    {
      "cell_type": "markdown",
      "metadata": {
        "id": "gXW2eJ0pnILg"
      },
      "source": [
        "<p style='text-align: justify; font-size: 16px; line-height: 1.5;'>O cabeçalho da função é definido pelo comando <span style=\"font-weight: bold;\">def</span>, seguido do nome da função e dos parâmetros. Os parâmetros são as variáveis que devem ser definidas para receber os dados de entrada da função. Como você pode perceber, os parâmetros da função devem definidos dentro dos parênteses e, caso a função tenha mais de um parâmetro, eles devem estar separados por vírgula. Caso a função não necessite receber nenhum dado de entrada, então não é necessário definir parâmetros, ficando os parênteses vazio.</p>"
      ]
    },
    {
      "cell_type": "markdown",
      "metadata": {
        "id": "aZWGkgIAnILg"
      },
      "source": [
        "<p style='text-align: justify; font-size: 16px; line-height: 1.5;'>Depois dos parênteses da função, é necessário o símbolo de dois pontos. Os dois pontos indicam que o cabeçalho da função foi definido e que as próximas linhas indentadas correspondem ao escopo da função. Uma linha indentada é uma linha recuada pela tecla TAB. Na linguagem Python, todo bloco de código que define subordinação deve estar indentado. No caso da função, as linhas indentadas estão subordinadas à função, ou seja, pertencem ao escopo da função.</p>\n"
      ]
    },
    {
      "cell_type": "markdown",
      "metadata": {
        "id": "yshQIuN4nILg"
      },
      "source": [
        "<p style='text-align: justify; font-size: 16px; line-height: 1.5;'>No escopo da função, devemos programar o que for necessário para que a função cumpra a sua finalidade. Podemos dizer que cada função é um algoritmo que deve ser codificado para utilizar os dados de entrada, processar, e exibir o resultado esperado.</p>"
      ]
    },
    {
      "cell_type": "markdown",
      "metadata": {
        "id": "yVdpT7nQnILg"
      },
      "source": [
        "<p style='text-align: justify; font-size: 16px; line-height: 1.5;'>A terceira parte da função diz respeito ao retorno. Como você pode observar, o retorno da função é definido pelo comando <span style=\"font-weight: bold;\">def</span>, seguido da informação a ser retornada. Normalmente, a informação a ser retornada está armazenada em uma variável. No nosso exemplo, o valor de retorno da função é o valor que está armazenado na variável soma.</p>"
      ]
    },
    {
      "cell_type": "markdown",
      "metadata": {
        "id": "4KndQ5TmnILh"
      },
      "source": [
        "## Utilizando uma função"
      ]
    },
    {
      "cell_type": "markdown",
      "metadata": {
        "id": "BS4nUBflnILh"
      },
      "source": [
        "<p style='text-align: justify; font-size: 16px; line-height: 1.5;'>Uma vez que uma função foi definida, você pode utilizá-la em várias partes do seu código. Para isso, basta chamar a função pelo seu nome, passar os argumentos que serão armazenados nos parâmetros e criar uma variável para armazenar o retorno da função. Para exemplificar, vamos utilizar a nossa função soma.</p>"
      ]
    },
    {
      "cell_type": "code",
      "execution_count": null,
      "metadata": {
        "id": "6f_pogb-nILh",
        "outputId": "f14796c2-12e8-4baa-e8dd-d7b16ea39dbc"
      },
      "outputs": [
        {
          "name": "stdout",
          "output_type": "stream",
          "text": [
            "18\n"
          ]
        }
      ],
      "source": [
        "resposta = soma(3, 6, 9)\n",
        "print(resposta)"
      ]
    },
    {
      "cell_type": "markdown",
      "metadata": {
        "id": "KcdpC1ISnILi"
      },
      "source": [
        "<p style='text-align: justify; font-size: 16px; line-height: 1.5;'>Note que ao chamar a função soma, passamos os três valores para serem somados. Nós passamos três valores, porque essa função possui três parâmetros, ou seja, toda vez que essa função é utilizada, espera-se receber três valores de entrada. Tecnicamente, os valores de entrada de uma função são chamados de argumentos. Caso você passe um número de argumentos incompatível com o número de parâmetros, você recebe um erro em tempo de execução do tipo <span style=\"font-weight: bold;\">TypeError</span>. Veja:</p>"
      ]
    },
    {
      "cell_type": "code",
      "execution_count": null,
      "metadata": {
        "id": "dYyiM8BZnILi",
        "outputId": "7174d957-b472-4f80-ed59-8ae2683aa886"
      },
      "outputs": [
        {
          "ename": "TypeError",
          "evalue": "soma() takes 3 positional arguments but 4 were given",
          "output_type": "error",
          "traceback": [
            "\u001b[0;31m---------------------------------------------------------------------------\u001b[0m",
            "\u001b[0;31mTypeError\u001b[0m                                 Traceback (most recent call last)",
            "\u001b[0;32m<ipython-input-4-4d4f2c7b3f28>\u001b[0m in \u001b[0;36m<module>\u001b[0;34m\u001b[0m\n\u001b[0;32m----> 1\u001b[0;31m \u001b[0mresposta\u001b[0m \u001b[0;34m=\u001b[0m \u001b[0msoma\u001b[0m\u001b[0;34m(\u001b[0m\u001b[0;36m3\u001b[0m\u001b[0;34m,\u001b[0m \u001b[0;36m6\u001b[0m\u001b[0;34m,\u001b[0m \u001b[0;36m9\u001b[0m\u001b[0;34m,\u001b[0m \u001b[0;36m10\u001b[0m\u001b[0;34m)\u001b[0m\u001b[0;34m\u001b[0m\u001b[0;34m\u001b[0m\u001b[0m\n\u001b[0m\u001b[1;32m      2\u001b[0m \u001b[0mprint\u001b[0m\u001b[0;34m(\u001b[0m\u001b[0mresposta\u001b[0m\u001b[0;34m)\u001b[0m\u001b[0;34m\u001b[0m\u001b[0;34m\u001b[0m\u001b[0m\n",
            "\u001b[0;31mTypeError\u001b[0m: soma() takes 3 positional arguments but 4 were given"
          ]
        }
      ],
      "source": [
        "resposta = soma(3, 6, 9, 10)\n",
        "print(resposta)"
      ]
    },
    {
      "cell_type": "markdown",
      "metadata": {
        "id": "HoKdxlCKnILi"
      },
      "source": [
        "## Documentando a função com docstring"
      ]
    },
    {
      "cell_type": "markdown",
      "metadata": {
        "id": "Ffb1iNB_nILi"
      },
      "source": [
        "<p style='text-align: justify; font-size: 16px; line-height: 1.5;'>Para documentar uma função, podemos definir uma <span style=\"font-weight: bold;\">docstring</span> na primeira linha do escopo da função. Uma <span style=\"font-weight: bold;\">docstring</span> é uma string de múltipla linha definida por três aspas. Na documentação, é uma boa prática de programação descrevermos o objetivo da função, as especificidades dos parâmetros e do retorno. Vamos documentar a nossa função soma.</p>"
      ]
    },
    {
      "cell_type": "code",
      "execution_count": null,
      "metadata": {
        "id": "j0yqU_BCnILj"
      },
      "outputs": [],
      "source": [
        "def soma(a, b, c):\n",
        "    \"\"\" \n",
        "    Soma três números inteiros.\n",
        "    \n",
        "    Arguments:\n",
        "        a: um número inteiro\n",
        "        b: um número inteiro\n",
        "        c: um número inteiro\n",
        "    \n",
        "    Returns:\n",
        "        A soma dos três números inteiros.\n",
        "    \"\"\"\n",
        "    soma = a+b+c\n",
        "    return soma"
      ]
    },
    {
      "cell_type": "markdown",
      "metadata": {
        "id": "e2JO2AvsnILj"
      },
      "source": [
        "<p style='text-align: justify; font-size: 16px; line-height: 1.5;'>Existem ferramentas que usam docstring para produzir automaticamente documentação online ou impressa, ou para permitir que o usuário navegue interativamente pelo código. Portanto, é uma boa prática incluir docstring no seu código.</p>"
      ]
    },
    {
      "cell_type": "markdown",
      "metadata": {
        "id": "Lm3Yh-KqnILj"
      },
      "source": [
        "## Definindo uma função com argumentos default"
      ]
    },
    {
      "cell_type": "markdown",
      "metadata": {
        "id": "fUsnQ40mnILj"
      },
      "source": [
        "<p style='text-align: justify; font-size: 16px; line-height: 1.5;'>Ao codificar uma função, você tem a opção de definir argumentos default para um ou mais parâmetros da função. O argumento default é definido por uma atribuição ao parâmetro. Os parâmetros com argumento default devem ser os últimos parâmetros da função, ou seja, se a função possuir parâmetros com e sem argumentos default, todos os que parâmetros que não possuem argumentos default devem vir primeiro. Para exemplificar, vamos definir argumentos default para os parâmetros <span style=\"font-weight: bold;\">a</span> e <span style=\"font-weight: bold;\">b</span> da nossa função <span style=\"font-weight: bold;\">soma</span>.</p>"
      ]
    },
    {
      "cell_type": "code",
      "execution_count": null,
      "metadata": {
        "id": "yK9spXJanILj"
      },
      "outputs": [],
      "source": [
        "def soma(a, b=11, c=2):\n",
        "    \"\"\" \n",
        "    Soma três números inteiros.\n",
        "    \n",
        "    Arguments:\n",
        "        a: um número inteiro\n",
        "        b: um número inteiro. Default value = 11\n",
        "        c: um número inteiro. Default value = 2\n",
        "    \n",
        "    Returns:\n",
        "        A soma dos três números inteiros.\n",
        "    \"\"\"\n",
        "    soma = a+b+c\n",
        "    return soma"
      ]
    },
    {
      "cell_type": "markdown",
      "metadata": {
        "id": "6TDqjHZWnILk"
      },
      "source": [
        "<p style='text-align: justify; font-size: 16px; line-height: 1.5;'>Quando uma função possui parâmetros com argumentos default, ao chamar essa função, a passagem de valores para esses parâmetros torna-se opcional. Por esse motivo, funções com parâmetros que possuem argumentos default admitem variações na passagem de argumentos. Vejamos analisar diferentes exemplos de chamadas da nossa função soma.</p>"
      ]
    },
    {
      "cell_type": "markdown",
      "metadata": {
        "id": "2mEhrOfKnILk"
      },
      "source": [
        "<p style='text-align: justify; font-size: 16px; line-height: 1.5;'><span style=\"font-weight: bold;\">Exemplo 1: </span> Passando somente um argumento para a função soma.</p>"
      ]
    },
    {
      "cell_type": "code",
      "execution_count": null,
      "metadata": {
        "id": "e-ZgwKlUnILk",
        "outputId": "f48c3256-c777-4ad2-82fe-8133daa5b102"
      },
      "outputs": [
        {
          "name": "stdout",
          "output_type": "stream",
          "text": [
            "23\n"
          ]
        }
      ],
      "source": [
        "resposta = soma(10)\n",
        "print(resposta)"
      ]
    },
    {
      "cell_type": "markdown",
      "metadata": {
        "id": "BSCiEl1knILk"
      },
      "source": [
        "<p style='text-align: justify; font-size: 16px; line-height: 1.5;'>Nesse exemplo, estamos passando somente um argumento para a função soma. Este argumento é armazenado no parâmetro <span style=\"font-weight: bold;\">a</span>, uma vez que ele é o único parâmetro que não possui argumento default. Dada uma função, caso mais de um parâmetro não possua argumento default, então, no momento da chamada da função, a passagem de argumentos para esses parâmetros é obrigatória.</p>"
      ]
    },
    {
      "cell_type": "markdown",
      "metadata": {
        "id": "gyS1NQ5JnILk"
      },
      "source": [
        "<p style='text-align: justify; font-size: 16px; line-height: 1.5;'>Ao passar o valor 10 como argumento do parâmetro <span style=\"font-weight: bold;\">a</span>, observe que o retorno da função foi o valor 23. Esse valor foi retornado, pois os valores 11 e 2 são os valores do parâmetros <span style=\"font-weight: bold;\">b</span> e <span style=\"font-weight: bold;\">c</span>.</p>"
      ]
    },
    {
      "cell_type": "markdown",
      "metadata": {
        "id": "Wb46zNm5nILk"
      },
      "source": [
        "<p style='text-align: justify; font-size: 16px; line-height: 1.5;'><span style=\"font-weight: bold;\">Exemplo 2: </span> Passando dois argumentos para a função soma.</p>"
      ]
    },
    {
      "cell_type": "code",
      "execution_count": null,
      "metadata": {
        "id": "LeaiTqRknILk",
        "outputId": "627d143e-657c-4b32-f0da-f726c9aa8855"
      },
      "outputs": [
        {
          "name": "stdout",
          "output_type": "stream",
          "text": [
            "14\n"
          ]
        }
      ],
      "source": [
        "resposta = soma(10, 2)\n",
        "print(resposta)"
      ]
    },
    {
      "cell_type": "markdown",
      "metadata": {
        "id": "UlaCBnMHnILk"
      },
      "source": [
        "<p style='text-align: justify; font-size: 16px; line-height: 1.5;'>Nesse exemplo, estamos passando dois argumentos para a função soma. Nesse caso, o primeiro argumento é armazenado no parâmetro <span style=\"font-weight: bold;\">a</span> e o segundo no parâmetro <span style=\"font-weight: bold;\">b</span>. Uma vez que um argumento foi passado para o parâmetro <span style=\"font-weight: bold;\">b</span>, messa chamada da função, o seu valor default é substuído.</p>"
      ]
    },
    {
      "cell_type": "markdown",
      "metadata": {
        "id": "shgGglzsnILk"
      },
      "source": [
        "<p style='text-align: justify; font-size: 16px; line-height: 1.5;'>Ao passar os valores 10 e 2 como argumentos dos parâmetros <span style=\"font-weight: bold;\">a</span> e <span style=\"font-weight: bold;\">b</span>, observe que o retorno da função foi o valor 14. Esse valor foi retornado, pois o valor do parâmetro <span style=\"font-weight: bold;\">c</span> é igual a 2, o valor default.</p>"
      ]
    },
    {
      "cell_type": "markdown",
      "metadata": {
        "id": "6t1xUOtVnILk"
      },
      "source": [
        "<p style='text-align: justify; font-size: 16px; line-height: 1.5;'><span style=\"font-weight: bold;\">Exemplo 3: </span> Passando três argumentos para a função soma.</p>"
      ]
    },
    {
      "cell_type": "code",
      "execution_count": null,
      "metadata": {
        "id": "KlewEB__nILl",
        "outputId": "03a9bdec-4336-4e66-c79a-7ef16a31611d"
      },
      "outputs": [
        {
          "name": "stdout",
          "output_type": "stream",
          "text": [
            "15\n"
          ]
        }
      ],
      "source": [
        "resposta = soma(5, 2, 8)\n",
        "print(resposta)"
      ]
    },
    {
      "cell_type": "markdown",
      "metadata": {
        "id": "rusULcpWnILl"
      },
      "source": [
        "<p style='text-align: justify; font-size: 16px; line-height: 1.5;'>Nesse exemplo, estamos passando argumentos para todos os parâmetros da função. Por tanto, nessa chamada, os argumentos default são substituídos e a soma é realizado com os valores passados.</p>"
      ]
    },
    {
      "cell_type": "markdown",
      "metadata": {
        "id": "dyt1pA9FnILl"
      },
      "source": [
        "<p style='text-align: justify; font-size: 16px; line-height: 1.5;'><span style=\"font-weight: bold;\">Exemplo 4: </span> Não passando nenhum argumento para a função soma.</p>"
      ]
    },
    {
      "cell_type": "code",
      "execution_count": null,
      "metadata": {
        "id": "nMPImW8HnILl",
        "outputId": "9df73dd0-5581-4a64-dca9-4efe59eb3e6f"
      },
      "outputs": [
        {
          "ename": "TypeError",
          "evalue": "soma() missing 1 required positional argument: 'a'",
          "output_type": "error",
          "traceback": [
            "\u001b[0;31m---------------------------------------------------------------------------\u001b[0m",
            "\u001b[0;31mTypeError\u001b[0m                                 Traceback (most recent call last)",
            "\u001b[0;32m<ipython-input-14-02884e501074>\u001b[0m in \u001b[0;36m<module>\u001b[0;34m\u001b[0m\n\u001b[0;32m----> 1\u001b[0;31m \u001b[0mresposta\u001b[0m \u001b[0;34m=\u001b[0m \u001b[0msoma\u001b[0m\u001b[0;34m(\u001b[0m\u001b[0;34m)\u001b[0m\u001b[0;34m\u001b[0m\u001b[0;34m\u001b[0m\u001b[0m\n\u001b[0m\u001b[1;32m      2\u001b[0m \u001b[0mprint\u001b[0m\u001b[0;34m(\u001b[0m\u001b[0mresposta\u001b[0m\u001b[0;34m)\u001b[0m\u001b[0;34m\u001b[0m\u001b[0;34m\u001b[0m\u001b[0m\n",
            "\u001b[0;31mTypeError\u001b[0m: soma() missing 1 required positional argument: 'a'"
          ]
        }
      ],
      "source": [
        "resposta = soma()\n",
        "print(resposta)"
      ]
    },
    {
      "cell_type": "markdown",
      "metadata": {
        "id": "R1tbaeAUnILl"
      },
      "source": [
        "<p style='text-align: justify; font-size: 16px; line-height: 1.5;'>Nesse exemplo, tentamos chamar a função <span style=\"font-weight: bold;\">soma</span> sem passar nenhum argumento. Contudo, esta função possui um parâmetro sem argumento default que exige a passagem de argumento. Como esse não foi o caso, recebemos um erro em tempo de execução do tipo <span style=\"font-weight: bold;\">TypeError</span>.</p>"
      ]
    },
    {
      "cell_type": "markdown",
      "metadata": {
        "id": "d5CowfH8nILl"
      },
      "source": [
        "## Argumento posicional vs argumentos de palavra-chave"
      ]
    },
    {
      "cell_type": "markdown",
      "metadata": {
        "id": "H5eKkbyqnILm"
      },
      "source": [
        "<p style='text-align: justify; font-size: 16px; line-height: 1.5;'>Até aqui, todos os argumentos que passamos para a função soma, utilizamos a passagem de argumento posicional. Na passagem de argumentos posicional, ao chamar uma função, a ordem em que os argumentos são passados equivale a ordem dos parâmetros. Por exemplo, para a chamada <span style=\"font-weight: bold;\">resposta = soma(10, 2)</span>, estamos informando que o promeiro argumento será armazenado no parâmetro <span style=\"font-weight: bold;\">a</span> e o segundo no parâmetro <span style=\"font-weight: bold;\">b</span>. Mas e se quiséssemos passar o segundo argumento para o parâmetro <span style=\"font-weight: bold;\">c</span>? Na passagem de argumento posicional, isso não seria possível. Não podemos passar um valor para o terceiro argumento, sem especificar o valor dos argumentos anteriores, mesmo que eles tenham argumentos default. Porém podemos fazer isso com a passagem de argumento de palavra-chave, veja:</p>"
      ]
    },
    {
      "cell_type": "code",
      "execution_count": null,
      "metadata": {
        "id": "wqH4DysPnILm",
        "outputId": "5872db33-4742-4f50-bd54-fa99e5e6d6e0"
      },
      "outputs": [
        {
          "name": "stdout",
          "output_type": "stream",
          "text": [
            "23\n"
          ]
        }
      ],
      "source": [
        "resposta = soma(a=10, c=2)\n",
        "print(resposta)"
      ]
    },
    {
      "cell_type": "markdown",
      "metadata": {
        "id": "1t7CWm-8nILm"
      },
      "source": [
        "<p style='text-align: justify; font-size: 16px; line-height: 1.5;'>Nesse caso, como não especificamos o valor do parâmetro <span style=\"font-weight: bold;\">b</span>, essa chamada da função considerou o valor de <span style=\"font-weight: bold;\">b</span> default especificado no cabeçalho da função. Ao utilizar a passagem de argumento por palavra-chave, você deve informar o nome do parâmetro e atribuir o argumento desejado. Nessa abordagem, por utilizar a palavra-chave, a ordem em que os parâmetros são especificados não precisa ser a mesma da especificada no cabeçalho da função. Porém, é obrigatório a passagem de argumentos para todos os parâmetros que não possuem argumento default.</p>"
      ]
    },
    {
      "cell_type": "markdown",
      "metadata": {
        "id": "DNxo0fVUnILm"
      },
      "source": [
        "<p style='text-align: justify; font-size: 16px; line-height: 1.5;'>Ao utilizar passagem de argumento de palavra-chave, você só pode utilizar o nome dos parâmetros que foram especificados no cabeçalho da função. Caso vo6e tente atribuir um argumento a um parâmetro inexistente, voc6e receberá um erro em tempo de execução do tipo <span style=\"font-weight: bold;\">TypeError</span>. Veja:</p>"
      ]
    },
    {
      "cell_type": "code",
      "execution_count": null,
      "metadata": {
        "id": "VZCY34sZnILm",
        "outputId": "0b0b202c-a5c1-4f9a-8b78-d5d89e5c648b"
      },
      "outputs": [
        {
          "ename": "TypeError",
          "evalue": "soma() got an unexpected keyword argument 'x'",
          "output_type": "error",
          "traceback": [
            "\u001b[0;31m---------------------------------------------------------------------------\u001b[0m",
            "\u001b[0;31mTypeError\u001b[0m                                 Traceback (most recent call last)",
            "\u001b[0;32m<ipython-input-40-d887311b14c6>\u001b[0m in \u001b[0;36m<module>\u001b[0;34m\u001b[0m\n\u001b[0;32m----> 1\u001b[0;31m \u001b[0mresposta\u001b[0m \u001b[0;34m=\u001b[0m \u001b[0msoma\u001b[0m\u001b[0;34m(\u001b[0m\u001b[0ma\u001b[0m\u001b[0;34m=\u001b[0m\u001b[0;36m10\u001b[0m\u001b[0;34m,\u001b[0m \u001b[0mc\u001b[0m\u001b[0;34m=\u001b[0m\u001b[0;36m2\u001b[0m\u001b[0;34m,\u001b[0m \u001b[0mx\u001b[0m\u001b[0;34m=\u001b[0m\u001b[0;36m2\u001b[0m\u001b[0;34m)\u001b[0m\u001b[0;34m\u001b[0m\u001b[0;34m\u001b[0m\u001b[0m\n\u001b[0m\u001b[1;32m      2\u001b[0m \u001b[0mprint\u001b[0m\u001b[0;34m(\u001b[0m\u001b[0mresposta\u001b[0m\u001b[0;34m)\u001b[0m\u001b[0;34m\u001b[0m\u001b[0;34m\u001b[0m\u001b[0m\n",
            "\u001b[0;31mTypeError\u001b[0m: soma() got an unexpected keyword argument 'x'"
          ]
        }
      ],
      "source": [
        "resposta = soma(a=10, c=2, x=2)\n",
        "print(resposta)"
      ]
    },
    {
      "cell_type": "markdown",
      "metadata": {
        "id": "Df0eOl5MnILn"
      },
      "source": [
        "<p style='text-align: justify; font-size: 16px; line-height: 1.5;'>Ao chamar uma função, você pode utilizar as duas abordagens de passagem de argumentos. Contudo, quando esse for o caso, os argumentos posicionais devem preceder or argumentos de palavra-chave. Veja:</p>"
      ]
    },
    {
      "cell_type": "code",
      "execution_count": null,
      "metadata": {
        "id": "N3Jf718JnILn",
        "outputId": "760b02ad-fe85-43e2-bb43-cf01cbc39d30"
      },
      "outputs": [
        {
          "name": "stdout",
          "output_type": "stream",
          "text": [
            "15\n"
          ]
        }
      ],
      "source": [
        "resposta = soma(10, 2, c=3)\n",
        "print(resposta)"
      ]
    },
    {
      "cell_type": "markdown",
      "metadata": {
        "id": "o9dN4X-rnILn"
      },
      "source": [
        "<p style='text-align: justify; font-size: 16px; line-height: 1.5;'>Nesse exemplo, estamos passangos os argumentos para os parâmetros <span style=\"font-weight: bold;\">a</span> e <span style=\"font-weight: bold;\">b</span> de forma posicional e para o parâmetro <span style=\"font-weight: bold;\">c</span> por palavra-chave. Se você tentar passar um argumento de forma posicioal, após ter especificado uma passagem de argumento por palavra-chave, você receberá um <span style=\"font-weight: bold;\">SyntaxError</span>. Veja:</p>"
      ]
    },
    {
      "cell_type": "code",
      "execution_count": null,
      "metadata": {
        "id": "htLnYJU_nILn",
        "outputId": "90c75bdf-f7dc-43f2-bd30-2028e98c2c6f"
      },
      "outputs": [
        {
          "ename": "SyntaxError",
          "evalue": "positional argument follows keyword argument (<ipython-input-46-2cf408f7bde7>, line 1)",
          "output_type": "error",
          "traceback": [
            "\u001b[0;36m  File \u001b[0;32m\"<ipython-input-46-2cf408f7bde7>\"\u001b[0;36m, line \u001b[0;32m1\u001b[0m\n\u001b[0;31m    resposta = soma(10, b=2, 3)\u001b[0m\n\u001b[0m                              ^\u001b[0m\n\u001b[0;31mSyntaxError\u001b[0m\u001b[0;31m:\u001b[0m positional argument follows keyword argument\n"
          ]
        }
      ],
      "source": [
        "resposta = soma(10, b=2, 3)\n",
        "print(resposta)"
      ]
    },
    {
      "cell_type": "markdown",
      "metadata": {
        "id": "EiIhKq2UnILn"
      },
      "source": [
        "## Recebendo N argumentos  posicionais em um único parâmetro"
      ]
    },
    {
      "cell_type": "markdown",
      "metadata": {
        "id": "fYXNCo-BnILn"
      },
      "source": [
        "<p style='text-align: justify; font-size: 16px; line-height: 1.5;'>Na linguagem Python, no cabeçalho da função, podemos definir um parâmetro especial que pode receber um número indeterminado de argumentos posicionais. Esse parâmetro deve ser declarado após todos os parâmetros formais sem valor default. Para definir um parâmetro que recebe um número indeterminado de argumentos posicionais, o símbolo * deve preceder o nome do parâmetro. Para exemplificar, vamos construir uma nova versão da nossa função soma.</p>"
      ]
    },
    {
      "cell_type": "code",
      "execution_count": null,
      "metadata": {
        "id": "6EZYQP-MnILn"
      },
      "outputs": [],
      "source": [
        "def soma(a, b, *n):\n",
        "    \"\"\" \n",
        "    Soma os números inteiros passados como argumentos.\n",
        "    \n",
        "    Arguments:\n",
        "        a: um número inteiro\n",
        "        b: um número inteiro\n",
        "        *n: N números inteiros\n",
        "    \n",
        "    Returns:\n",
        "        A soma dos números inteiros.\n",
        "    \"\"\"\n",
        "    soma = a+b+sum(n)\n",
        "    return soma"
      ]
    },
    {
      "cell_type": "markdown",
      "metadata": {
        "id": "WQCIGMA6nILo"
      },
      "source": [
        "<p style='text-align: justify; font-size: 16px; line-height: 1.5;'><span style=\"font-weight: bold;\">Exemplo 5: </span> Somando dois números.</p>"
      ]
    },
    {
      "cell_type": "code",
      "execution_count": null,
      "metadata": {
        "id": "3OSUQGZwnILo",
        "outputId": "30289001-3ad3-4727-fc8f-d1c3af911c87"
      },
      "outputs": [
        {
          "name": "stdout",
          "output_type": "stream",
          "text": [
            "3\n"
          ]
        }
      ],
      "source": [
        "resposta = soma(1, 2)\n",
        "print(resposta)"
      ]
    },
    {
      "cell_type": "markdown",
      "metadata": {
        "id": "IXjcd2WfnILo"
      },
      "source": [
        "<p style='text-align: justify; font-size: 16px; line-height: 1.5;'>Como você pode perceber, no cabeçalho da função, declaramos dois parâmetros formais que são os parâmetros <span style=\"font-weight: bold;\">a</span> e <span style=\"font-weight: bold;\">b</span>. Como esses parâmetros não possuem argumento default, significa que, na chamada da função, a passagem de argumento para esses parâmetros é obrigatória. Também declaramos um argumento especial que recebe um número indeterminado de argumentos posicionais. Por ter a possibilidade de receber um número indeterminado de argumentos, significa que esse parâmetro pode receber nenhum ou vários argumentos, sendo, portanto, a passagem de argumento opcional.</p>"
      ]
    },
    {
      "cell_type": "markdown",
      "metadata": {
        "id": "ysO81MqAnILo"
      },
      "source": [
        "<p style='text-align: justify; font-size: 16px; line-height: 1.5;'><span style=\"font-weight: bold;\">Exemplo 6: </span> Somando 5 números.</p>"
      ]
    },
    {
      "cell_type": "code",
      "execution_count": null,
      "metadata": {
        "id": "hpV72dttnILo",
        "outputId": "75b24181-7aac-4586-fa54-b88c5515552a"
      },
      "outputs": [
        {
          "name": "stdout",
          "output_type": "stream",
          "text": [
            "17\n"
          ]
        }
      ],
      "source": [
        "resposta = soma(1, 2, 4, 6, 4)\n",
        "print(resposta)"
      ]
    },
    {
      "cell_type": "markdown",
      "metadata": {
        "id": "icRbqeASnILo"
      },
      "source": [
        "<p style='text-align: justify; font-size: 16px; line-height: 1.5;'>Nesse exemplo, estamos passando cinco argumentos na chamada da função. Os dois primeiros argumentos são armazenados nos parâmetros formais <span style=\"font-weight: bold;\">a</span> e <span style=\"font-weight: bold;\">b</span>, e os demais argumentos são armazenados no parâmetro especial <span style=\"font-weight: bold;\">n</span>. Uma vez que <span style=\"font-weight: bold;\">n</span> está armazenando mais de um valor, tecnicamente, ele armazena esses valores em uma estrutura de dados chamada <span style=\"font-weight: bold;\">tupla</span>. Uma tupla, é uma estrutura de dados iterável e imutável, ou seja, admite armazenar uma coleção de dados mas, uma vez criada, não admite alteração.</p>"
      ]
    },
    {
      "cell_type": "markdown",
      "metadata": {
        "id": "rjfmSfPmnILo"
      },
      "source": [
        "<p style='text-align: justify; font-size: 16px; line-height: 1.5;'>Sabendo que o parâmetro <span style=\"font-weight: bold;\">n</span> é uma tupla, note que no escopo da função soma, nós utilizaos uma função <span style=\"font-weight: bold;\">sum</span> para somar os elementos da tupla, o resultado dessa soma é somado com os valores de <span style=\"font-weight: bold;\">a</span> e <span style=\"font-weight: bold;\">b</span>, resultando na soma total dos valores.</p>"
      ]
    },
    {
      "cell_type": "markdown",
      "metadata": {
        "id": "go2_5rOKnILo"
      },
      "source": [
        "<p style='text-align: justify; font-size: 16px; line-height: 1.5;'>Em uma função, só se admite um único parâmetro especial que recebe um número indeterminado de argumentos. Caso tente declarar mais de um, você recebe um <span style=\"font-weight: bold;\">SyntaxError</span>. Veja:</p>"
      ]
    },
    {
      "cell_type": "code",
      "execution_count": null,
      "metadata": {
        "id": "DvbKZa0UnILo",
        "outputId": "4e65d8a6-0da9-4891-86a0-688b09e5c2b1"
      },
      "outputs": [
        {
          "ename": "SyntaxError",
          "evalue": "invalid syntax (<ipython-input-68-4b9f2ac0eb0b>, line 1)",
          "output_type": "error",
          "traceback": [
            "\u001b[0;36m  File \u001b[0;32m\"<ipython-input-68-4b9f2ac0eb0b>\"\u001b[0;36m, line \u001b[0;32m1\u001b[0m\n\u001b[0;31m    def soma(a, b, *n, *z):\u001b[0m\n\u001b[0m                       ^\u001b[0m\n\u001b[0;31mSyntaxError\u001b[0m\u001b[0;31m:\u001b[0m invalid syntax\n"
          ]
        }
      ],
      "source": [
        "def soma(a, b, *n, *z):\n",
        "    #algum código aqui\n",
        "    return a+b"
      ]
    },
    {
      "cell_type": "markdown",
      "metadata": {
        "id": "iRLhinDinILo"
      },
      "source": [
        "<p style='text-align: justify; font-size: 16px; line-height: 1.5;'>Em uma função, você pode declarar um parâmetro especial que recebe um número indeterminado antes dos parâmetros formais que possuem argumento default. Contudo, ao chamar a função, você só conseguirá passar argumentos para os parâmetros formais utilizado a passagem de argumento de palavra-chave. Vejamos um exemplo:</p>"
      ]
    },
    {
      "cell_type": "code",
      "execution_count": null,
      "metadata": {
        "id": "ip8W-3GHnILo"
      },
      "outputs": [],
      "source": [
        "def soma(*n, a=10):\n",
        "    \"\"\" \n",
        "    Soma os números inteiros passados como argumentos.\n",
        "    \n",
        "    Arguments:        \n",
        "        *n: N números inteiros\n",
        "        a: um número inteiro. Deafult = 10\n",
        "    \n",
        "    Returns:\n",
        "        A soma dos números inteiros.\n",
        "    \"\"\"  \n",
        "    soma = a+sum(n)\n",
        "    return soma"
      ]
    },
    {
      "cell_type": "code",
      "execution_count": null,
      "metadata": {
        "id": "6eHAamL4nILp",
        "outputId": "dfe5ba1b-876c-47f8-ac37-02bf9660508b"
      },
      "outputs": [
        {
          "name": "stdout",
          "output_type": "stream",
          "text": [
            "16\n"
          ]
        }
      ],
      "source": [
        "resposta = soma(1,2,3)\n",
        "print(resposta)"
      ]
    },
    {
      "cell_type": "markdown",
      "metadata": {
        "id": "bBodAmhMnILp"
      },
      "source": [
        "<p style='text-align: justify; font-size: 16px; line-height: 1.5;'>Nessa nova versão da função soma, definimos um parâmetro especial que recebe um número indeterminado de argumentos posicionais e também definimos um parâmetro formal com um argumento default. Ao chamar essa função, note que passamos três argumentos e obtivemos a resposta igual a 16. Ao analisar a resposta da soma, podemos concluir que os três argumentos foram armazenados em <span style=\"font-weight: bold;\">n</span> e que o valor default do parâmetro <span style=\"font-weight: bold;\">a</span> foi utilizado na soma. Como já dito, para passar um argumento para o parâmetro <span style=\"font-weight: bold;\">a</span>, devemos utilizar a passagem por palavra-chave. Veja:</p>"
      ]
    },
    {
      "cell_type": "code",
      "execution_count": null,
      "metadata": {
        "id": "XTibTqZvnILp",
        "outputId": "c832c65e-b5b5-4766-e025-a6e08608895a"
      },
      "outputs": [
        {
          "name": "stdout",
          "output_type": "stream",
          "text": [
            "8\n"
          ]
        }
      ],
      "source": [
        "resposta = soma(1,2,3, a=2)\n",
        "print(resposta)"
      ]
    },
    {
      "cell_type": "markdown",
      "metadata": {
        "id": "pI7PB_PxnILp"
      },
      "source": [
        "## Função sem retorno"
      ]
    },
    {
      "cell_type": "markdown",
      "metadata": {
        "id": "uAcJKTW-nILp"
      },
      "source": [
        "<p style='text-align: justify; font-size: 16px; line-height: 1.5;'>Ao construir uma função, é possível que você não declare o retorno da função. Quando esse for o caso, dizemos que a função é <span style=\"font-weight: bold;\">void</span>. Porém, tecnicamente, mesmo que a função não tenha retorno declarado, ela retornará o valor <span style=\"font-weight: bold;\">None</span>, ou seja, um valor nulo. Vejamos um exemplo:</p>"
      ]
    },
    {
      "cell_type": "code",
      "execution_count": null,
      "metadata": {
        "id": "cbcLsuTGnILp"
      },
      "outputs": [],
      "source": [
        "def minha_funcao(nome='Teste'):\n",
        "    print('Olá', nome)"
      ]
    },
    {
      "cell_type": "markdown",
      "metadata": {
        "id": "aog6UPyInILp"
      },
      "source": [
        "<p style='text-align: justify; font-size: 16px; line-height: 1.5;'>Essa é uma função que tem um parâmetro com argumento default declarado. No escopo da função, só estamos imprimindo uma mensagem e o valor armazenado no parâmetro <span style=\"font-weight: bold;\">nome</span>. Note que essa função não possui retorno, uma vez que não tem o comando <span style=\"font-weight: bold;\">return</span>. Vamos analisar alguns exemplos de chamada dessa função.</p>"
      ]
    },
    {
      "cell_type": "markdown",
      "metadata": {
        "id": "WqaGblrWnILp"
      },
      "source": [
        "<p style='text-align: justify; font-size: 16px; line-height: 1.5;'><span style=\"font-weight: bold;\">Exemplo 7: </span> Chamada sem passagem de argumento.</p>"
      ]
    },
    {
      "cell_type": "code",
      "execution_count": null,
      "metadata": {
        "id": "iVcaznQanILp",
        "outputId": "7b6c6b82-8fe0-44f0-aab8-b373fca999ca"
      },
      "outputs": [
        {
          "name": "stdout",
          "output_type": "stream",
          "text": [
            "Olá Teste\n"
          ]
        }
      ],
      "source": [
        "minha_funcao()"
      ]
    },
    {
      "cell_type": "markdown",
      "metadata": {
        "id": "8S9MsuVgnILp"
      },
      "source": [
        "<p style='text-align: justify; font-size: 16px; line-height: 1.5;'>Nesse exemplo, como não passamos nenhum argumento, a função foi executada imprimindo a mensagem, levando em consideração o argumento default do parâmetro.</p>"
      ]
    },
    {
      "cell_type": "markdown",
      "metadata": {
        "id": "4JWUWqv-nILp"
      },
      "source": [
        "<p style='text-align: justify; font-size: 16px; line-height: 1.5;'><span style=\"font-weight: bold;\">Exemplo 8: </span> Chamada com passagem de argumento.</p>"
      ]
    },
    {
      "cell_type": "code",
      "execution_count": null,
      "metadata": {
        "id": "KOhh2hobnILp",
        "outputId": "4404f847-90b7-43b1-fffc-800167d49f87"
      },
      "outputs": [
        {
          "name": "stdout",
          "output_type": "stream",
          "text": [
            "Olá Renato\n"
          ]
        }
      ],
      "source": [
        "minha_funcao('Renato')"
      ]
    },
    {
      "cell_type": "markdown",
      "metadata": {
        "id": "29SHvAqvnILp"
      },
      "source": [
        "<p style='text-align: justify; font-size: 16px; line-height: 1.5;'>Nesse exemplo, chamamos a função passando um argumento. Devido a passagem do argumento, perceba que a mensagem informada pela função foi modificada.</p>"
      ]
    },
    {
      "cell_type": "markdown",
      "metadata": {
        "id": "LywiGyXmnILp"
      },
      "source": [
        "<p style='text-align: justify; font-size: 16px; line-height: 1.5;'><span style=\"font-weight: bold;\">Exemplo 9: </span> Chamada com passagem de argumento e armazenamento do retorno.</p>"
      ]
    },
    {
      "cell_type": "code",
      "execution_count": null,
      "metadata": {
        "id": "n_mMVyWpnILp",
        "outputId": "39995f5f-72bb-474d-a842-94d14e81ae53"
      },
      "outputs": [
        {
          "name": "stdout",
          "output_type": "stream",
          "text": [
            "Olá Renato\n",
            "None\n"
          ]
        }
      ],
      "source": [
        "saida = minha_funcao('Renato')\n",
        "print(saida)"
      ]
    },
    {
      "cell_type": "markdown",
      "metadata": {
        "id": "0RGNFNwVnILq"
      },
      "source": [
        "<p style='text-align: justify; font-size: 16px; line-height: 1.5;'>Nesse exemplo, chamamos a função passando um argumento e criamos uma variável para armazenar o retorno da função. Veja que ao imprimir o valor armazenado na variável <span style=\"font-weight: bold;\">saida</span>, temos o valor <span style=\"font-weight: bold;\">None</span>. Esse é o valor do retorno da função, uma vez que ela não tem retorno definido.</p>"
      ]
    },
    {
      "cell_type": "markdown",
      "metadata": {
        "id": "DAc1J-lBnILq"
      },
      "source": [
        "## Função com mais de um retorno"
      ]
    },
    {
      "cell_type": "markdown",
      "metadata": {
        "id": "zFNT1tSynILq"
      },
      "source": [
        "<p style='text-align: justify; font-size: 16px; line-height: 1.5;'>Uma função pode ter quantos retornos forem necessários. Porém, saiba que somente um retorno é executado, ou seja, a partir do momento que um comando <span style=\"font-weight: bold;\">return</span> é executado, o fluxo da função é interrompido. Quando um fluxo é interrompido, significa que todas as próximas linhas deixa de ser executadas. Então, qual o sentido de ter mais de um retorno? Bom, existem muitos casos em que isso faz sentido, principalmente quando a função possui um controle de fluxo no seu escopo. Vejamos um exemplo:</p>"
      ]
    },
    {
      "cell_type": "code",
      "execution_count": null,
      "metadata": {
        "id": "4ypuIl3EnILq"
      },
      "outputs": [],
      "source": [
        "def maior(a, b):\n",
        "    \"\"\" \n",
        "    Verifica qual o maior número\n",
        "    \n",
        "    Arguments:        \n",
        "        a: um número inteiro\n",
        "        b: um número inteiro.\n",
        "    \n",
        "    Returns:\n",
        "        Retorna o maior número passado como argumento\n",
        "    \"\"\"  \n",
        "    if a > b:\n",
        "        return a\n",
        "\n",
        "    return b"
      ]
    },
    {
      "cell_type": "markdown",
      "metadata": {
        "id": "Am-ZrijgnILq"
      },
      "source": [
        "<p style='text-align: justify; font-size: 16px; line-height: 1.5;'>Essa função possui dois retornos. Porém, note que um retorno está subordinado a uma condição. Ou seja o comado <span style=\"font-weight: bold;\">return a</span> só será executado se <span style=\"font-weight: bold;\">a > b</span>. Uma vez que o comando <span style=\"font-weight: bold;\">return a</span> é executado, o fluxo da função é imediatamente interrompido, ou seja, todas as próximas linhas não são executadas. Como o <span style=\"font-weight: bold;\">return a</span> interrompe o fluxo da função, caso ele seja executado, eu tenho a garantia de que <span style=\"font-weight: bold;\">return b</span> não é executado. Por outro lado, se o comando <span style=\"font-weight: bold;\">return a</span> não for executado, o fluxo da função continua, implicando na execução do comando <span style=\"font-weight: bold;\">return b</span>. Nesse exemplo utilizamos uma condição. Você estudará mais sobre elas no Capítulo de controle de fluxo.</p>"
      ]
    },
    {
      "cell_type": "markdown",
      "metadata": {
        "id": "VUcyb5WxnILq"
      },
      "source": [
        "<p style='text-align: justify; font-size: 16px; line-height: 1.5;'><span style=\"font-weight: bold;\">Exemplo 10: </span> Retornando a:</p>"
      ]
    },
    {
      "cell_type": "code",
      "execution_count": null,
      "metadata": {
        "id": "ihRqiZ5lnILq",
        "outputId": "854afb29-7258-4366-a119-a88fff0d5595"
      },
      "outputs": [
        {
          "name": "stdout",
          "output_type": "stream",
          "text": [
            "8\n"
          ]
        }
      ],
      "source": [
        "valor = maior(8, 4)\n",
        "print(valor)"
      ]
    },
    {
      "cell_type": "markdown",
      "metadata": {
        "id": "putwMU_dnILq"
      },
      "source": [
        "<p style='text-align: justify; font-size: 16px; line-height: 1.5;'><span style=\"font-weight: bold;\">Exemplo 11: </span> Retornando b:</p>"
      ]
    },
    {
      "cell_type": "code",
      "execution_count": null,
      "metadata": {
        "id": "qhjlaqP1nILq",
        "outputId": "2afeb05b-d1c8-4ac1-d4fd-7cfa1c93b3d0"
      },
      "outputs": [
        {
          "name": "stdout",
          "output_type": "stream",
          "text": [
            "6\n"
          ]
        }
      ],
      "source": [
        "valor = maior(3, 6)\n",
        "print(valor)"
      ]
    },
    {
      "cell_type": "markdown",
      "metadata": {
        "id": "Qv1Hr65TnILq"
      },
      "source": [
        "## Função que retorna mais de um valor"
      ]
    },
    {
      "cell_type": "markdown",
      "metadata": {
        "id": "5lxuVaGjnILq"
      },
      "source": [
        "<p style='text-align: justify; font-size: 16px; line-height: 1.5;'>Na linguagem Python, você pode retornar mais de um valor em um mesmo <span style=\"font-weight: bold;\">return</span>. Para isso, basta separar por vírgula os valores a serem retornados. Para exemplificar, vamos modificar a nossa função <span style=\"font-weight: bold;\">maior</span> para retornar na ordem decrescente os valores de passados como argumentos."
      ]
    },
    {
      "cell_type": "code",
      "execution_count": null,
      "metadata": {
        "id": "kLNzkMAPnILq"
      },
      "outputs": [],
      "source": [
        "def maior(a, b):\n",
        "    \"\"\" \n",
        "    Ordena os valores em ordem decrescente\n",
        "    \n",
        "    Arguments:        \n",
        "        a: um número inteiro\n",
        "        b: um número inteiro.\n",
        "    \n",
        "    Returns:\n",
        "        Retorna os valores em ordem decrescente na forma: x, y\n",
        "    \"\"\"  \n",
        "    if a > b:\n",
        "        return a, b\n",
        "\n",
        "    return b, a"
      ]
    },
    {
      "cell_type": "markdown",
      "metadata": {
        "id": "tHNZUR3InILq"
      },
      "source": [
        "<p style='text-align: justify; font-size: 16px; line-height: 1.5;'><span style=\"font-weight: bold;\">Exemplo 12: </span> Retornando a, b:</p>"
      ]
    },
    {
      "cell_type": "code",
      "execution_count": null,
      "metadata": {
        "id": "agbLeutsnILq",
        "outputId": "6e8ef6c2-765b-4941-f75c-bc76af6acc2c"
      },
      "outputs": [
        {
          "name": "stdout",
          "output_type": "stream",
          "text": [
            "8 4\n"
          ]
        }
      ],
      "source": [
        "x, y = maior(8, 4)\n",
        "print(x, y)"
      ]
    },
    {
      "cell_type": "markdown",
      "metadata": {
        "id": "GvVAEgJenILq"
      },
      "source": [
        "<p style='text-align: justify; font-size: 16px; line-height: 1.5;'><span style=\"font-weight: bold;\">Exemplo 13: </span> Retornando b, a:</p>"
      ]
    },
    {
      "cell_type": "code",
      "execution_count": null,
      "metadata": {
        "id": "1RG6WX9onILr",
        "outputId": "f2028a96-0a73-4e64-8273-9c5359e7ccb3"
      },
      "outputs": [
        {
          "name": "stdout",
          "output_type": "stream",
          "text": [
            "6 3\n"
          ]
        }
      ],
      "source": [
        "x, y = maior(3, 6)\n",
        "print(x, y)"
      ]
    }
  ],
  "metadata": {
    "kernelspec": {
      "display_name": "Python 3",
      "language": "python",
      "name": "python3"
    },
    "language_info": {
      "codemirror_mode": {
        "name": "ipython",
        "version": 3
      },
      "file_extension": ".py",
      "mimetype": "text/x-python",
      "name": "python",
      "nbconvert_exporter": "python",
      "pygments_lexer": "ipython3",
      "version": "3.9.1"
    },
    "colab": {
      "provenance": []
    }
  },
  "nbformat": 4,
  "nbformat_minor": 0
}
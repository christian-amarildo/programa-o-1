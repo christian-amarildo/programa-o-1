{
  "cells": [
    {
      "cell_type": "markdown",
      "metadata": {
        "id": "w2mSNL_pcMiC"
      },
      "source": [
        "# Introdução à programação em Python\n",
        "## Renato Hidaka Torres"
      ]
    },
    {
      "cell_type": "markdown",
      "metadata": {
        "id": "OxskwFxFoToN"
      },
      "source": [
        "# List Comprehensions - compreensão de lista"
      ]
    },
    {
      "cell_type": "markdown",
      "metadata": {
        "id": "JaMS_NOYoToN"
      },
      "source": [
        "## Objetivo"
      ]
    },
    {
      "cell_type": "markdown",
      "metadata": {
        "id": "IJD5We59oToO"
      },
      "source": [
        "<p style='text-align: justify; font-size: 16px; line-height: 1.5;'>No Capítulo de Lista, estudamos várias formas de manipulação de lista. Vimos que muitas manipulações implicam as estratégias de mapeamento, filtro ou redução. Aplicamos essas estratégias de forma estruturada utilizado o laço <span style=\"font-weight: bold;\">for</span> para iterar a lista e realizar a manipulação desejada. Aqui, no Capítulo de List Comprehensions, você vai estudar outras estratégias para realizar as manipulações de mapeamento, filtro e redução. As estratégias estudadas nesse capítulo são fundamentadas no paradigma de programação funcional. Para entendermos como ela funciona, em vários exemplos, vamos aplicar a refatoração de código para reescrever uma manipulação programada de forma estrutural para a forma funcional. Ao final deste capítulo, você terá várias questões para exercitar o conteúdo.</p>"
      ]
    },
    {
      "cell_type": "markdown",
      "metadata": {
        "id": "sO_T5OBUc4hN"
      },
      "source": [
        " ## O que é uma List Comprehensions?"
      ]
    },
    {
      "cell_type": "markdown",
      "metadata": {
        "id": "9JjJZslqd5Sz"
      },
      "source": [
        "<p style='text-align: justify; font-size: 16px; line-height: 1.5;'>List Comprehensions ou compreensão de lista é uma forma concisa que a linguagem Python nos oferece para realizarmos manipulações de mapeamento e filtro em listas. Para realizar as manipulações de mapeamento, a compreensão de lista possui a seguinte sintaxe:</p>"
      ]
    },
    {
      "cell_type": "markdown",
      "metadata": {
        "id": "8Yk0vNmqoToO"
      },
      "source": [
        "![iteração de lista](map.png)\n",
        "<p style=\"text-align:center;\">Figura 1: Sintaxe mapeamento com conpreensão de lista.</p>"
      ]
    },
    {
      "cell_type": "markdown",
      "metadata": {
        "id": "n0N88kJjeZVr"
      },
      "source": [
        "<p style='text-align: justify; font-size: 16px; line-height: 1.5;'>Como podemos perceber, na compreensão de lista, o mapeamento deve ser realizado dentro de colchetes. O fato de ser realizado dentro dos colchetes, significa que o mapeamento resultante gera uma nova lista que deve ser atribuída a uma variável. Dentro dos colchetes, o mapeamento é dividido em duas partes. Na parte P1 devemos utilizar o laço <span style=\"font-weight: bold;\">for</span> para iterar a lista que será mapeada. Na parte P2, para cada item iterado, definimos o mapeamento a ser realizado no item. Se o mapeamento for complexo, é uma boa prática de programação que ele seja definido por uma função. Vamos ver alguns exemplos de mapeamento, aplicado a refatoração da forma estruturada para a forma funcional.</p>"
      ]
    },
    {
      "cell_type": "markdown",
      "metadata": {
        "id": "yaC2jK-moToP"
      },
      "source": [
        "<p style='text-align: justify; font-size: 16px; line-height: 1.5;'><span style=\"font-weight: bold;\">Exemplo1:</span> Dada uma lista de strings, altere todos os valores para caixa alta.</p>"
      ]
    },
    {
      "cell_type": "markdown",
      "metadata": {
        "id": "prtVt0_FoToP"
      },
      "source": [
        "### Mapeamento na forma estruturada"
      ]
    },
    {
      "cell_type": "code",
      "execution_count": null,
      "metadata": {
        "colab": {
          "base_uri": "https://localhost:8080/"
        },
        "id": "VjEtGV1Yeo1E",
        "outputId": "5132a40e-6597-4ce2-fd2e-ef88c1d8a6c6"
      },
      "outputs": [
        {
          "name": "stdout",
          "output_type": "stream",
          "text": [
            "['PROFESSOR', 'RENATO', 'HIDAKA', 'TORRES']\n"
          ]
        }
      ],
      "source": [
        "lista = ['professor', 'Renato', 'Hidaka', 'Torres']\n",
        "\n",
        "for indice, item in enumerate(lista):    \n",
        "    lista[indice] = item.upper()\n",
        "\n",
        "print(lista)"
      ]
    },
    {
      "cell_type": "markdown",
      "metadata": {
        "id": "5sBsPCl6fVNN"
      },
      "source": [
        "### Refatorando para a forma funcional"
      ]
    },
    {
      "cell_type": "code",
      "execution_count": null,
      "metadata": {
        "colab": {
          "base_uri": "https://localhost:8080/"
        },
        "id": "EONZANIMfWth",
        "outputId": "d037d5df-2e24-4c0b-e045-753dc18c7a5c"
      },
      "outputs": [
        {
          "name": "stdout",
          "output_type": "stream",
          "text": [
            "['PROFESSOR', 'RENATO', 'HIDAKA', 'TORRES']\n"
          ]
        }
      ],
      "source": [
        "lista = ['professor', 'Renato', 'Hidaka', 'Torres']\n",
        "lista = [item.upper() for item in lista]\n",
        "\n",
        "print(lista)"
      ]
    },
    {
      "cell_type": "markdown",
      "metadata": {
        "id": "_Gj8tC0zoToQ"
      },
      "source": [
        "<p style='text-align: justify; font-size: 16px; line-height: 1.5;'>Fizemos esse exemplo no capítulo de lista. Para realizar esse mapeamento na forma estruturada, utilizamos a função <span style=\"font-weight: bold;\">enumerate</span> para receber, a cada iteração, o índice e o valor correspondente. Outra possibilidade seria utilizar a função <span style=\"font-weight: bold;\">range</span> para criar um lista de índices e itera-los. Para cada elemento iterado, transformamos a string para caixa alta, utilizando a função <span style=\"font-weight: bold;\">upper</span>.</p>"
      ]
    },
    {
      "cell_type": "markdown",
      "metadata": {
        "id": "k6l4RGnWoToQ"
      },
      "source": [
        "<p style='text-align: justify; font-size: 16px; line-height: 1.5;'>Após refatorar esse código para utilizar <span style=\"font-weight: bold;\">List Comprehensions</span>, veja que o código ficou mais enxuto e com uma melhor legibilidade. Note que o mapeamento segue a sintaxe P1 e P2 que definimos. Em P1 estamos iterando a lista e em P2 estamos utilizando a função <span style=\"font-weight: bold;\">upper</span> pra mapear as strings para caixa alta.</p>"
      ]
    },
    {
      "cell_type": "markdown",
      "metadata": {
        "id": "tx35cb8-oToR"
      },
      "source": [
        "<p style='text-align: justify; font-size: 16px; line-height: 1.5;'><span style=\"font-weight: bold;\">Exemplo2:</span> Dada uma lista de números inteiros, se o número for par, calcule o seu dobro, se for ímpar, calcule a sua metade.</p>"
      ]
    },
    {
      "cell_type": "markdown",
      "metadata": {
        "id": "XCH0gB6BoToR"
      },
      "source": [
        "### Mapeamento na forma estruturada"
      ]
    },
    {
      "cell_type": "code",
      "execution_count": null,
      "metadata": {
        "id": "AfhXb0NgoToR",
        "outputId": "43a1dc79-f133-4683-a5eb-d06f287a9372"
      },
      "outputs": [
        {
          "name": "stdout",
          "output_type": "stream",
          "text": [
            "[0.5, 8, 6.5, 24, 16, 8, 2.5, 3.5, 4.5]\n"
          ]
        }
      ],
      "source": [
        "lista = [1, 4, 13, 12, 8, 4, 5, 7, 9]\n",
        "\n",
        "for indice, item in enumerate(lista):\n",
        "    if item % 2 == 0:\n",
        "        lista[indice] = item * 2\n",
        "    else:\n",
        "        lista[indice] = item / 2\n",
        "\n",
        "print(lista)"
      ]
    },
    {
      "cell_type": "markdown",
      "metadata": {
        "id": "_hb5ivrioToR"
      },
      "source": [
        "<p style='text-align: justify; font-size: 16px; line-height: 1.5;'>Nessa versão estruturada, no escopo de repetição, utilizamos uma estrutura de seleção para verificar se o número é par ou ímpar, e então realizar o mapeamento correto.</p>"
      ]
    },
    {
      "cell_type": "markdown",
      "metadata": {
        "id": "AqfWY3omfozR"
      },
      "source": [
        "### Refatorando para a forma funcional  - versão 1"
      ]
    },
    {
      "cell_type": "code",
      "execution_count": null,
      "metadata": {
        "id": "eWCwiaWYoToR",
        "outputId": "1c27f399-ef23-4fc5-92d6-d12c1b68b0fc"
      },
      "outputs": [
        {
          "name": "stdout",
          "output_type": "stream",
          "text": [
            "[0.5, 8, 6.5, 24, 16, 8, 2.5, 3.5, 4.5]\n"
          ]
        }
      ],
      "source": [
        "lista = [1, 4, 13, 12, 8, 4, 5, 7, 9]\n",
        "lista = [item * 2 if item % 2 == 0 else item / 2 for item in lista]\n",
        "\n",
        "print(lista)"
      ]
    },
    {
      "cell_type": "markdown",
      "metadata": {
        "id": "pSBKfkD2oToR"
      },
      "source": [
        "<p style='text-align: justify; font-size: 16px; line-height: 1.5;'>Nessa primeira versão refatorada, <span style=\"font-weight: bold;\">List Comprehensions</span>, note que o legibilidade do código não está agradável. Quando esse for o caso, é um indicativo que podemos construir uma função específica para codificar a lógica do mapeamento. Veja a versão 2 da refatoração.</p>"
      ]
    },
    {
      "cell_type": "markdown",
      "metadata": {
        "id": "4i35UxoOoToR"
      },
      "source": [
        "### Refatorando para a forma funcional  - versão 2"
      ]
    },
    {
      "cell_type": "code",
      "execution_count": null,
      "metadata": {
        "id": "6RGdM_F5fp8m"
      },
      "outputs": [],
      "source": [
        "def mapeamento(item):\n",
        "    if item % 2 == 0:\n",
        "        return item * 2\n",
        "    else:\n",
        "        return item / 2"
      ]
    },
    {
      "cell_type": "code",
      "execution_count": null,
      "metadata": {
        "id": "le26zjaSoToR",
        "outputId": "23c50396-1a6e-4117-8692-8fdbc0bd42ec"
      },
      "outputs": [
        {
          "name": "stdout",
          "output_type": "stream",
          "text": [
            "[0.5, 8, 6.5, 24, 16, 8, 2.5, 3.5, 4.5]\n"
          ]
        }
      ],
      "source": [
        "lista = [1, 4, 13, 12, 8, 4, 5, 7, 9]\n",
        "lista = [mapeamento(item) for item in lista]\n",
        "\n",
        "print(lista)"
      ]
    },
    {
      "cell_type": "markdown",
      "metadata": {
        "id": "wryTi9Q2oToR"
      },
      "source": [
        "<p style='text-align: justify; font-size: 16px; line-height: 1.5;'>Nessa versão, criamos uma função chamada <span style=\"font-weight: bold;\">mapeamento</span> e transferimos a lógica de mapeamento para ela. Veja que ela possui a condição que verifica se o número é par ou ímpar e retorna o mapeamento adequando. Dentro dos colchetes da <span style=\"font-weight: bold;\">List Comprehensions</span>, utilizamos essa função na parte P2 que é responsável por realizar o mapeamento de cada item iterado na parte P1. Claramente, essa nova versão possui um código mais elegante e de maior legibilidade.</p>"
      ]
    },
    {
      "cell_type": "markdown",
      "metadata": {
        "id": "Wajh2-tJgHD2"
      },
      "source": [
        "<p style='text-align: justify; font-size: 16px; line-height: 1.5;'><span style=\"font-weight: bold;\">Exemplo 3: </span> Dada uma lista de string, transforme para uma lista de números inteiro.</p>"
      ]
    },
    {
      "cell_type": "markdown",
      "metadata": {
        "id": "P-N2MRsVoToS"
      },
      "source": [
        "### Mapeamento na forma estruturada"
      ]
    },
    {
      "cell_type": "code",
      "execution_count": null,
      "metadata": {
        "id": "swPa5Y7YoToS",
        "outputId": "2f71a1dd-1663-4b80-a3d5-b9ff905f9725"
      },
      "outputs": [
        {
          "name": "stdout",
          "output_type": "stream",
          "text": [
            "[3, 100, 4, 21, 45, -9]\n"
          ]
        }
      ],
      "source": [
        "lista = ['3', '100', '4', '21', '45', '-9']\n",
        "\n",
        "for indice, item in enumerate(lista):\n",
        "    lista[indice] = int(item)\n",
        "\n",
        "print(lista)"
      ]
    },
    {
      "cell_type": "markdown",
      "metadata": {
        "id": "mnRMJSO6oToS"
      },
      "source": [
        "### Refatorando para a forma funcional"
      ]
    },
    {
      "cell_type": "code",
      "execution_count": null,
      "metadata": {
        "id": "ztHVwKO-oToS",
        "outputId": "5eb4193a-0bf4-4513-f5c9-958899c9fb97"
      },
      "outputs": [
        {
          "name": "stdout",
          "output_type": "stream",
          "text": [
            "[3, 100, 4, 21, 45, -9]\n"
          ]
        }
      ],
      "source": [
        "lista = ['3', '100', '4', '21', '45', '-9']\n",
        "lista = [int(item) for item in lista]\n",
        "\n",
        "print(lista)"
      ]
    },
    {
      "cell_type": "markdown",
      "metadata": {
        "id": "-2wecFyqoToS"
      },
      "source": [
        "<p style='text-align: justify; font-size: 16px; line-height: 1.5;'>Esse exemplo é importante, porque mostra que na parte P2, responsável por realizar o mapeamento de cada item iterado, podemos utilizar funções já existentes. Nesse caso, utilizamos a função <span style=\"font-weight: bold;\">int</span> para transformar para número inteiro cada item iterado na parte P1. É importante falar que esse código assume que a lista original só possui strings com conteúdo numérico inteiro. Caso contrário, se algum elemento da lista fosse uma string cujo conteúdo não é um número inteiro, esse código daria erro em tempo de execução. Se você precisar ter esse cuidado, utilize o <span style=\"font-weight: bold;\">try except</span> para monitorar esse tipo de situação. Já estudamos sobre o <span style=\"font-weight: bold;\">try except</span> no capítulo de controle de fluxo.</p>"
      ]
    },
    {
      "cell_type": "markdown",
      "metadata": {
        "id": "8vL3QxJ9oToS"
      },
      "source": [
        "<p style='text-align: justify; font-size: 16px; line-height: 1.5;'><span style=\"font-weight: bold;\">Exemplo 4: </span> List Comprehensions para mapear a entrada do usuário para uma lista.</p>"
      ]
    },
    {
      "cell_type": "markdown",
      "metadata": {
        "id": "XWUt44vUoToS"
      },
      "source": [
        "<p style='text-align: justify; font-size: 16px; line-height: 1.5;'>Nesse exemplo não vamos fazer a refatoração. Ele é um exemplo que segue a mesma ideia do exemplo anterior, alterando somente a origem a lista iterada na parte P1. Como devemos ler os valores digitados pelo usuário, utilizamos a função <span style=\"font-weight: bold;\">input</span> para realizar essa tarefa e, em seguida, utilizamos a função <span style=\"font-weight: bold;\">split</span> para construir uma lista de string dos valores digitados pelo usuário. Por padrão, a função <span style=\"font-weight: bold;\">split</span> gera uma lista levando em consideração os espaços em branco entre os valores digitados. A cada espaço em branco digitado, a função <span style=\"font-weight: bold;\">split</span> faz uma quebra e insere na lista o elemento que antecede o espaço em branco.</p>"
      ]
    },
    {
      "cell_type": "markdown",
      "metadata": {
        "id": "LL7zWM4ooToS"
      },
      "source": [
        "<p style='text-align: justify; font-size: 16px; line-height: 1.5;'>Caso você precise alterar o padrão de quebra utilizado pela função <span style=\"font-weight: bold;\">split</span>, você pode especificar o novo padrão e passá-lo como argumento da função.</p>"
      ]
    },
    {
      "cell_type": "code",
      "execution_count": null,
      "metadata": {
        "id": "Zd8ycBZ9oToS",
        "outputId": "1d66ab28-6ad7-4a14-bb05-8955c64b5d61"
      },
      "outputs": [
        {
          "name": "stdout",
          "output_type": "stream",
          "text": [
            "1 2 3 5 40\n",
            "[1, 2, 3, 5, 40]\n"
          ]
        }
      ],
      "source": [
        "lista = [int(item) for item in input().split()]\n",
        "print(lista)"
      ]
    },
    {
      "cell_type": "markdown",
      "metadata": {
        "id": "agUDn7V6oToS"
      },
      "source": [
        "<p style='text-align: justify; font-size: 16px; line-height: 1.5;'><span style=\"font-weight: bold;\">Exemplo 5: </span> Dada uma lista de dicionário de cadastros de usuários com nome e e-mail, construa uma lista contedo somete os e-mails dos usuários.</p>"
      ]
    },
    {
      "cell_type": "markdown",
      "metadata": {
        "id": "3vi-GrOboToS"
      },
      "source": [
        "### Mapeamento na forma estruturada"
      ]
    },
    {
      "cell_type": "code",
      "execution_count": null,
      "metadata": {
        "id": "Q1WzK3JaoToS",
        "outputId": "1e6d3b5f-24cb-47b0-ea2d-77371b120aab"
      },
      "outputs": [
        {
          "name": "stdout",
          "output_type": "stream",
          "text": [
            "['renatohidaka@gmail.com', 'julia@gmail.com']\n"
          ]
        }
      ],
      "source": [
        "lista = [\n",
        "    {\n",
        "      'nome': 'Renato Hidaka Torres',\n",
        "      'e-mail': 'renatohidaka@gmail.com'\n",
        "\n",
        "    },\n",
        "    {\n",
        "        'nome': 'Júlia Torres',\n",
        "        'e-mail': 'julia@gmail.com'\n",
        "    }\n",
        "]\n",
        "\n",
        "emails = []\n",
        "\n",
        "for item in lista:\n",
        "    emails.append(item['e-mail'])\n",
        "    \n",
        "print(emails)"
      ]
    },
    {
      "cell_type": "markdown",
      "metadata": {
        "id": "cDY1vPt0oToT"
      },
      "source": [
        "<p style='text-align: justify; font-size: 16px; line-height: 1.5;'>Nesse exemplo, temos uma estrutura de dados complexa, contendo vários dados dos usuários e desejamos realizar o mapeamento para extrair somete uma informação específica de todos os usuários, que no caso é o email. Na forma estruturada, fazemos isso iterando a lista e utilizando a função <span style=\"font-weight: bold;\">append</span> para ir inserindo a informação específica na nova lista.</p>"
      ]
    },
    {
      "cell_type": "markdown",
      "metadata": {
        "id": "so9wWzm0oToT"
      },
      "source": [
        "### Refatorando para a forma funcional "
      ]
    },
    {
      "cell_type": "code",
      "execution_count": null,
      "metadata": {
        "id": "jCxm4POBoToT",
        "outputId": "8b6f1326-8d63-4cab-9e03-3a0ac669dfaf"
      },
      "outputs": [
        {
          "name": "stdout",
          "output_type": "stream",
          "text": [
            "['renatohidaka@gmail.com', 'julia@gmail.com']\n"
          ]
        }
      ],
      "source": [
        "lista = [\n",
        "    {\n",
        "      'nome': 'Renato Hidaka Torres',\n",
        "      'e-mail': 'renatohidaka@gmail.com'\n",
        "\n",
        "    },\n",
        "    {\n",
        "        'nome': 'Júlia Torres',\n",
        "        'e-mail': 'julia@gmail.com'\n",
        "    }\n",
        "]\n",
        "\n",
        "emails = [item['e-mail'] for item in lista]\n",
        "print(emails)"
      ]
    },
    {
      "cell_type": "markdown",
      "metadata": {
        "id": "tCeNDfqCoToT"
      },
      "source": [
        "<p style='text-align: justify; font-size: 16px; line-height: 1.5;'>Refatorando para a forma funcional, veja que não precisamos utilizar a função <span style=\"font-weight: bold;\">append</span>. Essa função não é necessária, pois no mapeamento utilizando <span style=\"font-weight: bold;\">List Comprehensions</span>, os elementos mapeados na parte P2 são automaticamente inseridos na lista que está sendo construída.</p>"
      ]
    },
    {
      "cell_type": "markdown",
      "metadata": {
        "id": "aEz3ufI-oToU"
      },
      "source": [
        "<p style='text-align: justify; font-size: 16px; line-height: 1.5;'><span style=\"font-weight: bold;\">Exemplo 6: </span>  Dictionary Comprehensions.</p>"
      ]
    },
    {
      "cell_type": "markdown",
      "metadata": {
        "id": "V6nWYA5smKzA"
      },
      "source": [
        "<p style='text-align: justify; font-size: 16px; line-height: 1.5;'> Esse exemplo é para lhe mostrar que também podemos utilizar <span style=\"font-weight: bold;\">comprehensions</span> em dicionário. Vamos considerar que temos duas listas, uma contendo as chaves, a outra contendo os valores, e precisamos utilizá-las para construir um dicionário. Podemos fazer isso da seguinte forma:</p>"
      ]
    },
    {
      "cell_type": "code",
      "execution_count": null,
      "metadata": {
        "id": "9WlaiwVKoToU",
        "outputId": "c4de9ac9-5ae9-49d6-ea5a-0107bf3102af"
      },
      "outputs": [
        {
          "name": "stdout",
          "output_type": "stream",
          "text": [
            "{'leite': 10, 'arros': 5, 'feijão': 12, 'trigo': 5}\n"
          ]
        }
      ],
      "source": [
        "produtos = ['leite', 'arros', 'feijão', 'trigo']\n",
        "quantidade = [10, 5, 12, 5]\n",
        "\n",
        "estoque = {chave: valor for chave, valor in zip(produtos, quantidade)}\n",
        "\n",
        "print(estoque)"
      ]
    },
    {
      "cell_type": "markdown",
      "metadata": {
        "id": "OEcVq_RpoToU"
      },
      "source": [
        "<p style='text-align: justify; font-size: 16px; line-height: 1.5;'> Nesse exemplo, para iterar as duas listas, utilizamos a função <span style=\"font-weight: bold;\">zip</span>. Estudamos sobre essa função no Capítulo de Lista. Por estar iterando duas listas, para cada iteração, armazenamos os elementos de índices correspondentes nas variáveis <span style=\"font-weight: bold;\">chave</span> e <span style=\"font-weight: bold;\">valor</span>. Utilizamos os valores dessas variáveis para construir o mapeamento do dicionário. Como você já sabe, em um dicionário, a definição da chave e valor podem ser definidos utilizando os dois pontos, como estamos fazendo. Note que por ser um dicionário, a ao invés de realizar o mapeamento entre colchetes, devemos realizar entre chaves.</p>"
      ]
    },
    {
      "cell_type": "markdown",
      "metadata": {
        "id": "K-aRQmGqhlCj"
      },
      "source": [
        "## List Comprehensions para filtrar elementos de uma lista"
      ]
    },
    {
      "cell_type": "markdown",
      "metadata": {
        "id": "yX_4mnHyoToV"
      },
      "source": [
        "<p style='text-align: justify; font-size: 16px; line-height: 1.5;'> Para realizar manipulações de filtro, a <span style=\"font-weight: bold;\">List Comprehensions</span> possui a seguinte sintaxe:</p>"
      ]
    },
    {
      "cell_type": "markdown",
      "metadata": {
        "id": "kAUZDtB4oToV"
      },
      "source": [
        "![iteração de lista](filtro.png)\n",
        "<p style=\"text-align:center;\">Figura 2: Sintaxe filtro com conpreensão de lista.</p>"
      ]
    },
    {
      "cell_type": "markdown",
      "metadata": {
        "id": "slFMpirFoToV"
      },
      "source": [
        "<p style='text-align: justify; font-size: 16px; line-height: 1.5;'> Assim como no mapeamento, na parte P1, devemos realizar a iteração da lista que será filtrada. Na parte P2, devemos utilizar o comando <span style=\"font-weight: bold;\">if</span> para criar uma condição que determina os elementos que devem ser filtrados. Serão filtrados os elementos cuja condição for verdadeira. Dentro dos colchetes e antes do comando <span style=\"font-weight: bold;\">for</span>, devemos colocar a varável que está iterando a lista. Ao colocar a variável aí, estamos informando que, a cada iteração, se a condição do filtro for verdadeira, vamos adicionar o elemento na lista filtrada.</p>"
      ]
    },
    {
      "cell_type": "markdown",
      "metadata": {
        "id": "sRKuEuteoToV"
      },
      "source": [
        "<p style='text-align: justify; font-size: 16px; line-height: 1.5;'> Sobre a parte P2, já falamos que devemos criar uma condição com o comando <span style=\"font-weight: bold;\">if</span>. Se a condição for pequena, você pode codificar a expressão lógica dentro da própria compreensão de lista. Por outro lado, se você precisar construir uma expressão lógica muito grande, é aconselhável que você externalize essa condição, criando uma função que receba como argumento o valor iterado da lista. Vejamos alguns exemplos de filtro:</p>"
      ]
    },
    {
      "cell_type": "markdown",
      "metadata": {
        "id": "JnuKzn3VoToV"
      },
      "source": [
        "<p style='text-align: justify; font-size: 16px; line-height: 1.5;'><span style=\"font-weight: bold;\">Exemplo 7: </span>  Filtrando somente os elementos do tipo string.</p>"
      ]
    },
    {
      "cell_type": "markdown",
      "metadata": {
        "id": "udzh17dhoToV"
      },
      "source": [
        "## Filtro na forma estruturada"
      ]
    },
    {
      "cell_type": "code",
      "execution_count": null,
      "metadata": {
        "colab": {
          "base_uri": "https://localhost:8080/"
        },
        "id": "0nTImVWGhp5A",
        "outputId": "a9dd9436-b896-45bd-b025-7282fe4f83da"
      },
      "outputs": [
        {
          "name": "stdout",
          "output_type": "stream",
          "text": [
            "[7, 17, 12, 9]\n"
          ]
        }
      ],
      "source": [
        "lista = ['Renato', 7, 17, 'Hidaka', 12, 9]\n",
        "\n",
        "for item in lista.copy():\n",
        "    if type(item) is str:\n",
        "        lista.remove(item)\n",
        "\n",
        "print(lista)"
      ]
    },
    {
      "cell_type": "markdown",
      "metadata": {
        "id": "YMva4j8OiTHN"
      },
      "source": [
        "## Refatorando para a forma funcional - versão 1"
      ]
    },
    {
      "cell_type": "code",
      "execution_count": null,
      "metadata": {
        "colab": {
          "base_uri": "https://localhost:8080/"
        },
        "id": "Pq8ERTr0iUu9",
        "outputId": "e552f7bf-4351-4f05-824b-8bb2f190ef12"
      },
      "outputs": [
        {
          "name": "stdout",
          "output_type": "stream",
          "text": [
            "[7, 17, 12, 9]\n"
          ]
        }
      ],
      "source": [
        "lista = ['Renato', 7, 17, 'Hidaka', 12, 9]\n",
        "\n",
        "lista = [item for item in lista if type(item) is not str]\n",
        "print(lista)"
      ]
    },
    {
      "cell_type": "markdown",
      "metadata": {
        "id": "8NLtGOycoToV"
      },
      "source": [
        "<p style='text-align: justify; font-size: 16px; line-height: 1.5;'> Na forma estruturada, nós utilizamos a estratégia de iteração da cópia da lista, para poder filtrar os elementos. Observe que a lógica do filtro implicou na remoção dos elementos indesejados. Sendo assim, na condição do filtro, verificamos se o elemento iterado é uma string. Caso seja, realizamos a remoção.</p>"
      ]
    },
    {
      "cell_type": "markdown",
      "metadata": {
        "id": "2wSumdK4oToV"
      },
      "source": [
        "<p style='text-align: justify; font-size: 16px; line-height: 1.5;'>No filtro utilizando List Comprehensions, a lógica foi invertida. Como estamos construindo uma nova lista, precisamos verificar quais os elementos que não são do tipo string. Aqueles que não forem devem ser adicionados na lista que está sendo construída. Observe que a condição do filtro é <span style=\"font-weight: bold;\">is not</span>. Ou seja, todos os elementos que não forem do tipo string serão filtrados e adicionados na nova lista.</p>"
      ]
    },
    {
      "cell_type": "markdown",
      "metadata": {
        "id": "EDxTlYKTiqCp"
      },
      "source": [
        "## Refatorando para a forma funcional - versão 2"
      ]
    },
    {
      "cell_type": "markdown",
      "metadata": {
        "id": "z0AxIUZUoToV"
      },
      "source": [
        "<p style='text-align: justify; font-size: 16px; line-height: 1.5;'>Na refatoração versão 1, você deve ter percebido que a condição polui um pouco a leitura da List Comprehensions. Se você teve essa sensação, uma alternativa implica a externalização da condição do filtro, a partir da construção de uma função. Vamos fazer isso!</p>"
      ]
    },
    {
      "cell_type": "code",
      "execution_count": null,
      "metadata": {
        "id": "dwU2NSTAoToV"
      },
      "outputs": [],
      "source": [
        "def filtro(item):\n",
        "    return type(item) is not str"
      ]
    },
    {
      "cell_type": "code",
      "execution_count": null,
      "metadata": {
        "colab": {
          "base_uri": "https://localhost:8080/"
        },
        "id": "gqJ7qJd7irw7",
        "outputId": "97a09675-3c15-42ba-c966-bc0e58aa1026"
      },
      "outputs": [
        {
          "name": "stdout",
          "output_type": "stream",
          "text": [
            "[7, 17, 12, 9]\n"
          ]
        }
      ],
      "source": [
        "lista = ['Renato', 7, 17, 'Hidaka', 12, 9]\n",
        "lista = [item for item in lista if filtro(item)]\n",
        "\n",
        "print(lista)\n"
      ]
    },
    {
      "cell_type": "markdown",
      "metadata": {
        "id": "pEwnTNzWoToW"
      },
      "source": [
        "<p style='text-align: justify; font-size: 16px; line-height: 1.5;'><span style=\"font-weight: bold;\">Exemplo 8: </span>  Dada uma lista de cadastros de usuários, filtre os cadastros que possuem e-mail do gmail.</p>"
      ]
    },
    {
      "cell_type": "markdown",
      "metadata": {
        "id": "PTNYVxNLoToW"
      },
      "source": [
        "## Filtro na forma estruturada"
      ]
    },
    {
      "cell_type": "code",
      "execution_count": null,
      "metadata": {
        "id": "E1YG2nsToToW",
        "outputId": "4ab29ace-bf2d-4fc8-b7c1-10372d8fd9ba"
      },
      "outputs": [
        {
          "name": "stdout",
          "output_type": "stream",
          "text": [
            "{'nome': 'Renato Hidaka Torres', 'e-mail': 'renatohidaka@gmail.com'}\n",
            "{'nome': 'Júlia Torres', 'e-mail': 'julia@gmail.com'}\n",
            "{'nome': 'Pedo Carlos Simões', 'e-mail': 'pedrosimoes@gmail.com'}\n"
          ]
        }
      ],
      "source": [
        "cadastros = [\n",
        "    {\n",
        "      'nome': 'Renato Hidaka Torres',\n",
        "      'e-mail': 'renatohidaka@gmail.com'\n",
        "\n",
        "    },\n",
        "    {\n",
        "        'nome': 'Júlia Torres',\n",
        "        'e-mail': 'julia@gmail.com'\n",
        "    },\n",
        "    {\n",
        "      'nome': 'Maria José Silva',\n",
        "      'e-mail': 'maria.silva@yahoo.com.br'\n",
        "\n",
        "    },\n",
        "    {\n",
        "        'nome': 'Pedo Carlos Simões',\n",
        "        'e-mail': 'pedrosimoes@gmail.com'\n",
        "    }\n",
        "]\n",
        "\n",
        "for item in cadastros.copy():\n",
        "    if '@gmail' not in item['e-mail']:\n",
        "        cadastros.remove(item)\n",
        "\n",
        "print(*cadastros, sep='\\n')"
      ]
    },
    {
      "cell_type": "markdown",
      "metadata": {
        "id": "Z1t_lr5goToW"
      },
      "source": [
        "## Refatorando para a forma funcional"
      ]
    },
    {
      "cell_type": "code",
      "execution_count": null,
      "metadata": {
        "id": "av3FpJU0oToW",
        "outputId": "86437ebd-8e14-44f6-e26f-b46cd2135dab"
      },
      "outputs": [
        {
          "name": "stdout",
          "output_type": "stream",
          "text": [
            "{'nome': 'Renato Hidaka Torres', 'e-mail': 'renatohidaka@gmail.com'}\n",
            "{'nome': 'Júlia Torres', 'e-mail': 'julia@gmail.com'}\n",
            "{'nome': 'Pedo Carlos Simões', 'e-mail': 'pedrosimoes@gmail.com'}\n"
          ]
        }
      ],
      "source": [
        "cadastros = [\n",
        "    {\n",
        "      'nome': 'Renato Hidaka Torres',\n",
        "      'e-mail': 'renatohidaka@gmail.com'\n",
        "\n",
        "    },\n",
        "    {\n",
        "        'nome': 'Júlia Torres',\n",
        "        'e-mail': 'julia@gmail.com'\n",
        "    },\n",
        "    {\n",
        "      'nome': 'Maria José Silva',\n",
        "      'e-mail': 'maria.silva@yahoo.com.br'\n",
        "\n",
        "    },\n",
        "    {\n",
        "        'nome': 'Pedo Carlos Simões',\n",
        "        'e-mail': 'pedrosimoes@gmail.com'\n",
        "    }\n",
        "]\n",
        "\n",
        "cadastros = [item for item in cadastros if '@gmail' in item['e-mail']]\n",
        "\n",
        "print(*cadastros, sep='\\n')"
      ]
    },
    {
      "cell_type": "markdown",
      "metadata": {
        "id": "ZIoYoX9poToW"
      },
      "source": [
        "<p style='text-align: justify; font-size: 16px; line-height: 1.5;'>Nesse exemplo estamos filtrando uma lista de dicionário. Mais uma vez, note a inversão da lógica do filtro na forma estruturada para a funcional. Dessa vez, na forma estruturada, removemos todos os elementos cujo e-mail não tem a sequência @gmail. Já no filtro da List Comprehensions, nós inserimos na nova lista somente os cadastros que possuem o e-mail com a sequência @gmail. Para melhorar a visualização dos elementos filtrados, redefinimos o separados do comando print.</p>"
      ]
    },
    {
      "cell_type": "markdown",
      "metadata": {
        "id": "0W7NhcHQoToW"
      },
      "source": [
        "## Filtro e mapeamento com List Comprehensions"
      ]
    },
    {
      "cell_type": "markdown",
      "metadata": {
        "id": "O7QodSUMoToW"
      },
      "source": [
        "<p style='text-align: justify; font-size: 16px; line-height: 1.5;'>Existem situações nas quais você precisa tratar ou transformar os elementos que você está filtrando. Quando esse for o caso, você pode  utilizar a compreensão de lista com a sintaxe que nada mais é do que a junção das duas sintaxes que nós já vimos.</p>"
      ]
    },
    {
      "cell_type": "markdown",
      "metadata": {
        "id": "_Ae49uDqoToW"
      },
      "source": [
        "<p style='text-align: justify; font-size: 16px; line-height: 1.5;'>Aqui, nós dividimos a List Comprehensions em três partes. Na parte P1, devemos iterar a lista que será filtrada. Na parte P2, devemos construir a condição do filtro. Na parte P3, devemos definir o mapeamento dos itens filtrados. Assim como nos casos anteriores, caso a condição do filtro ou o mapeamento seja muito complexo, você pode construir funções para simplificar as partes P2 e P3. Vejamos alguns exemplos de filtro e mapeamento com List Comprehensions.</p>"
      ]
    },
    {
      "cell_type": "markdown",
      "metadata": {
        "id": "tzTggFGKoToW"
      },
      "source": [
        "![iteração de lista](filtermap.png)\n",
        "<p style=\"text-align:center;\">Figura 3: Sintaxe filtro e mapeamento com conpreensão de lista.</p>"
      ]
    },
    {
      "cell_type": "markdown",
      "metadata": {
        "id": "wBhG7RwzoToW"
      },
      "source": [
        "<p style='text-align: justify; font-size: 16px; line-height: 1.5;'><span style=\"font-weight: bold;\">Exemplo 9: </span>  Dada uma lista de cadastros de usuários, filtre os cadastros que possuem e-mail do gmail e construa uma lista desses e-mails em caixa alta.</p>"
      ]
    },
    {
      "cell_type": "code",
      "execution_count": null,
      "metadata": {
        "id": "VAZCZQxYoToW",
        "outputId": "7f367596-bc7b-4431-bdf8-7d598a6a2ba1"
      },
      "outputs": [
        {
          "name": "stdout",
          "output_type": "stream",
          "text": [
            "['RENATOHIDAKA@GMAIL.COM', 'JULIA@GMAIL.COM', 'PEDROSIMOES@GMAIL.COM']\n"
          ]
        }
      ],
      "source": [
        "cadastros = [\n",
        "    {\n",
        "      'nome': 'Renato Hidaka Torres',\n",
        "      'e-mail': 'renatohidaka@gmail.com'\n",
        "\n",
        "    },\n",
        "    {\n",
        "        'nome': 'Júlia Torres',\n",
        "        'e-mail': 'julia@gmail.com'\n",
        "    },\n",
        "    {\n",
        "      'nome': 'Maria José Silva',\n",
        "      'e-mail': 'maria.silva@yahoo.com.br'\n",
        "\n",
        "    },\n",
        "    {\n",
        "        'nome': 'Pedo Carlos Simões',\n",
        "        'e-mail': 'pedrosimoes@gmail.com'\n",
        "    }\n",
        "]\n",
        "\n",
        "emails = [item['e-mail'].upper() for item in cadastros if '@gmail' in item['e-mail']]\n",
        "\n",
        "print(emails)"
      ]
    },
    {
      "cell_type": "markdown",
      "metadata": {
        "id": "nQ7Y8WamoToW"
      },
      "source": [
        "<p style='text-align: justify; font-size: 16px; line-height: 1.5;'>Esse exemplo é a continuação do Exemplo 9. Aqui, além de filtrar os cadastros cujo e-mail seja do gmail, realizamos o mapeamento para extrair somente o e-mail dos cadastros e os transformamos para caixa alta.</p>"
      ]
    },
    {
      "cell_type": "markdown",
      "metadata": {
        "id": "d_QfDGoDoToW"
      },
      "source": [
        "<p style='text-align: justify; font-size: 16px; line-height: 1.5;'><span style=\"font-weight: bold;\">Exemplo 10: </span>  Dada uma lista de números inteiros, filtre os elementos que são maiores que o seu predecessor. Para esses elementos, caso seja par, some 1, caso seja ímpar, subtraia 1.</p>"
      ]
    },
    {
      "cell_type": "markdown",
      "metadata": {
        "id": "Zd2CctOzoToW"
      },
      "source": [
        "## Filtro e mapeamento na forma estruturada"
      ]
    },
    {
      "cell_type": "code",
      "execution_count": null,
      "metadata": {
        "id": "Me_p50GPoToW",
        "outputId": "7e3a7741-2692-4025-a2b1-a6b268537741"
      },
      "outputs": [
        {
          "name": "stdout",
          "output_type": "stream",
          "text": [
            "[10, 15, 6, 17, 15]\n"
          ]
        }
      ],
      "source": [
        "lista  = [10, 9, 11, 14, 8, 4, 7, 16, 12, 14]\n",
        "nova_lista = []\n",
        "\n",
        "for pred, item in zip(lista, lista[1:]):\n",
        "    if item > pred:\n",
        "        if item%2 == 0:\n",
        "            nova_lista.append(item+1)\n",
        "        else:\n",
        "            nova_lista.append(item-1)\n",
        "\n",
        "print(nova_lista)"
      ]
    },
    {
      "cell_type": "markdown",
      "metadata": {
        "id": "TvX1-AIXoToX"
      },
      "source": [
        "<p style='text-align: justify; font-size: 16px; line-height: 1.5;'>Nesse exemplo precisamos acessar dois elementos a cada iteração. Para isso, utilizamos a função <span style=\"font-weight: bold;\">zip</span> passando a lista original e a lista modificada sem o primeiro elemento. Um vez que a lista modificada não possui o primeiro elemento da lista original, o índice zero da lista está referenciando o elemento 9, o índice um o elemento 11, e assim por diante. Como estudamos no Capítulo de Lista, a função <span style=\"font-weight: bold;\">zip</span>, a cada iteração, acessa os elementos de índices correspondentes das listas passadas como argumento. Sendo assim, a cada iteração, estamos acessado os dois elementos adjacentes da lista.</p>"
      ]
    },
    {
      "cell_type": "markdown",
      "metadata": {
        "id": "JSwgIGvvoToX"
      },
      "source": [
        "<p style='text-align: justify; font-size: 16px; line-height: 1.5;'>Para cada iteração, verificamos se o item da frente é maior que o predecessor. Caso seja, verificamos se esse item é par ou ímpar, para poder fazer o mapeamento adequado e construir a nova lista.</p>"
      ]
    },
    {
      "cell_type": "markdown",
      "metadata": {
        "id": "AVURu_OuoToX"
      },
      "source": [
        "## Refatorando para a forma funcional"
      ]
    },
    {
      "cell_type": "code",
      "execution_count": null,
      "metadata": {
        "id": "74ojG9k1oToX"
      },
      "outputs": [],
      "source": [
        "def mapeamento(item):\n",
        "    if item%2 == 0:\n",
        "        return item+1\n",
        "    return item-1"
      ]
    },
    {
      "cell_type": "code",
      "execution_count": null,
      "metadata": {
        "id": "TSfAYm7roToX",
        "outputId": "b7ce5e0f-7dd3-4764-95ba-d9d74ff3ae1e"
      },
      "outputs": [
        {
          "name": "stdout",
          "output_type": "stream",
          "text": [
            "[10, 15, 6, 17, 15]\n"
          ]
        }
      ],
      "source": [
        "lista  = [10, 9, 11, 14, 8, 4, 7, 16, 12, 14]\n",
        "lista = [mapeamento(item) for pred, item in zip(lista, lista[1:]) if item > pred]\n",
        "print(lista)"
      ]
    },
    {
      "cell_type": "markdown",
      "metadata": {
        "id": "a-uvo0gVoToX"
      },
      "source": [
        "<p style='text-align: justify; font-size: 16px; line-height: 1.5;'>Na forma funcional, utilizamos a mesma estratégia de iteração com a função <span style=\"font-weight: bold;\">zip</span>. No filtro, definimos a condição para verificar se o elemento da frente é maior do que o predecessor. No mapeamento, criamos uma função para externalizar a lógica de mapeamento que depende de uma condição para verificar se o item é par ou ímpar. Note que na forma funcional, as partes da iteração, filtro e mapeamento ficam bem definidas.</p>"
      ]
    },
    {
      "cell_type": "markdown",
      "metadata": {
        "id": "bY87su0PjSrF"
      },
      "source": [
        "## Função map"
      ]
    },
    {
      "cell_type": "markdown",
      "metadata": {
        "id": "rEg3J7HYoToX"
      },
      "source": [
        "<p style='text-align: justify; font-size: 16px; line-height: 1.5;'>Outra forma de realizar o mapeamento de forma funcional é utilizando a função <span style=\"font-weight: bold;\">map</span> que possui a seguinte sintaxe.</p>"
      ]
    },
    {
      "cell_type": "markdown",
      "metadata": {
        "id": "7morIJ7ToToX"
      },
      "source": [
        "![iteração de lista](map2.png)\n",
        "<p style=\"text-align:center;\">Figura 4: Sintaxe mapeamento com a função map.</p>"
      ]
    },
    {
      "cell_type": "markdown",
      "metadata": {
        "id": "PxQ6WgnJoToX"
      },
      "source": [
        "<p style='text-align: justify; font-size: 16px; line-height: 1.5;'>Ao utilizar a função <span style=\"font-weight: bold;\">map</span>, devemos passar dois argumentos. No argumento P1, devemos passar a coleção que será mapeada. Já no argumento P2, devemos passar a função que fará o mapeamento.</p>"
      ]
    },
    {
      "cell_type": "markdown",
      "metadata": {
        "id": "9yDnqW1voToX"
      },
      "source": [
        "<p style='text-align: justify; font-size: 16px; line-height: 1.5;'> Sobre a passagem da função no argumento P2, devemos fazer uma observação muito importante. Há uma grande diferença entre passar a chamada da função e passar a função. Por exemplo, na List Comprehensions, podemos realizar o mapeamento passando a chamada da função da seguinte forma:</p>"
      ]
    },
    {
      "cell_type": "code",
      "execution_count": null,
      "metadata": {
        "id": "n5ACovttoToX"
      },
      "outputs": [],
      "source": [
        "def funcao(item):\n",
        "    return item**2"
      ]
    },
    {
      "cell_type": "code",
      "execution_count": null,
      "metadata": {
        "id": "mGTf_mzOoToX",
        "outputId": "8ffcac7c-5a86-4dc0-8916-27db75589cc1"
      },
      "outputs": [
        {
          "name": "stdout",
          "output_type": "stream",
          "text": [
            "[4, 16, 36, 64]\n"
          ]
        }
      ],
      "source": [
        "lista = [2, 4, 6, 8]\n",
        "lista = [funcao(item) for item in lista]\n",
        "print(lista)"
      ]
    },
    {
      "cell_type": "markdown",
      "metadata": {
        "id": "5PbA7GxJoToX"
      },
      "source": [
        "<p style='text-align: justify; font-size: 16px; line-height: 1.5;'> Ao passar a chamada da função <span style=\"font-weight: bold;\">funcao(item)</span>, estamos informando que, para cada item iterado, vamos invocar a função e armazenar na lista o retorno da função. Na chamada da função, observe que devemos passar todos os argumentos necessários para que a função seja invocada.</p>"
      ]
    },
    {
      "cell_type": "markdown",
      "metadata": {
        "id": "5phWnf9yoToX"
      },
      "source": [
        "<p style='text-align: justify; font-size: 16px; line-height: 1.5;'> Ao passar uma função como argumento, a principal diferença sintática é que não devemos passar os argumentos. A passagem da função exige que passemos somente o nome da função. Uma vez que a função é passada como argumento, ela será utilizada internamente pela função que a recebeu. Lembre-se de que todo argumento passado para uma função é armazenado em um parâmetro. Sendo assim, ao passar uma função como argumento, a armazenamos em um parâmetro, e podemos utilizá-la. Isso é o que acontece na função <span style=\"font-weight: bold;\">map</span>. Para exemplificar, vamos realizar o mesmo mapeamento utilizando a função <span style=\"font-weight: bold;\">map</span>.</p>"
      ]
    },
    {
      "cell_type": "markdown",
      "metadata": {
        "id": "evaBdQHooToX"
      },
      "source": [
        "<p style='text-align: justify; font-size: 16px; line-height: 1.5;'><span style=\"font-weight: bold;\">Exemplo 11: </span>  mapeamento com a função map</p>"
      ]
    },
    {
      "cell_type": "code",
      "execution_count": null,
      "metadata": {
        "id": "PRfKOe-PoToX"
      },
      "outputs": [],
      "source": [
        "def funcao(item):\n",
        "    return item**2"
      ]
    },
    {
      "cell_type": "code",
      "execution_count": null,
      "metadata": {
        "id": "1MqBnbO4oToY",
        "outputId": "54842253-8aa3-4993-ae22-09775c7a7e2f"
      },
      "outputs": [
        {
          "name": "stdout",
          "output_type": "stream",
          "text": [
            "[4, 16, 36, 64]\n"
          ]
        }
      ],
      "source": [
        "lista = [2, 4, 6, 8]\n",
        "lista = list(map(funcao, lista))\n",
        "print(lista)"
      ]
    },
    {
      "cell_type": "markdown",
      "metadata": {
        "id": "O9_96oq7oToY"
      },
      "source": [
        "<p style='text-align: justify; font-size: 16px; line-height: 1.5;'>Veja que no argumento P2 nós passamos a função. Nesse caso, a função <span style=\"font-weight: bold;\">map</span> utilizará o comportamento da nossa função para realizar o mapeamento adequado, que nesse exemplo, implica elevar cada item da lista ao quadrado.</p>"
      ]
    },
    {
      "cell_type": "markdown",
      "metadata": {
        "id": "ckT9OFc-oToY"
      },
      "source": [
        "<p style='text-align: justify; font-size: 16px; line-height: 1.5;'>Nesse exemplo, também observe que nós utilizamos a função <span style=\"font-weight: bold;\">list</span> para criar a lista resultante do mapeamento. Isso é necessário, porque a função <span style=\"font-weight: bold;\">map</span> é genérica, podendo realizar o mapeamento de qualquer coleção. Portanto, se desejamos que o resultado do mapeamento resulte em uma lista, usamos a função <span style=\"font-weight: bold;\">list</span>. Se o mapeamento é realizado para resultar em um dicionário, utilizamos a função <span style=\"font-weight: bold;\">dict</span>. Para exemplificar, vamos realizar um mapeamento que resulte em um dicionário.</p>"
      ]
    },
    {
      "cell_type": "markdown",
      "metadata": {
        "id": "GJcB3N1XoToY"
      },
      "source": [
        "<p style='text-align: justify; font-size: 16px; line-height: 1.5;'><span style=\"font-weight: bold;\">Exemplo 12: </span>  Mapeamento de um dicionário.</p>"
      ]
    },
    {
      "cell_type": "code",
      "execution_count": null,
      "metadata": {
        "id": "K8AVzDTloToY"
      },
      "outputs": [],
      "source": [
        "def funcao(chave, valor):\n",
        "    return (chave, valor)"
      ]
    },
    {
      "cell_type": "code",
      "execution_count": null,
      "metadata": {
        "id": "Gi_ii6rtoToY",
        "outputId": "62bea80b-5854-4f4b-f4f6-32d17f9e913d"
      },
      "outputs": [
        {
          "name": "stdout",
          "output_type": "stream",
          "text": [
            "{'Banana': 10, 'Morango': 13, 'Açaí': 5, 'Laranja': 12}\n"
          ]
        }
      ],
      "source": [
        "produtos = ['Banana', 'Morango', 'Açaí', 'Laranja']\n",
        "quantidade = [10, 13, 5, 12]\n",
        "produtos = dict(map(funcao, produtos, quantidade))\n",
        "print(produtos)"
      ]
    },
    {
      "cell_type": "markdown",
      "metadata": {
        "id": "hWo1m-_AoToY"
      },
      "source": [
        "<p style='text-align: justify; font-size: 16px; line-height: 1.5;'>Como sabemos, para criar um dicionário, precisamos definir a chave e o valor de cada elemento. Por esse motivo, a nossa função que realiza o mapeamento recebe dois argumentos que são armazenados nos parâmetros denominados chave e valor. Outro ponto a ser percebido é que a função map está recebendo três argumentos. O primeiro argumento mais a esquerda refere-se à função de mapeamento. Os outros dois referem-se as listas que serão mapeadas. A primeira lista possui os itens que serão as chaves dos elementos do dicionário e a segunda lista possui os itens que serão os valores referenciados pelas chaves.</p>"
      ]
    },
    {
      "cell_type": "markdown",
      "metadata": {
        "id": "bB3XPFXxoToY"
      },
      "source": [
        "<p style='text-align: justify; font-size: 16px; line-height: 1.5;'>Você deve tá se perguntando: quantos argumentos podem ser passados para a função map? Bom, sabemos que o primeiro argumento refere-se a função de mapeamento. A quantidade dos demais argumentos dependerá de quantos argumentos a função de mapeamento possui. Note que nesse exemplo em que estamos construindo o dicionário, a nossa função possui dois argumentos Logo, devemos passar duas coleções como argumento. Durante o mapeamento, a cada iteração, um elemento de cada coleção será passado internamente como argumento da função.</p"
      ]
    },
    {
      "cell_type": "markdown",
      "metadata": {
        "id": "dafjZC7goToY"
      },
      "source": [
        "<p style='text-align: justify; font-size: 16px; line-height: 1.5;'>Olhando para a nossa função de mapeamento, outro ponto que deve ser notado é o retorno da função. Veja que estamos retornando uma tupla com a chave e o valor do elemento que comporá o dicionário. O retorno da tupla é necessário para que a função <span style=\"font-weight: bold;\">dict</span> sabia construir o dicionário corretamente. Só para relembra, em Python, uma tupla é uma coleção imutável representada por parênteses.</p"
      ]
    },
    {
      "cell_type": "markdown",
      "metadata": {
        "id": "PklLCXSsoToY"
      },
      "source": [
        "<p style='text-align: justify; font-size: 16px; line-height: 1.5;'><span style=\"font-weight: bold;\">Exemplo 13: </span>  Mapeamento de string para inteiro.</p>"
      ]
    },
    {
      "cell_type": "code",
      "execution_count": null,
      "metadata": {
        "colab": {
          "base_uri": "https://localhost:8080/"
        },
        "id": "a2TwMyadjO4-",
        "outputId": "574f77a7-8725-4c15-810b-7f357cb2ed23"
      },
      "outputs": [
        {
          "name": "stdout",
          "output_type": "stream",
          "text": [
            "[3, 100, 4, 21, 45, -9]\n"
          ]
        }
      ],
      "source": [
        "lista = ['3', '100', '4', '21', '45', '-9']\n",
        "lista = list(map(int, lista))\n",
        "\n",
        "print(lista)"
      ]
    },
    {
      "cell_type": "markdown",
      "metadata": {
        "id": "UD2OLSF3oToY"
      },
      "source": [
        "<p style='text-align: justify; font-size: 16px; line-height: 1.5;'>Esse exemplo é importante para que você perceba que podemos passas como argumento funções já existentes. Nesse caso, para mapear cada string para inteiro, passamos a função <span style=\"font-weight: bold;\">int</span>.</p"
      ]
    },
    {
      "cell_type": "markdown",
      "metadata": {
        "id": "455zL1cioToY"
      },
      "source": [
        "## Função anônima"
      ]
    },
    {
      "cell_type": "markdown",
      "metadata": {
        "id": "bSwZNwgKoToY"
      },
      "source": [
        "<p style='text-align: justify; font-size: 16px; line-height: 1.5;'>Você deve ter notado que para realizar o mapeamento, criamos as funções que devem ser passadas como argumento. Contudo, se essa função tiver a finalidade específica de ser utilizada somente no mapeamento. Não há necessidade de criá-la da forma tradicional. Como alternativa, podemos criar uma função anônima. Na linguagem Python, uma função anônima é criada com o comando <span style=\"font-weight: bold;\">lambda</span> e possui a seguinte sintaxe:</p>"
      ]
    },
    {
      "cell_type": "markdown",
      "metadata": {
        "id": "jlKU5YU0oToY"
      },
      "source": [
        "![iteração de lista](lambda.png)\n",
        "<p style=\"text-align:center;\">Figura 5: Sintaxe da função anônima com lambda.</p>"
      ]
    },
    {
      "cell_type": "markdown",
      "metadata": {
        "id": "PMTox7tXoToY"
      },
      "source": [
        "<p style='text-align: justify; font-size: 16px; line-height: 1.5;'>Apó o comando <span style=\"font-weight: bold;\">lambda</span> e antes dos dois pontos, devemos definir os parâmetros da função. Caso a função tenha mais de um parâmetro, eles devem ser separados por vírgula. Após os dois pontos, devemos definir o escopo da função anônima. Uma particularidade da função anônima é que o escopo deve ser definido na mesmas linha, não podendo ter um escopo de múltiplas linhas. Considerado essa particularidade, é recomendado que as funções anônimas sejam utilizadas para pequenas tarefas. Se a função for muito complexa com um escopo muito grande, recomenda-se a criação de uma função definida pelo <span style=\"font-weight: bold;\">def</span>, pois múltiplas linhas facilita a leitura do código. Vejamos alguns exemplos de mapeamento com função anônima.</p>"
      ]
    },
    {
      "cell_type": "markdown",
      "metadata": {
        "id": "GekUL8DCoToY"
      },
      "source": [
        "<p style='text-align: justify; font-size: 16px; line-height: 1.5;'><span style=\"font-weight: bold;\">Exemplo 13: </span> Mapeamento ao quadrado com lambda.</p>"
      ]
    },
    {
      "cell_type": "code",
      "execution_count": null,
      "metadata": {
        "colab": {
          "base_uri": "https://localhost:8080/"
        },
        "id": "eujbI2c3j7y-",
        "outputId": "35381966-f5d8-41a4-e69e-bed6246269b2"
      },
      "outputs": [
        {
          "name": "stdout",
          "output_type": "stream",
          "text": [
            "[4, 25, 16, 144, 5776]\n"
          ]
        }
      ],
      "source": [
        "lista = [2, -5, 4, 12, 76]\n",
        "lista = list(map(lambda item: item**2, lista))\n",
        "\n",
        "print(lista)"
      ]
    },
    {
      "cell_type": "markdown",
      "metadata": {
        "id": "Ka16n8sFoToZ"
      },
      "source": [
        "<p style='text-align: justify; font-size: 16px; line-height: 1.5;'>Nesse exemplo, a nossa função anônima possui um parâmetro e o escopo da função, estamos informando que o valor armazenado nesse parâmetro deve ser elevado ao quadrado. Se você quiser, em vez de passar a função anônima diretamente como argumento da função <span style=\"font-weight: bold;\">map</span>, você pode atribuir a função anônima a uma variável, veja:</p>"
      ]
    },
    {
      "cell_type": "code",
      "execution_count": null,
      "metadata": {
        "id": "orykoj8ZoToZ",
        "outputId": "0300e9ff-a1f9-4863-fa28-d3f4ad8ca2f5"
      },
      "outputs": [
        {
          "name": "stdout",
          "output_type": "stream",
          "text": [
            "[4, 25, 16, 144, 5776]\n"
          ]
        }
      ],
      "source": [
        "lista = [2, -5, 4, 12, 76]\n",
        "\n",
        "funcao = lambda item: item**2\n",
        "lista = list(map(funcao, lista))\n",
        "\n",
        "print(lista)"
      ]
    },
    {
      "cell_type": "markdown",
      "metadata": {
        "id": "GdMTqxFSoToZ"
      },
      "source": [
        "<p style='text-align: justify; font-size: 16px; line-height: 1.5;'><span style=\"font-weight: bold;\">Exemplo 14: </span> Mapear para um dicionário a palavra com a respectiva quantidade de caracteres.</p>"
      ]
    },
    {
      "cell_type": "code",
      "execution_count": null,
      "metadata": {
        "id": "XhcbZJ2eoToZ",
        "outputId": "02182b05-a467-4b76-b631-fefbb3709b7b"
      },
      "outputs": [
        {
          "name": "stdout",
          "output_type": "stream",
          "text": [
            "{'Banana': 6, 'Morango': 7, 'Açaí': 4, 'Laranja': 7}\n"
          ]
        }
      ],
      "source": [
        "produtos = ['Banana', 'Morango', 'Açaí', 'Laranja']\n",
        "produtos = dict(map(lambda item: (item, len(item)), produtos))\n",
        "\n",
        "print(produtos)"
      ]
    },
    {
      "cell_type": "markdown",
      "metadata": {
        "id": "D2gTsAkwoToZ"
      },
      "source": [
        "<p style='text-align: justify; font-size: 16px; line-height: 1.5;'>Como desejamos construir um dicionário, o escopo da função anônima possui uma tupla contendo a palavra e o seu respectivo tamanho. O tamanho foi calculado com a função <span style=\"font-weight: bold;\">len</span></p>"
      ]
    },
    {
      "cell_type": "markdown",
      "metadata": {
        "id": "ZrCWimuekM2c"
      },
      "source": [
        "## Função filter"
      ]
    },
    {
      "cell_type": "markdown",
      "metadata": {
        "id": "TXdHr5UvoToZ"
      },
      "source": [
        "<p style='text-align: justify; font-size: 16px; line-height: 1.5;'>Assim como acontece com o mapeamento, outra forma de realizar o filtro de forma funcional é utilizando a função <span style=\"font-weight: bold;\">filter</span> que possui a seguinte sintaxe.</p>"
      ]
    },
    {
      "cell_type": "markdown",
      "metadata": {
        "id": "6h29_GBCoToZ"
      },
      "source": [
        "![iteração de lista](filter.png)\n",
        "<p style=\"text-align:center;\">Figura 6: Sintaxe da função filter.</p>"
      ]
    },
    {
      "cell_type": "markdown",
      "metadata": {
        "id": "8cUbOHDuoToZ"
      },
      "source": [
        "<p style='text-align: justify; font-size: 16px; line-height: 1.5;'>Ao utilizar a função <span style=\"font-weight: bold;\">filter</span>, devemos passar dois argumentos. No argumento P1, devemos passar a coleção que será filtrada. Já no argumento P2, devemos passar a função que fará o filtro.</p>"
      ]
    },
    {
      "cell_type": "markdown",
      "metadata": {
        "id": "Le7tl0MSoToZ"
      },
      "source": [
        "<p style='text-align: justify; font-size: 16px; line-height: 1.5;'>Assim como acontece com a função <span style=\"font-weight: bold;\">map</span>, no argumento P2 da função filter nós devemos passar uma função como argumento, ao invés da chamada da função. O argumento P2 também admite a utilização de funções anônimas. Por ter que realizar um filtro, é conveniente que a função passada como argumento em P2 possua uma expressão lógica como retorno que determine se o elemento será filtrado ou não. Se a expressão lógica for verdadeira, significa que o elemento é filtrado e fará parte da coleção resultante do filtro. Caso a função passada como argumento não tenha retorne um valor booleano, então todos os elementos da coleção passada como argumento em P1 são filtrados e farão parte da coleção resultante do filtro. Vejamos alguns exemplos de utilização da função filter.</p>"
      ]
    },
    {
      "cell_type": "markdown",
      "metadata": {
        "id": "Oc7cf3lNoToZ"
      },
      "source": [
        "<p style='text-align: justify; font-size: 16px; line-height: 1.5;'><span style=\"font-weight: bold;\">Exemplo 15: </span> Dada uma lista, filtrar os elementos que não são string</p>"
      ]
    },
    {
      "cell_type": "markdown",
      "metadata": {
        "id": "7jd9mXneoToZ"
      },
      "source": [
        "### Versão com função externa"
      ]
    },
    {
      "cell_type": "code",
      "execution_count": null,
      "metadata": {
        "colab": {
          "base_uri": "https://localhost:8080/"
        },
        "id": "cjUmkEPrkJta",
        "outputId": "5d46e630-5992-4567-8624-75cf5fd3fd05"
      },
      "outputs": [
        {
          "name": "stdout",
          "output_type": "stream",
          "text": [
            "[7, 17, 12, 9]\n"
          ]
        }
      ],
      "source": [
        "def filtro(item):\n",
        "    return type(item) is not str\n",
        "\n",
        "lista = ['Renato', 7, 17, 'Hidaka', 12, 9]\n",
        "lista = list(filter(filtro, lista))\n",
        "\n",
        "print(lista)"
      ]
    },
    {
      "cell_type": "markdown",
      "metadata": {
        "id": "w_dGjl9KoToZ"
      },
      "source": [
        "### Refatoração com função anônima"
      ]
    },
    {
      "cell_type": "code",
      "execution_count": null,
      "metadata": {
        "id": "GqFiRk0xoToZ",
        "outputId": "4fa54dda-1a9b-44e3-a28c-7521c53d7fe2"
      },
      "outputs": [
        {
          "name": "stdout",
          "output_type": "stream",
          "text": [
            "[7, 17, 12, 9]\n"
          ]
        }
      ],
      "source": [
        "lista = ['Renato', 7, 17, 'Hidaka', 12, 9]\n",
        "lista = list(filter(lambda item: type(item) is not str, lista))\n",
        "\n",
        "print(lista)"
      ]
    },
    {
      "cell_type": "markdown",
      "metadata": {
        "id": "icCcM-P6oToZ"
      },
      "source": [
        "### Refatoração com função anôima armazenada em uma faviável"
      ]
    },
    {
      "cell_type": "code",
      "execution_count": null,
      "metadata": {
        "id": "bCi76ZAboToZ",
        "outputId": "588d025e-5fb3-47f3-d2e8-0d8505d6ba18"
      },
      "outputs": [
        {
          "name": "stdout",
          "output_type": "stream",
          "text": [
            "[7, 17, 12, 9]\n"
          ]
        }
      ],
      "source": [
        "filtro = lambda item: type(item) is not str\n",
        "lista = ['Renato', 7, 17, 'Hidaka', 12, 9]\n",
        "lista = list(filter(filtro, lista))\n",
        "\n",
        "print(lista)"
      ]
    },
    {
      "cell_type": "code",
      "execution_count": null,
      "metadata": {
        "id": "_iTWlH1IoToZ"
      },
      "outputs": [],
      "source": [
        "filtro = lambda item: type(item) is not str\n",
        "lista = ['Renato', 7, 17, 'Hidaka', 12, 9]\n",
        "lista = list(filter(filtro, lista))\n",
        "\n",
        "print(lista)"
      ]
    },
    {
      "cell_type": "markdown",
      "metadata": {
        "id": "618LqYvVoToa"
      },
      "source": [
        "<p style='text-align: justify; font-size: 16px; line-height: 1.5;'>Nesse exemplo, criamos um filtro definindo uma função externa que é passada como argumento P2 da função <span style=\"font-weight: bold;\">filter</span>. A função tem uma expressão lógica que é verdadeira para todos os elementos cujo tipo não é string.</p>"
      ]
    },
    {
      "cell_type": "markdown",
      "metadata": {
        "id": "6ODVg7W-oToa"
      },
      "source": [
        "<p style='text-align: justify; font-size: 16px; line-height: 1.5;'> Em seguida, realizamos duas refatorações para substituir a função externa por uma função anônima. Na primeira refatoração, definidos a função anônima diretamente na passagem de argumento do <span style=\"font-weight: bold;\">filter</span>. Na segunda refatoração, atribuímos a função anônima a variável <span style=\"font-weight: bold;\">filtro</span>, e passamos essa variável como argumento P2.</p>"
      ]
    },
    {
      "cell_type": "markdown",
      "metadata": {
        "id": "cjxh_RTuoToa"
      },
      "source": [
        "<p style='text-align: justify; font-size: 16px; line-height: 1.5;'><span style=\"font-weight: bold;\">Exemplo 16: </span> Dada uma lista de números inteiros maior que um, filtrar os elementos que são números primos.</p>"
      ]
    },
    {
      "cell_type": "markdown",
      "metadata": {
        "id": "hp6Z-BH9oToa"
      },
      "source": [
        "### Versão com função externa"
      ]
    },
    {
      "cell_type": "code",
      "execution_count": null,
      "metadata": {
        "id": "r0mtQ_w7oToa",
        "outputId": "0a8eb58b-eeb1-43da-eb30-ae7c72fc929a"
      },
      "outputs": [
        {
          "name": "stdout",
          "output_type": "stream",
          "text": [
            "[3, 17, 101, 13, 7]\n"
          ]
        }
      ],
      "source": [
        "def filtro(item):\n",
        "        for q in range(2, item):\n",
        "            if item % q == 0:\n",
        "                return False\n",
        "        return True\n",
        "    \n",
        "lista = [3, 15, 17, 101, 98, 45, 13, 7, 16, 21]\n",
        "lista = list(filter(filtro, lista))\n",
        "\n",
        "print(lista)"
      ]
    },
    {
      "cell_type": "markdown",
      "metadata": {
        "id": "mL_Jgy8roToa"
      },
      "source": [
        "<p style='text-align: justify; font-size: 16px; line-height: 1.5;'>Nesse exemplo, criamos uma função apra verificar se um número é primo. Perceba que para determinar se um número é primo, precisamos iterar todos os divisores entre 2 e N, sendo o N o número que está sendo verificado. Se nenhum divisor dividir N, então ele é primo. Caso contrário, se existir ao menos um divisor que divida N, é suficiente para afirmar que N não é primo.</p>"
      ]
    },
    {
      "cell_type": "markdown",
      "metadata": {
        "id": "5VN25hAooToa"
      },
      "source": [
        "<p style='text-align: justify; font-size: 16px; line-height: 1.5;'> Na função de verificação, note que se a condição for verdadeira, retornamos False. Em uma função, toda vez que um <span style=\"font-weight: bold;\">return</span> é executado, o fluxo da função é interrompido, não executando as próximas instruções após o <span style=\"font-weight: bold;\">return</span> executado. No nosso caso, como o <span style=\"font-weight: bold;\">return</span> está no escopo da iteração do laço <span style=\"font-weight: bold;\">for</span>, ao ser executado, ele interrompe o fluxo da iteração, uma vez que essa faz parte do fluxo da função.</p>"
      ]
    },
    {
      "cell_type": "markdown",
      "metadata": {
        "id": "soLr8w5SoToa"
      },
      "source": [
        "### Refatoração com função anônima e all"
      ]
    },
    {
      "cell_type": "code",
      "execution_count": null,
      "metadata": {
        "id": "FslHPiynoToa",
        "outputId": "aeb265e6-2b8a-4cd8-a805-02ce89884cc8"
      },
      "outputs": [
        {
          "name": "stdout",
          "output_type": "stream",
          "text": [
            "[3, 17, 101, 13, 7]\n"
          ]
        }
      ],
      "source": [
        "filtro = lambda item: all(item % q != 0 for q in range(2, item))\n",
        "lista = [3, 15, 17, 101, 98, 45, 13, 7, 16, 21]\n",
        "lista = list(filter(filtro, lista))\n",
        "\n",
        "print(lista)"
      ]
    },
    {
      "cell_type": "markdown",
      "metadata": {
        "id": "xYJuauiLoToa"
      },
      "source": [
        "<p style='text-align: justify; font-size: 16px; line-height: 1.5;'>Esse é um exemplo interessante para demonstrar a utilização da função <span style=\"font-weight: bold;\">all</span> na construção de uma função anônima. A função <span style=\"font-weight: bold;\">all</span> retorna True, se todos os elementos iteráveis são True. Se ao menos um elemento for False, a função interrompe a verificação e já retorna False.</p>"
      ]
    },
    {
      "cell_type": "markdown",
      "metadata": {
        "id": "7m8LIywwoToa"
      },
      "source": [
        "<p style='text-align: justify; font-size: 16px; line-height: 1.5;'>Nesse exemplo, estamos utilizando a função <span style=\"font-weight: bold;\">all</span> para verificar se nenhum divisor divide o valor passado como argumento para a função anônima que é armazenado no parâmetro <span style=\"font-weight: bold;\">item</span>. Se o retorno da função <span style=\"font-weight: bold;\">all</span> for True, então o <span style=\"font-weight: bold;\">item</span> é primo e, por esse motivo, será filtrado pela função <span style=\"font-weight: bold;\">filter</span>.</p>"
      ]
    },
    {
      "cell_type": "markdown",
      "metadata": {
        "id": "uAZ2YBInoToa"
      },
      "source": [
        "### Refatoração com função anônima e any"
      ]
    },
    {
      "cell_type": "code",
      "execution_count": null,
      "metadata": {
        "id": "68TXxjO3oToa",
        "outputId": "765645fb-4076-4c9d-d7b7-f7e274549745"
      },
      "outputs": [
        {
          "name": "stdout",
          "output_type": "stream",
          "text": [
            "[3, 17, 101, 13, 7]\n"
          ]
        }
      ],
      "source": [
        "filtro = lambda item: not any(item % q == 0 for q in range(2, item))\n",
        "lista = [3, 15, 17, 101, 98, 45, 13, 7, 16, 21]\n",
        "lista = list(filter(filtro, lista))\n",
        "\n",
        "print(lista)"
      ]
    },
    {
      "cell_type": "markdown",
      "metadata": {
        "id": "YzSyM1j1oToa"
      },
      "source": [
        "<p style='text-align: justify; font-size: 16px; line-height: 1.5;'>Assim como temos a função <span style=\"font-weight: bold;\">all</span>, também temos a função <span style=\"font-weight: bold;\">any</span>. A função <span style=\"font-weight: bold;\">any</span> retorna True se ao menos um valor iterável for True. A função só retorna False, quando todos os elementos iteráveis são False.</p>"
      ]
    },
    {
      "cell_type": "markdown",
      "metadata": {
        "id": "gs62ep2PoToa"
      },
      "source": [
        "<p style='text-align: justify; font-size: 16px; line-height: 1.5;'>Utilizando a função <span style=\"font-weight: bold;\">any</span>, estamos verificando se existem ao menos um divisor que divida o valor do argumento passado para a função anônima que é armazenado no parâmetro <span style=\"font-weight: bold;\">item</span>. Caso exista, a função <span style=\"font-weight: bold;\">any</span> retorna True, indicando que esse número não é primo. Como extamos interessados em filtrar somente os primos, negamos o retorno da função <span style=\"font-weight: bold;\">any</span>, utilizado o operador lógico <span style=\"font-weight: bold;\">not</span>. Garantindo, portanto, que somente o elementos primos serão filtrados.</p>"
      ]
    },
    {
      "cell_type": "markdown",
      "metadata": {
        "id": "JzHKUQI_kxED"
      },
      "source": [
        "## Função reduce"
      ]
    },
    {
      "cell_type": "markdown",
      "metadata": {
        "id": "I4hutHUwoToa"
      },
      "source": [
        "<p style='text-align: justify; font-size: 16px; line-height: 1.5;'>No Capítulo de Lista, vimos que os problemas de iteração com redução são aqueles que necessitam de uma variável auxiliar para guardar um estado a cada iteração. Os problemas clássicos de redução envolvem soma, contagem e busca de um elemento que atende a uma determinada propriedade. Nesse capítulo, vamos ver como resolver problemas de redução utilizando a função <span style=\"font-weight: bold;\">reduce</span> da biblioteca <span style=\"font-weight: bold;\">functools</span>. Primeiramente, vamos ver a sintaxe da função <span style=\"font-weight: bold;\">reduce</span>.</p>"
      ]
    },
    {
      "cell_type": "markdown",
      "metadata": {
        "id": "4ssxONyRoTob"
      },
      "source": [
        "![iteração de lista](reduce.png)\n",
        "<p style=\"text-align:center;\">Figura 7: Sintaxe da função filter.</p>"
      ]
    },
    {
      "cell_type": "markdown",
      "metadata": {
        "id": "3WPqYZa5oTob"
      },
      "source": [
        "<p style='text-align: justify; font-size: 16px; line-height: 1.5;'>Como pode ser observado, a função <span style=\"font-weight: bold;\">reduce</span> recebe três argumentos. No argumento P1, devemos passar a coleção que será iterada pela função <span style=\"font-weight: bold;\">reduce</span>. No argumento P2, devemos passar a função que será utilizada na redução. No argumento P3, devemos passar o valor inicial da variável que a função <span style=\"font-weight: bold;\">reduce</span> utiliza para guardar o estado da redução. Uma observação importante, é que o argumento P3 é opcional. Caso você não passe nenhum valor em P3, o estado inicial da redução corresponde ao primeiro valor da coleção passada como argumento em P2. Quando este for o caso, a iteração da redução inicia a partir de segundo elemento da coleção.</p>"
      ]
    },
    {
      "cell_type": "markdown",
      "metadata": {
        "id": "S-oVxTxEoTob"
      },
      "source": [
        "<p style='text-align: justify; font-size: 16px; line-height: 1.5;'>Outra observação importante que devemos fazer diz respeito aos parâmetros da função passada como argumento P2. Essa função precisa deis dois parâmetros. O primeiro parâmetro é utilizado pela função <span style=\"font-weight: bold;\">reduce</span> para armazenar o estado da redução, ou seja, após a término da iteração, o valor armazenado nessa variável é que será retornado pela função <span style=\"font-weight: bold;\">reduce</span>. O segundo parâmetro é utilizado para receber os elementos iterados da coleção passada como argumento P1.</p>"
      ]
    },
    {
      "cell_type": "markdown",
      "metadata": {
        "id": "12lNj6qroTob"
      },
      "source": [
        "<p style='text-align: justify; font-size: 16px; line-height: 1.5;'>Vamos ver alguns exemplos de maipulação de lista que necessite de redução.</p>\n"
      ]
    },
    {
      "cell_type": "markdown",
      "metadata": {
        "id": "7GDkiOKZoTob"
      },
      "source": [
        "<p style='text-align: justify; font-size: 16px; line-height: 1.5;'><span style=\"font-weight: bold;\">Exemplo 17: </span> Dada uma lista de números inteiros, aplicar redução para somar os elementos da lista.</p>"
      ]
    },
    {
      "cell_type": "markdown",
      "metadata": {
        "id": "3HnLTOcGoTob"
      },
      "source": [
        "### Versão estruturada"
      ]
    },
    {
      "cell_type": "code",
      "execution_count": null,
      "metadata": {
        "id": "BGLLs7enoTob",
        "outputId": "d17f3166-5acb-4487-949f-83d7f655196f"
      },
      "outputs": [
        {
          "name": "stdout",
          "output_type": "stream",
          "text": [
            "19\n"
          ]
        }
      ],
      "source": [
        "lista = [1, 4, 5, 3, 6]\n",
        "soma = 0\n",
        "\n",
        "for item in lista:\n",
        "    soma += item\n",
        "\n",
        "print(soma)    "
      ]
    },
    {
      "cell_type": "markdown",
      "metadata": {
        "id": "xi7v6xytoTob"
      },
      "source": [
        "### Refatorando para forma funcional"
      ]
    },
    {
      "cell_type": "code",
      "execution_count": null,
      "metadata": {
        "colab": {
          "base_uri": "https://localhost:8080/"
        },
        "id": "zQChwzgQkyxY",
        "outputId": "3dfdd848-2423-4ed4-8fdc-55ee60190876"
      },
      "outputs": [
        {
          "name": "stdout",
          "output_type": "stream",
          "text": [
            "19\n"
          ]
        }
      ],
      "source": [
        "from functools import reduce\n",
        "\n",
        "lista = [1, 4, 5, 3, 6]\n",
        "funcao = lambda soma, item: soma+item\n",
        "soma = reduce(funcao, lista, 0)\n",
        "\n",
        "print(soma)"
      ]
    },
    {
      "cell_type": "markdown",
      "metadata": {
        "id": "RAzAfqxDoTob"
      },
      "source": [
        "<p style='text-align: justify; font-size: 16px; line-height: 1.5;'>Ao analisar a versão estruturada, podemos perceber que a variável <span style=\"font-weight: bold;\">soma</span> é responsável por guardar o estado da redução. A cada iteração, essa variável é atualizada por uma atribuição composta, somando o novo item iterado. Ao final da iteração, a variável <span style=\"font-weight: bold;\">soma</span> corresponde a soma de todos os elementos iterados.</p>"
      ]
    },
    {
      "cell_type": "markdown",
      "metadata": {
        "id": "xVUlY6ZWoTob"
      },
      "source": [
        "<p style='text-align: justify; font-size: 16px; line-height: 1.5;'>Ao refatorar para a forma funcional, veja que a variável soma corresponde ao primeiro parâmetro da função anônima, pois a função <span style=\"font-weight: bold;\">reduce</span>, que recebe essa função anônima como argumento P2, considera o primeiro parâmetro da função como o responsável por armazenar o estado da redução. Também note que passamos o valor zero como terceiro argumento da função <span style=\"font-weight: bold;\">reduce</span>. Ao passar esse terceiro argumento, estamos indicando que esse será o valor inicial do parâmetro soma da função anônima. No escopo da função anônima, estamos simplesmente realizando a soma dos valores armazenados nos parâmetros. O resultado dessa soma corresponde ao retorno da função anônima e, por ser uma função utilizada pelo <span style=\"font-weight: bold;\">reduce</span>, esse resultado é implicitamente atribuído à variável que guarda o estado da redução, que nesse exemplo é a variável soma.</p>"
      ]
    },
    {
      "cell_type": "markdown",
      "metadata": {
        "id": "vGfK_3UjoTob"
      },
      "source": [
        "<p style='text-align: justify; font-size: 16px; line-height: 1.5;'><span style=\"font-weight: bold;\">Exemplo 18: </span> Dada uma lista de números inteiros, aplicar redução para encontrar o maior número.</p>"
      ]
    },
    {
      "cell_type": "markdown",
      "metadata": {
        "id": "f2a113pioTob"
      },
      "source": [
        "### Versão estruturada"
      ]
    },
    {
      "cell_type": "code",
      "execution_count": null,
      "metadata": {
        "id": "dz5BTKhcoToc",
        "outputId": "d46dab4f-6ed3-43a0-ab1a-b03309b360a3"
      },
      "outputs": [
        {
          "name": "stdout",
          "output_type": "stream",
          "text": [
            "13\n"
          ]
        }
      ],
      "source": [
        "lista = [1, 4, 5, 13, 6]\n",
        "maior = lista[0]\n",
        "\n",
        "for item in lista:\n",
        "    if item > maior:\n",
        "        maior = item\n",
        "\n",
        "print(maior)"
      ]
    },
    {
      "cell_type": "markdown",
      "metadata": {
        "id": "XpTkXsFKoToc"
      },
      "source": [
        "### Refatorando para a forma funcional"
      ]
    },
    {
      "cell_type": "code",
      "execution_count": null,
      "metadata": {
        "colab": {
          "base_uri": "https://localhost:8080/"
        },
        "id": "gBYyLPqGliBC",
        "outputId": "b197913f-9417-47c6-a0a7-21ca9a8b6244"
      },
      "outputs": [
        {
          "name": "stdout",
          "output_type": "stream",
          "text": [
            "13\n"
          ]
        }
      ],
      "source": [
        "from functools import reduce\n",
        "\n",
        "lista = [1, 4, 5, 13, 6]\n",
        "funcao = lambda maior, item: item if item > maior else maior\n",
        "maior = reduce(funcao, lista)\n",
        "\n",
        "print(maior)"
      ]
    },
    {
      "cell_type": "markdown",
      "metadata": {
        "id": "1iKTsi1PoToc"
      },
      "source": [
        "<p style='text-align: justify; font-size: 16px; line-height: 1.5;'>Nesse exemplo não passamos o terceiro argumento para a função <span style=\"font-weight: bold;\">reduce</span>. Isso significa que o primeiro elemento da lista passada como argumento P1 será utilizado para inicializar a variável <span style=\"font-weight: bold;\">maior</span> da função anônima. Ou seja, na primeira iteração da redução, o parâmetro <span style=\"font-weight: bold;\">maior</span> recebe o primeiro elemento da lista e o parâmetro <span style=\"font-weight: bold;\">item</span> o segundo. No escopo da função anônima estamos utilizando o operador ternário para retornar o maior elemento dentro os valores armazenados nos parâmetros. A cada iteração, a função <span style=\"font-weight: bold;\">reduce</span> utiliza a função anônima para atualizar o maior valor, dado o valor do item.</p>"
      ]
    },
    {
      "cell_type": "markdown",
      "metadata": {
        "id": "1fouCi3OoToc"
      },
      "source": [
        "<p style='text-align: justify; font-size: 16px; line-height: 1.5;'><span style=\"font-weight: bold;\">Exemplo 19: </span> Dada uma lista de números inteiros maior que um, aplicar redução para contar a quantidade de números primos.</p>"
      ]
    },
    {
      "cell_type": "markdown",
      "metadata": {
        "id": "DXpre2FNoToc"
      },
      "source": [
        "### Versão estruturada"
      ]
    },
    {
      "cell_type": "code",
      "execution_count": null,
      "metadata": {
        "id": "OsmLy77ooToc"
      },
      "outputs": [],
      "source": [
        "def primo(item):\n",
        "    for q in range(2, item):\n",
        "        if item%q == 0:\n",
        "            return False\n",
        "    return True"
      ]
    },
    {
      "cell_type": "code",
      "execution_count": null,
      "metadata": {
        "id": "hjjNOZ6LoToc",
        "outputId": "6cdeb747-a2be-402b-85a5-32adcc285863"
      },
      "outputs": [
        {
          "name": "stdout",
          "output_type": "stream",
          "text": [
            "3\n"
          ]
        }
      ],
      "source": [
        "lista = [7, 4, 5, 13, 6, 15, 21]\n",
        "contador = 0\n",
        "\n",
        "for item in lista:\n",
        "    if primo(item):\n",
        "        contador += 1\n",
        "\n",
        "print(contador)"
      ]
    },
    {
      "cell_type": "markdown",
      "metadata": {
        "id": "S_XsEClnoToc"
      },
      "source": [
        "### Refatorando para a forma funcional"
      ]
    },
    {
      "cell_type": "code",
      "execution_count": null,
      "metadata": {
        "id": "xaa8buOjoToc",
        "outputId": "e12168a6-b256-4bd4-dd9f-a675cead1ccf"
      },
      "outputs": [
        {
          "name": "stdout",
          "output_type": "stream",
          "text": [
            "3\n"
          ]
        }
      ],
      "source": [
        "from functools import reduce\n",
        "\n",
        "lista = [7, 4, 5, 13, 6, 15, 21]\n",
        "primo = lambda item: all(item % q != 0 for q in range(2, item))\n",
        "filtro = lambda contador, item: contador+1 if primo(item) else contador\n",
        "\n",
        "quantidade = reduce(filtro, lista, 0)\n",
        "\n",
        "print(quantidade)\n"
      ]
    },
    {
      "cell_type": "markdown",
      "metadata": {
        "id": "K6VXI_h2oToc"
      },
      "source": [
        "<p style='text-align: justify; font-size: 16px; line-height: 1.5;'>Na versão estruturada, criamos uma função para verificar se um determinado número é primo. Durante a redução, a cada iteração, chamamos a função que verifica se o número é primo. Caso seja, atualizamos o contador. Ao final da redução, o valor do contador corresponde a quantidade de números primos da lista.</p>"
      ]
    },
    {
      "cell_type": "markdown",
      "metadata": {
        "id": "1xVIpREYoToc"
      },
      "source": [
        "<p style='text-align: justify; font-size: 16px; line-height: 1.5;'>Ao refatorar para a forma funcional, criamos uma função anônima para verificar se um determinado número é primo Em seguida, criamos outra função anônima a qual é passada como argumento P2 da função <span style=\"font-weight: bold;\">reduce</span>. Nessa função anônima, note que estamos chamando a função <span style=\"font-weight: bold;\">primo</span> para verificar se o item é primo. Caso seja, atualizamos o contador. Na função <span style=\"font-weight: bold;\">reduce</span>, perceba que passamos o terceiro argumento como zero. Esse valor corresponde a inicialização do contador.</p>"
      ]
    }
  ],
  "metadata": {
    "colab": {
      "provenance": []
    },
    "kernelspec": {
      "display_name": "Python 3 (ipykernel)",
      "language": "python",
      "name": "python3"
    },
    "language_info": {
      "codemirror_mode": {
        "name": "ipython",
        "version": 3
      },
      "file_extension": ".py",
      "mimetype": "text/x-python",
      "name": "python",
      "nbconvert_exporter": "python",
      "pygments_lexer": "ipython3",
      "version": "3.10.5"
    }
  },
  "nbformat": 4,
  "nbformat_minor": 0
}